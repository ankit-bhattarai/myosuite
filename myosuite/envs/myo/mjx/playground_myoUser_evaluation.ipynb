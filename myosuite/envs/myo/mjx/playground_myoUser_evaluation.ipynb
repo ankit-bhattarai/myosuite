{
 "cells": [
  {
   "cell_type": "code",
   "execution_count": 17,
   "id": "0bbf96b8",
   "metadata": {},
   "outputs": [
    {
     "name": "stdout",
     "output_type": "stream",
     "text": [
      "env: MUJOCO_GL=egl\n"
     ]
    }
   ],
   "source": [
    "%env MUJOCO_GL=egl\n",
    "\n",
    "import os\n",
    "os.environ[\"XLA_PYTHON_CLIENT_MEM_FRACTION\"] = \".20\"  #restrict JAX to 20% of available GPU RAM; useful for loading MyoSuite and UitB policies simultaneously"
   ]
  },
  {
   "cell_type": "code",
   "execution_count": 18,
   "id": "eaedc17e",
   "metadata": {},
   "outputs": [],
   "source": [
    "import mujoco\n",
    "from mujoco import mjx\n",
    "\n",
    "import numpy as np\n",
    "from brax import envs\n",
    "from brax.training.acme.running_statistics import normalize\n",
    "# from brax.training.agents.ppo import networks as ppo_networks\n",
    "from brax.training.acme import running_statistics\n",
    "from brax.io import model\n",
    "from etils import epath\n",
    "import functools\n",
    "\n",
    "import myosuite\n",
    "from myosuite.envs.myo.myouser.utils import update_target_visuals\n",
    "from myosuite.envs.myo.mjx.utils import get_latest_run_path, load_checkpoint\n",
    "from myosuite.envs.myo.mjx.train_jax_ppo_steering import get_observation_size\n",
    "import mediapy as media\n",
    "\n",
    "import jax\n",
    "import jax.numpy as jp\n",
    "\n",
    "from mujoco_playground import wrapper, registry\n",
    "\n",
    "myo_path = os.path.dirname(os.path.dirname(myosuite.__file__))\n",
    "os.chdir(myo_path)\n",
    "\n",
    "# from playground_myoUser_pointing import PlaygroundArmPointing, default_config\n",
    "# registry.manipulation.register_environment(\"MyoUserPointing\", PlaygroundArmPointing, default_config)\n",
    "from myosuite.envs.myo.myouser.myoarm_pointing_v0 import MyoArmPointing, default_config\n",
    "registry.manipulation.register_environment(\"MyoUserPointing\", MyoArmPointing, default_config)\n",
    "\n",
    "from myosuite.envs.myo.myouser.myoarm_steering_v0 import MyoArmSteering, default_config\n",
    "registry.manipulation.register_environment(\"MyoUserSteering\", MyoArmSteering, default_config)"
   ]
  },
  {
   "cell_type": "code",
   "execution_count": 19,
   "id": "24566bbf",
   "metadata": {},
   "outputs": [
    {
     "name": "stdout",
     "output_type": "stream",
     "text": [
      "Sat Jul 26 02:05:25 2025       \n",
      "+-----------------------------------------------------------------------------------------+\n",
      "| NVIDIA-SMI 570.158.01             Driver Version: 570.158.01     CUDA Version: 12.8     |\n",
      "|-----------------------------------------+------------------------+----------------------+\n",
      "| GPU  Name                 Persistence-M | Bus-Id          Disp.A | Volatile Uncorr. ECC |\n",
      "| Fan  Temp   Perf          Pwr:Usage/Cap |           Memory-Usage | GPU-Util  Compute M. |\n",
      "|                                         |                        |               MIG M. |\n",
      "|=========================================+========================+======================|\n",
      "|   0  NVIDIA GeForce RTX 5090        On  |   00000000:01:00.0 Off |                  N/A |\n",
      "| 30%   49C    P1             64W /  600W |   29805MiB /  32607MiB |      0%      Default |\n",
      "|                                         |                        |                  N/A |\n",
      "+-----------------------------------------+------------------------+----------------------+\n",
      "                                                                                         \n",
      "+-----------------------------------------------------------------------------------------+\n",
      "| Processes:                                                                              |\n",
      "|  GPU   GI   CI              PID   Type   Process name                        GPU Memory |\n",
      "|        ID   ID                                                               Usage      |\n",
      "|=========================================================================================|\n",
      "|    0   N/A  N/A           77338      G   /usr/lib/xorg/Xorg                       76MiB |\n",
      "|    0   N/A  N/A           77576      G   /usr/bin/gnome-shell                     12MiB |\n",
      "|    0   N/A  N/A           78428      G   /usr/bin/nautilus                        52MiB |\n",
      "|    0   N/A  N/A         3903565      C   ...onda3/envs/myouser/bin/python       7324MiB |\n",
      "|    0   N/A  N/A         3930414      C   python                                22296MiB |\n",
      "+-----------------------------------------------------------------------------------------+\n",
      "Setting environment variable to use GPU rendering:\n",
      "env: MUJOCO_GL=egl\n",
      "Checking that the installation succeeded:\n",
      "Installation successful.\n"
     ]
    }
   ],
   "source": [
    "# @title Check if MuJoCo installation was successful\n",
    "\n",
    "import distutils.util\n",
    "import os\n",
    "import subprocess\n",
    "\n",
    "if subprocess.run('nvidia-smi').returncode:\n",
    "  raise RuntimeError(\n",
    "      'Cannot communicate with GPU. '\n",
    "      'Make sure you are using a GPU Colab runtime. '\n",
    "      'Go to the Runtime menu and select Choose runtime type.'\n",
    "  )\n",
    "\n",
    "# Add an ICD config so that glvnd can pick up the Nvidia EGL driver.\n",
    "# This is usually installed as part of an Nvidia driver package, but the Colab\n",
    "# kernel doesn't install its driver via APT, and as a result the ICD is missing.\n",
    "# (https://github.com/NVIDIA/libglvnd/blob/master/src/EGL/icd_enumeration.md)\n",
    "NVIDIA_ICD_CONFIG_PATH = '/usr/share/glvnd/egl_vendor.d/10_nvidia.json'\n",
    "if not os.path.exists(NVIDIA_ICD_CONFIG_PATH):\n",
    "  with open(NVIDIA_ICD_CONFIG_PATH, 'w') as f:\n",
    "    f.write(\"\"\"{\n",
    "    \"file_format_version\" : \"1.0.0\",\n",
    "    \"ICD\" : {\n",
    "        \"library_path\" : \"libEGL_nvidia.so.0\"\n",
    "    }\n",
    "}\n",
    "\"\"\")\n",
    "\n",
    "# Configure MuJoCo to use the EGL rendering backend (requires GPU)\n",
    "print('Setting environment variable to use GPU rendering:')\n",
    "%env MUJOCO_GL=egl\n",
    "\n",
    "try:\n",
    "  print('Checking that the installation succeeded:')\n",
    "  import mujoco\n",
    "\n",
    "  mujoco.MjModel.from_xml_string('<mujoco/>')\n",
    "except Exception as e:\n",
    "  raise e from RuntimeError(\n",
    "      'Something went wrong during installation. Check the shell output above '\n",
    "      'for more information.\\n'\n",
    "      'If using a hosted Colab runtime, make sure you enable GPU acceleration '\n",
    "      'by going to the Runtime menu and selecting \"Choose runtime type\".'\n",
    "  )\n",
    "\n",
    "print('Installation successful.')\n",
    "\n",
    "# Tell XLA to use Triton GEMM, this improves steps/sec by ~30% on some GPUs\n",
    "xla_flags = os.environ.get('XLA_FLAGS', '')\n",
    "xla_flags += ' --xla_gpu_triton_gemm_any=True'\n",
    "os.environ['XLA_FLAGS'] = xla_flags"
   ]
  },
  {
   "cell_type": "code",
   "execution_count": 4,
   "id": "6adc215d",
   "metadata": {},
   "outputs": [
    {
     "data": {
      "text/plain": [
       "Reusing TensorBoard on port 6006 (pid 3077204), started 0:03:54 ago. (Use '!kill 3077204' to kill it.)"
      ]
     },
     "metadata": {},
     "output_type": "display_data"
    },
    {
     "data": {
      "text/html": [
       "\n",
       "      <iframe id=\"tensorboard-frame-7f8d9bead23b1e06\" width=\"100%\" height=\"800\" frameborder=\"0\">\n",
       "      </iframe>\n",
       "      <script>\n",
       "        (function() {\n",
       "          const frame = document.getElementById(\"tensorboard-frame-7f8d9bead23b1e06\");\n",
       "          const url = new URL(\"http://localhost\");\n",
       "          const port = 6006;\n",
       "          if (port) {\n",
       "            url.port = port;\n",
       "          }\n",
       "          frame.src = url;\n",
       "        })();\n",
       "      </script>\n",
       "    "
      ],
      "text/plain": [
       "<IPython.core.display.HTML object>"
      ]
     },
     "metadata": {},
     "output_type": "display_data"
    }
   ],
   "source": [
    "%reload_ext tensorboard\n",
    "%tensorboard --logdir ./logs/ --port 6006"
   ]
  },
  {
   "cell_type": "code",
   "execution_count": 7,
   "id": "8f2bbd80",
   "metadata": {},
   "outputs": [],
   "source": [
    "# params[1][\"params\"][\"hidden_3\"][\"kernel\"].shape"
   ]
  },
  {
   "cell_type": "markdown",
   "id": "f42ae8a5",
   "metadata": {},
   "source": [
    "Load Environment"
   ]
  },
  {
   "cell_type": "code",
   "execution_count": 20,
   "id": "77845a32",
   "metadata": {},
   "outputs": [
    {
     "name": "stdout",
     "output_type": "stream",
     "text": [
      "Current backend: gpu\n"
     ]
    }
   ],
   "source": [
    "# env_name = \"MyoUserPointing\"\n",
    "env_name = \"MyoUserSteering\"\n",
    "\n",
    "print(f\"Current backend: {jax.default_backend()}\")"
   ]
  },
  {
   "cell_type": "code",
   "execution_count": 23,
   "id": "7d523740",
   "metadata": {},
   "outputs": [
    {
     "name": "stdout",
     "output_type": "stream",
     "text": [
      "Restoring from: /scratch/fjf33/myouser/logs/MyoUserSteering-20250726-013114-FixedReward/checkpoints/30003200\n",
      "Checkpoint path: /scratch/fjf33/myouser/logs/MyoUserSteering-20250726-013114-FixedReward/checkpoints\n"
     ]
    }
   ],
   "source": [
    "## VARIANT 1: load env, and load params from latest run \n",
    "# Note: load_checkpoint always loads latest checkpoint from this run\n",
    "\n",
    "# checkpoint_path = \"logs/MyoUserPointing-20250718-200508/checkpoints\"\n",
    "# checkpoint_path = \"logs/MyoUserPointing-20250721-221417/checkpoints\"\n",
    "# checkpoint_path = \"logs/MyoUserPointing-20250723-150450-MyoUserBase/checkpoints\"\n",
    "checkpoint_path = \"logs/MyoUserSteering-20250726-013114-FixedReward/checkpoints\"\n",
    "\n",
    "# checkpoint_path = get_latest_run_path(\"logs/\")\n",
    "\n",
    "env_cfg = registry.get_default_config(env_name)\n",
    "env, make_inference_fn, params = load_checkpoint(env_name, env_cfg, get_observation_size, ppo_params=env_cfg.ppo_config, eval_mode=True, checkpoint_path=checkpoint_path)"
   ]
  },
  {
   "cell_type": "code",
   "execution_count": 6,
   "id": "7d554ff3",
   "metadata": {},
   "outputs": [],
   "source": [
    "# ## VARIANT 2: load params from pickle file\n",
    "\n",
    "# env_cfg = registry.get_default_config(env_name)\n",
    "# env = registry.load(env_name, config=env_cfg)\n",
    "\n",
    "# #param_path = os.path.join(os.path.dirname(checkpoint_path), 'playground_params.pickle')\n",
    "# param_path = \"/scratch/fjf33/myosuite_ankit/myosuite-mjx-policies/myouserbase_params\"\n",
    "\n",
    "# normalize_observations = True\n",
    "# ppo_network = custom_network_factory(\n",
    "#     obs_shape=get_observation_size(),  # Example observation shape\n",
    "#     action_size=26,  # Example action size,\n",
    "#     policy_hidden_layer_sizes=(256, 256),  #(50, 50, 50),\n",
    "#     value_hidden_layer_sizes=(256, 256),  #(50, 50, 50),\n",
    "#     preprocess_observations_fn=running_statistics.normalize if normalize_observations else lambda x, y: x  # Identity function for preprocessing\n",
    "# )\n",
    "\n",
    "# params = model.load_params(param_path)\n",
    "# def deterministic_policy(input_data):\n",
    "#     logits = ppo_network.policy_network.apply(*params[:2], input_data)\n",
    "#     brax_result = ppo_network.parametric_action_distribution.mode(logits)\n",
    "#     return brax_result\n",
    "# params"
   ]
  },
  {
   "cell_type": "markdown",
   "id": "40e6f53f",
   "metadata": {},
   "source": [
    "### Internal Testing"
   ]
  },
  {
   "cell_type": "code",
   "execution_count": null,
   "id": "10f9af3c",
   "metadata": {},
   "outputs": [],
   "source": [
    "from brax.training import acting\n",
    "\n",
    "eval_env = wrapper.wrap_for_brax_training(env, episode_length=200)\n",
    "\n",
    "rng = jax.random.PRNGKey(123)\n",
    "rng, eval_key = jax.random.split(rng)\n",
    "\n",
    "# key = jax.random.PRNGKey(123)\n",
    "# global_key, local_key = jax.random.split(key)\n",
    "# del key\n",
    "# local_key = jax.random.fold_in(local_key, jax.process_index())\n",
    "# local_key, key_env, eval_key = jax.random.split(local_key, 3)\n",
    "\n",
    "evaluator = acting.Evaluator(\n",
    "    eval_env,\n",
    "    functools.partial(make_inference_fn, deterministic=True),\n",
    "    num_eval_envs=1,\n",
    "    episode_length=200,\n",
    "    action_repeat=1,\n",
    "    key=eval_key,\n",
    ")\n",
    "\n",
    "metrics = evaluator.run_evaluation(params, {})"
   ]
  },
  {
   "cell_type": "code",
   "execution_count": 8,
   "id": "a628808c",
   "metadata": {},
   "outputs": [
    {
     "data": {
      "text/plain": [
       "{'eval/walltime': 41.33294916152954,\n",
       " 'eval/episode_reach_dist': Array(0.022375, dtype=float32),\n",
       " 'eval/episode_reward': Array(6.5148783, dtype=float32),\n",
       " 'eval/episode_success_rate': Array(1., dtype=float32),\n",
       " 'eval/episode_target_area_dynamic_width_scale': Array(0., dtype=float32),\n",
       " 'eval/episode_reach_dist_std': Array(0., dtype=float32),\n",
       " 'eval/episode_reward_std': Array(0., dtype=float32),\n",
       " 'eval/episode_success_rate_std': Array(0., dtype=float32),\n",
       " 'eval/episode_target_area_dynamic_width_scale_std': Array(0., dtype=float32),\n",
       " 'eval/avg_episode_length': Array(26., dtype=float32),\n",
       " 'eval/std_episode_length': Array(0., dtype=float32),\n",
       " 'eval/epoch_eval_time': 41.33294916152954,\n",
       " 'eval/sps': 4.838754651123446}"
      ]
     },
     "execution_count": 8,
     "metadata": {},
     "output_type": "execute_result"
    }
   ],
   "source": [
    "metrics"
   ]
  },
  {
   "cell_type": "code",
   "execution_count": 9,
   "id": "33d01bbb",
   "metadata": {},
   "outputs": [
    {
     "data": {
      "text/plain": [
       "{'reach_dist': Array([0.02351627], dtype=float32),\n",
       " 'reward': Array([6.330341], dtype=float32),\n",
       " 'success_rate': Array([1.], dtype=float32),\n",
       " 'target_area_dynamic_width_scale': Array([0.], dtype=float32)}"
      ]
     },
     "execution_count": 9,
     "metadata": {},
     "output_type": "execute_result"
    }
   ],
   "source": [
    "evaluator._key, unroll_key = jax.random.split(evaluator._key)\n",
    "eval_state = evaluator._generate_eval_unroll(params, unroll_key)\n",
    "eval_state.info[\"eval_metrics\"].episode_metrics"
   ]
  },
  {
   "cell_type": "code",
   "execution_count": 55,
   "id": "749db759",
   "metadata": {},
   "outputs": [],
   "source": [
    "from brax.training.acting import generate_unroll\n",
    "_eval_env = envs.training.EvalWrapper(eval_env)\n",
    "def _generate_unroll(params, key, num_eval_envs=1):\n",
    "    reset_keys = jax.random.split(key, num_eval_envs)\n",
    "    eval_first_state = _eval_env.reset(reset_keys)\n",
    "    return generate_unroll(\n",
    "    _eval_env, eval_first_state,\n",
    "    make_inference_fn(params, deterministic=True),\n",
    "    key=key,\n",
    "    unroll_length=200)\n",
    "generate_unroll_jit = jax.jit(_generate_unroll)"
   ]
  },
  {
   "cell_type": "code",
   "execution_count": 56,
   "id": "a0a55bff",
   "metadata": {},
   "outputs": [],
   "source": [
    "# _eval_env = envs.training.EvalWrapper(eval_env)\n",
    "evaluator._key, unroll_key = jax.random.split(evaluator._key)\n",
    "# reset_keys = jax.random.split(unroll_key, 1)\n",
    "# eval_first_state = _eval_env.reset(reset_keys)\n",
    "# eval_final_state, eval_data = generate_unroll(\n",
    "#     _eval_env, eval_first_state,\n",
    "#     make_inference_fn(params, deterministic=True),\n",
    "#     key=unroll_key,\n",
    "#     unroll_length=200)\n",
    "eval_final_state, eval_data = generate_unroll_jit(\n",
    "    params, key=unroll_key)"
   ]
  },
  {
   "cell_type": "code",
   "execution_count": 57,
   "id": "a2c303f7",
   "metadata": {},
   "outputs": [
    {
     "data": {
      "text/plain": [
       "(Array(-10.9054, dtype=float32),\n",
       " {'reach_dist': Array([0.02216392], dtype=float32),\n",
       "  'reward': Array([6.478419], dtype=float32),\n",
       "  'success_rate': Array([1.], dtype=float32),\n",
       "  'target_area_dynamic_width_scale': Array([0.], dtype=float32)})"
      ]
     },
     "execution_count": 57,
     "metadata": {},
     "output_type": "execute_result"
    }
   ],
   "source": [
    "eval_data.reward.sum(), eval_final_state.info[\"eval_metrics\"].episode_metrics"
   ]
  },
  {
   "cell_type": "markdown",
   "id": "2f254fcf",
   "metadata": {},
   "source": [
    "### Visualize Rollouts"
   ]
  },
  {
   "cell_type": "code",
   "execution_count": 24,
   "id": "b40d443a",
   "metadata": {},
   "outputs": [],
   "source": [
    "eval_env = env\n",
    "# eval_env = wrapper.wrap_for_brax_training(env, episode_length=200)\n",
    "# eval_env = envs.training.EvalWrapper(_eval_env)\n",
    "\n",
    "# # Hide model target sphere for visualization of policies trained without vision\n",
    "# eval_env.unwrapped.mj_model.geom(\"target_sphere\").rgba = np.array([0., 1., 0., 1])  #np.zeros(4, dtype=np.float32)"
   ]
  },
  {
   "cell_type": "code",
   "execution_count": 25,
   "id": "82de8a3d",
   "metadata": {},
   "outputs": [],
   "source": [
    "jit_reset = jax.jit(eval_env.reset)\n",
    "jit_step = jax.jit(eval_env.step)\n",
    "\n",
    "# For VARIANT 1:\n",
    "jit_inference_fn = jax.jit(make_inference_fn(params, deterministic=True))"
   ]
  },
  {
   "cell_type": "code",
   "execution_count": 26,
   "id": "5ab48442",
   "metadata": {},
   "outputs": [
    {
     "name": "stderr",
     "output_type": "stream",
     "text": [
      "100%|██████████| 81/81 [00:00<00:00, 1039.41it/s]\n"
     ]
    },
    {
     "data": {
      "text/html": [
       "<table class=\"show_videos\" style=\"border-spacing:0px;\"><tr><td style=\"padding:1px;\"><video controls width=\"320\" height=\"240\" style=\"object-fit:cover;\" loop autoplay muted>\n",
       "      <source src=\"data:video/mp4;base64,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\" type=\"video/mp4\"/>\n",
       "      This browser does not support the video tag.\n",
       "      </video></td></tr></table>"
      ],
      "text/plain": [
       "<IPython.core.display.HTML object>"
      ]
     },
     "metadata": {},
     "output_type": "display_data"
    }
   ],
   "source": [
    "eval_key = jax.random.PRNGKey(1234)\n",
    "# reset_keys = jax.random.split(eval_key, 1)  #only required if wrapper.wrap_for_brax_training is used\n",
    "eval_key, reset_keys = jax.random.split(eval_key)\n",
    "rollout = []\n",
    "# modify_scene_fns = []\n",
    "n_episodes = 1\n",
    "\n",
    "for _ in range(n_episodes):\n",
    "  state = jit_reset(reset_keys)\n",
    "  rollout.append(state)\n",
    "  # modify_scene_fns.append(functools.partial(update_target_visuals, target_pos=state.info[\"target_pos\"].flatten(), target_size=state.info[\"target_radius\"].flatten()))\n",
    "  for i in range(env_cfg.ppo_config.episode_length):\n",
    "    eval_key, key = jax.random.split(eval_key)\n",
    "    ctrl, _ = jit_inference_fn(state.obs, key)  #VARIANT 1\n",
    "    # ctrl = deterministic_policy(state.obs)  #VARIANT 2\n",
    "    # ctrl = jax.random.uniform(act_rng, shape=eval_env._na)  #BASELINE: random control\n",
    "    state = jit_step(state, ctrl)\n",
    "    # print(f\"Step {i}, ee_pos: {state.obs[:, 15:18]}\")\n",
    "    # print(f\"Target {i}, target_pos: {state.obs[:, -4:-1]}\")\n",
    "    # print(f\"Step {i}, steps_since_last_hit: {state.info['steps_since_last_hit']}\")\n",
    "    rollout.append(state)\n",
    "    # modify_scene_fns.append(functools.partial(update_target_visuals, target_pos=state.info[\"target_pos\"].flatten(), target_size=state.info[\"target_radius\"].flatten()))\n",
    "    if state.done.all():\n",
    "      break\n",
    "\n",
    "render_every = 1\n",
    "traj = rollout[::render_every]\n",
    "# mod_fns = modify_scene_fns[::render_every]\n",
    "frames = eval_env.render(traj, camera=0) #, modify_scene_fns=mod_fns)\n",
    "rewards = [s.reward for s in rollout]\n",
    "media.show_video(frames, fps=1.0 / eval_env.dt / render_every)"
   ]
  },
  {
   "cell_type": "code",
   "execution_count": 22,
   "id": "b52426c8",
   "metadata": {},
   "outputs": [
    {
     "data": {
      "text/plain": [
       "([Array([ 0.26876748, -0.24839334,  0.79923654], dtype=float32),\n",
       "  Array([ 0.26876748, -0.24839334,  0.79923654], dtype=float32),\n",
       "  Array([ 0.26876748, -0.24839334,  0.79923654], dtype=float32),\n",
       "  Array([ 0.26876748, -0.24839334,  0.79923654], dtype=float32),\n",
       "  Array([ 0.26876748, -0.24839334,  0.79923654], dtype=float32),\n",
       "  Array([ 0.26876748, -0.24839334,  0.79923654], dtype=float32),\n",
       "  Array([ 0.26876748, -0.24839334,  0.79923654], dtype=float32),\n",
       "  Array([ 0.26876748, -0.24839334,  0.79923654], dtype=float32),\n",
       "  Array([ 0.26876748, -0.24839334,  0.79923654], dtype=float32),\n",
       "  Array([ 0.26876748, -0.24839334,  0.79923654], dtype=float32),\n",
       "  Array([ 0.26876748, -0.24839334,  0.79923654], dtype=float32),\n",
       "  Array([ 0.26876748, -0.24839334,  0.79923654], dtype=float32),\n",
       "  Array([ 0.26876748, -0.24839334,  0.79923654], dtype=float32)],\n",
       " [Array([ 0.03493699, -0.198526  ,  0.28504306], dtype=float32),\n",
       "  Array([ 0.05467008, -0.20556903,  0.2879694 ], dtype=float32),\n",
       "  Array([ 0.12839839, -0.21615738,  0.30747497], dtype=float32),\n",
       "  Array([ 0.25338876, -0.2480327 ,  0.38547328], dtype=float32),\n",
       "  Array([ 0.35608405, -0.26248986,  0.5322279 ], dtype=float32),\n",
       "  Array([ 0.3817351 , -0.24343966,  0.67996335], dtype=float32),\n",
       "  Array([ 0.3471588 , -0.19892067,  0.7906286 ], dtype=float32),\n",
       "  Array([ 0.31936902, -0.21280576,  0.81041855], dtype=float32),\n",
       "  Array([ 0.30544874, -0.2563585 ,  0.8026124 ], dtype=float32),\n",
       "  Array([ 0.2788391 , -0.25173664,  0.81372756], dtype=float32),\n",
       "  Array([ 0.26248008, -0.25572088,  0.8137799 ], dtype=float32),\n",
       "  Array([ 0.25404978, -0.25700277,  0.81358284], dtype=float32),\n",
       "  Array([ 0.25229353, -0.25338423,  0.8163977 ], dtype=float32)])"
      ]
     },
     "execution_count": 22,
     "metadata": {},
     "output_type": "execute_result"
    }
   ],
   "source": [
    "[i.info[\"target_pos\"] for i in rollout], [_i.obs[\"proprioception\"][15:18] for _i in rollout]"
   ]
  },
  {
   "cell_type": "code",
   "execution_count": 11,
   "id": "755b836e",
   "metadata": {},
   "outputs": [
    {
     "data": {
      "text/plain": [
       "np.float32(7.423525)"
      ]
     },
     "execution_count": 11,
     "metadata": {},
     "output_type": "execute_result"
    }
   ],
   "source": [
    "np.sum(rewards)"
   ]
  },
  {
   "cell_type": "code",
   "execution_count": null,
   "id": "64928ed0",
   "metadata": {},
   "outputs": [],
   "source": []
  }
 ],
 "metadata": {
  "kernelspec": {
   "display_name": "myouser",
   "language": "python",
   "name": "python3"
  },
  "language_info": {
   "codemirror_mode": {
    "name": "ipython",
    "version": 3
   },
   "file_extension": ".py",
   "mimetype": "text/x-python",
   "name": "python",
   "nbconvert_exporter": "python",
   "pygments_lexer": "ipython3",
   "version": "3.12.11"
  }
 },
 "nbformat": 4,
 "nbformat_minor": 5
}
