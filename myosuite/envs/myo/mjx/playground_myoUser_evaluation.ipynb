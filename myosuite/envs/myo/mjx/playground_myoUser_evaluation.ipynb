{
 "cells": [
  {
   "cell_type": "code",
   "execution_count": 1,
   "id": "0bbf96b8",
   "metadata": {},
   "outputs": [
    {
     "name": "stdout",
     "output_type": "stream",
     "text": [
      "env: MUJOCO_GL=egl\n"
     ]
    }
   ],
   "source": [
    "%env MUJOCO_GL=egl\n",
    "\n",
    "import os\n",
    "os.environ[\"XLA_PYTHON_CLIENT_MEM_FRACTION\"] = \".20\"  #restrict JAX to 20% of available GPU RAM; useful for loading MyoSuite and UitB policies simultaneously"
   ]
  },
  {
   "cell_type": "code",
   "execution_count": 2,
   "id": "eaedc17e",
   "metadata": {},
   "outputs": [
    {
     "name": "stdout",
     "output_type": "stream",
     "text": [
      "MyoSuite:> Registering Myo Envs\n",
      "MyoSuite:> Registering MyoUser Envs\n"
     ]
    }
   ],
   "source": [
    "import mujoco\n",
    "from mujoco import mjx\n",
    "\n",
    "import numpy as np\n",
    "from brax import envs\n",
    "# from brax.training.acme.running_statistics import normalize\n",
    "# from brax.training.acme import running_statistics\n",
    "# from brax.io import model\n",
    "# from etils import epath\n",
    "import functools\n",
    "\n",
    "import myosuite\n",
    "# from myosuite.envs.myo.myouser.utils import update_target_visuals\n",
    "from myosuite.train.utils.train import train_or_load_checkpoint\n",
    "from myosuite.envs.myo.myouser.utils import evaluate_policy, render_traj\n",
    "import mediapy as media\n",
    "\n",
    "import jax\n",
    "import jax.numpy as jp\n",
    "\n",
    "from mujoco_playground import wrapper, registry\n",
    "from ml_collections import ConfigDict\n",
    "import json\n",
    "\n",
    "myo_path = os.path.dirname(os.path.dirname(myosuite.__file__))\n",
    "os.chdir(myo_path)"
   ]
  },
  {
   "cell_type": "code",
   "execution_count": 3,
   "id": "24566bbf",
   "metadata": {},
   "outputs": [
    {
     "name": "stdout",
     "output_type": "stream",
     "text": [
      "Fri Aug 15 19:19:24 2025       \n",
      "+-----------------------------------------------------------------------------------------+\n",
      "| NVIDIA-SMI 570.158.01             Driver Version: 570.158.01     CUDA Version: 12.8     |\n",
      "|-----------------------------------------+------------------------+----------------------+\n",
      "| GPU  Name                 Persistence-M | Bus-Id          Disp.A | Volatile Uncorr. ECC |\n",
      "| Fan  Temp   Perf          Pwr:Usage/Cap |           Memory-Usage | GPU-Util  Compute M. |\n",
      "|                                         |                        |               MIG M. |\n",
      "|=========================================+========================+======================|\n",
      "|   0  NVIDIA GeForce RTX 5090        On  |   00000000:01:00.0 Off |                  N/A |\n",
      "|  0%   44C    P8              5W /  600W |     171MiB /  32607MiB |      0%      Default |\n",
      "|                                         |                        |                  N/A |\n",
      "+-----------------------------------------+------------------------+----------------------+\n",
      "                                                                                         \n",
      "+-----------------------------------------------------------------------------------------+\n",
      "| Processes:                                                                              |\n",
      "|  GPU   GI   CI              PID   Type   Process name                        GPU Memory |\n",
      "|        ID   ID                                                               Usage      |\n",
      "|=========================================================================================|\n",
      "|    0   N/A  N/A           77338      G   /usr/lib/xorg/Xorg                       76MiB |\n",
      "|    0   N/A  N/A           77576      G   /usr/bin/gnome-shell                     12MiB |\n",
      "|    0   N/A  N/A           78428      G   /usr/bin/nautilus                        52MiB |\n",
      "+-----------------------------------------------------------------------------------------+\n",
      "Setting environment variable to use GPU rendering:\n",
      "env: MUJOCO_GL=egl\n",
      "Checking that the installation succeeded:\n",
      "Installation successful.\n"
     ]
    }
   ],
   "source": [
    "# @title Check if MuJoCo installation was successful\n",
    "\n",
    "import distutils.util\n",
    "import os\n",
    "import subprocess\n",
    "\n",
    "if subprocess.run('nvidia-smi').returncode:\n",
    "  raise RuntimeError(\n",
    "      'Cannot communicate with GPU. '\n",
    "      'Make sure you are using a GPU Colab runtime. '\n",
    "      'Go to the Runtime menu and select Choose runtime type.'\n",
    "  )\n",
    "\n",
    "# Add an ICD config so that glvnd can pick up the Nvidia EGL driver.\n",
    "# This is usually installed as part of an Nvidia driver package, but the Colab\n",
    "# kernel doesn't install its driver via APT, and as a result the ICD is missing.\n",
    "# (https://github.com/NVIDIA/libglvnd/blob/master/src/EGL/icd_enumeration.md)\n",
    "NVIDIA_ICD_CONFIG_PATH = '/usr/share/glvnd/egl_vendor.d/10_nvidia.json'\n",
    "if not os.path.exists(NVIDIA_ICD_CONFIG_PATH):\n",
    "  with open(NVIDIA_ICD_CONFIG_PATH, 'w') as f:\n",
    "    f.write(\"\"\"{\n",
    "    \"file_format_version\" : \"1.0.0\",\n",
    "    \"ICD\" : {\n",
    "        \"library_path\" : \"libEGL_nvidia.so.0\"\n",
    "    }\n",
    "}\n",
    "\"\"\")\n",
    "\n",
    "# Configure MuJoCo to use the EGL rendering backend (requires GPU)\n",
    "print('Setting environment variable to use GPU rendering:')\n",
    "%env MUJOCO_GL=egl\n",
    "\n",
    "try:\n",
    "  print('Checking that the installation succeeded:')\n",
    "  import mujoco\n",
    "\n",
    "  mujoco.MjModel.from_xml_string('<mujoco/>')\n",
    "except Exception as e:\n",
    "  raise e from RuntimeError(\n",
    "      'Something went wrong during installation. Check the shell output above '\n",
    "      'for more information.\\n'\n",
    "      'If using a hosted Colab runtime, make sure you enable GPU acceleration '\n",
    "      'by going to the Runtime menu and selecting \"Choose runtime type\".'\n",
    "  )\n",
    "\n",
    "print('Installation successful.')\n",
    "\n",
    "# Tell XLA to use Triton GEMM, this improves steps/sec by ~30% on some GPUs\n",
    "xla_flags = os.environ.get('XLA_FLAGS', '')\n",
    "xla_flags += ' --xla_gpu_triton_gemm_any=True'\n",
    "os.environ['XLA_FLAGS'] = xla_flags"
   ]
  },
  {
   "cell_type": "code",
   "execution_count": null,
   "id": "6adc215d",
   "metadata": {},
   "outputs": [],
   "source": [
    "%reload_ext tensorboard\n",
    "%tensorboard --logdir ./logs/ --port 6006"
   ]
  },
  {
   "cell_type": "code",
   "execution_count": 7,
   "id": "8f2bbd80",
   "metadata": {},
   "outputs": [],
   "source": [
    "# params[1][\"params\"][\"hidden_3\"][\"kernel\"].shape"
   ]
  },
  {
   "cell_type": "markdown",
   "id": "f42ae8a5",
   "metadata": {},
   "source": [
    "Load Environment"
   ]
  },
  {
   "cell_type": "code",
   "execution_count": 4,
   "id": "77845a32",
   "metadata": {},
   "outputs": [
    {
     "name": "stdout",
     "output_type": "stream",
     "text": [
      "Current backend: gpu\n"
     ]
    }
   ],
   "source": [
    "# env_name = \"MyoUserPointing\"\n",
    "env_name = \"MyoUserSteering\"\n",
    "\n",
    "print(f\"Current backend: {jax.default_backend()}\")"
   ]
  },
  {
   "cell_type": "code",
   "execution_count": 5,
   "id": "7d523740",
   "metadata": {},
   "outputs": [
    {
     "name": "stdout",
     "output_type": "stream",
     "text": [
      "Restoring from: /scratch/fjf33/myouser/logs/MyoUserSteering-20250815-184546-Testv002hNoCollision80and10fixed2b/checkpoints/15001600\n",
      "Checkpoint path: /scratch/fjf33/myouser/logs/MyoUserSteering-20250815-184546-Testv002hNoCollision80and10fixed2b/checkpoints\n",
      "No vision, so adding ['screen_pos', 'start_line', 'end_line', 'top_line', 'bottom_line', 'completed_phase_0_arr', 'target'] to obs_keys\n",
      "Obs keys: ['qpos', 'qvel', 'qacc', 'fingertip', 'act', 'screen_pos', 'start_line', 'end_line', 'top_line', 'bottom_line', 'completed_phase_0_arr', 'target']\n",
      "No vision, so adding ['screen_pos', 'start_line', 'end_line', 'top_line', 'bottom_line', 'completed_phase_0_arr', 'target'] to obs_keys\n",
      "Obs keys: ['qpos', 'qvel', 'qacc', 'fingertip', 'act', 'screen_pos', 'start_line', 'end_line', 'top_line', 'bottom_line', 'completed_phase_0_arr', 'target']\n"
     ]
    }
   ],
   "source": [
    "## VARIANT 1: load env, and load params from latest run \n",
    "# Note: load_checkpoint always loads latest checkpoint from this run\n",
    "\n",
    "# checkpoint_path = \"logs/MyoUserPointing-20250718-200508/checkpoints\"\n",
    "# checkpoint_path = \"logs/MyoUserPointing-20250721-221417/checkpoints\"\n",
    "# checkpoint_path = \"logs/MyoUserPointing-20250723-150450-MyoUserBase/checkpoints\"\n",
    "# checkpoint_path = \"logs/MyoUserSteering-20250726-224307-FixedRewardv2/checkpoints\"\n",
    "# checkpoint_path = \"logs/MyoUserSteering-20250814-233508-Testv002e/checkpoints\"\n",
    "checkpoint_path = \"logs/MyoUserSteering-20250815-152943-Testv002hNoCollision80and10fixed/checkpoints\"\n",
    "checkpoint_path = \"logs/MyoUserSteering-20250815-184546-Testv002hNoCollision80and10fixed2b/checkpoints\"\n",
    "# checkpoint_path = get_latest_run_path(\"logs/\")\n",
    "\n",
    "# env_cfg = registry.get_default_config(env_name)\n",
    "with open(os.path.join(checkpoint_path, \"config.json\"), \"r\") as f:\n",
    "    env_cfg = ConfigDict(json.load(f))\n",
    "env, make_inference_fn, params = train_or_load_checkpoint(env_name, env_cfg, ppo_params=env_cfg.ppo_config, eval_mode=True, checkpoint_path=checkpoint_path)\n",
    "jit_inference_fn = jax.jit(make_inference_fn(params, deterministic=True))\n",
    "jit_reset = jax.jit(env.reset)\n",
    "jit_step = jax.jit(env.step)"
   ]
  },
  {
   "cell_type": "code",
   "execution_count": 6,
   "id": "1398a4b2",
   "metadata": {},
   "outputs": [
    {
     "name": "stderr",
     "output_type": "stream",
     "text": [
      "100%|██████████| 41/41 [00:00<00:00, 379.90it/s]\n"
     ]
    },
    {
     "data": {
      "text/html": [
       "<table class=\"show_videos\" style=\"border-spacing:0px;\"><tr><td style=\"padding:1px;\"><video controls width=\"320\" height=\"240\" style=\"object-fit:cover;\" loop autoplay muted>\n",
       "      <source src=\"data:video/mp4;base64,AAAAIGZ0eXBpc29tAAACAGlzb21pc28yYXZjMW1wNDEAAAAIZnJlZQAAgqFtZGF0AAACfwYF//973EXpvebZSLeWLNgg2SPu73gyNjQgLSBjb3JlIDE2NCByMzEwOCAzMWUxOWY5IC0gSC4yNjQvTVBFRy00IEFWQyBjb2RlYyAtIENvcHlsZWZ0IDIwMDMtMjAyMyAtIGh0dHA6Ly93d3cudmlkZW9sYW4ub3JnL3gyNjQuaHRtbCAtIG9wdGlvbnM6IGNhYmFjPTEgcmVmPTMgZGVibG9jaz0xOjA6MCBhbmFseXNlPTB4MzoweDExMyBtZT1oZXggc3VibWU9NyBwc3k9MSBwc3lfcmQ9MS4wMDowLjAwIG1peGVkX3JlZj0xIG1lX3JhbmdlPTE2IGNocm9tYV9tZT0xIHRyZWxsaXM9MSA4eDhkY3Q9MSBjcW09MCBkZWFkem9uZT0yMSwxMSBmYXN0X3Bza2lwPTEgY2hyb21hX3FwX29mZnNldD0tMiB0aHJlYWRzPTcgbG9va2FoZWFkX3RocmVhZHM9MSBzbGljZWRfdGhyZWFkcz0wIG5yPTAgZGVjaW1hdGU9MSBpbnRlcmxhY2VkPTAgYmx1cmF5X2NvbXBhdD0wIGNvbnN0cmFpbmVkX2ludHJhPTAgYmZyYW1lcz0zIGJfcHlyYW1pZD0yIGJfYWRhcHQ9MSBiX2JpYXM9MCBkaXJlY3Q9MSB3ZWlnaHRiPTEgb3Blbl9nb3A9MCB3ZWlnaHRwPTIga2V5aW50PTI1MCBrZXlpbnRfbWluPTIwIHNjZW5lY3V0PTQwIGludHJhX3JlZnJlc2g9MCByYz1jcXAgbWJ0cmVlPTAgcXA9MjAgaXBfcmF0aW89MS40MCBwYl9yYXRpbz0xLjMwIGFxPTAAgAAAC2pliIQA//67p2pgUzS4bLBvvZMY/miQVAicsj346guaFhw6UTiVr5n755u3pWq7UGmjlvE+HXMvBZM++dIDx5JzHQrgTrrtf0h6CFkFf3lsdgwZCo3kRd25763r7BhL1K0xM/HfT4HPHFasHTGdPSuggSkxFPjgnoV75yStQ1dnYmntSKR9wsKtcK2zUW+EWz9bixDV9Gf2p9chub8o9fkCOtuEzEBEHls6T8Dk76nGqirVFcAnpWoKlnXSWz5z+FSG7uSNmFqnuo5XNO6W+HKga8XHTqT3HJLnkbd+eU9Sj5oun4GH6t1Vb2Ovdk97ImvQvZBiOzapqKrHcRPdOnhRva0E8gaClRviw9VLZe3XQvOcVqI7Trb5nM4f4W619Zw0pJSrTX6my0vD1O3hDLV6QJXp/jNUlFUIjaehbd5yC/XcnFU/tRSOvidrUKz14NisXuvyFv0LznbFdjV/wWf18HMqFihHApn1pNMXVWZG6BWnf3thiDtF9KU5ePQytehkAm+o7tDaneG0Gq9rdFjuCwaSdX46lftYWISesLfWNojV0VbDZgV/SHC8EbkISLhOOyQjxT5cOkwlX0TWLH9DqiCIa6rqFTjs104zGFZXEugSpWdrQjlspyzs0bHpSkY4nWatCvapm5hfwn+RSYa27Qfn2Dh6H34VSgatEDt5hELmw6U3Fm5A4FAt89VVwVy9viDiFanWN13kqA5JTng8POXW4Xi2G7MG+MOKct9ZGpxxuEAKvwpPk/Jb4g6/3zyqpNgUESW0bsISkIpdyMpH0TXGZ2sA9gUOJSdnXHXb17F4uOPbjX3WAoVG3CGQZRkltj6uXNZMorbSMjueRvvSrxIeJnEtbTZTNc2aN1PVslpItNvuld3MB+V6AKSZHZ/rRg4n59Xm8vAsxqvdoJnoj8JC6xMnK1MmVj6NrqBnccmMvzSSqPaPC+MRwVTCtw5GhTpxGpYUKvOuvPf5fc5WGkeoSqQxiU7oAWse7jGDQaL+REJ9uv1spMx80oC5ssVO8ZSfyCpqMQW5KkChi3OZU8YyWxea0mKPk+DmqxUdz0Gj77MXneuzyg6KnG97MLXYhrPZJ8+d/W2k2ypiRy1t/QHsXdW1W1TYhrkSInBXFlQr4+zE89Adbeef+1Aj2lHrwtkTtWJzojD3epF4FuZ7gO/WqTfKmDLFDRmMz956X5H3z3LsesutbNU4I1MwXXEIQIdIz/9fI7ekEDQC9WhsaANebsHNlXD5rn2VwgH2k4bMyW3Q1h2/zZ1SMI0sMwh8TQt6468w8xhTeUPsN8ic9hnbbTSnXYRoR845iv8zB9ITCYBXj9KGC3ZNzU7H4obBMrkJTue5LlVsbasuOo01gsbitYG7GApmv5yWV+SXiGt7EqMg6ECzKf0A3M1XSITF3ow3rWf17Pf0/N5jKUSP4obU4Ip+YfCLUaaZuxzs6SfY704UonuyqMQVaTRDuoQ2M6OjMXxOphIjXP/8kNtjbm2l98mTw4kNcGHzhin3UavU9B3vBrdMxXq93stJb7XINevluvQembroaDOPd67ImRKOauYCZG9Rx7IVIZ+qh2RhJmP0sN5y/418PpyhyGfgiUU4YuaxlZLGE9mqpE77+ZkcZqtfxZyahul5r9eJ+4+6lQ4JCCpDLIUjNl+61CTM7t87+2vvN3/z3Ukjq8gFImk9RaeT4vSbtpzsW6pjP7nBigD8zQozY0ybhCUTxrUZEV6VUHXiWzG9Cdi9oL0tGZquGUhtd3vUhqVpK1MfqJOhoKPzPP+1bOTGXF/Ps444vTmwFw6nGp/uxn2H/EeNqUuskrhgg8S6yO1bM0COli5dB203YOJK+pEOWBVE0If900dSsXXZrmnt1rQ+GOJAzzFeGZDaBJuNSbmb8kxRCGVOd1mmhKltjYdqFH2exTa0wifwEbmiI5jBUdU+qVhrjySG4uACcJjIdL6ZRmdHTeRtVwZJuUpDyab/ddUgCWCE7VhXOGucX8ukz5v9YaADy2Cnx+l9/83vEy8os15q+5+/0lgxkCx7HbawOKwTv33JeWt5n48j9xh/RRWLHwygwc/eT2REM5ygkb37eMf9jpXw1MtQoNziziJuj7q6LEeYuJ+AnwkgD6M+QNHm4V1VQio5+KbO/MXSfC5DZuAlP+zUzgkzPm89UnDFxnW/eoTFtW+eG6rbQ8c9zRBpCeIYD5zB6BrWtiroF9sj/YcAYjyGz/ITijRfkT6uDx2RFJkw03qIT9ti4jc9FLPeEZHck/HhXKraam1HobVIRaw/Y5wv3KvtKS2DJktFYPAME+uwuPdyYxZ3zj4pLJbLCR/XpDCtJFVD1stpvbts1s9WOrWzaiA7Fz+0B9zG1SvedZOrvMZoR//y4H5KluH4c2Porg0WOCKIvHdc0INyhO/TsGQU+fvfYA0Pd961ERe6dzYRMNR5yoW8xcAkO0CMoanOUkDeu91Ok9mRlqsP16mDz2xrZViVfhvqA8FKX//jMB/nmwd7qizN+AxwR8BirWOdzM3nvcAi46BVvSNEY44x95TenSbMMH/ccd4RqM0vnxs3Mzi9jstpDX6axOssN1y8RSdlDP5ITc6MKWfJTIxJNbFwxgKaGQ3untJdC2fW7Kbf4SZIg9YzuYytRPZGSlu7roMu1K/whoCC1+hn+lLxqieyr2Big1xcfOXZOe4qOq5eC9NgU1RsfhU18NtAG3sFaLTgXGVaaEcUgKMJSzhBA50Qtm2RXntrHggd7nRhf/VS26bUyVPnhV2wjdvD+LwluiFedHkWiLI127UmWTchOzEMzIAYAEtNYBwfl9qRiTWORhPAQso1kX9is0cy+NqaLOF01IvKVX7L6SckK4EV4a8U+1vPe1uKUe68eeUDgmWZ7qD+eLotyqV9MLSrtm7s0I/UIHJhKwxf8K3AZ7EvF+UO1AwaOSUNKtOdJc9Yvo+5ocu6s9rBT4ljYVdwj7H/knKkslBmFKTCeb5gdSyj9Vz7tvuq3PEtdL8X90wo+f4/ED4XXDkeXY3oLqOHHfdQRfFTg3X69R6r5WugUd+WaIy2RLHvf0UyPV1Uiucj87QK1qoXeJQLee3a4Zqg6QTS+iOo1cHZGUFsL8T7aYKYR0If9MdRBsbVnv8cPhWSX6iemB7m3iw1UsXFwYLy9J1aQqeNq9WScTDohRXXrIRMPZs7AqnpHhcEgkdKGNVPGwIEd28+dI7VL4Ks7w81KbvimZVXude526A+C0X7wSX7//4DLS7RTm9rGM83oXN6cwvwjm30bhwJf2gBXblCEwPCcnqYtW0taCFx4P0sAWRwwFE4sOV00NJAt8ezykvhoQFLu3leZ/DX08tWG18vZJFiTE9oV4iHs030uqfYwDP704szlykbViPu3QNisYbI8SNWxKDHxDNHI7mR0VeIVEL4sOOJr6iA/mcw6Mvn1KwN2O/2s2hEHZWoBdlS5DP9ZUFE/x9GbflyfVKiBJdEqUSEUgJa4P4m5xFuTCwZZkOmfUQGpznjy+7UJXhrd0P/pc1uTRYpdwK6gFV4iijCh51a0oPimqfBbmH25y4b8I3BzgCCnajm5ceFTMFsQV9xiYBc1PNm6XnWV05uovHl6y6W8BBvz9RykkSz4rZYFefvDfIUNgO1VIsgbXfpQJb90UJuqILjWmK+goQR+8RIXSxjXnzgKtGIcsVUew+cEsWKuNixXEP+P9ulkm2TysIVW9lk0OD+6YWpaJQjcomIazML5MMZSBp3iB1iYG26wPA7rsTxN1sAPGmke3+CxNljfffWdR79PLzuB+rjH9cSSG23LtKXNZflIgKC2cWfR9OW5gINWXcLWV86oLSYX884DbhoLB+EEts/HSXFRkpqRDwau/y86NTbimFAc/2qAtjwGdceEABe/qmLC4EAAARQQZoibH/kQFKscg+cPwhborbGm7z/UTW8dzhWg8nZMo0dplfPrkifR/7fHDC+7dBEOSToEb60lW2J5kwWXOfSwGT19xDg6WhOi+dPNZsQVEUAZikwMt+tiHlSa9mTiHTgO96LWu1ikaoBS6vap+Jeb0mNEWEegc/siK/1mJYeb8XzGIEt5beYFsm6cOXTRt3apKZuWRBXBGbm/2yjA4LDH18AfF2O7EkkXjoJNMeS/YiNF7qCyZBH3nhrfVJae6NjwISGTS3gpLQGBf0lP0y3/4AVfvp4Uh3+F8K3eOrhcr9O2FuP7XUaPvd899ArbWYR9XW3BlE6b5fFmiX6z0YrBkDHyhS9OGb/I/95zu4JtZ3BJPqvFgohzQM+Z4gC+JvPf4tVGY42N3VNu6QGzLz+op/8JVqtGu0odhw474SxdcKNRDpPrBdt/mO44oBXzeiiH5hM4OSjGDRMxcODuUiXppDo0+hyboBfZqfatOR6hiesJRe/jiHpfDklMOTfbieWiVOy1/+b4z4L8IeY7Qs4Kcw6UtxXjsMRK9s2aXAfQPh6GUkXRQJPlkImTpYm6+OFmf+19RQegYcviG0nY6UMHgzQzrlebQuuGZT0K/nsQUsudSiwnIpfZIYlvST7A7Fw1HVHLwSa5GSOoxIbig5VWa99ctgQM0F2Tus3cVSA8NxjvA3X27AYlxyZC95F5x2Fx6HbnYAC3G2H9RnZHyU1K8uFU8NumrU4O7ebcLDUjNjNfuPlYwsmVOB8LfIzMnyMhGB0yQk5aWPhaQKAtnbUArul4FOU8dtB8IH7JQf0xMS+WNgoDdoV/akmUgiJwFTzHI5WH5cHJclcntx4NA6hwHXgz9dL9mlYmvSwg5WtjJs+58sM85EYm1MX7OXMU4raizJMfNf7ejl6mn40pJSaXHfE40gBEA8CJtwkP1o0Q4pP8YmJ+GOujsONAEQtx4H/Zn0kw90pn749JzUUiKhzYZYSMgAJwzn1OGsqVXl2Nwb0YmTe22EAJn7x52cxJRBcvl2FhMEndRKJcdp6+jwJp9ecqJ97Uf+UeU7BVAabOuQ3GS2Qb41a601QsUL8S2ybwqDRyYtyhu+tZ80X8sW9gibxC15fA6nuL7QKlOzlOHKV8kZE8TeNRuHbOKAeHSWzR3vsZUhnDPRpqnL7f4CpFeVpu2ZBl0G9C42zzl1/X8B/vTosDWNtl56nmb817dl9d8mRFbz1NR2eBL7n+64BE0E4hx6r3wOYmAm0FuUBcgFRl62cxRc+U0bBdDRPoF+FyUww9PBgOOIMMtTbPYniGRDHfJkoKt1FfbmjczNZN2VRbm8FKWhCLAaZEySj+K4Z/ctAxXmGkKpF7IVzqrU14F0Sntc7ZpuWNYKH1iUeVf8dYpOn/uM3r9APiWd7K9QL5JgGW7TXk/+v+C88Ksans3YEke1CctIY7FAQdVQCgrdGdlw1ObQFl2ZdASy3yU9AAAAArAGeQXknICgWTL5oQn2GthrUXK+9mzLOYeMo7fCeSaHQq/K+rgjtDT0ulSiBDRhCyJ1JoCOcr9OqhWPi3321jnVcWyv7z552piEstbVLlykryqQuSY4fktmxQF9essehk2lURUl1i7HOopQubJUqq1fcOZy9H8WzMbBH3NuptIweOCPY6AcP/MU2yqGKg4gBK3kiuK9h7oTs5uyMC9/2demxQolrdj7QtO6B8UEAAAX4QZpDPCGTKYf/5EAt2mVWQ3AfvqJZ6gAM8Ooipi5nb8N2RZbRNJAKgAr/jZn5W81Pzib1wZ+pKkzL7Z5cRjuPEAlBFhya1ibY1kGcHYNAsiR/8Wbs+RdHLpnLMds/ipWUNqWxHC3jUmnYH8fq5mQX6cslGpwijWHrOOplFih9bGfAocOLFX8IdtHtfLkqZkwcEMXD7/BOTnzOExMAzboypwki0gX+LFMtH+ou9WqbTL4pV5g1T8whOp5mxYkc6rbd4E1E7/zsI6FNBTfqxf9nSlkdcWg7czkQT918I+9/porihyBXodNv9ovgdprPntE3EYxqmYvk9aYA7HgedCaHwnikJpm6IVHMJHa56aM17bKfeaggkFQvEbh1F4QoS/eV9QZcgulzrtLnbj+Kitv/Nzn1olLyD7BRWeuSM1Ffvtm7711KD0B6UuUsCzvr6Y+vH8XaHS1MZLoVwrdyDSwRU+U55peKboq9kXIVEW0Kpq/MRZcUvzbMUOUmdWCjWx3F8lvdWAdzEhFrJvGY4yv04lKgv8Egc5Smet9wc5Xn3WXt/yXIqvB5Az7gLMNPvrqbMq0AoUG9z8uqNo6xxBpCirV8fzjSBxrH0WuEmwUZs+VqecCSkDqbgLRXnx+LTX+T2WNsfzjOwCHK3kWj+0LO3pFV/TN55b5beymTy2tFsI4VSMLp6wLMvudGM/rXL5iuFTTNUO466p3ziXxf14zNv2BghJmqdemE+q0PzNb3z1Ko+1wPv2EgERNOSr8wW/3ziFeR4H9+glEW/yNsMkVJk/cTFKPeDH4Q0gTtCfhdJtQKHc53fVUFktfC9arBhBnmZ8zX5BKtSBSl827CsdX5IZ36XGffIQkLfzC4epZUNmS6eu8PiBBF2cvEhBHbNPfll/ok+HlbWb3nHMtR/yxm8noAiEE8CZOJEtbCQWtYprIycIh+SnB/KeTHMdQsoc9q36fwbbMQHp+mUjndWQL2OkeBAPCWr1E2tjWTqtpSaOjfF/nv27jTOsnkErcwkwemL0IjYC6tJFolJRliL1LKzE5plCEL7aUORzdYzm9flWYDmOhWuDeK/68b0giKoGAp8TMLGEs/TjnTKjl5B/fy9k93Ub8SSKSloG2k4xzXxH+7ah2Qab8zJAt5HMWfvf9t7O0OOT1NfBkKXXkIvQl6vrmC8cL6tS1NMQzU1//w6iUsxv1Tsg8qomcSbzRWto1yq4ihyaLs4svpqfmzcGqy+7AqfL5tuLJ/PVn1c0D/0won0dB2xQSAPzHv5iZJlQHAI9ATnzrHs9OViCwzrV2RbMgFVYuKtqf/1LGHZWxSQEq28Q2b1EGGH7IHIj8SGmEAXn7WScXza1kiMs6TS9VoSTKlT0aPAD4QkTzWJe8FotSaztZoBNdBuCA30PdsuostESaQ1AgLYbTw5AQX7I0fG3SVMUi7wqO1vaXw/5GwwiY7felPUlJ0OhhMKiS6/MlMS03MxcZs0v/5p5/i2KMgL/+K+6cEis4HrNtrxIt3Qeq5+K70cCmhm3vROCreqS/kYDQKlPoVsB+yGGAFu020hR2ljdmXBZ2UyN7ZIFTaVmrAFCHeLZTz3Ky0VgmqEKkKhrsyG/K4p1KI908Vg8eEAs/+mGsSmhdB1jE0t2d5IvNo8DIcBqSsifbSnTnv4/egnk68KLUb66La6f4Nj3hG/UqM45P7REFzeKPf+q3O3E3VgS5hkh6X6SJEmqqjuZr1Hvfsiz6qDU2GfXFqaFvpP/Vmcw2bLOwAhftMriq05KguAtD1ca37EI36ZN1CpI9IYmMJm/7N+vF5YVnNbDQcAmbhWEgEvbn6j8d3b28g9Exh7KJJTxl/uyFvGcXAjyYLFz6EwdBsJW/LajtmybOe7s9r0zxfFvNGtYQutwf50YfgJ/JWBDeqJyrK0zC7nyKjFHCukK3Py8Tr3qmwyqmNOZVOfC4KtoASXtLIgOhsMr7xs2bCh7qmuWbYMowEnJ9FFiaPDZ8bDg2XiNe+jzm30XNUo9E0tlEVOO1qS8JJDY31H0pbhoOMbAAACTJBmmdJ4Q8mUwP/5EAt1a2Mo+4jP0ZWr9FDyyI+ctCwncHuZlksLLiQW5qt3QUUMpTpG+ZphMWuya+pqhI6YAfYlAX8bTpWgsZSVGo39lsp51FYUJ9p+3s6QkIHuuqGuLC3ZGo1CrErB/hw6P9ySV0S+wPMZWBIYm66JpF/vsxw614CpFcFEfVN1eL2aw4dKLNbm6MzmFtccEOFPD+J4jN4MGsgWQwgqH9PNhwfRwTQPqaQNKXdpC3XF5C8SBj78Sq6RGbEf5XgBX1RJ4xzVOuhYq3DOSaUBqnmHrXAcHuScKoEw/SAd9QhOyAJGV9SQuiPtF+OE4QQwyoSOE9igd2MEx/9nrfgW4pteVjFQ+diFetQ6IddMChIspm37NPEAXQw4H6CYwlb10pdJUrfpGuBOXcHWdxsBwe4ycLn550seHo0Byn9jy2nnuocWY90dSrFCjkublvhC9d+derwITx36HQn9XOZXM8/K83FxiA6/bhTGm0capgqkefLyK8dc3Z1BYQLiryCEfF+qrMgD+aRRi2Qqj8qEeHC7xS0a9zNjEfjyc+TeGwerFk8mR/pPSYCLyNigSyTCW8iYTNare+jHydYTKNRSFBU4x3IeXOa+/eN3vMbMwOvJYSu6d6JoleYqFh1xyMZrgB3PLzxR7c+w/fRJN7cgrb755c52EBRD4g+suKv4ibi0tg4XtN3wQlhft4ks1CcwAijOB18REQbXjO7vMKC8QVlmPluEzuuCM4g+aNZTkawCYklxnc6QWnGuJ0RJDoFv9fEYYvyTTiZLPhNsIuA2PZYEZaglh2AWmTtiW/gm+ifshh2yDQmoEng2HWkLpm/D5YL1zrS1B57Ej4qhwDOxRsRP/YdAE5/fhw8GVo+sp7CFYmTsvoS/ka284grSyAZdqEKXQBEI//c21x7nuTIdwhRONf1X/YKaQ9AhQ999vlKph2xhxGYhFWh1xNlNg5920ouUHJ7AIFgRfy3nee6vFlIEF87dIWwX3OSRyN0rmw0DQP/KXUMkJeIqX4PNbcx19Wf0hUlQsV5T9NuHCdIsMiPRMl7/p4/j0i4bEk9QtoPZ7nwiL069M56XjErLdZ9INE+nwL4ZWk7V1N/Z9UGq8qWQFbvN/dxAb37iUTmbUSNN5eCeFCJwChLVQK8821fTh30dpTRASwqFJahFLDrB6DmXXrrtahGWIMWfaBQlK8DxME1QTMppkSHq3d6yBEnwQI6LRgL/d+amOCeeU/KzPf3ejuKA5XGWC3wipn7aeEkDXkN6YrOIIJmG9Fm6VPBq8C1DXJ9R0PTrFhGVucYYKBN/eLz6dl1eqFo3zd9CkNNuHQ+qm7DD4Vrznw6dJTqRkJlpDbjcFWvrZI/1GHqHL2MwgqW6Y7NehCyBOUkgg2HIfxMftwqUvYJK6pkfl03/gcQsKVq1xnTDK0wnonr43qOIqUsAUPG5V2yH3n+uL4z67joqxNQxrehRa29KvhUQDQ6PmtyDvGFUN18KgEE9jTIQIjKgCMwEakQAyUwxqlojBXQX4SK4xGKcw4K3Ln0aClUGnWxKxvfu736tSeNSJK9aMJRnTDRKH73GKpBu+QFzkIIIRnwOfbznhhDX4heQNEnkGAzYxFZCW9ovUyhsGKwaxpcp7DjNsDl2ck7QTG23+Pk27zitaWY7ziuuleshR9yIw1ObjUWz9JD7L1ItK3UxuPB66jHucN1S+0eS1iC/eq9IDN274P3gy4UFb3w1/0LLZHznMEwsONcITcDzURagFEBvszP2L1eIFqDTTlY9qoGu+lgPm7mZ+ht4lOEvDXESeypEhDIU0jhz3tIRWXAcyoxVuThlcJDCvo5nJT5EawGqVw3tKxNNf3OYUSzts6cNeVofmid5rvHIHGfC24juRWof1vQC2bJKd2Lpn4YIHd0fgwEHzQQTaoDPocAmoGl702j4nI9Ovs2UkYY2VHbry3jwrL8+IT+9oB2/k1IAsqpBHfuJqEOhlWeKXNopNYV63n2qOyoSad7+PXyptF06JMkP5O/S8Gbbf1beOVaWO7Cj53iHyC71SXPTTAd5cg774V61nHIC+gDeVaeHBUVrd7DMwf2yqiarbLSJRi4FCLPnFoUveQSubrx0h7SbLE1Rb6f6j2wOxxSRvJi/UhzGj9JjHb7jvBKvJATS1vivkjk/TPyeWoBi/Vtpjk3J8sVUu2FOeWgGmooSr8KrAMhXyeU6ThwZ8/K6N2Tf5E1bEHRJMiEdcGdd0nYMaZ/J/39Rq/QoyCfwyPvh9bkBvHje9rnNC3Bouf5X1wX/dzJF+zC8N6JotNIpBLxMjQuhlFcEZqfoVSIpSmMRescqv6uh0wsi1dNVlr09zhPFgGYszV7nYFLnVEOeqnK4BFPJ6GD/DgoGaaeaojltIsD0ZGKoHWuO84qIo6ZuAPxxl+7bcPzIpSG0b5riA43zVp9fz0XmQd4rEAY5zTFlYNI0h0w9CsU6ct5EdRRBQfPDb/u3q5ohiep4vw8gobFuTiiTSMW+gzvsL/coyklYFBcTbhWbRoqrf7ubz7PRlxS+X/mJAUr6/V8xMI6Yasinorea19zILUgAOKCuOqiDbF9vrAKGOMY+hqWUKPOI62E6EqXZrL9Sqe06F74XRu9mgqek+OZdbGjVzH6eoNy8rLtdRTJCGozRYsCjpM/JYVuibG4gUc1lVbRwbw+J8omPUP9tkNzO3eQZitao3QkffVijM4IHrJyrvcWM32FP4QpPugFd5tFYNh0tVN9PsGX6X/Dkhk2cgmQQTqhvdU7uIIEcV7rccMQov31y2iyvJHk18V2If0p9hXEFrVxaZgwsjZg4mUg7n+QG+QLqMhoyy59TeGIPGQxmRbccVam1orbiigdy+tQnfxrkujnbadrm7IMNBnsONhXcgCMNKT1ytW5LaYEWAuZIW30gqgpeHT0vBc9M8pq8Txn1kpU1zDCxyxMFdjKi5hLN+4Hhp5nKJk8kBuO9rza/2YAdvhHpTyyG+BKbWl7C3GcBxSO6R6I9UrawFwe3ozUWwO98vQddIVLoG4L0Zwjx204sdNhyQQgnFOug5TLK5vpV4wem067SWXRiRv3Iycvb7L817blbUSbgofAtvWeTbRKQ971eWdmGfgfGa3YZShwdFfQBQAACExBnoVFET1/HSrkU92n42hX/XDyCl45r/ne0XCBBZrL3ll+cA8C5dO6RHVMlrxlpctMBxWLxR8dUwj+plhlsroPcy7PD7hmpO7pNm70VhTUDVpmyvqBM9Y7IZG/j3BNLC+R6Fny4n/4VT6muAhYZeqbp7Piz48Sy5t6AgSvLsF5vivbzgWpBmvTnJH2rfLik/Ivyjgwfzx62/aeYG6AiG2TT503GHN3C4hSbpwaZa75UZ2D/yyWeCX6CkvgwLu8nPSE2NC8tBER5o2PE0U46vo8Sj/XHhnwkKSg/ERbi3pOad7/kuqDsPLDAobKqGovfehB7Itld0bRCYRwY4F0fi3Px/boG8mPKJTR6pvYiJwjrSXTJIplkjQqk/5g5sTE9zn2AyQT9eq0DmEIDSBulJRTTpreoPmjvbJj6yiGgasFVsUPAlGqjrwev3M56KivgnpsaL5KX2MwLWbqlAuw1c4HtBh6bC9XdguzZRV3sgfdwMnF0mjxT+ydY/K0CxKt8Cef0XPj5ZCJ5TOZvPSRnWWT44N+ufci5DCrkwCbi2y9vZw5+Tctc8Tq2OvBxiAT/5DoKFbGtwPldL6//ILpBVaQVwwq2lbB8y7OnzR/zWucIgDgfuNHYbLTVLNvEyPefreCBK0LbzvL57rQLs2u/ZUys5ABZMbMyp7SNDKJGNbkcgJvwghNS6hz1X2WnB9XYz3nJBJi58DLbx5o9noQc/3dm57ii+FJF/he93ImdUWKrlBOSngn6mzuMgRnNjhP9tWHMbMxkl37uVMtRfyx+oXFtSKJ+gXfKAAscRv8LM9XPSV7W0IwySjWjs2ctRJ0vnDAkQi5YTUkZMUy4jXv9jo6WDPtDwhR08ETQWzSPhpxJQuc87xK/asGzKaY1PEiF0sHb8zihDaJUy/9XTqDog4MR96+MTh06CwGHsuyFEpoLASAgo/jIoUfIFq62a3mDSgjPQNYRvOK66j1bo80Zr9xqnHtcb1S/Ob/+S7X7xTjNzf97xQZ2U9yo6FfWAgJKYASLYyATzD8A1s62puckvu4mNrYSwQlXdZ7NrMtewBIBlfUE1syUXvcd7FyhXNGhpypaB61M5Khx9q58faV/EepVDxroIF5XPU1C3x7vG/Vg4Bj0kR3aPCVFO1Qrkn20Wvc5AkOf8vUpKPgsgP3MpcYsX9E+mFH2qUFrQgUXNSJKotv6bNM6nzrfnve7N/HemFp+LBCnFI+ivw6O0jBXZ0TiI9F43pxAuJyDfqBvG3UFcOAPwU4fImT34/3c7vAMxT5A6HPMtWtswp13CgDwWSjjJ9X31lgsC2oKZGeMX538Mc+4N7iEUnCyrXYo9MSgOyG31vLLeM28gxm2hDxubApwRubaDFYVQ1cn4mrbzTBW57yzYmq3rvu7j5DTzPhjjFoftA8ayxv8BWjz2JGIG40Ti4OsForp/VpHtXps1kMHtwXhtdi+p0Wepqyd6o5Ws8FYxmhzi9n7qymeRTtqalIsFYOtv/wcTp+VdciTOmQM/93bEyLlneRI3puoY1/yEryxLd5cY9uEDSdcDH6Y9+d4W57OM0W2NHmzo5My9Bzxh5V07S4LnOcmrEt7yEGfFTaVEFLCRQWak1yqJ0Sk11EFf4YGb8Gh8SjxxiY6FTn7xHMTY8Yj/f7TKUkV/JWwvETYo+1tmZF3Tvox/dmMeLzSk8cSfjJQs4cCbR86tGQXXUwanJDcTHsS/IgcnXDZKpgPayJnF33XZ4HgKP3kNleTQeVtG5QEO+l7HhbrNW2966sLIQA4mjtObvQI85IfZtXeliD2gPqhLgyEz2C3Ufnexv7yGcim5tgKMxTMF2FkwWw0MBGM1hrgcZFpebqez7KtDjNEYtl4u2bz5SNDDsUqujnQAb6ZfKl86B+eECMkW+nxNU42ULrb9TxJcQC4+i7QO3pEODBuWrxyjNSWdgNPcVJMhUtYKt7H+Os8I0panfnv8jTWTY1bv2/tlgnvkoRgujH7UObgQ3HwiEzhgY4fRb6N52HJyyGGi0KVQ21SY264moLVhV3BVNBuXlPA4ryq5IZuKtbodzXgXtapKrIRlbgpJD41EsbGQgQmaaOALdqvWgxknmjhXP5m2oa7CCY5C4TCeim3vKzYkRbQNrJaTRoe0l9pKld9IJw99XnEpXoFQbKsDfRs64QIyii/aNgZ75GkZCOxw9pW6uqZw5X2oH8IkivbdFxAGmCaZzCuZ3CWuMPyxmw6J/jGWh4++qH+/ehGXBZ8cOXxMrHzWvTnPcqq+w7nBgE+sea00MQN6oH25b1dOBU1D4k/mvDCW108OVaRKLwYyYq+7buSU5/+nrcwOhonwHY81xUpQkPdtgGN7vusr+39G/Bkf2s5py8UAiN8hSxVjk0Pl7rs4Q04cNnE6DMtA+YFcumvpSvr41GkINdrmLfYSWrh0Nje6Y74NqSEtEyDuFg48XHFf+5+c0KSK8zUnw5jx75WLoUs6xFI2oozsxzMXCP+UguNeuihm9d9m856AkVhmvehRcAhvx0jw2PDlUZ0wqNiZigV283fjPZjC5cVwAcSDXiODY8IevswUBl7CZ2b0tp0IP57n9SRrh3PnHwSBDiowUxFpEklpKQKcFVRIEcOjNxXhHZCFj/HX/aNb7nbBJG00alig6r5pgpkgSf/jz1EaCnPNS6Pqbp1ICP8DiR4XGu89eb1h4rI3aP3M3MRKhnUSYT9wnYpgFyLRXPlbyavZ2VTLIguaaLXjQu7+dtipHAay0U3MaVzBATgXK8MQTtWaxUO8ShiTD5/sGiIeMX/+kfOic2V0oNVCX5PsJIULy28smRWNzl9COP1e3NTWEAAAZGAZ6kdEn/Ded8aYM3lUACbXdc9c4mE6F4gWRUf2wyaLo0HKaMsaHcMRX+UgL3u54qGm9xPQiatAPlY6q2AJZ+FkDK2eXOZexpmd4nqCQwsqg065AbEv1xZ3ulDJ1sfD+552tqLCFKH8e6r9BiK2m7cMXhbrbMydc1q4VP31/q/bCewLxBtzK9HlLKTob0ejSxDGoJcUADnev/ENJIx3ebwSNsxUmSLbH5AfAAt4YjMmDFuBlR02djEQkqe5YxfyF8xBUg7pt3BP4A7iv2M1LeC07CUjOLewjh/upNCK4q/tjeect+2euK8/fZEDd1A/uQAVWeESsE7tjEZo2JRwNcqmwCv68KdkWayw0UQKLuXD1cYNfFNHeJN+3E3z+xA2tItUYRjDqES1t4SUJoOdSkdVhfsnblJc/Hk75/P7Eni7cjHtncuoHg1lwtuM+BPNrUCW+sNZ2cwP9bOMxLMhmLed6KpCUCj9OwfbRAWVr+xB51pJYB6FDJx6bfkDB+Qzr3xFouQBKYvrjOK4jm9XBWeq2yy2smseDM0fgdjUnKu9HC3BlKygcrw56fs/iSq/nmEE9KE5wc1SLc3Tx613mN1bOMalSxsUxCuYmfuw6z1Z5gwLjLffH7eZ3K1TYuuo3ymbV/JbOOFCh9m015V3cThoqdX4UOsmKeiSBMHTbATHZtBaHi3nzN6dkiai8YXIVmTzbTosq6y9XhdPm8R8DlsehLRxxwU8IR9FX0hIdirV8kGszE2q/m2huBy7CybcUI1D+/6V1eBfd68gtnzNjC+9iNsvrlou4wDKsl2AoBDYvc18uBtOqXpWKgfJc0Ui/RCR6OEbD5yrO++zabZsMaIEmnzXu93JtGPgj8GQZMQ+82k7Ro2qMgm/6P4eyIVzaapx+0m4RsCVlixO9lsVOHLY1WW8DzM2RDpZvnK9iiLJvO7nTOZl+W5Q0k1G4fo704orwPAn5yk4hDUGCbgFnOr0ORed2V0Xq3ErkIdGpu1ie8ozFtbjavh9mVoH205psQEp/GoJbSvOE05M1crSNWMWGC32T0xP1xGgWTLTnSPeJX9xQd3xZOGYPAaOVTvaKrJG9Qbak4YcsrLamr1wQENg+9MiYhydcttEOWj2tWfy2/rWQUhRoDqOHIlHXbWbSdk/b/lsMRHzjjILOlQI+IqwEiV9ofMovzMx8lZMIQRqXrlGgBZBb5vDIXDiZ/cDCfHNRgKxKZzVKbH/boNt0B5DM+GHvnaO7R7tqpVkdfKt4JQo+IurUPndXmCV+KvrjCf607n2+T6iDwjYr23SJR5QT/H2H6ut/8R+IAqDZrKwTJx9GQDutXabeCkQJDJnEjIF2/wrjWVh/opI9qM3LXwkdUEeaq4XRbD9RrU7kbZ0hnJt1SIY9upnYTT/5y7TjtgpqaGa2zBng0k/+vGnOESxb61arOvHfbW2DFqg3lcfmnOaegl1VkFNfHqFEtfhea1pC8Ahv/ddUjUg2rSxehQdsTYG2R3AIs2GAWCAxmPVxAG6cUNujGOHKwSfpVOgm1FDRSiZudQPvq1ehsELL5uSWWk62Pm3lBrPFN13FCP9pSzXp8O1OsN2HI124rBSITGWkVzzCiy5RVka2D0xo8A5h6TT/YSSR2YA/W/v9w8XNJyW4gxjLiAWZlRsHBrIGNq9+BDm5aGBbrwvO/RfDhFx/4IBlnuDGI1quN77lmhiqhOHmaF9IXOZiLJziNGXpTSx84Al9F/fnzkmZUGk4FyzouET7OdqpcUaLnpFju1Go3Ef2voTZBFfeZDvIBVlFF6mwIPugCCL7JjQ2aH1NEFp3fNoo70TIxFDRqYFEpgGI3aIKY4RnApkPSn0sDD/aBYVGA1ntv+PrzFwGcMSotN34CUxIcia2bXPSwRRklYqYsjz7OcupXNPWfeVOUzJo1RF0yD5igkpGp1wc8v4mHWMcUQNeRkOoYrciGkBx/iEHaqbqe0IzA/UDyxGknBuOJR1kSpAahIfzBHxuzm9Di5Yu98vA4zgi/fchZo29EdemgTA6emhvD8/o73WulWvAiXCqHtiS4aLcFkQyYDu3sT+1VLA1LWasQBkI5o9eB+DsIJaeCQkrYQmnJCoI7zCd9arXfuxycQQGH1iOXrK8e9hiIlY5RyQAABbwBnqZqSf8BerRVIi8Fiu5BgPb6q/fKGfHL/e+8319V/XPtcvCcNf6HHolWwbkw6mUPtxDAuEhh+QCn0uxbCOGM4aRulUOuiu5orD9sLmD44cjJwnJBGkulI0cv9K/9bI4DKt0ykw+hYN5dI8/Y2LiPj+TlXV5pKMn5JWpbhZnIkL1GdO+RpErO4D4IfRO2cdaCJWsJ5jVIzh9T4QdkcB6xqp7CzsalKoYRDmmDVKyOypbJ6rMHKwQuOZ/M96e04R1TFOKEWt1/fM6sm4rXSmsy1sg1nPHKmWojZi2yEHH5OzYOx8wcAQKCJob6ENl/xATZ8r00b8Si51S4DlQIIB+NWVYilDKIFm8JbR6/VDobyebftMBjplmH5wSXERoLIEmc6pP3pz9/NDyDm1b1x/lntSgyQIaiW/8TbbBWdHWwrY+ikFpZT8zg2zYISim+OJ3xj5vciSU1MX3zdejp7gcSdlQR5flIrugXKREfhAsET7pdCdQCqwYK50QTtUaFcmz37cnyeYO8YbVU0+1Vitzwp6nskFm+FjDeT92nlCz9HuDcbV4azRYXDR4uHxZHPn9nPUx68y8CEk+JwZ0DMWSLXNVM78z7xQUmEPVtQOJLbujjo35eqXaI880TSa0FXEDm0Z+nEBD6OtM7tggfziyXqNfaMeoJFPbZeH/dOBXiq8T32t8UFIn2LTvHWucK2cTp4A4utIgd3bKLgbHvWnn/eHfr4X8ESJ98G/5HunIZS9dcxemN72rBBH6FAId2klwZvAtXxX5YP5gqQIusC8PqfhKPVh73rtKnmlbJlITUmz8RJS5ppbEE2fECyUPiejf6EH+bddtqRBtdhYe1iCM8N18y7lklctYNrM/T4FcfbJN3by1cKQj3SbbNOWxpxShzVnS7GNhRbbHtXUY4KWhNohedAzo3haCjsdmoM5bJrXoqUR3SmSjdrWmZwXfJ4LXZvogl965GzdjHcU2BQlrXGh8CCNJbOSm3bYRd8M1Mn04vw/cMN1V8zl+gXt60lRIAl2uMDREI48wTOcIoliefmwirDiI22IwxNZG37fpDMO4o5OFq8IJ6N5+3pgNN92cE/MIhWmjOOEwO5WISXpHexlHCbU/TBZk2MGRMbUp/kucbyvgsS9JvRx12KtmfUPCar0zjQ26ykI44bUAttYVZfXvdZg9oJT6tzCDE7Na+0pyfU5QloaEc830akzB6TSqTy1yAUgJXd4iqoWg2qjxgQH3WqaJK/kjjngnllliU4CS7qO4GbiGj6G/WPkJXu8Xl62rDnbZtEgY8d6JlE9YH/RKzQbNlMBJpyPnRQ6eLfCsAUu0HdHbcZDRrN2LDpgDFiZb6Y6OW2n0Y1f6Cg3HrL/+6FGFcDQEECOsccH67tHM/N0TTX2Ov0DkW58rwYn9ywnbTxscZIc2xGuNW9gOoB/NpRF1hj2BlGOE+n4BsCObAYbbGdlJozCojORAbHFKWkUwKt6ZuLVXyqNIBE/p/vh2EkKWqu7p0Lz/Ds17/eT5/DTZqEpvQ4vvkvgvZhEJYfA2aZgsyN63UN3zNYCfDlyjsZOL2TvUnjobKG1so44wv4JPNzUcn75ikew4RGU1P8OCuJWU6G0qFY/tLvH+NV9NgDzhsr+K9tCVnlg8ABR8kqfcTz31ec1YvzJcnPMoskpBcSwgwWoLdiC/wOqduUlpTj1wGMqge9nHt2aadjXHhQPKNp5eq5nm+gBfhnECO/PFEWGZtXRHjZlGqylVX+PgtaemK+75tcBqRJsBZ240mfhGa/NlaBacA9B2uthzZvUkYx79F58A+apdU2OE/czKUdhpK18qXMr7kPxJt+hAj/ChuTORWw+B9Es4Q9HCdz7w5MOnyVHRjgcBvE34iQX8ViVsobJDQIn+gVkFJ11d3ksNgEHc1vXml4p0ifPyYTEULmibzyiCbIGCVnp8DcjEmH8T2XY4NnovvAAAJwUGaq0moQWiZTA//5EAFHAMI1+pmb7NiSv3k3KSgY4dQWmcqQqgTz+LIbXruST9VjkLlwa8+TyIsg0COIX6LQ032hKAABFVDf4vywyntngpbTFHOpl7Im5YDCKKEKd9jamo/LorIIa6i3ofb6rrNqha06RsylSKvPtQqJlWx09KoMCdMdpdNN/MTcG6C3KsbTUoRiTGTr0ciMYZyda/vh2ZOJb+g/rMdvoSyv9HVNhAIM79qi9FQdxTaMxE0NGfqW8urWkRV1QpeKtAnjQeloRLVpYzbMP/c7B3HGFgEaTvc8X2j6xtu0U6kArNKO5/ttse8ShdoEQthwOtnvCP1z4ZZmMZMW91q16Ptq4b+ptBjnj0Hc3f6T+StOkz2q9nmqeWX1Be9KM1UuADEupbl2bPw6nLWH7bub8OOj8kC0evCPpBQzIlmgu9/U0jzcSvt5eW5cyVqzUbf9jl82mfAi0L5uylFGpnPuxqoaN4jUhRP2lByvUohq1kXGz6ELp+uuh3fn+NKB4ew5n6pKtuRcxl0U9Rlqb4quTdNTOUPtRyNvrq8HP78kH58QYfo9L8M3zgw4nwILk+jQHBwrHhda82GPkJ727IzTDPX9faGZ9tSJTytxkX7kto2pfQNqr09HuyQssW4b70TPp7LXbH2F2lXrEGhuxD2jsLfj9Jg53VeYhy2AtQNxavokRgnoJ0xY6fpUv23CGD9gcHYELAr+z73MkOgK2/shg+l/bgghqLCss/vAPulj1j2ANd0cMmsrATeh7lL+fhKP6GD1IgsTVnQrhJJMJ/rNuK+1PUS9Y//sqDf4uRF2VkXlonk7NNw//BXSMARHymQW1z2lg6SHBCRp9IbK4THs028TE6siMIf+m8+K7qFlyEhqQoFnH/mCRwuz0FsTkeVa2zsMMyH40Bu9694AypGlpG3c0rRm+Cqqr7zZWClKnCVE3xhoXvbn4NU2vrduH7CuuByq1lRw0IheAwNOHg5nTi5IxC7P3x7IghUkxZclqCKGe8+i7ff3RHTc1mwpfUJoPaDiqKR9Y1+WOfJTZw8i7GTzJFUt3mQQQi/OEnZYG7kJNg/D0+nnFyq2/WwhQhNbc05RWm8bfhqM2tYwPIvL7Dz4JsmpspXz7XuS10SM3WiBNEEpZtAEN0aV2CRihXnnXUFSdvTSmNGqAjhLbcFVIlm/r5vWqQWxdE1tWrK9oz8Q2fkl/eWcop5vXWNzW6ufyEDGE/VCfnt6BO91BLaxFeY6qJi3Q8veO0JXFEdh28FI6lc4ojcsveN05YBUuDMapIi93/+5SGjm3OrAsz5QhdVMj0/B1LHM4weQjtarbZkF9EN4eNakYY+mpjfpjVE+MwbDYb4hEM/jVgMX3dUZZyzwuYiReW88ppf+MjuuI0/ke87//hj6cKIdRyq3WjxFg7epoZhZk21DuxH9T5qj5fXyHZy2wWB4J2u/m0qclnMWpp/nADLzUI9QwxPZ0CQdq4XSPBTUxx9id1PHRHh85EgyenhTKspOt4Y8rHwsp1I5yAZ9g3UNp+9ZzpOX8A3fm+g4vEhx13Wv0/dTSR8zBhUt2u3IzZsUN/XV294MxrfsupGwAPVrM8gFyL+YuYhvyQrfEHdo1sSiqRSENrXOCqiyulK5dt9nyJ34ojgFl8AD4fQuIz3ONMrBYrj0ikcaEfuklQedx1JSBFE8GMwPEI0/7aERftstzMz50w+pGJW5NhLaGDW8LifURxZdURjJ4fFO7ILDA6rmOjRlWuUw276QBTwZOEFYXrzsPCJid7jK754XuKvdHOE+C9HabjE9GyNlsUmyUnd5v33SHDLmWx0845t56+bu+GPOm+RcYYPi5FGhDYcZnoua6/JXz3r8cgbK4zeTpXmN6lg3Ojnps8qDzr2PGdfBD/OS1l4zC/YRj3I5TYJ+rlIENwij6oJbUNaqUL/VyhviWEBablG/HZpPiUSnY0usfuZF+tzK0I8UUq0sl0NaCr4iAIbOypJbf+WUN32LWgpbrf+iTcybKjqfsUpNweur6oDsbiX6FA+pqfaog1oW28U3hWG7qTR2bmaveydAwHlTpoL2pyp/lRSzNjJjchSS/lxe+4/lMERddq9F9TR1pc2AwE75tZgkNSYXK2KtapgIDf8jqrCqSgH2dxg0CJhk3HIJZd0AnA0YmTFMhIIMMNcDAcaRGM3Cx7/km/waT4mA1Fhlaotk0YBEMeByNUdDOot4xynKsJXYbzW0/GLUO5+dOYxMA2dBL4z3ioja7nVvklfep/xy8+7+aoyive35u9WWZUie8MUC8l3/1wf99oky873QiKQz+s504PJAKggINa/Ca0a/zYnwuyxfrR8z4dIr9ePrp0YxonjxLCaSW3R6Gaga6epKdI8Jr6mTjSejJ0DI7WTxY6CglGvo5Q0mzK9A3JuRE6X2q/3OIxjcjivL/agVeBg93yCeMOiT8ErJ438Ecga6P4yyRrh5TFcCVJCVleqH4VP69gswdU8OyYSiNC9idY5mPpXALyJfF1QBU9cvUSoN1YFpd6ijzfKWgrZVpPfFUytS4YJF8PA80P1bSCIOfA1vehJrtgyYM3VVvQOqbKJQ/veVNypEJp3SnfRoReqirv6A9N2cjI8sfiDrPSjMEHYVGzYDXjkR7rM3zYUBmXi5CW/0J3utjRsgmKlS098YS2ELAx2gjDu73QWuMXAFKD88PLQ0ZVdPbpSTHxztfOXeQ1VeBTPf9FfkRF9gOmum19yKTy05GfH4TTkdkK276PpfqTAOCO78ZU+eWQU21RuzqT24orUor2qdrZlgatO39wGKVUa9JGUXqmq1MEkOQB+dTyZQslbckYWtqE2EgIiFUlrlSRJ+4opiAZob1kviN82MQH6sPDRLOVVSd6slhc3ELcfG1Ym9hTd6i4lJsQ5N0VssxROtZnQe3+g6w+ljyr8QjgDWLeH85il/IiF5gzDeuJ5KNmPYNd7UUlt/tOvu7Wfio4SHeW4yJr2G0YLwTTMUcC9DJq1VgH6vvwrKJcPCmF1nX2A3RKi0kF2kpH/a1y6CdP4L3zfItxAHqQTFzk1KAAEeNLH5jw4m9sY7st4Cl3F8EMx/i8wyS+v3nGo0KkQ2H9vYImLHH6K6+48Y26ZUgnZb8gvvwpTOmqQ2Iy1b5gOx7Z9m4br8AQzb2wAz1lLeHFfNaXXtJbu4QWd0PbbiblDJkr37/U8ujpx02w/9DLONobIJ1NTWb7EdHemOyCGhY7uo/xa1JVpqXoFDEb/prWu50OIP7mPeQ43zUYEKfHC8DlRwy90YitX7F4a9fPGGBOw9d0S9Y77jHVW/7ifMOneuZndomMAAAcHQZ7JRREtfx0q5AfOpIdPXyBK5dLtN/3mP5y0UwIZEotTZVIt9014qqOLRMPcRF5uAE/nkv61Cz4yhDer74E5W1DHsMa/WqGm03fqzgtAwgTiGzbovgQ9Iu4tH3zlU5b1MQ4JbZ21k5wmBYRcFlZ2U28eU55MGQxlpOX7YPDpCiyg+TTobomew2aRIjYjuIxM0MCuJxJlVzdPzSdwgsL9rI1BlYIcJVRB2QSi4fTb7oHQN74wc7veJXiu3fXf9lmJgvjj7b2wYnarrruiiO6kXO0Mpyzy/cXN3CJrYa0r/Ddv2k2NLLqr4lxW8XHbzAeXxWHq1komS5EO2N9Ytl2m2a6rLfv/GkkKuuYkY+C+YtRLNK5Bbxq2J/ZHSL2kM/1r+j2kxnaD5O4Y3ClD00krQ/UjA7ysU4EkmD+G74hy5ilh2bLTp3cVPaC5jzXuQYhaDsiSUwt8dwbohzQf9dX2YjvTZ004ko1Z87psRnABzfpJkg65igAwwkIb+LRdCFQq30hOgeFYI3EzRcP4tmS7QokrT7/fRHv7+7ZsHjxasUzzkE2XsVBFWCBhKU0BfkVu89EZXMkGB+Ih2tGmoC+4Omx7DKVqMW8BDuY3uyDm78UQiqHbv29frJ1N4AhktFZVt+AyM8xIet3Yru2OaYFDU9NG7L0ychcTyllGOME0p4KYmfq6ZD7xlcLpc/MPJ0LfKxf4LQ5xtOH8zH/Hg2CCLvVULcTZhlq4pvdf8d+ldcWGb3T49XE220I1T5LrIw7Yvk03V/WNzTh0hJSD1bJfhD/HqiUw4qOfHV1nB2ylULUJzbgwYGJkHl4XRUUqLVz7vDH2WyHOHS9z0WTmy7NHiE2aWcmUCiBJuxicaU32ex1L2RabQ4NiR0U1M8scszYfnGwTU5Vkbr0sb+/57MB8p4vVUh0Eihp46JUwr16yCV2BvpXA+hSOBVzIjah1/9rNG1/xTkS7/yU12UEql/Juby9ZmeG6dRPZ98Tc6+N/wmOxK3XTWHSBxk1HRF7FqM2dSXagOJgLfGMkk0N2liLeljKsUy5oP0al5PtoxBzLGoXsVydb3YWl3UoIEZKDNipxn16Jims3sWDMpCV1cBLMSYnxPc7D4kCyotCvf8ioO9QEIQQY+nadKvintimzRQKdej7bHsFps/iX82mayTghFLCIe0xo4kWhOurf8wziWef3jem+RD6lbfJFP3F1hy7ibwFoXaRoleafihrrEbqDDD5YlU/HtPrAvKSdtvvGQLH7S3H5/aLeeU/os0lRlB10GVYrjt6FmwoDGyzBMbUrzDNv/PH2Toj5MZPl2anBE44e1ua4KEreS3wDGL5jfia5IaCty7dmdwRuKU/7OLQc6qcpEV00qPxLNLpJ1WjereLckLfM6BC3cdjOkXkwFh2Ex562t7z/N5Vr1dOCxKFLqedTHjdoq1DU4FUFkuFqi8J1Jn5ZTJdwvquicSR06xgISPIqZh8z5Q6/KUcsapu1YGWWPIGYT1vcIq/ZeN6Da5OvhJOtAP+p7JsVkqOoXCL2eHGEHArauJ4EUummKDVmyNh1TV0eIVTLuopCRNLqwTJb2Ga6+l0p6y6Gwa48ByJ9RfBFc94bDBaEg9CFCLtbLO8ivZZtAlxdiwa8GhpxL2CrZa7AAIBMJBDJ87JFnDC1zZ3pFrdPlZZsJYmhXInjP75NcEUPg1vZOUDMellsks1aefxKtPcDLQoGCWcGaK/Py7weW2IkbJe9d9AGa1LCcOswsA3C0pvolsTBzX+kIy6PJCPsX5IzYP3l0YnjVxN/A6icpeqN6WOmZ54uyzUkrqH4nyKxUGbbz3v5MwLvekvEHOk3j7ndBsuK3YaPyq9MmsGKs532VkBjP5wbxpmQaH7I+eIwqU+h24eGHPbACDsbixf6/Y/qTp2s8Uw9vEnGPkrdUJ0lfzSyyag5T77LzPkUVG7qc5bMnm7CU7BcfhdtT3dKhBpmjfACLXt9jGGoe80iFNyaD29yomDJX/X5fzcrYPGDzwdqdAPzDtzNDz/lJFTpYaJ4W4AiTees3hrrU0EqZkgQjEqU9fOUJzlQQwTlOqRyD07OL6QHayYLe42iB3Med3r/qCHunJsG8cfbT1vi7KASns2v7Qvn+6w68SqGYa2YvHj1RVlHKPDBwtXNZydA3jVbTT8KtN79f1EMHQlnFqgkSu/DdTOrnn695Ry/vaqHxGHHEDgBG1cJuq3BA9LpkNIGqdlt0LLwru5SguKH38opF7+xcrRuSAlk/fXxxZZCGROd1FC1U22xy4dFHpXvt5fcI3Pq7Kk3NhWHuCJsVRPecI3pBZ4o5ZE0Po0z3N9RVuSDUGCXL6Oer7CnSQzXYaOHClfb+nkQs3y6EykmfAsa+NGWUKzjuPs13wfvLQrhteAAAAQ5AZ7odEn/AmN3B1x6iyRcfMQtbXHEmuC8zeacmeCqk+6wOEyEYdhcnjWltj15dlxGeXESw6dHskh1pBjM8Uw0KLYoSKBGLGBX9xkjlivsf6ufB0FcNTgSQgw85gdM5Bx73sdsT/AAADex4fqijpNz9ZUzPF2zrxfKQWKdpw64XPEF+7cvEDlpTl9XxQXAWXtMNMXBkzSfQU0iU2gm0RfDwdMr+F5AxF1jxV4B9KAPYcdJkK0Z/6bPlFEMxQpopWbxEjN63zBBCr2SyCEnTYaVB4hVPiNblg2kBlCjD7wT43+bbCoMAQ5A3wskfLCG86DsQIJfPMZBFynAeh+hUPFi3sWHdWwSrmA3s1kNz9gU3qe5fZVbmhlAf1rb4xNIgodXxkfH+DoUBJQs2wp2UTCQEx1OCJ5DaWBsuBXN4fDiLJZ2x0Vx/ewoJNw23iYmsNWVG80M0aNbUVJp1TEwm+YJ+vyGNicv5ZdGjtpp5H1s0uya+rilanSgOmBXjchQDbrCkB7VMeTHMsfGuEFXRZODW7kGfvH3zJYFoUbgaT/goSYlUsIlcQNMqTRWDFbvpeY3LNtoGRu3ggF3gL6VdN1xlq8Df3lnX28njb3Nm4Yxwhk7VA7Seki/RXvFa7vspXku1PKspR8vSG2dGOZjm0pclNu/rXV3H8OzAD7Eme8Q6pzSE39rYynFkmJ/cOBg1mOKWd5LWgu+Toc0RaVugBFTIrmdA0IZMjAVw09w+ZvjamLEq5GSnycLApTucYQUp7V4R7sOJg2OlsJ355WsAJunSOxlr5cUcpzJGkWgvup9azPOJLOBdpDYb//PCkxNR2AWJ3usg2P9SI9Fv4eIJxHWcEiTu1G+JNBpIOMNzuVUUii2y9JSVMWzAwiiluZKrJgMOXF4zEwJYMl/FKBmUdBKrEdO6v3js4QN/yowA7LVLiHXeBJFSSxYcUEI5myX01l1IjqqKccmP9cJDDOvX7XE4kubdlwFOMxZHTXgCz9A6MdSMxJASe+1KEtGM1vNDE0GgXd5ErccrB4+5KUitvbMcsFuSZHztI1saVyP2HL2igS3Wh364CXGjW1cicdgtHCdJ/agAnRDdutmLR/ZQKil/VX+4ipcCLf0S/1vRhqLiX9PkblOk3UMJVrZ/B80CpsPrK/g1AkKMCXjSQ7V+f2cvmL4tAWoPhw9DeR0tGKtivi8duvsWbWv3St5LIL66RLIcykFgGmiDakMHYz+4l/VgbZZmVp2SCuCDOuJW7JQxJ7DG7B6oXmnCQAnuU9cyFtt/RcLhpsWjLRCPVLH/5LC3RMghayj9ME+29Tecd4XQqpEoIrSEH6Ml0OGgT2zeRaHW+Gx9qs8JGO41WOtwymq1tc9o9Ha4k3vGPitoHMUUni3AY0JITpT+hlXwetmMcd7yz6WKVsJZTUvyLGL3sXkJ3FtHnJrLev6WQAABpABnupqSf8CZksg2wwPo5+LtEIk8vAsUUcjf1iBI7UGB5rWx5w/peuOq7QW19cjI7NAFkrtyb5sV/08qcyW0q/gXZraKUqasHRFrjm8jZ10jKm9n511fwZ+NINNIgz097FxRswqiB2zur1K9n5ZlcqACJ8SVYeOFqOXyyf7mjGTZxxvIfzh/hRd/u8q2OhKgf9l1kGDi63FaM04iYrNlf3OXvx1eqNoxWMgqdCqnuV/6lASntHM65A3JSRZ6u/imT/bhfLWMOtnW4jVcj6h0wPMUXVS/hfOfYwjX7W6IMxGFEW9t3u9LpIUDy+K/CnDL57r4Eqvc8zLOIWwOtzhf1a9sXRVHIb5h1Lo+3vmQDyY9PP0rhk+nGovYs6dOn+gJlFo/qiN0tYYYQfIE4/tSXEDbtuqZyLDUU7PsZRDqwb8KoATQTkTVktlpRa/pJ1VQGzuKVgh0jizDtjotr0FdbzwgO8ellcu2ZH/MmKzGekpH7l2vW/og+GCoqPSe01rjCfuE8Z8t7K/jW3g9A3QWs/uzUPncvPmw0sVDj/Gs7RIs7cz+xt0PWhTB6QHbTu2kkrurDO8LN+c7JiuuMTpSu9Sogw5yMWMc5ElH7gInTX7hDf0UKqHpAiSt5KXAybJWkwukqhNOS3sfmkYa1hK16Mr2Ktrrr8g9lhLUpy4LgfHAAvUcKWY2K6+j2FLF0PUzM+JwXwR5K1YMyYtSX7IAhR4J8iOFwV0y2+b4P/DoQGNXoS/19YVmpjtzadfzzleQRYvOW0u37Q1nmhlXHpx9dZi6WLQOZvHP/d8aCJSL052lV4N9dWOKW3RDwtvl+H6BMtwIbbCTFnGMo9wz6FGtzcnc5T9HpCVgvgxWQbXmY78+IJQYHSAVm5hkAxOgDKWz6r9ubwGQLVcnR232j5FTy/3L+7CXLdUYKR+C69XvMLscPdTTKWFQ+bkFvhWdSrYxQT1YJ9ja3I3p+7zDJVh5waKr6fappjaM/7UXNX02wkgdMTEKhYrRCc3XhS2+VBzWoz34OhloTLSfqfLJfmsVXNPywgqquZXhaWUhQfavSvjzvLdsyJrLvdk5NcR2xt6Cnq9R4GyDgupA4oxm+MDF+mHubNxW4+DwyzU8AQnGRTj6pDW88jruwH+ttnK63tBhCJr6ChtQZkhoOhysbhXGawQQYw/nX5VF+hkZ0thNYG8phmfspOusQYNx0Hc9+n/dHG8QAEgW7KddaaJnZt7NPnQ10+eVySUJaJ7cG+fg+pXVc5NOL0dIH2kiK09XeGiKk0ly6YJADoimb9PcEGZg/bYMOlU16t0t0soVF+EZr+MQ/0BaOv/HcoJgarWGyqE0AyOFMXklnf/kmbRLA7IrWi+wElRdCc/Rz1FnDWl1VlJR900twST/C290TMlzfdzzXSw3AZsAQYbuXGOBogcQMpKfpoK7MeWH5Q0zfsUPtIiI3r7Gt6KgNCQd53Vcg8gVLGvK0OAu5tvq2vb7DO7nrwIBp42cS2l+cj+6RFNPqGK0u9Q48vRx8eq/kWohZwIYATvmmT5gzEv/G815A1C1afBvemJHcH0JRErNVSc8JkeTZmQ/U4ahs3/2vo96+DDmoijOWvQu2/sz0FYVHiDm3HzllYJW9uAXOlb6tpwo5QszcA+k69B8OOfoqJZqGT2LDKkvNjOl2TohKwo8WA6STTa6f7XbMMfnMHjRpinf7Hh95S9tMELcXaFguPY5IVZqmS2a2uaXPU64W7OWvG/x1oJj4xa4upkMK2NA3UVvO8MzQu2l8hft2tn5UupeNl3IP70NlPmF1dhZeGZqhy0J3eo11Pu7KYwwG0jWzxICumAV2Nd0EBpaUM+EaXQ1W+dFbmhFb876kM2AZZQWWAl3mlx5tRanFIMoNBL3757z/w32JdGEjRko7KJS3MXn8BfZx5NdUHi1zDSaR0YWmWeh96V/vCOqDfCkEl+ulmadWqzdOtk4RvIjkrwarqZ1UBbmxdc2BSGknTsI49Zwi3Opek0rI4UPkVXOcTAilFAMFqsrrhUoiHx1gyARxY+49cBmyHsJopKTYu9mWqcFOITIF3d462oykScnWnhgDJi0GJnz8SjmmDFX3bn4DPXA53bEAgge54MAj/TZ/WRgCQrAxQrUpFxcDAzt2AlY85zFQeh7OXb0i9Gw+2fb15Rw3gWRAI4iLyUM6uQxQL7nusTWRUherG6d3ojMRiZi5GS9hzpaqo9SNqApTCDJ/70bkoizcAAAAXHQZrvSahBbJlMD//kQAZIwIoZGO0lQNWV7Psf3amArlv9n/0oOM8o2Svdiq0V/UiO8Ci+drGD38sFiVUzfG5dFSV1cIIGmlm+pO9PnIkhrz/jPryDTKj1FHS0h7HF0qUeL6nMl7PyUouhsURdJ9Er1nMaJC7RVUvD3sWvf5fdvTru5VZGO1vOYWuvJGjZ9jPUOf/uokRCG1R7xSz0aGMIadV39KGOw4SCtXgRZJq7mBQp3+doM+KOghIYGyniOWtiRdn5JTRppmM4p9jr+wGmBVjL4BYYrhXf39DUVipWY2bELNyyzZ6CQaOPy5b5YMvRn6jGh8kuOQexZkeg4Wz1j7QcTKpPBSnpEZfMXQeL5umDXUA9h/+QOj1AhJMSnpNBaZb6hR0HlxdjFjy6zmFDzYC7fRyf0mSeApwFxSiO5jGhYLwI68+dhA0qZEXOSa/w3OauKQzLJstdmAF1+5I9MlCRn6NdJzNjliw9PC2/Oygm90CyaMtWsGTh4uG+ljZPlhiyzSIcf2CXGG97rcHCqQCYkJqh6nlFWfHYmid9DBC7zohNhzIznht+KX6m3PjQHmrMfzx4UgoUTy1Tff+P/8cAaJ0cXpr0iPC9gpLZLR9J2dFyU4EqCmDrtcKxlPnF5WFtoBADZcW0Na2EjQ9cBYNGkW4S18CcU5wqciXLRiyYB6ha+gsFm00Fg6nZiUVZjsdG3tjPV/A6FAsrVEiAYScs1ZTiOq08vQpcm/pk7KDI06P1wP4MtmrYK/omyPCSTkY7q+OP6d5v6QnJ0idNPLF+cl0H3NEF3OjEYhDYbPMBgZCUXfOHKwusetTJizFB7dseOVn0q7Cb43CJPgjGc9D0QiBMDGBTrs4j0jz0x/09nuTq0zdYJf/56k1mjw0Ts8r8EwjPjOgcstgjI1iug6RI5G40PzNFQfuyB5fSV3DEM6azkgHY732XAuCAdkfBIWa5GmKyiUWWQuici+vMqHouyKzwUvfqgwRWoStv6F5vzuvx453JhFIUq9aqzMEF6XpjJmuO+wKe2orlYI36SyErYsV5COW9xTggzg/hi35rBwvBvyqkcJ64YACWJOHiOHHYySlg/bunW4MeVxGpZDlkx1e8ZE4IwTZZruhvdcB03fTBGpwIfcWxK1c7cpv7X3Galcw5IDhJAdQ9ArDaGWUrPBJKdb07U+WgbIdy1oFoQxrlHAXPsv4maPY0hxFY1hoJMQt8CrvjOb2P/7sp+bOgHwAsX7Ah57Xf7Af9MfYdd3kmg2CrEKYknrwoImiBp2bNMZtvSM+PENRBOrj+yioSdtfTAmj7Le+NQiKPLkzSKtgCbiZgPZkJrbuxD6oynoqrCyzqibgB1hGQYA8Y9CkDpYOI064vtt4YQu9laKmrcGKk7C7g5pEr2rlQAeNU4cT2scvJQYuymdxTqT50xJoDd37rAFdwHEsCdsfvUPO05Klkdag96Ix3M7hsqn1mTS1JcMHCjKNBNFxu269dHe9Se+wwuuWm0zNqCwwlRCEsaxzxyF/NcflOgX94XTotEqAAAENqV1jaeGwaVAbqu7WYNT5ON9XZ/BCZVA2OR/Pl0eHF3TT14u9sJuaM8KFrEDmsH0x9TqnqqG0Srx+YSFsb6IFqr51SsWWs81DI4BlFgYJCQmF495nAj+w0XwN2nLuil+B1eyfo6Tdxj2GD+PE9wNr8la657J16Scf6r93uOk9qmM6ynoKDHMpQy9FVZ0Xfwtyj+bl6tmpJQwVN47XqaNbPYNbzEXU8NGOc8DsRSmGPQqD8MgdxXpaMerZlN4vAqTYERqq0qSrqZ6PRlkjS2iqxx/6qp7KbQjWyh5tKAn/gB+vd3b5EeG2pjZMEufNOX+cA0EQxdaFsKdTa4bBMdzatlMgaqhOal6XZhrEhesxz1YjlRlERZxhSCYEQ8oZaA1Ml6Q0EYiHV/8Roh7sCufrIL3EqVZtUOt6rD0pjUcNuBH3wAAAFmUGfDUUVLX8dKuQHzqSHT18gSuXS7T7g7rw3DdKd/BeylUMCafuvc8syuMfT5FQw/mnfFkYxfx8L3AxBHXa4D9C1yOdAk/zBPOp5Wlhj8hs8GR10JcTb09QPU/7q0pnHQB+lgGPyPJ/2+vlYHrIlcvIrS9y/78S3xt8Rb3MDtNE30gzcYQstoQnrzcm2cxAUFJzDv/oHXgkqWI4VC9ZgDbtZLha3hXRFHXa4OtwBMxP6eERzNXpsZ8FJQ/+DHHH+3UeEgnSPM8vIh4GTqgALB0GBO0ziroGvAg7NSuom+QSAilNtHt1Ia9QesDDmRBToKxyo7DiXlrYepwpFjI/p2R4QBJwLF+PszJcn6RvIKaHlfXGOwJc30XDl/0wTlkZOdF8TyuyhRwychM+5uWiTMRLsw2ov/GX6q/fTWQitlP55JsPf8U1oal5rEoEvAQEMs8FKpJ2iWQ0LxowXdpK3E/BRbgJnnVfPZewqc4Zv31FeHkWd5SZ9Rjj1BgPSClT9A/K9PNNa92iGIdfWLt103QaLxWxBVa8a2gvl/Q0tjiU7Dxmnq5VfmsIvY4zB2+FlHiCK+VtgkBwkPWdypZe8DBx/1D/YT/U1uDoWXrHN2z3jvNYIJxBBc6Bq2azBiN3aTPcARjCO5htj/GJ10H8JD2J7z41ihrrxXwdAyPkjATCBFBtlFuBIdkuDrCJv2fC2RA92z5SsNNelSZ7X3JUKxp7pW/qYrAoKeTqKcGkWkZ0padBa0bJ+4fcWqRZxdMHX+KrfYpf/fug3yw1e1shggloUYxiBVlWDebnGrqLXOPqPhOZeNo/I94OmC01xMRSkzu0YWtzggoRCZKpnarOGf7QrqxW72grNOyXFTEigQEQZiI4z5pEqyJFN/4oWCG4v7OHARedK2UKqhy/vR9KB00U3e+wYxoq/UxlohLl7GqnGSy7prQhCovvyiQxopjUH0OTRLcsAZk4wpwptdwBaZ5/aDCZnzrLf5gv/k4lVbWO35lqunxqQ3K1S7fLZEAXsXi5QXNxLLqBL97joVqWoO84oiRXacWI4NDXrk5Uu0OnQE5gAlzl5tTP6cpMj796d0Jt4OEERSNK8RXpcv7xSzaPrLQiJFcHrQ/oElcJCB5nlfX55g1+KtJS++VdD0YN1koWb7PvRoZtpcDmcVLyJNyz3Nweh9aatFe3f0iUQlIyLKBKqBtSe5lpSJstvFkqfNaR8+3Cm38HNEE/GIYHm2U3is3wcpCsKh0eiCWCnSvTMkiccYX+aYDyriA4iu6doHN6+YWIeyGSo4Dx/HiQMlu/t079QzsVaHJIDG69LS3+znt0jp6OLAxmze0YFn6NX+MYHomk73qHEvl6WzQx+uByWFD5ZrHFG94QV9NaKIiVd6sCoFWt0KkbDtmqi7SiE4ta8vcKQFrXIm94T9j8qs/3tmIlxg0leXzLWJ0uM3Z2zjMm+DWMpZA6EQi+52TdEffkoSS9zchBwGWqgznB5eD8UEdPPvYNp7Mm1Kb/j9gudA0dNCO8MZYuZsK8fCiWqhZNXx3OsIhAn9lsHopQDRCnGIGwAv9V0UQYpivIWhpzIAFQBmao9YeH3FLkcT6zPlkbq7d6SHwawgGwTYjAaaRGlarX++pKatHM3BXY0dXZ5WXFsmYyDJZSuj3Lh1OQqXaNXcfGaktZXUJN0KBEisC/4L7YssypqEagpmW/c/PiGGrFPBnVfNE3/nSIYs32eJL6TX7WVuxhUQeXpvSvlWaM/aO8w7Z2DhodEPc5123byxrkG3HQ/8bhFJHZWOXZsfsMxGZxpKz6sCZNH3eSh8nJnEbFORjlYJSrIO+cRhXOfAra6kUOO1ReGKvmQgciZqnylwMDyJPLT6I2EyBJdmlA9Z6cBoFkxx2Hzy29QAuxzunKTqYqD5x0xAAADzwGfLHRJ/wK87qLrM4cTBjkETBSdIhXSG31fZcGdowcjSl6yABIjrFkp0Sxv8DBwsedGuIp0XQUZOmtvW2O4dUghyHKtfFf8+Xo5voTFJQdVh/CdL8ZkICAl0QZi2YhT1BCTKoZglSJ4xngxX3Ki95+hI8FFpJQHLs41iwn0vq790oYNGPrBN9RSdTSUsloyU3yNjAfcJMly1efi5Fw2X/Ot6ovxM4EVG/wYlC1l/snyAoQOhZnafjOgsdH+Y/joUlGGL2jQdrek/HDqfnQpBHhR3EsvQ2cDAnwxHoiqRsEYvTdjvFx3Lonn0EQibkzaTp40x21hnPxMVGpIEgagKgUt7tHwHBheTzWpONl5SiXPZ+GdxuTnm5r6nZTY0GI4ckqo9u/h2fYTRXJXTRGNAs+MKaDk7n5bf1NUE3O4Liuv1dCYdYhMn0ZGj55YNBalof/LBGIMLrZXtIuhnKDi8VwmRNastbHmYMULGX4vpiq3fCjeScdWqUINbHCbq7qF0WHdpq9mf4HJM/dPC+4Sm4IXMG7OeKMXEwvsoAVOnZbTySPCsCxPIaKWmt5mvQt0mGXaL1q6uFEIAXQTt+7Pqo33delyohO+YbTSruL/XKgZyrHzLfg89Z3LhbX5Z9csGFxYtc7Xs3DoHOmqVFys1YEbanTv8kOc/PRMExQEvrS2zcWAc2m+2bxVQD/X3gMIUsjhFPLL6OBMmNBO91RGdUTHyi63Xpso9n6Ed1DfgrDmc7lRMvbJxNj2FhnW2fRYC90a6m/sTh3oX9OcZuhTi3OXiaNx7HWAxndKsKTqS2LUz8tI7QtuVJg1kUG84O7N3VXJNJvI03/Gfn2J8R0850O1oI7skLHasIQKLYkwM72fp0bV7dtDxO68uy1O07UfoY6Tc2Q8TdOYiqv1jpXFlpBklqMGdbPn7YkY4Zh+VxC7VR8YpRvCPGsceTnAOgFLz8Wtrn2mSV+seM1CB4NQKh3cimJsPlFwXb6jFN5ueiXiAQxsI0usW1wn6FS/Q9k4MVZazykPrpvApX/Qt5Suwc+lutB49v+Elk2O4VfwAyCIS0Qb4vUGWq+WJ5M3W95JPFZrX9WH2gfHcc/3SBAF5iD8S6dh2LwiVXYLKqBYCwbeNPUskV0+tfc8rjVTrsEdzBVpIGVlK012Y4aL/SBdmNdIcEeyL3/AtDR4t2a4uVYPgiXH4lvV26Hxv/sEfsHmm3MTWgn5P9+TcGdLrVSCmfKmFzGUeWP1asPRTMwj7STHGnO6aC7ylO+EGToaFY/57kuFxMjgUTYZgu8luTJcwQAAA40Bny5qSf8CZkP7aPKNzDNKA1MSvTgAF/AysOocQaQV2kfysLYGuJsvaddl7Me+1t1/4plzJ0TqhGZP6aQSvQUoK98rLhkEEQsIML6ZLmWVUw08uKMr5UcNo45zfrOgg/FCIGV2kb8o7V0FRpHqJbcB+tTayGZIa4VhqJhzlfkLXOafEqT4pcjp15rr9A65X8/i7Zm6t3uOsu/aXgNN4+RXrDxTYEj3jx08SPhPtO2LeJI7E5HvkuAokLBssmgcUq5RlyZdd2GQC6eVHgumIk5QTSxM3c4jaByNDgbXL8PMyHRRx8YwcAJtMmVBCty46ltICz8kP05PjeC5r8K3nEptgJa1uCwr8sF1UA5dRsO1MKowWHIxt3rMBSjmfGFRD41uOVcArf3v9nQClCXNbccNjAQB5B1I2vur7c0VUPoU9/CZMA9OLHfVtgjbmW74q2Po1L5LMaeZtoHdwrtKCEYTfI9jCO2F8KRrUXxbm0KBjk+mK3hdB2PZXhvpuHmNizGXazsTlau0qJqgLKjthEeH+HkxdUWgfLZTj7pFeA8l4nwmEtbU+V3VU5hA+TgLnWruzsMcxqkMNJkhlkPmBlfx2Az5y4OjcTWuuwp5uVoeSOKa4ilwpELlc5dNTfdKFUULV6nUDDTfHLxxMZ545/5Wz+4kaJjbWbIYOlhcxlX2asqdiPOeiAliL3I3enwB4T5D1Dta2Kc2cOG7f7/HO5Je6rEkoOkxkrjGRQq3up7MrH6xM2qVTTj0iFSvSwAXdcAP2DRlmobx3hH0ZmsQfDGRMh+kzjgB825jdScbKK67e5Zg4seY1Z62MHRZzgOCTYHlixnnU2KfuNPKYixnReZA6IOV89gccapRTeAEKiXiJjbl8rcCCaMyn7GC8sBnFkWmcP6rxzQU1D3Fw7xNj61YU+FN71JNpz3jlj2QrHLUsFo20c/+hYI9+pdHpWQk/aOHJr7x4YXPbnkWa4w5eDn/MNGY1WlyUDR1Q8KVWJu1qrD2x0IOylqMLmqO2NQOR4DakM/uzMKiTTEzEP6pHcir3D8//fbOT4KSjWfGF0L7OkmxVufDYuW6I59AAXGeOSsgSxvl8GfePOYliT5q9PUKC6dNK9kFS2iAKGWWhz8gL+7PTrQv6CtYFrG51qEizS+mcgrKc30CINNVbViN7f8ZUr7uxmjACH9DTgLVF1W0C0HzttpZnDzIFzR5C+EAAASkQZszSahBbJlMD//kQAYkPFGu724iD8EQdnttTg8fJ/GTA91mYYUzLsEM0f0GNyl46x3D317Cl/nHGlD/Z8noIlEQ74Xa2KEM1QA2jIDHr2xQu7FDWDNPKq3bvLxRd+HpjnOhm+MSaKfGbLs2M+FLLop20JUxcnWnVdk204+Nn2+JGxannX6gJZ9jrVaLvnznbJlkCIt/3ghYr6RKb01bIjJghJdAVuI0qjl4RpsQhta9PebtWgRehlRAJMG/ZoG4Gob0xBLhls/xA+Dhr25VXSsUfd+37IxjWKC7z0KE75nwjSiHzEemGAyROlGeQ8IiDBUoGKnj1mUGuWyN9+qrP96gmRUSlma7m9skWxR3SNa3zQyVN0oiirMe9xpRYEmfzmxN5/5rb8ZGSoL528HW3obMCkiGSmGFpk4MD72+PV7EiJUwKGp7J3Uq3zOorrvtUBBKVETDNMPEmEe6wdN+tSgYRbAkhAUQwc8wrzHDGWKJce9dpWfdGgD7YpW0v5vgnOMHhWVR3pzM1XG5tixiiHOEnRIzknsAFMMgzIq7T5YfDYCmEobCgukeaq+7Qk49cXBplBAzYlt9u6lelpTQHkEUpRDZfDtyg3lmnjAdlxYzCRE8vVq109UNfy6fBb7eTtvbbbETFVpqLU//j/5VEXD78g/Rq/hCXZYn+IOUsDwJJ2jXduYb2lzDZCG0rY/JHNAxM5BjWaXdubvnckuLSuH3oqI5dPZcQYH5Jc7TcVS9/clYGYHXkJXkHwqpb3RyJeJVAMrPamFRxH8R1bKDiB/npID8QOOiL9GibJy4QRGHqxMRsPGZTliPZTji6ESI+Vq9dGiDKRJd1b3fj0HQ4mvtPCMlcKGF/29rNCNvCnqpcuKAiJ5idjklpy2ItfBeBMtnDOegaTQXnvmeZBY2QPdcDSNgq4NfFhuy8+8jm5uc/HvMaww9hR3wYPT0mOnQsVSnX5wbNA2KPL8RNnh0Ew9pNYXP/g93Aon3P9zkPm0vlL8MaCx+84XwmwPQsapwtJ5pcxhrsC/HdQlI7roOebGFqOlxfRIWeSy3kWC6JldZqAvS0Ur9jUgmIslGvC0bp4/d0SCBZzK5+pArqpngRGBDwWh2vbxB1INTUmeFKlJebwCPNDDJsGWnXdFK/tHYCFHjHzrBn1iLkSD/eZ4UvK+DQJfuVVQ7Cbx+7jd6ZGSHbsL0HFSJ/0kzLBs8FSvYy+Z72JdJqgbD2TClKCJrsiLaL2DMXhgW6Y4V1U/8eCoGKASzi6GNzojJpOYEfNGfmnsaxP80pH6X3o1+sbUByE3p8WSoHFrbEuHnbMgX6GQOxSC8Quw7Tu/kJ4vntFSsITBvKbJx7IKzoZr0uz7zfNoO1avFlImQw7yRsX4V25fBfTngiB2hj+A+gD4UArAABytMDo/CfSb801Y8sr4o4EUepwL2YrZhqsk9Yqkrjqo35BmzJEU/ncUghOImqRi7SbVp1oF102xagcs/QgA8ZQNW09ZCFcdbY0Qgp8kcPqlAzoULXNy3wnljo5W+qmq+tCJKb3cziiF4Bys67X7RFRHrgODAYqKWq/Io8GTnpCrk6PiQAAADUkGfUUUVLX8dKuQHzqSHT18gSuXS7Thi5kjF8vDlH7hV/oTMPH24j+DwUo0iRG6FU1FoZ+iy4yRDm3/RL93z70jYcUWhRbKjFb7ONkEp6Qygv0gO5Ifc89BLf0pxqCgMRS66CVFKUR6RUFhR07vyJx6E4+9fDwPPuIdT8oiF8aape77RBmdwzH/piY97QGflg5bK2c8kxx/W7mSZPAtqLX4a8lKNzTMmu9q1oauM491avNDRHRhnSNMa9szlWSVzcRgg2lx01u4jWz/OyFpiuPgSSkdh51jnACx1hQ99EGV1otGLe2Rx8Xx5rd8O93cCD1eO0Zq6UN4qawIl2uH7GMf5roMeEGRFnB7fY7ylTONXLqGtllctKipuctoTu0wzaJMIQuahQB5/TXeF3M8b3+qb4rY/YH7PAqxYpUKNr8NFsYFO5pJnL337vcEIVmVJztKLzcUUf1BxD4UBdAupliM6HVp93qWDpOPxHubJ610FJU3R3c6WXc6aameW35yPFjis1EIBSw/5Jj2lnTEYyR/pHeiSiKJO3G2x6FanybHmLzdIzEqz9opRygWbNJ0Qzjq63AXXZp/NHQf9xU7WzAqoCM+mJuAyDHwBT/lvk8u/OEDFTHc6cJ1xhnZ1WPGxDHvy8pDE9hZN1C/A4spz67YlJbA+99i9nCDB7sYwEKau+SR4PKIu75FC9YzPMLPlHQkSxaigN3eFhzNVWUkGlVVQgrZcijT4DjFfv9vUTQo8nz4NMSFcXsc86JlSqHDoaqohrcx4C94fYlrcXlxwP9BWizT4LGdkWLEB7xiFlMPlTGTMJecrOzx5hhId4DIKSEXrPnrvksJjU6RE37y80XaVh0Fc/BvtSCeD1BLIOd2al8M2maNP/CGYGN1x+qH4u5g8n0ZGJP7t2G1ZBxyi01gDjUWo8LXL3zYablBpS8g6TAa0HtMsQfbArTVDHeCNsTw8RLZfKBaV6lS7dxSQ0CMhxWWDbqGko/fnT7P2f1UFlj0vAuHJDtOlOAj/4QCbv7/vu6poX4FGXm777wKQPS82HsTonGk0UdBlPp3JHteMgwiuhA1wAfI3mH8RVGg89LXT7mxoQxF1csWQRTwKbByPcqyoig+59bdpZUvkfHfw1oAAAAMGAZ9wdEn/AmNsrnO6k4CVFA6lO9zPXTyUl3SLvz+g3RfJLwcSAnoHc948XvVms6rwusTMNWmxX9YkFXpiUHN868EW50bcyoHI+Ek01yf0fdRL9MTqj4791GEi+3J1w8xBc/RKA5U7NWxSQWjn6CjmRdkRBhLb81ndlSfwiACM0ijB3sK1WimfxOMLMeLge7RX9yb7KJhybdHCySiTS/ETjUKMRxAoUxtqe4u3LKOeDMDNEhQMUnMHp+MbA1rwAugrOL4fYOilBOlBCxPg0wWBfT07tK5DugHz52Ohtel9GcoLuudTkAJQICLl/wian8KrNSa7F901LUu/Vn6IyI+n2SCoc31sR23mnM7fVMs1dPYBrz9We7x6/rU/0FXmcAcznAY+tg7To5ALpm8kPjnf66Zv686k4Y464qKioAB2W3WyRLFGRQh9ICpDuOkMzf19VsYdC3U2dZPoChvv7lzZNzJnRb+k6Fgl1mmVhQbeLFV5DVVq6Wq+cMB6SmzTgXI/rs4pG+g9VhQ8dB5hdDixOfr7AX39a8c6ltoIDe082FgDKLbHiLS2mPibrBg12za0ykD8QhBnDORvUACv9EDct6vhJ7Ubjt6W7tNgVlvn8d2L+7uBHotiTBHY17LfSlMI+Xtxq7Eb0huaLDTY2pavRx53vVHhBuw15MZXTh7vhrrjBO8AFXYr6iNvEW6NdJhRVLzkZRQNLE7Kbqrwf6XlmeISUWO5J7FOZTiTEysNVW5Oz7OYKbGF+t9dLTTc1FvZjeS/MToYthkg2p6fVS8qB1s5N/x/9vXheD20vxlP/2sCI6zsdfRPkHuELBtgkb7eA3ska1//QGi8fxkAW8w+iXXpC7yKuwBMrm7djvsZ098vS6rhrVHXf5bufEyZKRwVHf5dKXeE6zPuc3p+XXNTUC/B2i1PmPyAqckgKd61BQ9mLpzRrNdVbY1C2L7DYmKU00cVe/9tSTcuMoyLSNkZTUSisYMadqyzSfHR+ANtQkBcnTcnH8YyC83o53MLw73s62f1pPM7AAACHgGfcmpJ/wJmQrCSmrsXz785sJ6Ui845D4T3tAe7spggbpSyN7FIVB+UL2PDbObRg63GlKzylpaorGmn3y33Dbtv20E4Ik3R5pPmV14XbATS+fzzG1UGtSnuYDz/Y3f7jyY/tmFEWCmJG5hoh2YTdO635q7BZS8XaUpgwmoyxFC647ZlBOAEuDZKqOyQbkD3AS2CqNuB07ectRwSJto74+y/nTramw5RSVALJAa29MFKcapR+7UN5qUEox5rg9shTILY3zL9/ISvLBTDjR3ekpTAtgz/s3lTr+daVLWq6p1mzlGQvqnjAu+JFrG5OAub0QwabCoUw458XW2hkNJa5FspUjrdZBHutZj4LTGTBXIs3cs1XkSJumQexdEH0yXyjk/iOlZk/G+I/np/no2PXwhSZjX7GzL9AI3+GVoPRS9Mp3QbmgNrCtiiWXhl2u6cOesJpKTzhaM62kkUEWgFi8YZM96LKRflOyttY6R2a4N8pHGx96VHN+L7t9zK/XZjg/3+KJWaHCKs6SAiW94l8axpUz2r39bMhDIbTsCWplAU9KBhTKO2lCPjr/UzkWhKWOkHrVzUq+6DMZNDIZLBoeOJ/PPhB7UVqa8Bh35KxlSnYsDpjGdIICRVMZfcozf3V8vbauZZUDenAUXm/mtVoD89qK5PBQeZogZhrMh57s25Z8eSC0fu00sU0QouFtfS9GVIWT+Tw3TrlXRkMcXgAAAD00Gbd0moQWyZTA//5EACK6dfDx1Dbytf0FWe+5Gj/MBD4AA/O3QV06M+Ngzvi1R1PuS0K96y+7y7XSIifULlOyj4WwTat4nv9P8UpWNeL3mTuLIMfq/NQ8cE7xLHm2Pjgs2EEjDW5m0jAVqMHxuGk4ZGOfYyDnL0esf9rkRsAbxsq8YIgdxQh9jx7VWY+W25Iv5v92r7hwRJSe/xk4H/qpwRZbYnux/ofFdbsb+L3IjuQrMFAm5+cwEPouAgVbw/2h1B6J53Q5TiVR3V6GMvcUA+t77OjE10/DKAxJPPZnMl0fTee6ArppNrwdZQ1yVboeq2MlwjyYvKKFooEcnD8T0uC8aMgakrVJBTM+EtdaDQcKKPNgX+Z8YspXvPohJ5qO+IJHEUxn6WH3EK3bGmsDhT2+6w0k0yp44Uy4IkMtvps2Na29dw/42n38oGSm3EGkLHuiDzRauCYwyVaWD6ER9rYTRSN3HfvifCw21bpfjKsQxGaekS3kGK3DMPQ6u9JITwlooaGKx+KW21WnfBGRUFHBD05oR8OvtnmLbOfIl9KSV9+FG4oMpedfXslRPnvVrlw1WhTmbZXn7dHy2hRqAPfuHDD51k/rGBnSLTjQdtOsc7x399eDSCiovqKBybOz6WsV0+18tpwsEwDk7/kUAYwRYkIPWr96WMV/G0wAKKLSqlTb7cB+9lqIN+aNpw0XVcFLb7bAKpj+SBBVXEc45X7kaJEVCrUd4i5PYKmDFQ200xkVwX79Ic4ZQxMObJxVsmZK6+F045GRCuJyNQZKW+QIiMOmIChj5gy+pDktZx6BZIJSbjHeiY+Xz1nzkjIWBXWHuaPG2yV+42HFh3tBs/nrVuWmu1FEpMfIWssQa7PmVE6fiuQcpqwtnXLOS0Mwv+1Mij/125An3AuZU54O/ykorSLVdPcBsY4+J5kR6cVlXaQepJE2y+gMSrmi4iqYgqEkiSu7AVOdxGFwFA4AJE4txDPqUoZWVbFthxFxI+D+em0EUCqTg2S1dIqCAdajpK2aFMuN99hODwtgnAn1eMxtXudsAATtu1AKVFSLsYIe2HRhcrioY5daaD2ntl7a5GKNq3YCWv2HrDC47uZnluBVK1EeOejyUahkl70kqRG57NrIoBwzFMo05lTLZs5K98+BB9ipLNgTzxzvVw9fUu1QkkY8dYGDlFPxwNh2jU9Gxsbyb43pGrdeqP5+IZnn0Az+pTLhQNCHQy3+R/3h7IA6o3vhdDiiGFFKzIDXFFuCRZMc1Mrax6QJCLErlB0N1pJB3FKLqPCE5qKLnQe8T1HZAAAAKfQZ+VRRUtfx0q5AfOpIdPXyBK5dLtOGLmSMXUbVMDyx7v3ahkRkz5e0g+2teZmgvbvUgRXMz6fEmPF4zWAOsmR4dCKVo4SqX2ThX3ubPI+b+Xvybldcc133PFdP36AkNxE3EBi0IDiEdGyO9fjOLD/2Zz6BUKKKgvscsjzrK6BTUWqbD4OHe4PPCvx/fMyIYQWlhv5zZk++Yn5TKlb5YMt3cs03l7Y2GDVtBEV+vSWjbZXz29/h0R/a0LtnbUo4UlH309WLPsh+PHu8a6Y8CTnG3OZsHVFAAwApNO0WMpPSVzNUsc9Vl3y5EdIN4gUlzddGPkbYJ42IHH8fChKVLjvnilBbvk041o7a8H9ypXt7378cW3pK17IbG23hig1CN/B9Y5KOaYHs+csz9CcC2gCdxVzUP8Pasy+bq9vuut5PM8Y8KQyHveklf54cIj38QiDhtBfkTGEkaC/GKrhtYOUeF17nyAsA9Fj/pviI1kigzZFv2kzWqee8qJUAw5vKEkDVyiUP16BMl4yHehq/0snQWeO9bypasDD413tGzMiJmzk4m/D3aRnAH15QQdc1U2C3jkN4Y0/A90Ki+/0XkYz2tPAUwPtGoDyK0HyCAHrep7mf+fou/bkEk1AKe7+z0BMDMNFdsB3hik/zRHqldzbs0UGsCrV5ZQ2usqzK+0uVtgZf2zpWzBkW4+Rxcf1Nx1KTEhdRn9+KwC7wP/LNmT7uWQp74+APGQuk+z8VkfA2PJfmfw8xwsgUyM5qDHSzmuaStc3Z/Hw8KQP9wCfFHffdT9Mbjl3DhqInNzKPCW5zzaKd3DxBT35d/CJX7AEMkWXeKEFadj2xT6VAaRE6h5+sxP4oiwJqR6lazfRxilkWXmc+XAQMe0DG9QrJReD+EAAAJ8AZ+0dEn/AmNp6ifQSpt6Bh0kC/VnDXzgoJOP8NYhEZApVXJWNp1g0A31ixalei4LfWkU5ZjmZDFoE9n5MKKpaQOu9iMtXsdO5ibYR3y/iZVA8HRBKWA33aoG5vRy123upkjaeMWhF62FIqadc32I9z21J9dkEcFrwIDAbhRNAI5rHYwauJsS+UbXxMpx6//pC4Q7X5TlsjArHk4TjEYkfGUEZAj160Pq2uephIM4i8C/TxY9MAhVvknMA4HTCX3bjumYjkt16di3Ja7Yhs9Hp8wB9vXitkV9aAMiZjPYyvquDsmfDx+7L+xDPJi1STVxUHIcv+UcZXNu/7QmOnMNsfuM4815Ys6gI23n5+UyZn+S/ApBRq7ERyRLbX3UgVNTsyTQn5Q/UDd29aXRiDMyxnfvQd0xlAjLgOARx98RGlghlZqnz/ugnwABDAVJzI3wR0POGFRLn5ym4KG+xIFLI7F/uM8h5m8Wm/uxEBm47fGMdIGHSM8oLkKFHT5X/s+wzSuh0t+cFX473a2/DYFCHX39QPzIbRqfbgR0kt1eGLiXarMyQ+fxc3PT2QPb3X1dOeObs/7OYJPHoF+DzLhfPpFgU1+AMgNCug4MflDRiRb8JS6WdhgRhrO08T8/A5OcrKVCJkF8VVvQ2Gz84DMNLYHkveh9y4fGt/jCu4nhMES7rKLlco7vMGTnmv6rAdwFz6qySQLAVnYSvjaxy6LIYkaSOrKZ0KjVdWHWM1tP3At4go1FSLw9601j7mfyhq6Wu8sXquSAPMeD3TeqJrjh/tK6pDKTylohqBdq19cmld7xLPq+NrWMGGy14ONgnerLtbKGelC/Ey+qQr3QAAABHQGftmpJ/wJmQe+AY9x8nkc4VL0mc8TDOFfSksVXmDywDkSo4f19uFR7p76qF/WkU4DCJ4SvcEY9MuzQoM1WhSN50ugoa4A+XljihaewXhOfQNxzjvhAG7uDvLd8A8DntmQc/mV7pPtxMIM74r3Kpd0jDVB47kMRNRjmL51aaoXoGOZ8twb8s0sVFv05wg3+52dXiCk1Qw8r2/OaUi2ywIZGnE03+LDJKiTBUygouurhgmZBvXNPRJOaeWuBZgJ0NasxgDdjcPGAJfWHsBfcvJHvVzHAfkzPg5DhYXtpCZBdg/0TOzRfj0Z+u+qXdKyYCqF7WMAJRecyfj81rMYjcZ0jl6SLSLPfcZeNLzUcSDYl+pCWo5mb/eY/cyt74wAAAXtBm7tJqEFsmUwP/+RAAhIXy9uboG+pV7C/giei0wUFW1e/6NgPPNX/PoItCNf1FJnvDFdZ/iZandoviHEm4ZD/1VG8t4WeWwZwY68lGSb43IOBSBA59qdSjB1lU0Ze4Qx3W8dxZEJsfiIPFLUsqsouI9KOMzsr049DhfuRe52pSdid+FIeRGZkH5N24EU0BTtHn3kCjtcxqQC1Xe0wiON/RIIW3ugZw3GzJSOlP32mRF9bv+7PNSL1XkE9cA6KFIgZiSLPpXA0GZ14rA9AXYffdoZZCC9tQEfciWM+jC4ALDqFIVoQAbQqVhdMbvXCBxR1Z3hpvKLBwloxSEeH92UFZ4RMtx9zFvKS2A7VhAT4O3hGFzzRCSgQ8hvyfC/fIdIjg1KkAuEJ8B8oENRCQ3xSnuXXzHcmF6fGyy3FyKgJR43pf2NaMTU4yy30ykYlCO5E3i73HRgjTg1hUo6AAE0BV4oHG2R+38YWXPJmVnD8U9UugBccsk62XwjBAAAAh0Gf2UUVLX8dKuQHzqSHT18gSuXS7Thi5kjF1G1Sksqgn0a7YnxlM9K7qE43/f2ytIel+Vu8QHDB8Y/k1vxpQYZur6j2ZLL0EeBFQN0An2Xp+62uYdQhS0JV9PeCdxAnPYgOLz+Qb/YLgG9JRFw/sYLxOcTpHQRS+71s1f1qlmlUkzqhDGgQiwAAAEABn/h0Sf8CY2m/EPnASAH5YZ5IJbMbWfcFMgED36kj4cj1IXtbcKBf5chrZ8BYJdlMRZ8gVK+XJ3JLcITTz9GxAAAAIgGf+mpJ/wJmQgtqogkB3IOHsEP+gBgYRlq9wF36SJzzX30AAACKQZv9SahBbJlMFE//5EACGouK+5I80dU5aenXZQpQfHGS2fsAKc7gtD2PeKAHjqcCv8z67mAJ0JFQgksOmop0mVAZO0A6JV6AcBXasbLEioYiYlGDO+vsrtpOUE6o/3h/xvpKuNAU1w/KFYF3X6y90/cyvoqjaq5TaXIyPXDB3kC6gsLU+AHkFWDBAAAANwGeHGpJ/yAoFky+aBQwWjUx3NMvyUywkO0VBWFoHquwE60xEjBqQeRLWToTfNJIHFsY2So1Uf0AAAFbQZoBSeEKUmUwP+RAAhkdg0aijRz97LK5BLQ1nN6DlBLCdVcKOoEeUpX+WmSzaiCkRC83yJiQbp+cSQxJREPrsC80yMMPpbG82wlN+lG14xCjAVBTsicDDw5J/aIW+Nu3ynz0kAclXJKjcpUqZuZ0QwrBwhq8A0Sy5Ufbm6XXglobxmzk0M5XsjCfNC6PklPNPEoT66z7FM3Wxz0Pv6nkdCXpMDbBymd0HPmrBXXicCHeELDbuEUCwHnvbjG54b/CRvdT4zHD8Cx8QG/KIynRZrHDFX4Bq7Sy1qfpKwPxW4DTC5agWQD3Me9QAW2YP8UPvecmYX4D0CteSE/aD6ij4SEVmap6ZkYhjF0bOYBvNIpTfsRh/plcr3a+ZoH/UB46ejLMytO8+XLCi5wJv8xDC/mQwHtEqkTwwaUBtxLpBIzg4F0xqo3oEB6xYcDoJJtwSs0mYPsBfbJwfXAAAABnQZ4/RTRNfx0q5AfOpIdPXyBK5dLtOGumwFA1G1SY22pkGObMwODn/Eg+aUOFTMaqhMAbhxmBUv+UwHh3lbh6SqHcigFOp6WF0b2oGGUcjmvqMm41v7LzBv6qvz/sPYrncsi7kPIxSAAAACwBnl50Sf8CY2naa9WjUCwNhjX8T/fc7SXRQ0+2ZBdR6yLZOBwOXeSowZJpPQAAACABnkBqSf8CZkHvRhbTTJp1RMpXxaIrBD3GBVxTgi1vwAAAAB5BmkVJqEFomUwP/+RAAUsGqjaFSCjuCghFnvrGw6cAAAAxQZ5jRREtfx0q5AfOpIdPXyBK5dLtOGLmSMXUbUzNvAVndysqAiRC3/RLRV2vZ00rOAAAABIBnoJ0Sf8CY2kWPVrJOLibKKEAAAAOAZ6Eakn/AmZAkZcDXmEAAABHQZqISahBbJlMD//kQAEsp+xqF19tWKZIj+tKzqdQgT4kr8lxNyRBq9eV3LJ2ABEsklIwPnPq5D0qfEeaz+vYJWyG9nZbZXMAAAArQZ6mRRUtfx0q5AfOpIdPXyBK5dLtOGLmSMXUbUyaS0j+/+uum8MmGDoWIQAAAA4BnsdqSf8CZkCW+wYqNAAABQ5tb292AAAAbG12aGQAAAAAAAAAAAAAAAAAAAPoAAAIAgABAAABAAAAAAAAAAAAAAAAAQAAAAAAAAAAAAAAAAAAAAEAAAAAAAAAAAAAAAAAAEAAAAAAAAAAAAAAAAAAAAAAAAAAAAAAAAAAAAAAAAACAAAEOHRyYWsAAABcdGtoZAAAAAMAAAAAAAAAAAAAAAEAAAAAAAAIAgAAAAAAAAAAAAAAAAAAAAAAAQAAAAAAAAAAAAAAAAAAAAEAAAAAAAAAAAAAAAAAAEAAAAABQAAAAPAAAAAAACRlZHRzAAAAHGVsc3QAAAAAAAAAAQAACAIAAAQAAAEAAAAAA7BtZGlhAAAAIG1kaGQAAAAAAAAAAAAAAAAAACgAAABSAFXEAAAAAAAtaGRscgAAAAAAAAAAdmlkZQAAAAAAAAAAAAAAAFZpZGVvSGFuZGxlcgAAAANbbWluZgAAABR2bWhkAAAAAQAAAAAAAAAAAAAAJGRpbmYAAAAcZHJlZgAAAAAAAAABAAAADHVybCAAAAABAAADG3N0YmwAAACvc3RzZAAAAAAAAAABAAAAn2F2YzEAAAAAAAAAAQAAAAAAAAAAAAAAAAAAAAABQADwAEgAAABIAAAAAAAAAAEVTGF2YzYwLjMxLjEwMiBsaWJ4MjY0AAAAAAAAAAAAAAAY//8AAAA1YXZjQwFkAAz/4QAYZ2QADKzZQUH6EAAAAwAQAAADAoDxQplgAQAGaOvhssiw/fj4AAAAABRidHJ0AAAAAAAB/aYAAf2mAAAAGHN0dHMAAAAAAAAAAQAAACkAAAIAAAAAFHN0c3MAAAAAAAAAAQAAAAEAAAFQY3R0cwAAAAAAAAAoAAAAAQAABAAAAAABAAAGAAAAAAEAAAIAAAAAAQAABAAAAAABAAAKAAAAAAEAAAQAAAAAAQAAAAAAAAABAAACAAAAAAEAAAoAAAAAAQAABAAAAAABAAAAAAAAAAEAAAIAAAAAAQAACgAAAAABAAAEAAAAAAEAAAAAAAAAAQAAAgAAAAABAAAKAAAAAAEAAAQAAAAAAQAAAAAAAAABAAACAAAAAAEAAAoAAAAAAQAABAAAAAABAAAAAAAAAAEAAAIAAAAAAQAACgAAAAABAAAEAAAAAAEAAAAAAAAAAQAAAgAAAAABAAAGAAAAAAEAAAIAAAAAAQAACgAAAAABAAAEAAAAAAEAAAAAAAAAAQAAAgAAAAABAAAKAAAAAAEAAAQAAAAAAQAAAAAAAAABAAACAAAAAAEAAAgAAAAAAgAAAgAAAAAcc3RzYwAAAAAAAAABAAAAAQAAACkAAAABAAAAuHN0c3oAAAAAAAAAAAAAACkAAA3xAAAEVAAAALAAAAX8AAAJNgAACFAAAAZKAAAFwAAACcUAAAcLAAAEPQAABpQAAAXLAAAFnQAAA9MAAAORAAAEqAAAA1YAAAMKAAACIgAAA9cAAAKjAAACgAAAASEAAAF/AAAAiwAAAEQAAAAmAAAAjgAAADsAAAFfAAAAawAAADAAAAAkAAAAIgAAADUAAAAWAAAAEgAAAEsAAAAvAAAAEgAAABRzdGNvAAAAAAAAAAEAAAAwAAAAYnVkdGEAAABabWV0YQAAAAAAAAAhaGRscgAAAAAAAAAAbWRpcmFwcGwAAAAAAAAAAAAAAAAtaWxzdAAAACWpdG9vAAAAHWRhdGEAAAABAAAAAExhdmY2MC4xNi4xMDA=\" type=\"video/mp4\"/>\n",
       "      This browser does not support the video tag.\n",
       "      </video></td></tr></table>"
      ],
      "text/plain": [
       "<IPython.core.display.HTML object>"
      ]
     },
     "metadata": {},
     "output_type": "display_data"
    }
   ],
   "source": [
    "## Replay stored video\n",
    "rollout_stored = np.load(os.path.join(checkpoint_path, \"../traj.pickle\"), allow_pickle=True)\n",
    "render_traj(rollout_stored, eval_env=env)\n",
    "\n",
    "# frames = env.render(rollout_stored) #, camera=\"fixed-eye\") #, modify_scene_fns=mod_fns)\n",
    "# rewards = [s.reward for s in rollout_stored]\n",
    "# print(sum(rewards))\n",
    "# media.show_video(frames, fps=1.0 / env.dt)"
   ]
  },
  {
   "cell_type": "code",
   "execution_count": null,
   "id": "31cc8641",
   "metadata": {},
   "outputs": [
    {
     "data": {
      "text/plain": [
       "Array([ 0.6       , -0.05966789,  0.95312196], dtype=float32)"
      ]
     },
     "execution_count": 9,
     "metadata": {},
     "output_type": "execute_result"
    }
   ],
   "source": [
    "# eval_key = jax.random.PRNGKey(123)\n",
    "# _init_state = env.reset(jax.random.split(eval_key)[1])\n",
    "# _init_state.info[\"start_line\"]"
   ]
  },
  {
   "cell_type": "code",
   "execution_count": null,
   "id": "c4d4fe17",
   "metadata": {},
   "outputs": [
    {
     "data": {
      "text/plain": [
       "[Array([ 0.08859199, -0.3416281 , -0.80434877], dtype=float32),\n",
       " Array([ 0.1359394 , -0.37298828, -0.79404724], dtype=float32),\n",
       " Array([ 0.35695967, -0.42165717, -0.6440715 ], dtype=float32),\n",
       " Array([ 0.4225827 , -0.33888596, -0.13920045], dtype=float32),\n",
       " Array([ 0.19188446, -0.24278302,  0.18303943], dtype=float32),\n",
       " Array([ 0.04574802, -0.07555031,  0.15780151], dtype=float32),\n",
       " Array([-0.00667651,  0.00114888,  0.05221689], dtype=float32),\n",
       " Array([ 0.01643665,  0.01712279, -0.00175774], dtype=float32),\n",
       " Array([0.03715413, 0.00731918, 0.01467121], dtype=float32),\n",
       " Array([-0.0268283 , -0.05035612,  0.14247322], dtype=float32),\n",
       " Array([-0.028442  , -0.34434953,  0.2861446 ], dtype=float32),\n",
       " Array([ 0.01929267, -0.61303675,  0.11257982], dtype=float32)]"
      ]
     },
     "execution_count": 23,
     "metadata": {},
     "output_type": "execute_result"
    }
   ],
   "source": [
    "# [(r.data.site_xpos[env.fingertip_id] - r.info[\"start_line\"]) for r in rollout_stored]\n"
   ]
  },
  {
   "cell_type": "code",
   "execution_count": 6,
   "id": "7d554ff3",
   "metadata": {},
   "outputs": [],
   "source": [
    "# ## VARIANT 2: load params from pickle file\n",
    "\n",
    "# env_cfg = registry.get_default_config(env_name)\n",
    "# env = registry.load(env_name, config=env_cfg)\n",
    "\n",
    "# #param_path = os.path.join(os.path.dirname(checkpoint_path), 'playground_params.pickle')\n",
    "# param_path = \"/scratch/fjf33/myosuite_ankit/myosuite-mjx-policies/myouserbase_params\"\n",
    "\n",
    "# normalize_observations = True\n",
    "# ppo_network = custom_network_factory(\n",
    "#     obs_shape=get_observation_size(),  # Example observation shape\n",
    "#     action_size=26,  # Example action size,\n",
    "#     policy_hidden_layer_sizes=(256, 256),  #(50, 50, 50),\n",
    "#     value_hidden_layer_sizes=(256, 256),  #(50, 50, 50),\n",
    "#     preprocess_observations_fn=running_statistics.normalize if normalize_observations else lambda x, y: x  # Identity function for preprocessing\n",
    "# )\n",
    "\n",
    "# params = model.load_params(param_path)\n",
    "# def deterministic_policy(input_data):\n",
    "#     logits = ppo_network.policy_network.apply(*params[:2], input_data)\n",
    "#     brax_result = ppo_network.parametric_action_distribution.mode(logits)\n",
    "#     return brax_result\n",
    "# params"
   ]
  },
  {
   "cell_type": "markdown",
   "id": "40e6f53f",
   "metadata": {},
   "source": [
    "### Internal Testing"
   ]
  },
  {
   "cell_type": "code",
   "execution_count": null,
   "id": "10f9af3c",
   "metadata": {},
   "outputs": [],
   "source": [
    "from brax.training import acting\n",
    "\n",
    "eval_env = wrapper.wrap_for_brax_training(env, episode_length=200)\n",
    "\n",
    "rng = jax.random.PRNGKey(123)\n",
    "rng, eval_key = jax.random.split(rng)\n",
    "\n",
    "# key = jax.random.PRNGKey(123)\n",
    "# global_key, local_key = jax.random.split(key)\n",
    "# del key\n",
    "# local_key = jax.random.fold_in(local_key, jax.process_index())\n",
    "# local_key, key_env, eval_key = jax.random.split(local_key, 3)\n",
    "\n",
    "evaluator = acting.Evaluator(\n",
    "    eval_env,\n",
    "    functools.partial(make_inference_fn, deterministic=True),\n",
    "    num_eval_envs=1,\n",
    "    episode_length=200,\n",
    "    action_repeat=1,\n",
    "    key=eval_key,\n",
    ")\n",
    "\n",
    "metrics = evaluator.run_evaluation(params, {})"
   ]
  },
  {
   "cell_type": "code",
   "execution_count": 9,
   "id": "33d01bbb",
   "metadata": {},
   "outputs": [
    {
     "data": {
      "text/plain": [
       "{'reach_dist': Array([0.02351627], dtype=float32),\n",
       " 'reward': Array([6.330341], dtype=float32),\n",
       " 'success_rate': Array([1.], dtype=float32),\n",
       " 'target_area_dynamic_width_scale': Array([0.], dtype=float32)}"
      ]
     },
     "execution_count": 9,
     "metadata": {},
     "output_type": "execute_result"
    }
   ],
   "source": [
    "evaluator._key, unroll_key = jax.random.split(evaluator._key)\n",
    "eval_state = evaluator._generate_eval_unroll(params, unroll_key)\n",
    "eval_state.info[\"eval_metrics\"].episode_metrics"
   ]
  },
  {
   "cell_type": "code",
   "execution_count": 55,
   "id": "749db759",
   "metadata": {},
   "outputs": [],
   "source": [
    "from brax.training.acting import generate_unroll\n",
    "_eval_env = envs.training.EvalWrapper(eval_env)\n",
    "def _generate_unroll(params, key, num_eval_envs=1):\n",
    "    reset_keys = jax.random.split(key, num_eval_envs)\n",
    "    eval_first_state = _eval_env.reset(reset_keys)\n",
    "    return generate_unroll(\n",
    "    _eval_env, eval_first_state,\n",
    "    make_inference_fn(params, deterministic=True),\n",
    "    key=key,\n",
    "    unroll_length=200)\n",
    "generate_unroll_jit = jax.jit(_generate_unroll)"
   ]
  },
  {
   "cell_type": "code",
   "execution_count": 56,
   "id": "a0a55bff",
   "metadata": {},
   "outputs": [],
   "source": [
    "# _eval_env = envs.training.EvalWrapper(eval_env)\n",
    "evaluator._key, unroll_key = jax.random.split(evaluator._key)\n",
    "# reset_keys = jax.random.split(unroll_key, 1)\n",
    "# eval_first_state = _eval_env.reset(reset_keys)\n",
    "# eval_final_state, eval_data = generate_unroll(\n",
    "#     _eval_env, eval_first_state,\n",
    "#     make_inference_fn(params, deterministic=True),\n",
    "#     key=unroll_key,\n",
    "#     unroll_length=200)\n",
    "eval_final_state, eval_data = generate_unroll_jit(\n",
    "    params, key=unroll_key)"
   ]
  },
  {
   "cell_type": "code",
   "execution_count": 57,
   "id": "a2c303f7",
   "metadata": {},
   "outputs": [
    {
     "data": {
      "text/plain": [
       "(Array(-10.9054, dtype=float32),\n",
       " {'reach_dist': Array([0.02216392], dtype=float32),\n",
       "  'reward': Array([6.478419], dtype=float32),\n",
       "  'success_rate': Array([1.], dtype=float32),\n",
       "  'target_area_dynamic_width_scale': Array([0.], dtype=float32)})"
      ]
     },
     "execution_count": 57,
     "metadata": {},
     "output_type": "execute_result"
    }
   ],
   "source": [
    "eval_data.reward.sum(), eval_final_state.info[\"eval_metrics\"].episode_metrics"
   ]
  },
  {
   "cell_type": "markdown",
   "id": "2f254fcf",
   "metadata": {},
   "source": [
    "### Visualize Rollouts"
   ]
  },
  {
   "cell_type": "code",
   "execution_count": 6,
   "id": "2eaa0e87",
   "metadata": {},
   "outputs": [],
   "source": [
    "## Variant A (reload policy from checkpoint):\n",
    "# rollout = evaluate_policy(checkpoint_path=checkpoint_path, env_name=env_name,\n",
    "#                           seed=123, n_episodes=2)\n",
    "\n",
    "## Variant B (directly pass preloaded policy):\n",
    "rollout = evaluate_policy(eval_env=env, env_cfg=env_cfg, jit_inference_fn=jit_inference_fn, jit_reset=jit_reset, jit_step=jit_step,\n",
    "                          seed=123, n_episodes=2)"
   ]
  },
  {
   "cell_type": "code",
   "execution_count": 8,
   "id": "07cbb998",
   "metadata": {},
   "outputs": [
    {
     "data": {
      "text/plain": [
       "[(Array([ 0.03493699, -0.198526  ,  0.28504306], dtype=float32),\n",
       "  Array([ 0.6       , -0.05966789,  0.95312196], dtype=float32)),\n",
       " (Array([ 0.04322832, -0.20870782,  0.28662324], dtype=float32),\n",
       "  Array([ 0.6       , -0.05966789,  0.95312196], dtype=float32)),\n",
       " (Array([ 0.09631528, -0.23131603,  0.29869753], dtype=float32),\n",
       "  Array([ 0.6       , -0.05966789,  0.95312196], dtype=float32)),\n",
       " (Array([ 0.20443565, -0.2558705 ,  0.34902215], dtype=float32),\n",
       "  Array([ 0.6       , -0.05966789,  0.95312196], dtype=float32)),\n",
       " (Array([ 0.33982357, -0.2532188 ,  0.4839965 ], dtype=float32),\n",
       "  Array([ 0.6       , -0.05966789,  0.95312196], dtype=float32)),\n",
       " (Array([ 0.41116357, -0.21990405,  0.65639657], dtype=float32),\n",
       "  Array([ 0.6       , -0.05966789,  0.95312196], dtype=float32)),\n",
       " (Array([ 0.43939638, -0.20678106,  0.7726446 ], dtype=float32),\n",
       "  Array([ 0.6       , -0.05966789,  0.95312196], dtype=float32)),\n",
       " (Array([ 0.4774297 , -0.21751678,  0.84096986], dtype=float32),\n",
       "  Array([ 0.6       , -0.05966789,  0.95312196], dtype=float32)),\n",
       " (Array([ 0.5263194 , -0.2400396 ,  0.88809127], dtype=float32),\n",
       "  Array([ 0.6       , -0.05966789,  0.95312196], dtype=float32)),\n",
       " (Array([ 0.56605256, -0.24430242,  0.9289775 ], dtype=float32),\n",
       "  Array([ 0.6       , -0.05966789,  0.95312196], dtype=float32)),\n",
       " (Array([ 0.5855621 , -0.21113732,  0.9709614 ], dtype=float32),\n",
       "  Array([ 0.6       , -0.05966789,  0.95312196], dtype=float32)),\n",
       " (Array([ 0.5865606, -0.1598889,  1.0082557], dtype=float32),\n",
       "  Array([ 0.6       , -0.05966789,  0.95312196], dtype=float32)),\n",
       " (Array([ 0.585423  , -0.11959904,  1.0180199 ], dtype=float32),\n",
       "  Array([ 0.6       , -0.05966789,  0.95312196], dtype=float32)),\n",
       " (Array([ 0.5911319 , -0.09207496,  0.9916972 ], dtype=float32),\n",
       "  Array([ 0.6       , -0.05966789,  0.95312196], dtype=float32)),\n",
       " (Array([ 0.59712815, -0.07202835,  0.9454832 ], dtype=float32),\n",
       "  Array([ 0.6       , -0.05966789,  0.95312196], dtype=float32)),\n",
       " (Array([ 0.5979194 , -0.05915827,  0.9117638 ], dtype=float32),\n",
       "  Array([ 0.6       , -0.05966789,  0.95312196], dtype=float32)),\n",
       " (Array([ 0.60442114, -0.06292199,  0.88311064], dtype=float32),\n",
       "  Array([ 0.6       , -0.05966789,  0.95312196], dtype=float32)),\n",
       " (Array([ 0.618417  , -0.09175767,  0.8635352 ], dtype=float32),\n",
       "  Array([ 0.6       , -0.05966789,  0.95312196], dtype=float32)),\n",
       " (Array([ 0.6312721, -0.1336626,  0.8982296], dtype=float32),\n",
       "  Array([ 0.6       , -0.05966789,  0.95312196], dtype=float32)),\n",
       " (Array([ 0.6444527 , -0.21700832,  0.8946654 ], dtype=float32),\n",
       "  Array([ 0.6       , -0.05966789,  0.95312196], dtype=float32)),\n",
       " (Array([ 0.63663566, -0.32333523,  0.8809297 ], dtype=float32),\n",
       "  Array([ 0.6       , -0.05966789,  0.95312196], dtype=float32)),\n",
       " (Array([ 0.60882974, -0.4181038 ,  0.87556034], dtype=float32),\n",
       "  Array([ 0.6       , -0.05966789,  0.95312196], dtype=float32)),\n",
       " (Array([ 0.5887275 , -0.46956325,  0.8903439 ], dtype=float32),\n",
       "  Array([ 0.6       , -0.05966789,  0.95312196], dtype=float32)),\n",
       " (Array([ 0.56861854, -0.50759554,  0.88998866], dtype=float32),\n",
       "  Array([ 0.6       , -0.05966789,  0.95312196], dtype=float32)),\n",
       " (Array([ 0.55647707, -0.52764446,  0.88805   ], dtype=float32),\n",
       "  Array([ 0.6       , -0.05966789,  0.95312196], dtype=float32)),\n",
       " (Array([ 0.55552423, -0.5305014 ,  0.89284015], dtype=float32),\n",
       "  Array([ 0.6       , -0.05966789,  0.95312196], dtype=float32)),\n",
       " (Array([ 0.5620748, -0.5216191,  0.900213 ], dtype=float32),\n",
       "  Array([ 0.6       , -0.05966789,  0.95312196], dtype=float32)),\n",
       " (Array([ 0.571495  , -0.50697196,  0.90668416], dtype=float32),\n",
       "  Array([ 0.6       , -0.05966789,  0.95312196], dtype=float32)),\n",
       " (Array([ 0.5801765 , -0.4921955 ,  0.91116965], dtype=float32),\n",
       "  Array([ 0.6       , -0.05966789,  0.95312196], dtype=float32)),\n",
       " (Array([ 0.58661723, -0.48025197,  0.9130888 ], dtype=float32),\n",
       "  Array([ 0.6       , -0.05966789,  0.95312196], dtype=float32)),\n",
       " (Array([ 0.59072423, -0.47238487,  0.9145726 ], dtype=float32),\n",
       "  Array([ 0.6       , -0.05966789,  0.95312196], dtype=float32)),\n",
       " (Array([ 0.5928518 , -0.46845955,  0.9163457 ], dtype=float32),\n",
       "  Array([ 0.6       , -0.05966789,  0.95312196], dtype=float32)),\n",
       " (Array([ 0.59336025, -0.4678396 ,  0.91809064], dtype=float32),\n",
       "  Array([ 0.6       , -0.05966789,  0.95312196], dtype=float32)),\n",
       " (Array([ 0.5927573 , -0.46942702,  0.91947705], dtype=float32),\n",
       "  Array([ 0.6       , -0.05966789,  0.95312196], dtype=float32)),\n",
       " (Array([ 0.5915576 , -0.47206515,  0.9201946 ], dtype=float32),\n",
       "  Array([ 0.6       , -0.05966789,  0.95312196], dtype=float32)),\n",
       " (Array([ 0.590207 , -0.4747851,  0.9200742], dtype=float32),\n",
       "  Array([ 0.6       , -0.05966789,  0.95312196], dtype=float32)),\n",
       " (Array([ 0.5890304, -0.4769594,  0.919233 ], dtype=float32),\n",
       "  Array([ 0.6       , -0.05966789,  0.95312196], dtype=float32)),\n",
       " (Array([ 0.58820784, -0.4783231 ,  0.9180241 ], dtype=float32),\n",
       "  Array([ 0.6       , -0.05966789,  0.95312196], dtype=float32)),\n",
       " (Array([ 0.58777213, -0.47890154,  0.91680443], dtype=float32),\n",
       "  Array([ 0.6       , -0.05966789,  0.95312196], dtype=float32)),\n",
       " (Array([ 0.5876902 , -0.47883937,  0.91586196], dtype=float32),\n",
       "  Array([ 0.6       , -0.05966789,  0.95312196], dtype=float32)),\n",
       " (Array([ 0.5878635 , -0.47834566,  0.9152451 ], dtype=float32),\n",
       "  Array([ 0.6       , -0.05966789,  0.95312196], dtype=float32)),\n",
       " (Array([ 0.5881672, -0.4776555,  0.9148909], dtype=float32),\n",
       "  Array([ 0.6       , -0.05966789,  0.95312196], dtype=float32)),\n",
       " (Array([ 0.588501  , -0.47694522,  0.91471636], dtype=float32),\n",
       "  Array([ 0.6       , -0.05966789,  0.95312196], dtype=float32)),\n",
       " (Array([ 0.58880514, -0.47631943,  0.9146482 ], dtype=float32),\n",
       "  Array([ 0.6       , -0.05966789,  0.95312196], dtype=float32)),\n",
       " (Array([ 0.5890467 , -0.47582763,  0.9146247 ], dtype=float32),\n",
       "  Array([ 0.6       , -0.05966789,  0.95312196], dtype=float32)),\n",
       " (Array([ 0.5892184 , -0.47547886,  0.9146114 ], dtype=float32),\n",
       "  Array([ 0.6       , -0.05966789,  0.95312196], dtype=float32)),\n",
       " (Array([ 0.5893292 , -0.47525015,  0.91459215], dtype=float32),\n",
       "  Array([ 0.6       , -0.05966789,  0.95312196], dtype=float32)),\n",
       " (Array([ 0.5893936 , -0.47510993,  0.9145502 ], dtype=float32),\n",
       "  Array([ 0.6       , -0.05966789,  0.95312196], dtype=float32)),\n",
       " (Array([ 0.58942807, -0.47502416,  0.9144831 ], dtype=float32),\n",
       "  Array([ 0.6       , -0.05966789,  0.95312196], dtype=float32)),\n",
       " (Array([ 0.58944625, -0.4749669 ,  0.9144007 ], dtype=float32),\n",
       "  Array([ 0.6       , -0.05966789,  0.95312196], dtype=float32)),\n",
       " (Array([ 0.58945763, -0.474921  ,  0.91431504], dtype=float32),\n",
       "  Array([ 0.6       , -0.05966789,  0.95312196], dtype=float32)),\n",
       " (Array([ 0.5894704 , -0.47487736,  0.9142401 ], dtype=float32),\n",
       "  Array([ 0.6       , -0.05966789,  0.95312196], dtype=float32)),\n",
       " (Array([ 0.5894835 , -0.4748348 ,  0.91417897], dtype=float32),\n",
       "  Array([ 0.6       , -0.05966789,  0.95312196], dtype=float32)),\n",
       " (Array([ 0.5894965 , -0.47479898,  0.9141401 ], dtype=float32),\n",
       "  Array([ 0.6       , -0.05966789,  0.95312196], dtype=float32)),\n",
       " (Array([ 0.589507  , -0.47477418,  0.9141234 ], dtype=float32),\n",
       "  Array([ 0.6       , -0.05966789,  0.95312196], dtype=float32)),\n",
       " (Array([ 0.58951235, -0.47476277,  0.9141235 ], dtype=float32),\n",
       "  Array([ 0.6       , -0.05966789,  0.95312196], dtype=float32)),\n",
       " (Array([ 0.58951265, -0.4747649 ,  0.91413707], dtype=float32),\n",
       "  Array([ 0.6       , -0.05966789,  0.95312196], dtype=float32)),\n",
       " (Array([ 0.5895083 , -0.47477964,  0.914159  ], dtype=float32),\n",
       "  Array([ 0.6       , -0.05966789,  0.95312196], dtype=float32)),\n",
       " (Array([ 0.58949995, -0.4748028 ,  0.91418403], dtype=float32),\n",
       "  Array([ 0.6       , -0.05966789,  0.95312196], dtype=float32)),\n",
       " (Array([ 0.589489  , -0.47483146,  0.9142105 ], dtype=float32),\n",
       "  Array([ 0.6       , -0.05966789,  0.95312196], dtype=float32)),\n",
       " (Array([ 0.58947694, -0.47486106,  0.91423607], dtype=float32),\n",
       "  Array([ 0.6       , -0.05966789,  0.95312196], dtype=float32)),\n",
       " (Array([ 0.58946544, -0.47489148,  0.914259  ], dtype=float32),\n",
       "  Array([ 0.6       , -0.05966789,  0.95312196], dtype=float32)),\n",
       " (Array([ 0.58945394, -0.4749191 ,  0.91428024], dtype=float32),\n",
       "  Array([ 0.6       , -0.05966789,  0.95312196], dtype=float32)),\n",
       " (Array([ 0.5894442 , -0.47494385,  0.9142989 ], dtype=float32),\n",
       "  Array([ 0.6       , -0.05966789,  0.95312196], dtype=float32)),\n",
       " (Array([ 0.5894357 , -0.47496516,  0.91431534], dtype=float32),\n",
       "  Array([ 0.6       , -0.05966789,  0.95312196], dtype=float32)),\n",
       " (Array([ 0.5894283, -0.4749834,  0.9143288], dtype=float32),\n",
       "  Array([ 0.6       , -0.05966789,  0.95312196], dtype=float32)),\n",
       " (Array([ 0.58942246, -0.4749983 ,  0.9143401 ], dtype=float32),\n",
       "  Array([ 0.6       , -0.05966789,  0.95312196], dtype=float32)),\n",
       " (Array([ 0.5894176, -0.4750098,  0.9143485], dtype=float32),\n",
       "  Array([ 0.6       , -0.05966789,  0.95312196], dtype=float32)),\n",
       " (Array([ 0.5894141 , -0.47501856,  0.91435444], dtype=float32),\n",
       "  Array([ 0.6       , -0.05966789,  0.95312196], dtype=float32)),\n",
       " (Array([ 0.5894114, -0.4750249,  0.9143585], dtype=float32),\n",
       "  Array([ 0.6       , -0.05966789,  0.95312196], dtype=float32)),\n",
       " (Array([ 0.5894096 , -0.4750291 ,  0.91436017], dtype=float32),\n",
       "  Array([ 0.6       , -0.05966789,  0.95312196], dtype=float32)),\n",
       " (Array([ 0.58940846, -0.47503102,  0.9143604 ], dtype=float32),\n",
       "  Array([ 0.6       , -0.05966789,  0.95312196], dtype=float32)),\n",
       " (Array([ 0.58940846, -0.47503135,  0.9143593 ], dtype=float32),\n",
       "  Array([ 0.6       , -0.05966789,  0.95312196], dtype=float32)),\n",
       " (Array([ 0.58940893, -0.47503   ,  0.9143573 ], dtype=float32),\n",
       "  Array([ 0.6       , -0.05966789,  0.95312196], dtype=float32)),\n",
       " (Array([ 0.5894098 , -0.4750276 ,  0.91435474], dtype=float32),\n",
       "  Array([ 0.6       , -0.05966789,  0.95312196], dtype=float32)),\n",
       " (Array([ 0.58941114, -0.4750238 ,  0.9143522 ], dtype=float32),\n",
       "  Array([ 0.6       , -0.05966789,  0.95312196], dtype=float32)),\n",
       " (Array([ 0.58941233, -0.47502044,  0.91434866], dtype=float32),\n",
       "  Array([ 0.6       , -0.05966789,  0.95312196], dtype=float32)),\n",
       " (Array([ 0.58941394, -0.47501704,  0.9143458 ], dtype=float32),\n",
       "  Array([ 0.6       , -0.05966789,  0.95312196], dtype=float32)),\n",
       " (Array([ 0.5894152 , -0.47501335,  0.9143426 ], dtype=float32),\n",
       "  Array([ 0.6       , -0.05966789,  0.95312196], dtype=float32)),\n",
       " (Array([ 0.5894167 , -0.47500977,  0.9143403 ], dtype=float32),\n",
       "  Array([ 0.6       , -0.05966789,  0.95312196], dtype=float32)),\n",
       " (Array([ 0.58941823, -0.4750063 ,  0.91433775], dtype=float32),\n",
       "  Array([ 0.6       , -0.05966789,  0.95312196], dtype=float32)),\n",
       " (Array([ 0.03493699, -0.198526  ,  0.28504306], dtype=float32),\n",
       "  Array([ 0.6       , -0.05966789,  0.95312196], dtype=float32)),\n",
       " (Array([ 0.04322832, -0.20870782,  0.28662324], dtype=float32),\n",
       "  Array([ 0.6       , -0.05966789,  0.95312196], dtype=float32)),\n",
       " (Array([ 0.09631528, -0.23131603,  0.29869753], dtype=float32),\n",
       "  Array([ 0.6       , -0.05966789,  0.95312196], dtype=float32)),\n",
       " (Array([ 0.20443562, -0.2558705 ,  0.34902212], dtype=float32),\n",
       "  Array([ 0.6       , -0.05966789,  0.95312196], dtype=float32)),\n",
       " (Array([ 0.33982357, -0.25321886,  0.4839965 ], dtype=float32),\n",
       "  Array([ 0.6       , -0.05966789,  0.95312196], dtype=float32)),\n",
       " (Array([ 0.4111637 , -0.21990399,  0.6563964 ], dtype=float32),\n",
       "  Array([ 0.6       , -0.05966789,  0.95312196], dtype=float32)),\n",
       " (Array([ 0.43939638, -0.20678106,  0.7726445 ], dtype=float32),\n",
       "  Array([ 0.6       , -0.05966789,  0.95312196], dtype=float32)),\n",
       " (Array([ 0.47742966, -0.21751693,  0.84096974], dtype=float32),\n",
       "  Array([ 0.6       , -0.05966789,  0.95312196], dtype=float32)),\n",
       " (Array([ 0.5263194 , -0.24003968,  0.8880911 ], dtype=float32),\n",
       "  Array([ 0.6       , -0.05966789,  0.95312196], dtype=float32)),\n",
       " (Array([ 0.56605244, -0.24430245,  0.9289773 ], dtype=float32),\n",
       "  Array([ 0.6       , -0.05966789,  0.95312196], dtype=float32)),\n",
       " (Array([ 0.5855621 , -0.21113734,  0.9709611 ], dtype=float32),\n",
       "  Array([ 0.6       , -0.05966789,  0.95312196], dtype=float32)),\n",
       " (Array([ 0.58656037, -0.15988897,  1.0082556 ], dtype=float32),\n",
       "  Array([ 0.6       , -0.05966789,  0.95312196], dtype=float32)),\n",
       " (Array([ 0.5854229 , -0.11959915,  1.0180198 ], dtype=float32),\n",
       "  Array([ 0.6       , -0.05966789,  0.95312196], dtype=float32)),\n",
       " (Array([ 0.5911319 , -0.09207502,  0.99169743], dtype=float32),\n",
       "  Array([ 0.6       , -0.05966789,  0.95312196], dtype=float32)),\n",
       " (Array([ 0.5971279 , -0.07202838,  0.94548345], dtype=float32),\n",
       "  Array([ 0.6       , -0.05966789,  0.95312196], dtype=float32)),\n",
       " (Array([ 0.59791964, -0.05915831,  0.911764  ], dtype=float32),\n",
       "  Array([ 0.6       , -0.05966789,  0.95312196], dtype=float32)),\n",
       " (Array([ 0.6044214 , -0.06292212,  0.88311106], dtype=float32),\n",
       "  Array([ 0.6       , -0.05966789,  0.95312196], dtype=float32)),\n",
       " (Array([ 0.61841667, -0.09175794,  0.86353576], dtype=float32),\n",
       "  Array([ 0.6       , -0.05966789,  0.95312196], dtype=float32)),\n",
       " (Array([ 0.6312722 , -0.13366279,  0.8982297 ], dtype=float32),\n",
       "  Array([ 0.6       , -0.05966789,  0.95312196], dtype=float32)),\n",
       " (Array([ 0.64445305, -0.21700823,  0.8946651 ], dtype=float32),\n",
       "  Array([ 0.6       , -0.05966789,  0.95312196], dtype=float32)),\n",
       " (Array([ 0.63663554, -0.32333487,  0.8809293 ], dtype=float32),\n",
       "  Array([ 0.6       , -0.05966789,  0.95312196], dtype=float32)),\n",
       " (Array([ 0.6088297 , -0.41810346,  0.87556016], dtype=float32),\n",
       "  Array([ 0.6       , -0.05966789,  0.95312196], dtype=float32)),\n",
       " (Array([ 0.58872724, -0.46956316,  0.89034396], dtype=float32),\n",
       "  Array([ 0.6       , -0.05966789,  0.95312196], dtype=float32)),\n",
       " (Array([ 0.56861854, -0.5075957 ,  0.88998866], dtype=float32),\n",
       "  Array([ 0.6       , -0.05966789,  0.95312196], dtype=float32)),\n",
       " (Array([ 0.55647683, -0.5276446 ,  0.8880499 ], dtype=float32),\n",
       "  Array([ 0.6       , -0.05966789,  0.95312196], dtype=float32)),\n",
       " (Array([ 0.55552393, -0.5305018 ,  0.8928404 ], dtype=float32),\n",
       "  Array([ 0.6       , -0.05966789,  0.95312196], dtype=float32)),\n",
       " (Array([ 0.5620748 , -0.5216195 ,  0.90021306], dtype=float32),\n",
       "  Array([ 0.6       , -0.05966789,  0.95312196], dtype=float32)),\n",
       " (Array([ 0.5714952 , -0.50697213,  0.90668416], dtype=float32),\n",
       "  Array([ 0.6       , -0.05966789,  0.95312196], dtype=float32)),\n",
       " (Array([ 0.5801765, -0.4921955,  0.9111697], dtype=float32),\n",
       "  Array([ 0.6       , -0.05966789,  0.95312196], dtype=float32)),\n",
       " (Array([ 0.586617  , -0.48025185,  0.9130888 ], dtype=float32),\n",
       "  Array([ 0.6       , -0.05966789,  0.95312196], dtype=float32)),\n",
       " (Array([ 0.5907243 , -0.47238508,  0.9145725 ], dtype=float32),\n",
       "  Array([ 0.6       , -0.05966789,  0.95312196], dtype=float32)),\n",
       " (Array([ 0.5928507 , -0.46846125,  0.9163461 ], dtype=float32),\n",
       "  Array([ 0.6       , -0.05966789,  0.95312196], dtype=float32)),\n",
       " (Array([ 0.59335744, -0.4678471 ,  0.91809565], dtype=float32),\n",
       "  Array([ 0.6       , -0.05966789,  0.95312196], dtype=float32)),\n",
       " (Array([ 0.592753  , -0.4694377 ,  0.91948754], dtype=float32),\n",
       "  Array([ 0.6       , -0.05966789,  0.95312196], dtype=float32)),\n",
       " (Array([ 0.5915519 , -0.47207725,  0.9202043 ], dtype=float32),\n",
       "  Array([ 0.6       , -0.05966789,  0.95312196], dtype=float32)),\n",
       " (Array([ 0.5902018 , -0.4747963 ,  0.92008024], dtype=float32),\n",
       "  Array([ 0.6       , -0.05966789,  0.95312196], dtype=float32)),\n",
       " (Array([ 0.5890256 , -0.47696856,  0.9192347 ], dtype=float32),\n",
       "  Array([ 0.6       , -0.05966789,  0.95312196], dtype=float32)),\n",
       " (Array([ 0.58820397, -0.47832966,  0.9180232 ], dtype=float32),\n",
       "  Array([ 0.6       , -0.05966789,  0.95312196], dtype=float32)),\n",
       " (Array([ 0.5877705 , -0.47890434,  0.91680354], dtype=float32),\n",
       "  Array([ 0.6       , -0.05966789,  0.95312196], dtype=float32)),\n",
       " (Array([ 0.58769006, -0.4788393 ,  0.9158611 ], dtype=float32),\n",
       "  Array([ 0.6       , -0.05966789,  0.95312196], dtype=float32)),\n",
       " (Array([ 0.58786404, -0.47834444,  0.91524434], dtype=float32),\n",
       "  Array([ 0.6       , -0.05966789,  0.95312196], dtype=float32)),\n",
       " (Array([ 0.5881683 , -0.47765216,  0.91488975], dtype=float32),\n",
       "  Array([ 0.6       , -0.05966789,  0.95312196], dtype=float32)),\n",
       " (Array([ 0.5885031, -0.476941 ,  0.9147142], dtype=float32),\n",
       "  Array([ 0.6       , -0.05966789,  0.95312196], dtype=float32)),\n",
       " (Array([ 0.5888067 , -0.47631505,  0.9146471 ], dtype=float32),\n",
       "  Array([ 0.6       , -0.05966789,  0.95312196], dtype=float32)),\n",
       " (Array([ 0.5890484 , -0.47582424,  0.9146255 ], dtype=float32),\n",
       "  Array([ 0.6       , -0.05966789,  0.95312196], dtype=float32)),\n",
       " (Array([ 0.5892191 , -0.47547734,  0.9146129 ], dtype=float32),\n",
       "  Array([ 0.6       , -0.05966789,  0.95312196], dtype=float32)),\n",
       " (Array([ 0.58932877, -0.4752515 ,  0.91459394], dtype=float32),\n",
       "  Array([ 0.6       , -0.05966789,  0.95312196], dtype=float32)),\n",
       " (Array([ 0.5893927 , -0.47511306,  0.9145522 ], dtype=float32),\n",
       "  Array([ 0.6       , -0.05966789,  0.95312196], dtype=float32)),\n",
       " (Array([ 0.58942664, -0.47502753,  0.9144847 ], dtype=float32),\n",
       "  Array([ 0.6       , -0.05966789,  0.95312196], dtype=float32)),\n",
       " (Array([ 0.58944476, -0.47496912,  0.91439956], dtype=float32),\n",
       "  Array([ 0.6       , -0.05966789,  0.95312196], dtype=float32)),\n",
       " (Array([ 0.5894584 , -0.47491947,  0.9143122 ], dtype=float32),\n",
       "  Array([ 0.6       , -0.05966789,  0.95312196], dtype=float32)),\n",
       " (Array([ 0.5894714 , -0.47487292,  0.9142337 ], dtype=float32),\n",
       "  Array([ 0.6       , -0.05966789,  0.95312196], dtype=float32)),\n",
       " (Array([ 0.58948445, -0.47483227,  0.9141746 ], dtype=float32),\n",
       "  Array([ 0.6       , -0.05966789,  0.95312196], dtype=float32)),\n",
       " (Array([ 0.58949673, -0.47479874,  0.9141394 ], dtype=float32),\n",
       "  Array([ 0.6       , -0.05966789,  0.95312196], dtype=float32)),\n",
       " (Array([ 0.5895062, -0.4747753,  0.9141238], dtype=float32),\n",
       "  Array([ 0.6       , -0.05966789,  0.95312196], dtype=float32)),\n",
       " (Array([ 0.5895116, -0.4747646,  0.9141249], dtype=float32),\n",
       "  Array([ 0.6       , -0.05966789,  0.95312196], dtype=float32)),\n",
       " (Array([ 0.58951193, -0.4747668 ,  0.91413814], dtype=float32),\n",
       "  Array([ 0.6       , -0.05966789,  0.95312196], dtype=float32)),\n",
       " (Array([ 0.5895077 , -0.4747804 ,  0.91415936], dtype=float32),\n",
       "  Array([ 0.6       , -0.05966789,  0.95312196], dtype=float32)),\n",
       " (Array([ 0.58949965, -0.4748031 ,  0.9141841 ], dtype=float32),\n",
       "  Array([ 0.6       , -0.05966789,  0.95312196], dtype=float32)),\n",
       " (Array([ 0.5894893, -0.474831 ,  0.9142101], dtype=float32),\n",
       "  Array([ 0.6       , -0.05966789,  0.95312196], dtype=float32)),\n",
       " (Array([ 0.5894773 , -0.47486073,  0.91423583], dtype=float32),\n",
       "  Array([ 0.6       , -0.05966789,  0.95312196], dtype=float32)),\n",
       " (Array([ 0.5894656 , -0.47489062,  0.9142596 ], dtype=float32),\n",
       "  Array([ 0.6       , -0.05966789,  0.95312196], dtype=float32)),\n",
       " (Array([ 0.5894542 , -0.47491845,  0.9142809 ], dtype=float32),\n",
       "  Array([ 0.6       , -0.05966789,  0.95312196], dtype=float32)),\n",
       " (Array([ 0.58944404, -0.47494316,  0.9142994 ], dtype=float32),\n",
       "  Array([ 0.6       , -0.05966789,  0.95312196], dtype=float32)),\n",
       " (Array([ 0.589436  , -0.47496507,  0.914316  ], dtype=float32),\n",
       "  Array([ 0.6       , -0.05966789,  0.95312196], dtype=float32)),\n",
       " (Array([ 0.5894285 , -0.47498345,  0.9143297 ], dtype=float32),\n",
       "  Array([ 0.6       , -0.05966789,  0.95312196], dtype=float32)),\n",
       " (Array([ 0.5894223 , -0.47499835,  0.914341  ], dtype=float32),\n",
       "  Array([ 0.6       , -0.05966789,  0.95312196], dtype=float32)),\n",
       " (Array([ 0.5894175 , -0.4750104 ,  0.91434884], dtype=float32),\n",
       "  Array([ 0.6       , -0.05966789,  0.95312196], dtype=float32)),\n",
       " (Array([ 0.5894139 , -0.47501904,  0.9143548 ], dtype=float32),\n",
       "  Array([ 0.6       , -0.05966789,  0.95312196], dtype=float32)),\n",
       " (Array([ 0.5894109 , -0.47502515,  0.9143589 ], dtype=float32),\n",
       "  Array([ 0.6       , -0.05966789,  0.95312196], dtype=float32)),\n",
       " (Array([ 0.5894095 , -0.47502923,  0.9143602 ], dtype=float32),\n",
       "  Array([ 0.6       , -0.05966789,  0.95312196], dtype=float32)),\n",
       " (Array([ 0.5894083 , -0.47503084,  0.91436046], dtype=float32),\n",
       "  Array([ 0.6       , -0.05966789,  0.95312196], dtype=float32)),\n",
       " (Array([ 0.5894084 , -0.47503144,  0.91435933], dtype=float32),\n",
       "  Array([ 0.6       , -0.05966789,  0.95312196], dtype=float32)),\n",
       " (Array([ 0.58940876, -0.47502995,  0.91435724], dtype=float32),\n",
       "  Array([ 0.6       , -0.05966789,  0.95312196], dtype=float32)),\n",
       " (Array([ 0.5894097 , -0.47502738,  0.91435486], dtype=float32),\n",
       "  Array([ 0.6       , -0.05966789,  0.95312196], dtype=float32)),\n",
       " (Array([ 0.5894112 , -0.47502428,  0.9143524 ], dtype=float32),\n",
       "  Array([ 0.6       , -0.05966789,  0.95312196], dtype=float32)),\n",
       " (Array([ 0.5894121 , -0.47502056,  0.9143489 ], dtype=float32),\n",
       "  Array([ 0.6       , -0.05966789,  0.95312196], dtype=float32)),\n",
       " (Array([ 0.589414  , -0.47501725,  0.91434586], dtype=float32),\n",
       "  Array([ 0.6       , -0.05966789,  0.95312196], dtype=float32)),\n",
       " (Array([ 0.5894151 , -0.47501352,  0.9143428 ], dtype=float32),\n",
       "  Array([ 0.6       , -0.05966789,  0.95312196], dtype=float32)),\n",
       " (Array([ 0.58941644, -0.47500992,  0.9143404 ], dtype=float32),\n",
       "  Array([ 0.6       , -0.05966789,  0.95312196], dtype=float32)),\n",
       " (Array([ 0.5894178 , -0.47500628,  0.91433805], dtype=float32),\n",
       "  Array([ 0.6       , -0.05966789,  0.95312196], dtype=float32))]"
      ]
     },
     "execution_count": 8,
     "metadata": {},
     "output_type": "execute_result"
    }
   ],
   "source": [
    "[(r.obs[\"proprioception\"][15:18], r.obs[\"proprioception\"][47:50]) for r in rollout]"
   ]
  },
  {
   "cell_type": "code",
   "execution_count": 13,
   "id": "d4b7afd9",
   "metadata": {},
   "outputs": [
    {
     "data": {
      "text/plain": [
       "(array([ 0.        , -0.13367838,  0.10312194]),\n",
       " array([0., 0., 0.]),\n",
       " array([ 0.6 , -0.35,  0.85]))"
      ]
     },
     "execution_count": 9,
     "metadata": {},
     "output_type": "execute_result"
    }
   ],
   "source": [
    "env.mj_model.site_pos[env.end_line_id, :], env.mj_model.site_pos[env.screen_id, :], env.mj_model.body(\"screen\").pos"
   ]
  },
  {
   "cell_type": "code",
   "execution_count": 8,
   "id": "d523b324",
   "metadata": {},
   "outputs": [
    {
     "data": {
      "text/plain": [
       "(Array([ 0.6       , -0.48367837,  0.95312196], dtype=float32),\n",
       " Array([ 0.6 , -0.35,  0.85], dtype=float32),\n",
       " Array([ 0.59000003, -0.7       ,  0.875     ], dtype=float32),\n",
       " Array([ 0.6 , -0.35,  0.85], dtype=float32))"
      ]
     },
     "execution_count": 8,
     "metadata": {},
     "output_type": "execute_result"
    }
   ],
   "source": [
    "rollout_stored[0].info[\"end_line\"], rollout_stored[0].info[\"screen_pos\"] , rollout_stored[0].data.site_xpos[env.end_line_id], rollout_stored[0].data.site_xpos[env.screen_id]"
   ]
  },
  {
   "cell_type": "code",
   "execution_count": 9,
   "id": "40066a40",
   "metadata": {},
   "outputs": [
    {
     "data": {
      "text/plain": [
       "(Array([ 0.6       , -0.48367837,  0.95312196], dtype=float32),\n",
       " Array([ 0.6 , -0.35,  0.85], dtype=float32),\n",
       " Array([ 0.59000003, -0.7       ,  0.875     ], dtype=float32),\n",
       " Array([ 0.6 , -0.35,  0.85], dtype=float32))"
      ]
     },
     "execution_count": 9,
     "metadata": {},
     "output_type": "execute_result"
    }
   ],
   "source": [
    "rollout_stored[0].info[\"end_line\"], rollout_stored[0].info[\"screen_pos\"] , rollout_stored[0].data.site_xpos[env.end_line_id], rollout_stored[0].data.site_xpos[env.screen_id]"
   ]
  },
  {
   "cell_type": "code",
   "execution_count": 13,
   "id": "3586b644",
   "metadata": {},
   "outputs": [
    {
     "data": {
      "text/plain": [
       "(array([ 0.        , -0.13367838,  0.10312194]),\n",
       " array([0., 0., 0.]),\n",
       " array([ 0.6 , -0.35,  0.85]))"
      ]
     },
     "execution_count": 13,
     "metadata": {},
     "output_type": "execute_result"
    }
   ],
   "source": [
    "env.mj_model.site_pos[env.end_line_id, :], env.mj_model.site_pos[env.screen_id, :], env.mj_model.body(\"screen\").pos"
   ]
  },
  {
   "cell_type": "code",
   "execution_count": 26,
   "id": "035805e6",
   "metadata": {},
   "outputs": [
    {
     "data": {
      "text/plain": [
       "(Array([ 0.        , -0.13367838,  0.10312194], dtype=float32),\n",
       " Array([-0.00999999, -0.35      ,  0.02499998], dtype=float32))"
      ]
     },
     "execution_count": 26,
     "metadata": {},
     "output_type": "execute_result"
    }
   ],
   "source": [
    "init_state.info[\"end_line\"] - init_state.info[\"screen_pos\"] , init_state.data.site_xpos[env.end_line_id] - init_state.data.site_xpos[env.screen_id]"
   ]
  },
  {
   "cell_type": "code",
   "execution_count": 8,
   "id": "7cb51890",
   "metadata": {},
   "outputs": [
    {
     "data": {
      "text/plain": [
       "(Array([ 0.        , -0.13367838,  0.10312194], dtype=float32),\n",
       " Array([-0.00999999, -0.35      ,  0.02499998], dtype=float32))"
      ]
     },
     "execution_count": 8,
     "metadata": {},
     "output_type": "execute_result"
    }
   ],
   "source": [
    "rollout[0].info[\"end_line\"] - rollout[0].info[\"screen_pos\"] , rollout[0].data.site_xpos[env.end_line_id] - rollout[0].data.site_xpos[env.screen_id]"
   ]
  },
  {
   "cell_type": "code",
   "execution_count": 8,
   "id": "0c14815b",
   "metadata": {},
   "outputs": [
    {
     "data": {
      "text/plain": [
       "(array([-1.01327896e-06, -5.03678381e-01,  1.03121936e-01]),\n",
       " Array([ 0.59000003, -0.7       ,  0.875     ], dtype=float32),\n",
       " array([0., 0., 0.]),\n",
       " Array([ 0.6 , -0.35,  0.85], dtype=float32))"
      ]
     },
     "execution_count": 8,
     "metadata": {},
     "output_type": "execute_result"
    }
   ],
   "source": [
    "env.mj_model.site_pos[env.end_line_id], init_state.data.site_xpos[env.end_line_id], env.mj_model.site_pos[env.screen_id], init_state.data.site_xpos[env.screen_id]"
   ]
  },
  {
   "cell_type": "code",
   "execution_count": 11,
   "id": "572c9d14",
   "metadata": {},
   "outputs": [
    {
     "data": {
      "text/plain": [
       "(array([ 0.        , -0.13367838,  0.10312194]),\n",
       " Array([ 0.59000003, -0.7       ,  0.875     ], dtype=float32),\n",
       " array([0., 0., 0.]),\n",
       " Array([ 0.6 , -0.35,  0.85], dtype=float32))"
      ]
     },
     "execution_count": 11,
     "metadata": {},
     "output_type": "execute_result"
    }
   ],
   "source": [
    "env.mj_model.site_pos[env.end_line_id], init_state.data.site_xpos[env.end_line_id], env.mj_model.site_pos[env.screen_id], init_state.data.site_xpos[env.screen_id]"
   ]
  },
  {
   "cell_type": "code",
   "execution_count": 7,
   "id": "0792045b",
   "metadata": {},
   "outputs": [
    {
     "name": "stderr",
     "output_type": "stream",
     "text": [
      "  0%|          | 0/46 [00:00<?, ?it/s]"
     ]
    },
    {
     "name": "stderr",
     "output_type": "stream",
     "text": [
      "100%|██████████| 46/46 [00:00<00:00, 466.28it/s]\n"
     ]
    },
    {
     "data": {
      "text/html": [
       "<table class=\"show_videos\" style=\"border-spacing:0px;\"><tr><td style=\"padding:1px;\"><video controls width=\"320\" height=\"240\" style=\"object-fit:cover;\" loop autoplay muted>\n",
       "      <source src=\"data:video/mp4;base64,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\" type=\"video/mp4\"/>\n",
       "      This browser does not support the video tag.\n",
       "      </video></td></tr></table>"
      ],
      "text/plain": [
       "<IPython.core.display.HTML object>"
      ]
     },
     "metadata": {},
     "output_type": "display_data"
    }
   ],
   "source": [
    "render_traj(rollout, eval_env=env)"
   ]
  },
  {
   "cell_type": "code",
   "execution_count": 9,
   "id": "4c55de2e",
   "metadata": {},
   "outputs": [
    {
     "data": {
      "text/plain": [
       "([Array(0., dtype=float32),\n",
       "  Array(-4.8047485, dtype=float32),\n",
       "  Array(-4.7667465, dtype=float32),\n",
       "  Array(-4.6730185, dtype=float32),\n",
       "  Array(-4.4959354, dtype=float32),\n",
       "  Array(-4.299988, dtype=float32),\n",
       "  Array(-4.1723413, dtype=float32),\n",
       "  Array(-4.131972, dtype=float32),\n",
       "  Array(-4.1193876, dtype=float32),\n",
       "  Array(-4.095274, dtype=float32),\n",
       "  Array(-4.05089, dtype=float32),\n",
       "  Array(-4.00742, dtype=float32),\n",
       "  Array(-3.9790053, dtype=float32),\n",
       "  Array(-3.9441152, dtype=float32),\n",
       "  Array(-0.44146788, dtype=float32),\n",
       "  Array(-0.4426637, dtype=float32),\n",
       "  Array(-0.43719235, dtype=float32),\n",
       "  Array(-0.418498, dtype=float32),\n",
       "  Array(-0.37167466, dtype=float32),\n",
       "  Array(-0.26448065, dtype=float32),\n",
       "  Array(-0.62697846, dtype=float32),\n",
       "  Array(-0.05127802, dtype=float32),\n",
       "  Array(10., dtype=float32),\n",
       "  Array(0., dtype=float32),\n",
       "  Array(-4.8047485, dtype=float32),\n",
       "  Array(-4.7667465, dtype=float32),\n",
       "  Array(-4.6730185, dtype=float32),\n",
       "  Array(-4.4959354, dtype=float32),\n",
       "  Array(-4.299988, dtype=float32),\n",
       "  Array(-4.1723413, dtype=float32),\n",
       "  Array(-4.131972, dtype=float32),\n",
       "  Array(-4.1193876, dtype=float32),\n",
       "  Array(-4.095274, dtype=float32),\n",
       "  Array(-4.0508895, dtype=float32),\n",
       "  Array(-4.007419, dtype=float32),\n",
       "  Array(-3.9790046, dtype=float32),\n",
       "  Array(-3.9441152, dtype=float32),\n",
       "  Array(-0.4414683, dtype=float32),\n",
       "  Array(-0.44266394, dtype=float32),\n",
       "  Array(-0.4371928, dtype=float32),\n",
       "  Array(-0.41849893, dtype=float32),\n",
       "  Array(-0.37167615, dtype=float32),\n",
       "  Array(-0.26448256, dtype=float32),\n",
       "  Array(-0.6270586, dtype=float32),\n",
       "  Array(-0.05127874, dtype=float32),\n",
       "  Array(10., dtype=float32)],\n",
       " [Array(0., dtype=float32),\n",
       "  Array(0., dtype=float32, weak_type=True),\n",
       "  Array(0., dtype=float32, weak_type=True),\n",
       "  Array(0., dtype=float32, weak_type=True),\n",
       "  Array(0., dtype=float32, weak_type=True),\n",
       "  Array(0., dtype=float32, weak_type=True),\n",
       "  Array(0., dtype=float32, weak_type=True),\n",
       "  Array(0., dtype=float32, weak_type=True),\n",
       "  Array(0., dtype=float32, weak_type=True),\n",
       "  Array(0., dtype=float32, weak_type=True),\n",
       "  Array(0., dtype=float32, weak_type=True),\n",
       "  Array(0., dtype=float32, weak_type=True),\n",
       "  Array(0., dtype=float32, weak_type=True),\n",
       "  Array(0., dtype=float32, weak_type=True),\n",
       "  Array(0., dtype=float32, weak_type=True),\n",
       "  Array(0., dtype=float32, weak_type=True),\n",
       "  Array(0., dtype=float32, weak_type=True),\n",
       "  Array(0., dtype=float32, weak_type=True),\n",
       "  Array(0., dtype=float32, weak_type=True),\n",
       "  Array(0., dtype=float32, weak_type=True),\n",
       "  Array(0., dtype=float32, weak_type=True),\n",
       "  Array(0., dtype=float32, weak_type=True),\n",
       "  Array(1., dtype=float32, weak_type=True),\n",
       "  Array(0., dtype=float32),\n",
       "  Array(0., dtype=float32, weak_type=True),\n",
       "  Array(0., dtype=float32, weak_type=True),\n",
       "  Array(0., dtype=float32, weak_type=True),\n",
       "  Array(0., dtype=float32, weak_type=True),\n",
       "  Array(0., dtype=float32, weak_type=True),\n",
       "  Array(0., dtype=float32, weak_type=True),\n",
       "  Array(0., dtype=float32, weak_type=True),\n",
       "  Array(0., dtype=float32, weak_type=True),\n",
       "  Array(0., dtype=float32, weak_type=True),\n",
       "  Array(0., dtype=float32, weak_type=True),\n",
       "  Array(0., dtype=float32, weak_type=True),\n",
       "  Array(0., dtype=float32, weak_type=True),\n",
       "  Array(0., dtype=float32, weak_type=True),\n",
       "  Array(0., dtype=float32, weak_type=True),\n",
       "  Array(0., dtype=float32, weak_type=True),\n",
       "  Array(0., dtype=float32, weak_type=True),\n",
       "  Array(0., dtype=float32, weak_type=True),\n",
       "  Array(0., dtype=float32, weak_type=True),\n",
       "  Array(0., dtype=float32, weak_type=True),\n",
       "  Array(0., dtype=float32, weak_type=True),\n",
       "  Array(0., dtype=float32, weak_type=True),\n",
       "  Array(1., dtype=float32, weak_type=True)])"
      ]
     },
     "execution_count": 9,
     "metadata": {},
     "output_type": "execute_result"
    }
   ],
   "source": [
    "[(r.data.site_xpos[env.fingertip_id], r.info[\"end_line\"]) for r in rollout]\n",
    "([r.reward for r in rollout[:80]]), [r.done for r in rollout[:80]]"
   ]
  },
  {
   "cell_type": "code",
   "execution_count": 18,
   "id": "a7a3076d",
   "metadata": {},
   "outputs": [
    {
     "data": {
      "text/plain": [
       "[(Array(0., dtype=float32, weak_type=True),\n",
       "  Array(0., dtype=float32, weak_type=True),\n",
       "  Array(0., dtype=float32, weak_type=True)),\n",
       " (Array(1.2995737, dtype=float32),\n",
       "  Array(0., dtype=float32),\n",
       "  Array(1.2995737, dtype=float32)),\n",
       " (Array(1.2629545, dtype=float32),\n",
       "  Array(0., dtype=float32),\n",
       "  Array(1.2629545, dtype=float32)),\n",
       " (Array(1.170342, dtype=float32),\n",
       "  Array(0., dtype=float32),\n",
       "  Array(1.170342, dtype=float32)),\n",
       " (Array(0.9990901, dtype=float32),\n",
       "  Array(0., dtype=float32),\n",
       "  Array(0.9990901, dtype=float32)),\n",
       " (Array(0.7811296, dtype=float32),\n",
       "  Array(0., dtype=float32),\n",
       "  Array(0.7811296, dtype=float32)),\n",
       " (Array(0.6674497, dtype=float32),\n",
       "  Array(0., dtype=float32),\n",
       "  Array(0.6674497, dtype=float32)),\n",
       " (Array(0.6665218, dtype=float32),\n",
       "  Array(0., dtype=float32),\n",
       "  Array(0.6665218, dtype=float32)),\n",
       " (Array(0.66956604, dtype=float32),\n",
       "  Array(0., dtype=float32),\n",
       "  Array(0.66956604, dtype=float32)),\n",
       " (Array(0.66270703, dtype=float32),\n",
       "  Array(0., dtype=float32),\n",
       "  Array(0.66270703, dtype=float32)),\n",
       " (Array(0.66266954, dtype=float32),\n",
       "  Array(0., dtype=float32),\n",
       "  Array(0.66266954, dtype=float32)),\n",
       " (Array(0.6616542, dtype=float32),\n",
       "  Array(0., dtype=float32),\n",
       "  Array(0.6616542, dtype=float32)),\n",
       " (Array(0.6616916, dtype=float32),\n",
       "  Array(0., dtype=float32),\n",
       "  Array(0.6616916, dtype=float32)),\n",
       " (Array(0.662464, dtype=float32),\n",
       "  Array(0., dtype=float32),\n",
       "  Array(0.662464, dtype=float32)),\n",
       " (Array(0.66238767, dtype=float32),\n",
       "  Array(0., dtype=float32),\n",
       "  Array(0.66238767, dtype=float32)),\n",
       " (Array(0.66279155, dtype=float32),\n",
       "  Array(0., dtype=float32),\n",
       "  Array(0.66279155, dtype=float32)),\n",
       " (Array(0.66333026, dtype=float32),\n",
       "  Array(0., dtype=float32),\n",
       "  Array(0.66333026, dtype=float32)),\n",
       " (Array(0.66365457, dtype=float32),\n",
       "  Array(0., dtype=float32),\n",
       "  Array(0.66365457, dtype=float32)),\n",
       " (Array(0.6622647, dtype=float32),\n",
       "  Array(0., dtype=float32),\n",
       "  Array(0.6622647, dtype=float32)),\n",
       " (Array(0.6646941, dtype=float32),\n",
       "  Array(0., dtype=float32),\n",
       "  Array(0.6646941, dtype=float32)),\n",
       " (Array(0.6629542, dtype=float32),\n",
       "  Array(0., dtype=float32),\n",
       "  Array(0.6629542, dtype=float32)),\n",
       " (Array(0.6643914, dtype=float32),\n",
       "  Array(0., dtype=float32),\n",
       "  Array(0.6643914, dtype=float32)),\n",
       " (Array(0.6669413, dtype=float32),\n",
       "  Array(0., dtype=float32),\n",
       "  Array(0.6669413, dtype=float32)),\n",
       " (Array(0.6720622, dtype=float32),\n",
       "  Array(0., dtype=float32),\n",
       "  Array(0.6720622, dtype=float32)),\n",
       " (Array(0.6734679, dtype=float32),\n",
       "  Array(0., dtype=float32),\n",
       "  Array(0.6734679, dtype=float32)),\n",
       " (Array(0.66330004, dtype=float32),\n",
       "  Array(0., dtype=float32),\n",
       "  Array(0.66330004, dtype=float32)),\n",
       " (Array(0.66122174, dtype=float32),\n",
       "  Array(0., dtype=float32),\n",
       "  Array(0.66122174, dtype=float32)),\n",
       " (Array(0.6643638, dtype=float32),\n",
       "  Array(0., dtype=float32),\n",
       "  Array(0.6643638, dtype=float32)),\n",
       " (Array(0.6679502, dtype=float32),\n",
       "  Array(0., dtype=float32),\n",
       "  Array(0.6679502, dtype=float32)),\n",
       " (Array(0.6621699, dtype=float32),\n",
       "  Array(0., dtype=float32),\n",
       "  Array(0.6621699, dtype=float32)),\n",
       " (Array(0.6612161, dtype=float32),\n",
       "  Array(0., dtype=float32),\n",
       "  Array(0.6612161, dtype=float32)),\n",
       " (Array(0.6614621, dtype=float32),\n",
       "  Array(0., dtype=float32),\n",
       "  Array(0.6614621, dtype=float32)),\n",
       " (Array(0.66217554, dtype=float32),\n",
       "  Array(0., dtype=float32),\n",
       "  Array(0.66217554, dtype=float32)),\n",
       " (Array(0.6647815, dtype=float32),\n",
       "  Array(0., dtype=float32),\n",
       "  Array(0.6647815, dtype=float32)),\n",
       " (Array(0.6633615, dtype=float32),\n",
       "  Array(0., dtype=float32),\n",
       "  Array(0.6633615, dtype=float32)),\n",
       " (Array(0.6612609, dtype=float32),\n",
       "  Array(0., dtype=float32),\n",
       "  Array(0.6612609, dtype=float32)),\n",
       " (Array(0.66281784, dtype=float32),\n",
       "  Array(0., dtype=float32),\n",
       "  Array(0.66281784, dtype=float32)),\n",
       " (Array(0.6628695, dtype=float32),\n",
       "  Array(0., dtype=float32),\n",
       "  Array(0.6628695, dtype=float32)),\n",
       " (Array(0.66132784, dtype=float32),\n",
       "  Array(0., dtype=float32),\n",
       "  Array(0.66132784, dtype=float32)),\n",
       " (Array(0.66104144, dtype=float32),\n",
       "  Array(0., dtype=float32),\n",
       "  Array(0.66104144, dtype=float32)),\n",
       " (Array(0.6630136, dtype=float32),\n",
       "  Array(0., dtype=float32),\n",
       "  Array(0.6630136, dtype=float32)),\n",
       " (Array(0.6653379, dtype=float32),\n",
       "  Array(0., dtype=float32),\n",
       "  Array(0.6653379, dtype=float32)),\n",
       " (Array(0.66964006, dtype=float32),\n",
       "  Array(0., dtype=float32),\n",
       "  Array(0.66964006, dtype=float32)),\n",
       " (Array(0.6625812, dtype=float32),\n",
       "  Array(0., dtype=float32),\n",
       "  Array(0.6625812, dtype=float32)),\n",
       " (Array(0.6626158, dtype=float32),\n",
       "  Array(0., dtype=float32),\n",
       "  Array(0.6626158, dtype=float32)),\n",
       " (Array(0.66667515, dtype=float32),\n",
       "  Array(0., dtype=float32),\n",
       "  Array(0.66667515, dtype=float32)),\n",
       " (Array(0.66372156, dtype=float32),\n",
       "  Array(0., dtype=float32),\n",
       "  Array(0.66372156, dtype=float32)),\n",
       " (Array(0.66262317, dtype=float32),\n",
       "  Array(0., dtype=float32),\n",
       "  Array(0.66262317, dtype=float32)),\n",
       " (Array(0.6653986, dtype=float32),\n",
       "  Array(0., dtype=float32),\n",
       "  Array(0.6653986, dtype=float32)),\n",
       " (Array(0.66645634, dtype=float32),\n",
       "  Array(0., dtype=float32),\n",
       "  Array(0.66645634, dtype=float32)),\n",
       " (Array(0.6654559, dtype=float32),\n",
       "  Array(0., dtype=float32),\n",
       "  Array(0.6654559, dtype=float32)),\n",
       " (Array(0.6675759, dtype=float32),\n",
       "  Array(0., dtype=float32),\n",
       "  Array(0.6675759, dtype=float32)),\n",
       " (Array(0.6705441, dtype=float32),\n",
       "  Array(0., dtype=float32),\n",
       "  Array(0.6705441, dtype=float32)),\n",
       " (Array(0.66929466, dtype=float32),\n",
       "  Array(0., dtype=float32),\n",
       "  Array(0.66929466, dtype=float32)),\n",
       " (Array(0.66337276, dtype=float32),\n",
       "  Array(0., dtype=float32),\n",
       "  Array(0.66337276, dtype=float32)),\n",
       " (Array(0.66406906, dtype=float32),\n",
       "  Array(0., dtype=float32),\n",
       "  Array(0.66406906, dtype=float32)),\n",
       " (Array(0.6658784, dtype=float32),\n",
       "  Array(0., dtype=float32),\n",
       "  Array(0.6658784, dtype=float32)),\n",
       " (Array(0.66629785, dtype=float32),\n",
       "  Array(0., dtype=float32),\n",
       "  Array(0.66629785, dtype=float32)),\n",
       " (Array(0.6726172, dtype=float32),\n",
       "  Array(0., dtype=float32),\n",
       "  Array(0.6726172, dtype=float32)),\n",
       " (Array(0.66539425, dtype=float32),\n",
       "  Array(0., dtype=float32),\n",
       "  Array(0.66539425, dtype=float32)),\n",
       " (Array(0.6612226, dtype=float32),\n",
       "  Array(0., dtype=float32),\n",
       "  Array(0.6612226, dtype=float32)),\n",
       " (Array(0.6625325, dtype=float32),\n",
       "  Array(0., dtype=float32),\n",
       "  Array(0.6625325, dtype=float32)),\n",
       " (Array(0.6638402, dtype=float32),\n",
       "  Array(0., dtype=float32),\n",
       "  Array(0.6638402, dtype=float32)),\n",
       " (Array(0.6641085, dtype=float32),\n",
       "  Array(0., dtype=float32),\n",
       "  Array(0.6641085, dtype=float32)),\n",
       " (Array(0.6684289, dtype=float32),\n",
       "  Array(0., dtype=float32),\n",
       "  Array(0.6684289, dtype=float32)),\n",
       " (Array(0.6668416, dtype=float32),\n",
       "  Array(0., dtype=float32),\n",
       "  Array(0.6668416, dtype=float32)),\n",
       " (Array(0.66289055, dtype=float32),\n",
       "  Array(0., dtype=float32),\n",
       "  Array(0.66289055, dtype=float32)),\n",
       " (Array(0.6641977, dtype=float32),\n",
       "  Array(0., dtype=float32),\n",
       "  Array(0.6641977, dtype=float32)),\n",
       " (Array(0.66276646, dtype=float32),\n",
       "  Array(0., dtype=float32),\n",
       "  Array(0.66276646, dtype=float32)),\n",
       " (Array(0.661742, dtype=float32),\n",
       "  Array(0., dtype=float32),\n",
       "  Array(0.661742, dtype=float32)),\n",
       " (Array(0.664345, dtype=float32),\n",
       "  Array(0., dtype=float32),\n",
       "  Array(0.664345, dtype=float32)),\n",
       " (Array(0.66611946, dtype=float32),\n",
       "  Array(0., dtype=float32),\n",
       "  Array(0.66611946, dtype=float32)),\n",
       " (Array(0.6639859, dtype=float32),\n",
       "  Array(0., dtype=float32),\n",
       "  Array(0.6639859, dtype=float32)),\n",
       " (Array(0.6627109, dtype=float32),\n",
       "  Array(0., dtype=float32),\n",
       "  Array(0.6627109, dtype=float32)),\n",
       " (Array(0.6651642, dtype=float32),\n",
       "  Array(0., dtype=float32),\n",
       "  Array(0.6651642, dtype=float32)),\n",
       " (Array(0.66358805, dtype=float32),\n",
       "  Array(0., dtype=float32),\n",
       "  Array(0.66358805, dtype=float32)),\n",
       " (Array(0.66248494, dtype=float32),\n",
       "  Array(0., dtype=float32),\n",
       "  Array(0.66248494, dtype=float32)),\n",
       " (Array(0.66224104, dtype=float32),\n",
       "  Array(0., dtype=float32),\n",
       "  Array(0.66224104, dtype=float32)),\n",
       " (Array(0.665357, dtype=float32),\n",
       "  Array(0., dtype=float32),\n",
       "  Array(0.665357, dtype=float32)),\n",
       " (Array(0.6626702, dtype=float32),\n",
       "  Array(0., dtype=float32),\n",
       "  Array(0.6626702, dtype=float32)),\n",
       " (Array(0.6620592, dtype=float32),\n",
       "  Array(0., dtype=float32),\n",
       "  Array(0.6620592, dtype=float32)),\n",
       " (Array(0., dtype=float32, weak_type=True),\n",
       "  Array(0., dtype=float32, weak_type=True),\n",
       "  Array(0., dtype=float32, weak_type=True)),\n",
       " (Array(1.2995737, dtype=float32),\n",
       "  Array(0., dtype=float32),\n",
       "  Array(1.2995737, dtype=float32)),\n",
       " (Array(1.2629545, dtype=float32),\n",
       "  Array(0., dtype=float32),\n",
       "  Array(1.2629545, dtype=float32)),\n",
       " (Array(1.170342, dtype=float32),\n",
       "  Array(0., dtype=float32),\n",
       "  Array(1.170342, dtype=float32)),\n",
       " (Array(0.9990901, dtype=float32),\n",
       "  Array(0., dtype=float32),\n",
       "  Array(0.9990901, dtype=float32)),\n",
       " (Array(0.7811296, dtype=float32),\n",
       "  Array(0., dtype=float32),\n",
       "  Array(0.7811296, dtype=float32)),\n",
       " (Array(0.6674497, dtype=float32),\n",
       "  Array(0., dtype=float32),\n",
       "  Array(0.6674497, dtype=float32)),\n",
       " (Array(0.6665218, dtype=float32),\n",
       "  Array(0., dtype=float32),\n",
       "  Array(0.6665218, dtype=float32)),\n",
       " (Array(0.66956604, dtype=float32),\n",
       "  Array(0., dtype=float32),\n",
       "  Array(0.66956604, dtype=float32)),\n",
       " (Array(0.6627071, dtype=float32),\n",
       "  Array(0., dtype=float32),\n",
       "  Array(0.6627071, dtype=float32)),\n",
       " (Array(0.66266954, dtype=float32),\n",
       "  Array(0., dtype=float32),\n",
       "  Array(0.66266954, dtype=float32)),\n",
       " (Array(0.66165406, dtype=float32),\n",
       "  Array(0., dtype=float32),\n",
       "  Array(0.66165406, dtype=float32)),\n",
       " (Array(0.66169167, dtype=float32),\n",
       "  Array(0., dtype=float32),\n",
       "  Array(0.66169167, dtype=float32)),\n",
       " (Array(0.6624639, dtype=float32),\n",
       "  Array(0., dtype=float32),\n",
       "  Array(0.6624639, dtype=float32)),\n",
       " (Array(0.6623876, dtype=float32),\n",
       "  Array(0., dtype=float32),\n",
       "  Array(0.6623876, dtype=float32)),\n",
       " (Array(0.6627915, dtype=float32),\n",
       "  Array(0., dtype=float32),\n",
       "  Array(0.6627915, dtype=float32)),\n",
       " (Array(0.66333014, dtype=float32),\n",
       "  Array(0., dtype=float32),\n",
       "  Array(0.66333014, dtype=float32)),\n",
       " (Array(0.6636543, dtype=float32),\n",
       "  Array(0., dtype=float32),\n",
       "  Array(0.6636543, dtype=float32)),\n",
       " (Array(0.6622644, dtype=float32),\n",
       "  Array(0., dtype=float32),\n",
       "  Array(0.6622644, dtype=float32)),\n",
       " (Array(0.6646935, dtype=float32),\n",
       "  Array(0., dtype=float32),\n",
       "  Array(0.6646935, dtype=float32)),\n",
       " (Array(0.6629541, dtype=float32),\n",
       "  Array(0., dtype=float32),\n",
       "  Array(0.6629541, dtype=float32)),\n",
       " (Array(0.6643919, dtype=float32),\n",
       "  Array(0., dtype=float32),\n",
       "  Array(0.6643919, dtype=float32)),\n",
       " (Array(0.6669415, dtype=float32),\n",
       "  Array(0., dtype=float32),\n",
       "  Array(0.6669415, dtype=float32)),\n",
       " (Array(0.67206025, dtype=float32),\n",
       "  Array(0., dtype=float32),\n",
       "  Array(0.67206025, dtype=float32)),\n",
       " (Array(0.6734609, dtype=float32),\n",
       "  Array(0., dtype=float32),\n",
       "  Array(0.6734609, dtype=float32)),\n",
       " (Array(0.6632957, dtype=float32),\n",
       "  Array(0., dtype=float32),\n",
       "  Array(0.6632957, dtype=float32)),\n",
       " (Array(0.66121954, dtype=float32),\n",
       "  Array(0., dtype=float32),\n",
       "  Array(0.66121954, dtype=float32)),\n",
       " (Array(0.66436696, dtype=float32),\n",
       "  Array(0., dtype=float32),\n",
       "  Array(0.66436696, dtype=float32)),\n",
       " (Array(0.66794944, dtype=float32),\n",
       "  Array(0., dtype=float32),\n",
       "  Array(0.66794944, dtype=float32)),\n",
       " (Array(0.66217285, dtype=float32),\n",
       "  Array(0., dtype=float32),\n",
       "  Array(0.66217285, dtype=float32)),\n",
       " (Array(0.66121197, dtype=float32),\n",
       "  Array(0., dtype=float32),\n",
       "  Array(0.66121197, dtype=float32)),\n",
       " (Array(0.66145635, dtype=float32),\n",
       "  Array(0., dtype=float32),\n",
       "  Array(0.66145635, dtype=float32)),\n",
       " (Array(0.66218835, dtype=float32),\n",
       "  Array(0., dtype=float32),\n",
       "  Array(0.66218835, dtype=float32)),\n",
       " (Array(0.66481864, dtype=float32),\n",
       "  Array(0., dtype=float32),\n",
       "  Array(0.66481864, dtype=float32)),\n",
       " (Array(0.6633708, dtype=float32),\n",
       "  Array(0., dtype=float32),\n",
       "  Array(0.6633708, dtype=float32)),\n",
       " (Array(0.66123843, dtype=float32),\n",
       "  Array(0., dtype=float32),\n",
       "  Array(0.66123843, dtype=float32)),\n",
       " (Array(0.6630716, dtype=float32),\n",
       "  Array(0., dtype=float32),\n",
       "  Array(0.6630716, dtype=float32)),\n",
       " (Array(0.6641692, dtype=float32),\n",
       "  Array(0., dtype=float32),\n",
       "  Array(0.6641692, dtype=float32)),\n",
       " (Array(0.6619224, dtype=float32),\n",
       "  Array(0., dtype=float32),\n",
       "  Array(0.6619224, dtype=float32)),\n",
       " (Array(0.6612248, dtype=float32),\n",
       "  Array(0., dtype=float32),\n",
       "  Array(0.6612248, dtype=float32)),\n",
       " (Array(0.6637365, dtype=float32),\n",
       "  Array(0., dtype=float32),\n",
       "  Array(0.6637365, dtype=float32)),\n",
       " (Array(0.66465, dtype=float32),\n",
       "  Array(0., dtype=float32),\n",
       "  Array(0.66465, dtype=float32)),\n",
       " (Array(0.6664344, dtype=float32),\n",
       "  Array(0., dtype=float32),\n",
       "  Array(0.6664344, dtype=float32)),\n",
       " (Array(0.6616363, dtype=float32),\n",
       "  Array(0., dtype=float32),\n",
       "  Array(0.6616363, dtype=float32)),\n",
       " (Array(0.66172385, dtype=float32),\n",
       "  Array(0., dtype=float32),\n",
       "  Array(0.66172385, dtype=float32)),\n",
       " (Array(0.6653158, dtype=float32),\n",
       "  Array(0., dtype=float32),\n",
       "  Array(0.6653158, dtype=float32)),\n",
       " (Array(0.6643004, dtype=float32),\n",
       "  Array(0., dtype=float32),\n",
       "  Array(0.6643004, dtype=float32)),\n",
       " (Array(0.6628852, dtype=float32),\n",
       "  Array(0., dtype=float32),\n",
       "  Array(0.6628852, dtype=float32)),\n",
       " (Array(0.6620231, dtype=float32),\n",
       "  Array(0., dtype=float32),\n",
       "  Array(0.6620231, dtype=float32)),\n",
       " (Array(0.6688768, dtype=float32),\n",
       "  Array(0., dtype=float32),\n",
       "  Array(0.6688768, dtype=float32)),\n",
       " (Array(0.6683486, dtype=float32),\n",
       "  Array(0., dtype=float32),\n",
       "  Array(0.6683486, dtype=float32)),\n",
       " (Array(0.668973, dtype=float32),\n",
       "  Array(0., dtype=float32),\n",
       "  Array(0.668973, dtype=float32)),\n",
       " (Array(0.6647916, dtype=float32),\n",
       "  Array(0., dtype=float32),\n",
       "  Array(0.6647916, dtype=float32)),\n",
       " (Array(0.6653874, dtype=float32),\n",
       "  Array(0., dtype=float32),\n",
       "  Array(0.6653874, dtype=float32)),\n",
       " (Array(0.6698093, dtype=float32),\n",
       "  Array(0., dtype=float32),\n",
       "  Array(0.6698093, dtype=float32)),\n",
       " (Array(0.6636285, dtype=float32),\n",
       "  Array(0., dtype=float32),\n",
       "  Array(0.6636285, dtype=float32)),\n",
       " (Array(0.66422373, dtype=float32),\n",
       "  Array(0., dtype=float32),\n",
       "  Array(0.66422373, dtype=float32)),\n",
       " (Array(0.6664112, dtype=float32),\n",
       "  Array(0., dtype=float32),\n",
       "  Array(0.6664112, dtype=float32)),\n",
       " (Array(0.6679141, dtype=float32),\n",
       "  Array(0., dtype=float32),\n",
       "  Array(0.6679141, dtype=float32)),\n",
       " (Array(0.67207634, dtype=float32),\n",
       "  Array(0., dtype=float32),\n",
       "  Array(0.67207634, dtype=float32)),\n",
       " (Array(0.6683319, dtype=float32),\n",
       "  Array(0., dtype=float32),\n",
       "  Array(0.6683319, dtype=float32)),\n",
       " (Array(0.66810644, dtype=float32),\n",
       "  Array(0., dtype=float32),\n",
       "  Array(0.66810644, dtype=float32)),\n",
       " (Array(0.67325234, dtype=float32),\n",
       "  Array(0., dtype=float32),\n",
       "  Array(0.67325234, dtype=float32)),\n",
       " (Array(0.6649942, dtype=float32),\n",
       "  Array(0., dtype=float32),\n",
       "  Array(0.6649942, dtype=float32)),\n",
       " (Array(0.6623732, dtype=float32),\n",
       "  Array(0., dtype=float32),\n",
       "  Array(0.6623732, dtype=float32)),\n",
       " (Array(0.6636398, dtype=float32),\n",
       "  Array(0., dtype=float32),\n",
       "  Array(0.6636398, dtype=float32)),\n",
       " (Array(0.6622617, dtype=float32),\n",
       "  Array(0., dtype=float32),\n",
       "  Array(0.6622617, dtype=float32)),\n",
       " (Array(0.6616637, dtype=float32),\n",
       "  Array(0., dtype=float32),\n",
       "  Array(0.6616637, dtype=float32)),\n",
       " (Array(0.662759, dtype=float32),\n",
       "  Array(0., dtype=float32),\n",
       "  Array(0.662759, dtype=float32)),\n",
       " (Array(0.6618976, dtype=float32),\n",
       "  Array(0., dtype=float32),\n",
       "  Array(0.6618976, dtype=float32)),\n",
       " (Array(0.6614607, dtype=float32),\n",
       "  Array(0., dtype=float32),\n",
       "  Array(0.6614607, dtype=float32)),\n",
       " (Array(0.6647911, dtype=float32),\n",
       "  Array(0., dtype=float32),\n",
       "  Array(0.6647911, dtype=float32)),\n",
       " (Array(0.6647216, dtype=float32),\n",
       "  Array(0., dtype=float32),\n",
       "  Array(0.6647216, dtype=float32)),\n",
       " (Array(0.66128725, dtype=float32),\n",
       "  Array(0., dtype=float32),\n",
       "  Array(0.66128725, dtype=float32)),\n",
       " (Array(0.661306, dtype=float32),\n",
       "  Array(0., dtype=float32),\n",
       "  Array(0.661306, dtype=float32)),\n",
       " (Array(0.6643754, dtype=float32),\n",
       "  Array(0., dtype=float32),\n",
       "  Array(0.6643754, dtype=float32)),\n",
       " (Array(0.66333354, dtype=float32),\n",
       "  Array(0., dtype=float32),\n",
       "  Array(0.66333354, dtype=float32)),\n",
       " (Array(0.66640013, dtype=float32),\n",
       "  Array(0., dtype=float32),\n",
       "  Array(0.66640013, dtype=float32)),\n",
       " (Array(0.6697428, dtype=float32),\n",
       "  Array(0., dtype=float32),\n",
       "  Array(0.6697428, dtype=float32)),\n",
       " (Array(0.66972715, dtype=float32),\n",
       "  Array(0., dtype=float32),\n",
       "  Array(0.66972715, dtype=float32)),\n",
       " (Array(0.6701896, dtype=float32),\n",
       "  Array(0., dtype=float32),\n",
       "  Array(0.6701896, dtype=float32))]"
      ]
     },
     "execution_count": 18,
     "metadata": {},
     "output_type": "execute_result"
    }
   ],
   "source": [
    "[(r.metrics['distance_phase_0'], r.metrics['distance_phase_1'], r.metrics['dist']) for r in rollout]\n",
    "# [(r.obs['proprioception'][15:18], r.obs['proprioception'][50:53], r.metrics['con_1_touching_screen']) for r in rollout]\n"
   ]
  },
  {
   "cell_type": "code",
   "execution_count": 49,
   "id": "38e61624",
   "metadata": {},
   "outputs": [
    {
     "data": {
      "text/plain": [
       "(True, [{'fingertip_contact', 'screen'}])"
      ]
     },
     "execution_count": 49,
     "metadata": {},
     "output_type": "execute_result"
    }
   ],
   "source": [
    "touch_detected = any([{eval_env.mj_model.geom(con[0]).name, eval_env.mj_model.geom(con[1]).name} == {\"fingertip_contact\", \"screen\"} for con in state.data._impl.contact.geom])\n",
    "touches = [{eval_env.mj_model.geom(con[0]).name, eval_env.mj_model.geom(con[1]).name} for con in state.data._impl.contact.geom]\n",
    "\n",
    "touch_detected, touches"
   ]
  },
  {
   "cell_type": "code",
   "execution_count": 51,
   "id": "68aaeedb",
   "metadata": {},
   "outputs": [
    {
     "data": {
      "text/plain": [
       "Array([1.], dtype=float32)"
      ]
     },
     "execution_count": 51,
     "metadata": {},
     "output_type": "execute_result"
    }
   ],
   "source": [
    "state.data._impl.contact.dist"
   ]
  },
  {
   "cell_type": "code",
   "execution_count": 41,
   "id": "fc819166",
   "metadata": {},
   "outputs": [
    {
     "data": {
      "text/plain": [
       "<bound method PyCapsule.geom of <mujoco._structs.MjModel object at 0x7749d83c61b0>>"
      ]
     },
     "execution_count": 41,
     "metadata": {},
     "output_type": "execute_result"
    }
   ],
   "source": [
    "eval_env.mj_model.geom"
   ]
  },
  {
   "cell_type": "code",
   "execution_count": 26,
   "id": "8eaf5d34",
   "metadata": {},
   "outputs": [
    {
     "data": {
      "text/plain": [
       "(np.float32(-0.09992059), np.float64(-0.09999996940976795))"
      ]
     },
     "execution_count": 26,
     "metadata": {},
     "output_type": "execute_result"
    }
   ],
   "source": [
    "# eval_key, reset_keys = jax.random.split(eval_key)\n",
    "# state = jit_reset(reset_keys)\n",
    "# eval_key, key = jax.random.split(eval_key)\n",
    "# ctrl, _ = jit_inference_fn(state.obs, key)  #VARIANT 1\n",
    "state = jit_step(state, ctrl)\n",
    "state.metrics[\"dist_combined\"]\n",
    "(np.exp(-state.metrics[\"dist_combined\"]*10.) - 1.)/10., (np.exp(-1.5*10.) - 1.)/10."
   ]
  },
  {
   "cell_type": "code",
   "execution_count": 33,
   "id": "893fc547",
   "metadata": {},
   "outputs": [
    {
     "data": {
      "text/plain": [
       "(np.float64(0.2465969639416065), np.float64(0.049787068367863944))"
      ]
     },
     "execution_count": 33,
     "metadata": {},
     "output_type": "execute_result"
    }
   ],
   "source": [
    "np.exp(-0.7*2), (np.exp(-1.5*2))"
   ]
  },
  {
   "cell_type": "code",
   "execution_count": 17,
   "id": "d4fbf4a9",
   "metadata": {},
   "outputs": [
    {
     "data": {
      "text/plain": [
       "[(Array(False, dtype=bool), Array(0., dtype=float32)),\n",
       " (Array(False, dtype=bool), Array(-0.09999998, dtype=float32)),\n",
       " (Array(False, dtype=bool), Array(-0.09999997, dtype=float32)),\n",
       " (Array(False, dtype=bool), Array(-0.09999994, dtype=float32)),\n",
       " (Array(False, dtype=bool), Array(-0.09999982, dtype=float32)),\n",
       " (Array(False, dtype=bool), Array(-0.09999924, dtype=float32)),\n",
       " (Array(False, dtype=bool), Array(-0.09999751, dtype=float32)),\n",
       " (Array(False, dtype=bool), Array(-0.09999336, dtype=float32)),\n",
       " (Array(False, dtype=bool), Array(-0.09998853, dtype=float32)),\n",
       " (Array(False, dtype=bool), Array(-0.09998377, dtype=float32)),\n",
       " (Array(False, dtype=bool), Array(-0.0999779, dtype=float32)),\n",
       " (Array(False, dtype=bool), Array(-0.09997098, dtype=float32)),\n",
       " (Array(False, dtype=bool), Array(-0.0999607, dtype=float32)),\n",
       " (Array(False, dtype=bool), Array(-0.09995576, dtype=float32)),\n",
       " (Array(False, dtype=bool), Array(-0.0999537, dtype=float32)),\n",
       " (Array(False, dtype=bool), Array(-0.0999264, dtype=float32)),\n",
       " (Array(True, dtype=bool), Array(4.900092, dtype=float32)),\n",
       " (Array(True, dtype=bool), Array(4.9000916, dtype=float32)),\n",
       " (Array(True, dtype=bool), Array(4.9000926, dtype=float32)),\n",
       " (Array(True, dtype=bool), Array(4.900093, dtype=float32)),\n",
       " (Array(True, dtype=bool), Array(4.9000926, dtype=float32)),\n",
       " (Array(True, dtype=bool), Array(4.9000907, dtype=float32)),\n",
       " (Array(True, dtype=bool), Array(4.9000893, dtype=float32)),\n",
       " (Array(True, dtype=bool), Array(4.9000897, dtype=float32)),\n",
       " (Array(True, dtype=bool), Array(4.9000907, dtype=float32)),\n",
       " (Array(True, dtype=bool), Array(4.900092, dtype=float32)),\n",
       " (Array(True, dtype=bool), Array(4.9000926, dtype=float32)),\n",
       " (Array(True, dtype=bool), Array(4.900092, dtype=float32)),\n",
       " (Array(True, dtype=bool), Array(4.9000897, dtype=float32)),\n",
       " (Array(True, dtype=bool), Array(4.9000883, dtype=float32)),\n",
       " (Array(True, dtype=bool), Array(4.9000893, dtype=float32)),\n",
       " (Array(True, dtype=bool), Array(4.90009, dtype=float32)),\n",
       " (Array(True, dtype=bool), Array(4.900091, dtype=float32)),\n",
       " (Array(True, dtype=bool), Array(4.900092, dtype=float32)),\n",
       " (Array(True, dtype=bool), Array(4.9000916, dtype=float32)),\n",
       " (Array(True, dtype=bool), Array(4.9000897, dtype=float32)),\n",
       " (Array(True, dtype=bool), Array(4.9000883, dtype=float32)),\n",
       " (Array(True, dtype=bool), Array(4.9000893, dtype=float32)),\n",
       " (Array(True, dtype=bool), Array(4.9000897, dtype=float32)),\n",
       " (Array(True, dtype=bool), Array(4.900091, dtype=float32)),\n",
       " (Array(True, dtype=bool), Array(4.900092, dtype=float32)),\n",
       " (Array(True, dtype=bool), Array(4.900091, dtype=float32)),\n",
       " (Array(True, dtype=bool), Array(4.9000893, dtype=float32)),\n",
       " (Array(True, dtype=bool), Array(4.900088, dtype=float32)),\n",
       " (Array(True, dtype=bool), Array(4.9000883, dtype=float32)),\n",
       " (Array(True, dtype=bool), Array(4.9000893, dtype=float32)),\n",
       " (Array(True, dtype=bool), Array(4.9000907, dtype=float32)),\n",
       " (Array(True, dtype=bool), Array(4.9000916, dtype=float32)),\n",
       " (Array(True, dtype=bool), Array(4.9000907, dtype=float32)),\n",
       " (Array(True, dtype=bool), Array(4.900089, dtype=float32)),\n",
       " (Array(True, dtype=bool), Array(4.900088, dtype=float32)),\n",
       " (Array(True, dtype=bool), Array(4.900089, dtype=float32)),\n",
       " (Array(True, dtype=bool), Array(4.9000893, dtype=float32)),\n",
       " (Array(True, dtype=bool), Array(4.9000907, dtype=float32)),\n",
       " (Array(True, dtype=bool), Array(4.9000916, dtype=float32)),\n",
       " (Array(True, dtype=bool), Array(4.9000907, dtype=float32)),\n",
       " (Array(True, dtype=bool), Array(4.900089, dtype=float32)),\n",
       " (Array(True, dtype=bool), Array(4.900088, dtype=float32)),\n",
       " (Array(True, dtype=bool), Array(4.900089, dtype=float32)),\n",
       " (Array(True, dtype=bool), Array(4.9000893, dtype=float32)),\n",
       " (Array(True, dtype=bool), Array(4.9000907, dtype=float32)),\n",
       " (Array(True, dtype=bool), Array(4.9000916, dtype=float32)),\n",
       " (Array(True, dtype=bool), Array(4.900091, dtype=float32)),\n",
       " (Array(True, dtype=bool), Array(4.900089, dtype=float32)),\n",
       " (Array(True, dtype=bool), Array(4.900088, dtype=float32)),\n",
       " (Array(True, dtype=bool), Array(4.9000883, dtype=float32)),\n",
       " (Array(True, dtype=bool), Array(4.9000893, dtype=float32)),\n",
       " (Array(True, dtype=bool), Array(4.9000907, dtype=float32)),\n",
       " (Array(True, dtype=bool), Array(4.9000916, dtype=float32)),\n",
       " (Array(True, dtype=bool), Array(4.9000907, dtype=float32)),\n",
       " (Array(True, dtype=bool), Array(4.900089, dtype=float32)),\n",
       " (Array(True, dtype=bool), Array(4.9000874, dtype=float32)),\n",
       " (Array(True, dtype=bool), Array(4.9000883, dtype=float32)),\n",
       " (Array(True, dtype=bool), Array(4.9000893, dtype=float32)),\n",
       " (Array(True, dtype=bool), Array(4.9000907, dtype=float32)),\n",
       " (Array(True, dtype=bool), Array(4.9000916, dtype=float32)),\n",
       " (Array(True, dtype=bool), Array(4.9000907, dtype=float32)),\n",
       " (Array(True, dtype=bool), Array(4.900089, dtype=float32)),\n",
       " (Array(True, dtype=bool), Array(4.900088, dtype=float32)),\n",
       " (Array(True, dtype=bool), Array(4.9000883, dtype=float32)),\n",
       " (Array(True, dtype=bool), Array(4.9000893, dtype=float32))]"
      ]
     },
     "execution_count": 17,
     "metadata": {},
     "output_type": "execute_result"
    }
   ],
   "source": [
    "np.where([r.info[\"phase_0_done\"] for r in rollout])[0][0]*env.unwrapped._ctrl_dt\n",
    "[(r.info[\"phase_0_done\"], r.reward) for r in rollout]"
   ]
  },
  {
   "cell_type": "code",
   "execution_count": 22,
   "id": "b52426c8",
   "metadata": {},
   "outputs": [
    {
     "data": {
      "text/plain": [
       "([Array([ 0.26876748, -0.24839334,  0.79923654], dtype=float32),\n",
       "  Array([ 0.26876748, -0.24839334,  0.79923654], dtype=float32),\n",
       "  Array([ 0.26876748, -0.24839334,  0.79923654], dtype=float32),\n",
       "  Array([ 0.26876748, -0.24839334,  0.79923654], dtype=float32),\n",
       "  Array([ 0.26876748, -0.24839334,  0.79923654], dtype=float32),\n",
       "  Array([ 0.26876748, -0.24839334,  0.79923654], dtype=float32),\n",
       "  Array([ 0.26876748, -0.24839334,  0.79923654], dtype=float32),\n",
       "  Array([ 0.26876748, -0.24839334,  0.79923654], dtype=float32),\n",
       "  Array([ 0.26876748, -0.24839334,  0.79923654], dtype=float32),\n",
       "  Array([ 0.26876748, -0.24839334,  0.79923654], dtype=float32),\n",
       "  Array([ 0.26876748, -0.24839334,  0.79923654], dtype=float32),\n",
       "  Array([ 0.26876748, -0.24839334,  0.79923654], dtype=float32),\n",
       "  Array([ 0.26876748, -0.24839334,  0.79923654], dtype=float32)],\n",
       " [Array([ 0.03493699, -0.198526  ,  0.28504306], dtype=float32),\n",
       "  Array([ 0.05467008, -0.20556903,  0.2879694 ], dtype=float32),\n",
       "  Array([ 0.12839839, -0.21615738,  0.30747497], dtype=float32),\n",
       "  Array([ 0.25338876, -0.2480327 ,  0.38547328], dtype=float32),\n",
       "  Array([ 0.35608405, -0.26248986,  0.5322279 ], dtype=float32),\n",
       "  Array([ 0.3817351 , -0.24343966,  0.67996335], dtype=float32),\n",
       "  Array([ 0.3471588 , -0.19892067,  0.7906286 ], dtype=float32),\n",
       "  Array([ 0.31936902, -0.21280576,  0.81041855], dtype=float32),\n",
       "  Array([ 0.30544874, -0.2563585 ,  0.8026124 ], dtype=float32),\n",
       "  Array([ 0.2788391 , -0.25173664,  0.81372756], dtype=float32),\n",
       "  Array([ 0.26248008, -0.25572088,  0.8137799 ], dtype=float32),\n",
       "  Array([ 0.25404978, -0.25700277,  0.81358284], dtype=float32),\n",
       "  Array([ 0.25229353, -0.25338423,  0.8163977 ], dtype=float32)])"
      ]
     },
     "execution_count": 22,
     "metadata": {},
     "output_type": "execute_result"
    }
   ],
   "source": [
    "[i.info[\"target_pos\"] for i in rollout], [_i.obs[\"proprioception\"][15:18] for _i in rollout]"
   ]
  },
  {
   "cell_type": "code",
   "execution_count": 11,
   "id": "755b836e",
   "metadata": {},
   "outputs": [
    {
     "data": {
      "text/plain": [
       "np.float32(7.423525)"
      ]
     },
     "execution_count": 11,
     "metadata": {},
     "output_type": "execute_result"
    }
   ],
   "source": [
    "np.sum(rewards)"
   ]
  },
  {
   "cell_type": "code",
   "execution_count": null,
   "id": "64928ed0",
   "metadata": {},
   "outputs": [],
   "source": []
  }
 ],
 "metadata": {
  "kernelspec": {
   "display_name": "Python 3",
   "language": "python",
   "name": "python3"
  },
  "language_info": {
   "codemirror_mode": {
    "name": "ipython",
    "version": 3
   },
   "file_extension": ".py",
   "mimetype": "text/x-python",
   "name": "python",
   "nbconvert_exporter": "python",
   "pygments_lexer": "ipython3",
   "version": "3.11.13"
  }
 },
 "nbformat": 4,
 "nbformat_minor": 5
}
