{
 "cells": [
  {
   "cell_type": "code",
   "execution_count": 1,
   "id": "0bbf96b8",
   "metadata": {},
   "outputs": [
    {
     "name": "stdout",
     "output_type": "stream",
     "text": [
      "env: MUJOCO_GL=egl\n"
     ]
    }
   ],
   "source": [
    "%env MUJOCO_GL=egl\n",
    "\n",
    "import os\n",
    "os.environ[\"XLA_PYTHON_CLIENT_MEM_FRACTION\"] = \".20\"  #restrict JAX to 20% of available GPU RAM; useful for loading MyoSuite and UitB policies simultaneously"
   ]
  },
  {
   "cell_type": "code",
   "execution_count": 2,
   "id": "eaedc17e",
   "metadata": {},
   "outputs": [
    {
     "name": "stdout",
     "output_type": "stream",
     "text": [
      "MyoSuite:> Registering Myo Envs\n",
      "MyoSuite:> Registering MyoUser Envs\n"
     ]
    }
   ],
   "source": [
    "import mujoco\n",
    "from mujoco import mjx\n",
    "\n",
    "import numpy as np\n",
    "from brax import envs\n",
    "# from brax.training.acme.running_statistics import normalize\n",
    "# from brax.training.acme import running_statistics\n",
    "# from brax.io import model\n",
    "# from etils import epath\n",
    "import functools\n",
    "\n",
    "import myosuite\n",
    "# from myosuite.envs.myo.myouser.utils import update_target_visuals\n",
    "from myosuite.train.utils.train import train_or_load_checkpoint\n",
    "from myosuite.envs.myo.myouser.utils import evaluate_policy, render_traj\n",
    "import mediapy as media\n",
    "\n",
    "import jax\n",
    "import jax.numpy as jp\n",
    "\n",
    "from mujoco_playground import wrapper, registry\n",
    "from ml_collections import ConfigDict\n",
    "import json\n",
    "\n",
    "myo_path = os.path.dirname(os.path.dirname(myosuite.__file__))\n",
    "os.chdir(myo_path)"
   ]
  },
  {
   "cell_type": "code",
   "execution_count": null,
   "id": "c7bb872f",
   "metadata": {},
   "outputs": [],
   "source": [
    "## if module functions need to be reimported...\n",
    "\n",
    "# import sys, importlib\n",
    "# importlib.reload(sys.modules['myosuite.envs.myo.myouser.utils'])\n",
    "# from myosuite.envs.myo.myouser.utils import evaluate_policy, render_traj"
   ]
  },
  {
   "cell_type": "code",
   "execution_count": 3,
   "id": "24566bbf",
   "metadata": {},
   "outputs": [
    {
     "name": "stdout",
     "output_type": "stream",
     "text": [
      "Fri Aug 15 23:22:25 2025       \n",
      "+-----------------------------------------------------------------------------------------+\n",
      "| NVIDIA-SMI 570.158.01             Driver Version: 570.158.01     CUDA Version: 12.8     |\n",
      "|-----------------------------------------+------------------------+----------------------+\n",
      "| GPU  Name                 Persistence-M | Bus-Id          Disp.A | Volatile Uncorr. ECC |\n",
      "| Fan  Temp   Perf          Pwr:Usage/Cap |           Memory-Usage | GPU-Util  Compute M. |\n",
      "|                                         |                        |               MIG M. |\n",
      "|=========================================+========================+======================|\n",
      "|   0  NVIDIA GeForce RTX 5090        On  |   00000000:01:00.0 Off |                  N/A |\n",
      "| 32%   49C    P1             66W /  600W |    1059MiB /  32607MiB |      0%      Default |\n",
      "|                                         |                        |                  N/A |\n",
      "+-----------------------------------------+------------------------+----------------------+\n",
      "                                                                                         \n",
      "+-----------------------------------------------------------------------------------------+\n",
      "| Processes:                                                                              |\n",
      "|  GPU   GI   CI              PID   Type   Process name                        GPU Memory |\n",
      "|        ID   ID                                                               Usage      |\n",
      "|=========================================================================================|\n",
      "|    0   N/A  N/A           77338      G   /usr/lib/xorg/Xorg                       76MiB |\n",
      "|    0   N/A  N/A           77576      G   /usr/bin/gnome-shell                     12MiB |\n",
      "|    0   N/A  N/A           78428      G   /usr/bin/nautilus                        52MiB |\n",
      "|    0   N/A  N/A         1561887      C   python                                  880MiB |\n",
      "+-----------------------------------------------------------------------------------------+\n",
      "Setting environment variable to use GPU rendering:\n",
      "env: MUJOCO_GL=egl\n",
      "Checking that the installation succeeded:\n",
      "Installation successful.\n"
     ]
    }
   ],
   "source": [
    "# @title Check if MuJoCo installation was successful\n",
    "\n",
    "import distutils.util\n",
    "import os\n",
    "import subprocess\n",
    "\n",
    "if subprocess.run('nvidia-smi').returncode:\n",
    "  raise RuntimeError(\n",
    "      'Cannot communicate with GPU. '\n",
    "      'Make sure you are using a GPU Colab runtime. '\n",
    "      'Go to the Runtime menu and select Choose runtime type.'\n",
    "  )\n",
    "\n",
    "# Add an ICD config so that glvnd can pick up the Nvidia EGL driver.\n",
    "# This is usually installed as part of an Nvidia driver package, but the Colab\n",
    "# kernel doesn't install its driver via APT, and as a result the ICD is missing.\n",
    "# (https://github.com/NVIDIA/libglvnd/blob/master/src/EGL/icd_enumeration.md)\n",
    "NVIDIA_ICD_CONFIG_PATH = '/usr/share/glvnd/egl_vendor.d/10_nvidia.json'\n",
    "if not os.path.exists(NVIDIA_ICD_CONFIG_PATH):\n",
    "  with open(NVIDIA_ICD_CONFIG_PATH, 'w') as f:\n",
    "    f.write(\"\"\"{\n",
    "    \"file_format_version\" : \"1.0.0\",\n",
    "    \"ICD\" : {\n",
    "        \"library_path\" : \"libEGL_nvidia.so.0\"\n",
    "    }\n",
    "}\n",
    "\"\"\")\n",
    "\n",
    "# Configure MuJoCo to use the EGL rendering backend (requires GPU)\n",
    "print('Setting environment variable to use GPU rendering:')\n",
    "%env MUJOCO_GL=egl\n",
    "\n",
    "try:\n",
    "  print('Checking that the installation succeeded:')\n",
    "  import mujoco\n",
    "\n",
    "  mujoco.MjModel.from_xml_string('<mujoco/>')\n",
    "except Exception as e:\n",
    "  raise e from RuntimeError(\n",
    "      'Something went wrong during installation. Check the shell output above '\n",
    "      'for more information.\\n'\n",
    "      'If using a hosted Colab runtime, make sure you enable GPU acceleration '\n",
    "      'by going to the Runtime menu and selecting \"Choose runtime type\".'\n",
    "  )\n",
    "\n",
    "print('Installation successful.')\n",
    "\n",
    "# Tell XLA to use Triton GEMM, this improves steps/sec by ~30% on some GPUs\n",
    "xla_flags = os.environ.get('XLA_FLAGS', '')\n",
    "xla_flags += ' --xla_gpu_triton_gemm_any=True'\n",
    "os.environ['XLA_FLAGS'] = xla_flags"
   ]
  },
  {
   "cell_type": "code",
   "execution_count": null,
   "id": "6adc215d",
   "metadata": {},
   "outputs": [],
   "source": [
    "%reload_ext tensorboard\n",
    "%tensorboard --logdir ./logs/ --port 6006"
   ]
  },
  {
   "cell_type": "code",
   "execution_count": 7,
   "id": "8f2bbd80",
   "metadata": {},
   "outputs": [],
   "source": [
    "# params[1][\"params\"][\"hidden_3\"][\"kernel\"].shape"
   ]
  },
  {
   "cell_type": "markdown",
   "id": "f42ae8a5",
   "metadata": {},
   "source": [
    "Load Environment"
   ]
  },
  {
   "cell_type": "code",
   "execution_count": 4,
   "id": "77845a32",
   "metadata": {},
   "outputs": [
    {
     "name": "stdout",
     "output_type": "stream",
     "text": [
      "Current backend: gpu\n"
     ]
    }
   ],
   "source": [
    "# env_name = \"MyoUserPointing\"\n",
    "env_name = \"MyoUserSteering\"\n",
    "\n",
    "print(f\"Current backend: {jax.default_backend()}\")"
   ]
  },
  {
   "cell_type": "code",
   "execution_count": 37,
   "id": "7d523740",
   "metadata": {},
   "outputs": [
    {
     "name": "stdout",
     "output_type": "stream",
     "text": [
      "Restoring from: /scratch/fjf33/myouser/logs/MyoUserSteering-20250815-232641-Testv002hNoCollision80and50fixedoffset0.5Collision/checkpoints/15001600\n",
      "Checkpoint path: /scratch/fjf33/myouser/logs/MyoUserSteering-20250815-232641-Testv002hNoCollision80and50fixedoffset0.5Collision/checkpoints\n",
      "No vision, so adding ['screen_pos', 'start_line', 'end_line', 'top_line', 'bottom_line', 'completed_phase_0_arr', 'target'] to obs_keys\n",
      "Obs keys: ['qpos', 'qvel', 'qacc', 'fingertip', 'act', 'screen_pos', 'start_line', 'end_line', 'top_line', 'bottom_line', 'completed_phase_0_arr', 'target']\n",
      "No vision, so adding ['screen_pos', 'start_line', 'end_line', 'top_line', 'bottom_line', 'completed_phase_0_arr', 'target'] to obs_keys\n",
      "Obs keys: ['qpos', 'qvel', 'qacc', 'fingertip', 'act', 'screen_pos', 'start_line', 'end_line', 'top_line', 'bottom_line', 'completed_phase_0_arr', 'target']\n"
     ]
    }
   ],
   "source": [
    "## VARIANT 1: load env, and load params from latest run \n",
    "# Note: load_checkpoint always loads latest checkpoint from this run\n",
    "\n",
    "# checkpoint_path = \"logs/MyoUserPointing-20250718-200508/checkpoints\"\n",
    "# checkpoint_path = \"logs/MyoUserPointing-20250721-221417/checkpoints\"\n",
    "# checkpoint_path = \"logs/MyoUserPointing-20250723-150450-MyoUserBase/checkpoints\"\n",
    "# checkpoint_path = \"logs/MyoUserSteering-20250726-224307-FixedRewardv2/checkpoints\"\n",
    "# checkpoint_path = \"logs/MyoUserSteering-20250815-230528-Testv002hNoCollision80and50fixedoffset0.5/checkpoints\"\n",
    "checkpoint_path = \"logs/MyoUserSteering-20250815-232641-Testv002hNoCollision80and50fixedoffset0.5Collision/checkpoints\"\n",
    "# checkpoint_path = get_latest_run_path(\"logs/\")\n",
    "\n",
    "# env_cfg = registry.get_default_config(env_name)\n",
    "with open(os.path.join(checkpoint_path, \"config.json\"), \"r\") as f:\n",
    "    env_cfg = ConfigDict(json.load(f))\n",
    "env, make_inference_fn, params = train_or_load_checkpoint(env_name, env_cfg, ppo_params=env_cfg.ppo_config, eval_mode=True, checkpoint_path=checkpoint_path)\n",
    "jit_inference_fn = jax.jit(make_inference_fn(params, deterministic=True))\n",
    "jit_reset = jax.jit(env.reset)\n",
    "jit_step = jax.jit(env.step)"
   ]
  },
  {
   "cell_type": "code",
   "execution_count": 43,
   "id": "1398a4b2",
   "metadata": {},
   "outputs": [
    {
     "name": "stderr",
     "output_type": "stream",
     "text": [
      "  0%|          | 0/10 [00:00<?, ?it/s]"
     ]
    },
    {
     "name": "stderr",
     "output_type": "stream",
     "text": [
      "100%|██████████| 10/10 [00:00<00:00, 582.70it/s]\n"
     ]
    },
    {
     "data": {
      "text/html": [
       "<table class=\"show_videos\" style=\"border-spacing:0px;\"><tr><td style=\"padding:1px;\"><video controls width=\"320\" height=\"240\" style=\"object-fit:cover;\" loop autoplay muted>\n",
       "      <source src=\"data:video/mp4;base64,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\" type=\"video/mp4\"/>\n",
       "      This browser does not support the video tag.\n",
       "      </video></td></tr></table>"
      ],
      "text/plain": [
       "<IPython.core.display.HTML object>"
      ]
     },
     "metadata": {},
     "output_type": "display_data"
    }
   ],
   "source": [
    "## Replay stored video\n",
    "rollout_stored = np.load(os.path.join(checkpoint_path, \"../traj.pickle\"), allow_pickle=True)\n",
    "render_traj(rollout_stored, eval_env=env)  #, camera=None)\n",
    "\n",
    "# frames = env.render(rollout_stored) #, camera=\"fixed-eye\") #, modify_scene_fns=mod_fns)\n",
    "# rewards = [s.reward for s in rollout_stored]\n",
    "# print(sum(rewards))\n",
    "# media.show_video(frames, fps=1.0 / env.dt)"
   ]
  },
  {
   "cell_type": "code",
   "execution_count": 6,
   "id": "7d554ff3",
   "metadata": {},
   "outputs": [],
   "source": [
    "# ## VARIANT 2: load params from pickle file\n",
    "\n",
    "# env_cfg = registry.get_default_config(env_name)\n",
    "# env = registry.load(env_name, config=env_cfg)\n",
    "\n",
    "# #param_path = os.path.join(os.path.dirname(checkpoint_path), 'playground_params.pickle')\n",
    "# param_path = \"/scratch/fjf33/myosuite_ankit/myosuite-mjx-policies/myouserbase_params\"\n",
    "\n",
    "# normalize_observations = True\n",
    "# ppo_network = custom_network_factory(\n",
    "#     obs_shape=get_observation_size(),  # Example observation shape\n",
    "#     action_size=26,  # Example action size,\n",
    "#     policy_hidden_layer_sizes=(256, 256),  #(50, 50, 50),\n",
    "#     value_hidden_layer_sizes=(256, 256),  #(50, 50, 50),\n",
    "#     preprocess_observations_fn=running_statistics.normalize if normalize_observations else lambda x, y: x  # Identity function for preprocessing\n",
    "# )\n",
    "\n",
    "# params = model.load_params(param_path)\n",
    "# def deterministic_policy(input_data):\n",
    "#     logits = ppo_network.policy_network.apply(*params[:2], input_data)\n",
    "#     brax_result = ppo_network.parametric_action_distribution.mode(logits)\n",
    "#     return brax_result\n",
    "# params"
   ]
  },
  {
   "cell_type": "markdown",
   "id": "40e6f53f",
   "metadata": {},
   "source": [
    "### Internal Testing"
   ]
  },
  {
   "cell_type": "code",
   "execution_count": null,
   "id": "10f9af3c",
   "metadata": {},
   "outputs": [],
   "source": [
    "from brax.training import acting\n",
    "\n",
    "eval_env = wrapper.wrap_for_brax_training(env, episode_length=200)\n",
    "\n",
    "rng = jax.random.PRNGKey(123)\n",
    "rng, eval_key = jax.random.split(rng)\n",
    "\n",
    "# key = jax.random.PRNGKey(123)\n",
    "# global_key, local_key = jax.random.split(key)\n",
    "# del key\n",
    "# local_key = jax.random.fold_in(local_key, jax.process_index())\n",
    "# local_key, key_env, eval_key = jax.random.split(local_key, 3)\n",
    "\n",
    "evaluator = acting.Evaluator(\n",
    "    eval_env,\n",
    "    functools.partial(make_inference_fn, deterministic=True),\n",
    "    num_eval_envs=1,\n",
    "    episode_length=200,\n",
    "    action_repeat=1,\n",
    "    key=eval_key,\n",
    ")\n",
    "\n",
    "metrics = evaluator.run_evaluation(params, {})"
   ]
  },
  {
   "cell_type": "code",
   "execution_count": 9,
   "id": "33d01bbb",
   "metadata": {},
   "outputs": [
    {
     "data": {
      "text/plain": [
       "{'reach_dist': Array([0.02351627], dtype=float32),\n",
       " 'reward': Array([6.330341], dtype=float32),\n",
       " 'success_rate': Array([1.], dtype=float32),\n",
       " 'target_area_dynamic_width_scale': Array([0.], dtype=float32)}"
      ]
     },
     "execution_count": 9,
     "metadata": {},
     "output_type": "execute_result"
    }
   ],
   "source": [
    "evaluator._key, unroll_key = jax.random.split(evaluator._key)\n",
    "eval_state = evaluator._generate_eval_unroll(params, unroll_key)\n",
    "eval_state.info[\"eval_metrics\"].episode_metrics"
   ]
  },
  {
   "cell_type": "code",
   "execution_count": 55,
   "id": "749db759",
   "metadata": {},
   "outputs": [],
   "source": [
    "from brax.training.acting import generate_unroll\n",
    "_eval_env = envs.training.EvalWrapper(eval_env)\n",
    "def _generate_unroll(params, key, num_eval_envs=1):\n",
    "    reset_keys = jax.random.split(key, num_eval_envs)\n",
    "    eval_first_state = _eval_env.reset(reset_keys)\n",
    "    return generate_unroll(\n",
    "    _eval_env, eval_first_state,\n",
    "    make_inference_fn(params, deterministic=True),\n",
    "    key=key,\n",
    "    unroll_length=200)\n",
    "generate_unroll_jit = jax.jit(_generate_unroll)"
   ]
  },
  {
   "cell_type": "code",
   "execution_count": 56,
   "id": "a0a55bff",
   "metadata": {},
   "outputs": [],
   "source": [
    "# _eval_env = envs.training.EvalWrapper(eval_env)\n",
    "evaluator._key, unroll_key = jax.random.split(evaluator._key)\n",
    "# reset_keys = jax.random.split(unroll_key, 1)\n",
    "# eval_first_state = _eval_env.reset(reset_keys)\n",
    "# eval_final_state, eval_data = generate_unroll(\n",
    "#     _eval_env, eval_first_state,\n",
    "#     make_inference_fn(params, deterministic=True),\n",
    "#     key=unroll_key,\n",
    "#     unroll_length=200)\n",
    "eval_final_state, eval_data = generate_unroll_jit(\n",
    "    params, key=unroll_key)"
   ]
  },
  {
   "cell_type": "code",
   "execution_count": 57,
   "id": "a2c303f7",
   "metadata": {},
   "outputs": [
    {
     "data": {
      "text/plain": [
       "(Array(-10.9054, dtype=float32),\n",
       " {'reach_dist': Array([0.02216392], dtype=float32),\n",
       "  'reward': Array([6.478419], dtype=float32),\n",
       "  'success_rate': Array([1.], dtype=float32),\n",
       "  'target_area_dynamic_width_scale': Array([0.], dtype=float32)})"
      ]
     },
     "execution_count": 57,
     "metadata": {},
     "output_type": "execute_result"
    }
   ],
   "source": [
    "eval_data.reward.sum(), eval_final_state.info[\"eval_metrics\"].episode_metrics"
   ]
  },
  {
   "cell_type": "markdown",
   "id": "2f254fcf",
   "metadata": {},
   "source": [
    "### Visualize Rollouts"
   ]
  },
  {
   "cell_type": "code",
   "execution_count": 44,
   "id": "2eaa0e87",
   "metadata": {},
   "outputs": [],
   "source": [
    "## Variant A (reload policy from checkpoint):\n",
    "# rollout = evaluate_policy(checkpoint_path=checkpoint_path, env_name=env_name,\n",
    "#                           seed=123, n_episodes=2)\n",
    "\n",
    "## Variant B (directly pass preloaded policy):\n",
    "rollout = evaluate_policy(eval_env=env, env_cfg=env_cfg, jit_inference_fn=jit_inference_fn, jit_reset=jit_reset, jit_step=jit_step,\n",
    "                          seed=123, n_episodes=10)"
   ]
  },
  {
   "cell_type": "code",
   "execution_count": 10,
   "id": "07cbb998",
   "metadata": {},
   "outputs": [
    {
     "data": {
      "text/plain": [
       "[(Array([ 0.03493699, -0.198526  ,  0.28504306], dtype=float32),\n",
       "  Array([ 0.5       , -0.05966789,  0.95312196], dtype=float32)),\n",
       " (Array([ 0.04321903, -0.20694444,  0.2865013 ], dtype=float32),\n",
       "  Array([ 0.5       , -0.05966789,  0.95312196], dtype=float32)),\n",
       " (Array([ 0.09450396, -0.22791187,  0.298051  ], dtype=float32),\n",
       "  Array([ 0.5       , -0.05966789,  0.95312196], dtype=float32)),\n",
       " (Array([ 0.19809219, -0.24103165,  0.34398323], dtype=float32),\n",
       "  Array([ 0.5       , -0.05966789,  0.95312196], dtype=float32)),\n",
       " (Array([ 0.33882892, -0.21474227,  0.48161364], dtype=float32),\n",
       "  Array([ 0.5       , -0.05966789,  0.95312196], dtype=float32)),\n",
       " (Array([ 0.40011418, -0.13481002,  0.71028936], dtype=float32),\n",
       "  Array([ 0.5       , -0.05966789,  0.95312196], dtype=float32)),\n",
       " (Array([ 0.3625064 , -0.07929441,  0.8808954 ], dtype=float32),\n",
       "  Array([ 0.5       , -0.05966789,  0.95312196], dtype=float32)),\n",
       " (Array([ 0.367423  , -0.06623739,  0.921308  ], dtype=float32),\n",
       "  Array([ 0.5       , -0.05966789,  0.95312196], dtype=float32)),\n",
       " (Array([ 0.42162788, -0.07969151,  0.9190187 ], dtype=float32),\n",
       "  Array([ 0.5       , -0.05966789,  0.95312196], dtype=float32)),\n",
       " (Array([ 0.4709004 , -0.08642517,  0.91900814], dtype=float32),\n",
       "  Array([ 0.5       , -0.05966789,  0.95312196], dtype=float32)),\n",
       " (Array([ 0.49652368, -0.07355149,  0.9311175 ], dtype=float32),\n",
       "  Array([ 0.5       , -0.05966789,  0.95312196], dtype=float32)),\n",
       " (Array([ 0.50389826, -0.05246776,  0.94622344], dtype=float32),\n",
       "  Array([ 0.5       , -0.05966789,  0.95312196], dtype=float32)),\n",
       " (Array([ 0.5258909 , -0.04132925,  0.92473435], dtype=float32),\n",
       "  Array([ 0.5       , -0.05966789,  0.95312196], dtype=float32)),\n",
       " (Array([ 0.56089514, -0.04441645,  0.8774889 ], dtype=float32),\n",
       "  Array([ 0.5       , -0.05966789,  0.95312196], dtype=float32)),\n",
       " (Array([ 0.5815711 , -0.05661507,  0.87489337], dtype=float32),\n",
       "  Array([ 0.5       , -0.05966789,  0.95312196], dtype=float32)),\n",
       " (Array([ 0.60299784, -0.08997375,  0.88107723], dtype=float32),\n",
       "  Array([ 0.5       , -0.05966789,  0.95312196], dtype=float32)),\n",
       " (Array([ 0.6243365, -0.154143 ,  0.8782884], dtype=float32),\n",
       "  Array([ 0.5       , -0.05966789,  0.95312196], dtype=float32)),\n",
       " (Array([ 0.63375586, -0.256108  ,  0.8705062 ], dtype=float32),\n",
       "  Array([ 0.5       , -0.05966789,  0.95312196], dtype=float32)),\n",
       " (Array([ 0.6126318 , -0.39325628,  0.86926496], dtype=float32),\n",
       "  Array([ 0.5       , -0.05966789,  0.95312196], dtype=float32)),\n",
       " (Array([ 0.5521964, -0.5334175,  0.8858828], dtype=float32),\n",
       "  Array([ 0.5       , -0.05966789,  0.95312196], dtype=float32)),\n",
       " (Array([ 0.5161834, -0.5959039,  0.9442895], dtype=float32),\n",
       "  Array([ 0.5       , -0.05966789,  0.95312196], dtype=float32)),\n",
       " (Array([ 0.4897002 , -0.63024247,  0.98095775], dtype=float32),\n",
       "  Array([ 0.5       , -0.05966789,  0.95312196], dtype=float32)),\n",
       " (Array([ 0.487611 , -0.6323682,  0.9915088], dtype=float32),\n",
       "  Array([ 0.5       , -0.05966789,  0.95312196], dtype=float32)),\n",
       " (Array([ 0.505626 , -0.6097075,  0.9740019], dtype=float32),\n",
       "  Array([ 0.5       , -0.05966789,  0.95312196], dtype=float32)),\n",
       " (Array([ 0.03493699, -0.198526  ,  0.28504306], dtype=float32),\n",
       "  Array([ 0.5       , -0.05966789,  0.95312196], dtype=float32)),\n",
       " (Array([ 0.04321903, -0.20694444,  0.2865013 ], dtype=float32),\n",
       "  Array([ 0.5       , -0.05966789,  0.95312196], dtype=float32)),\n",
       " (Array([ 0.09450396, -0.22791187,  0.298051  ], dtype=float32),\n",
       "  Array([ 0.5       , -0.05966789,  0.95312196], dtype=float32)),\n",
       " (Array([ 0.19809219, -0.24103165,  0.34398323], dtype=float32),\n",
       "  Array([ 0.5       , -0.05966789,  0.95312196], dtype=float32)),\n",
       " (Array([ 0.33882886, -0.21474224,  0.4816136 ], dtype=float32),\n",
       "  Array([ 0.5       , -0.05966789,  0.95312196], dtype=float32)),\n",
       " (Array([ 0.40011418, -0.13481012,  0.71028924], dtype=float32),\n",
       "  Array([ 0.5       , -0.05966789,  0.95312196], dtype=float32)),\n",
       " (Array([ 0.36250645, -0.07929443,  0.88089526], dtype=float32),\n",
       "  Array([ 0.5       , -0.05966789,  0.95312196], dtype=float32)),\n",
       " (Array([ 0.3674231 , -0.06623724,  0.9213078 ], dtype=float32),\n",
       "  Array([ 0.5       , -0.05966789,  0.95312196], dtype=float32)),\n",
       " (Array([ 0.42162788, -0.0796915 ,  0.9190186 ], dtype=float32),\n",
       "  Array([ 0.5       , -0.05966789,  0.95312196], dtype=float32)),\n",
       " (Array([ 0.4709005 , -0.08642517,  0.919008  ], dtype=float32),\n",
       "  Array([ 0.5       , -0.05966789,  0.95312196], dtype=float32)),\n",
       " (Array([ 0.49652386, -0.07355144,  0.93111736], dtype=float32),\n",
       "  Array([ 0.5       , -0.05966789,  0.95312196], dtype=float32)),\n",
       " (Array([ 0.50389826, -0.0524677 ,  0.9462233 ], dtype=float32),\n",
       "  Array([ 0.5       , -0.05966789,  0.95312196], dtype=float32)),\n",
       " (Array([ 0.52589107, -0.04132928,  0.924734  ], dtype=float32),\n",
       "  Array([ 0.5       , -0.05966789,  0.95312196], dtype=float32)),\n",
       " (Array([ 0.56089526, -0.04441642,  0.8774884 ], dtype=float32),\n",
       "  Array([ 0.5       , -0.05966789,  0.95312196], dtype=float32)),\n",
       " (Array([ 0.58157134, -0.05661472,  0.87489295], dtype=float32),\n",
       "  Array([ 0.5       , -0.05966789,  0.95312196], dtype=float32)),\n",
       " (Array([ 0.60299796, -0.08997327,  0.881077  ], dtype=float32),\n",
       "  Array([ 0.5       , -0.05966789,  0.95312196], dtype=float32)),\n",
       " (Array([ 0.6243363 , -0.15414245,  0.8782882 ], dtype=float32),\n",
       "  Array([ 0.5       , -0.05966789,  0.95312196], dtype=float32)),\n",
       " (Array([ 0.6337562, -0.2561074,  0.8705059], dtype=float32),\n",
       "  Array([ 0.5       , -0.05966789,  0.95312196], dtype=float32)),\n",
       " (Array([ 0.6126319 , -0.39325553,  0.8692647 ], dtype=float32),\n",
       "  Array([ 0.5       , -0.05966789,  0.95312196], dtype=float32)),\n",
       " (Array([ 0.55219674, -0.53341687,  0.88588256], dtype=float32),\n",
       "  Array([ 0.5       , -0.05966789,  0.95312196], dtype=float32)),\n",
       " (Array([ 0.5161835 , -0.5959033 ,  0.94428897], dtype=float32),\n",
       "  Array([ 0.5       , -0.05966789,  0.95312196], dtype=float32)),\n",
       " (Array([ 0.48970038, -0.63024217,  0.9809571 ], dtype=float32),\n",
       "  Array([ 0.5       , -0.05966789,  0.95312196], dtype=float32)),\n",
       " (Array([ 0.487611  , -0.63236827,  0.99150854], dtype=float32),\n",
       "  Array([ 0.5       , -0.05966789,  0.95312196], dtype=float32)),\n",
       " (Array([ 0.5056261 , -0.60970765,  0.9740018 ], dtype=float32),\n",
       "  Array([ 0.5       , -0.05966789,  0.95312196], dtype=float32))]"
      ]
     },
     "execution_count": 10,
     "metadata": {},
     "output_type": "execute_result"
    }
   ],
   "source": [
    "[(r.obs[\"proprioception\"][15:18], r.obs[\"proprioception\"][47:50]) for r in rollout]"
   ]
  },
  {
   "cell_type": "code",
   "execution_count": 11,
   "id": "d4b7afd9",
   "metadata": {},
   "outputs": [
    {
     "data": {
      "text/plain": [
       "(array([-0.00999999, -0.13367838,  0.10312194]),\n",
       " array([0., 0., 0.]),\n",
       " array([ 0.5 , -0.35,  0.85]))"
      ]
     },
     "execution_count": 11,
     "metadata": {},
     "output_type": "execute_result"
    }
   ],
   "source": [
    "env.mj_model.site_pos[env.end_line_id, :], env.mj_model.site_pos[env.screen_id, :], env.mj_model.body(\"screen\").pos"
   ]
  },
  {
   "cell_type": "code",
   "execution_count": 8,
   "id": "d523b324",
   "metadata": {},
   "outputs": [
    {
     "data": {
      "text/plain": [
       "(Array([ 0.6       , -0.48367837,  0.95312196], dtype=float32),\n",
       " Array([ 0.6 , -0.35,  0.85], dtype=float32),\n",
       " Array([ 0.59000003, -0.7       ,  0.875     ], dtype=float32),\n",
       " Array([ 0.6 , -0.35,  0.85], dtype=float32))"
      ]
     },
     "execution_count": 8,
     "metadata": {},
     "output_type": "execute_result"
    }
   ],
   "source": [
    "rollout_stored[0].info[\"end_line\"], rollout_stored[0].info[\"screen_pos\"] , rollout_stored[0].data.site_xpos[env.end_line_id], rollout_stored[0].data.site_xpos[env.screen_id]"
   ]
  },
  {
   "cell_type": "code",
   "execution_count": 9,
   "id": "40066a40",
   "metadata": {},
   "outputs": [
    {
     "data": {
      "text/plain": [
       "(Array([ 0.6       , -0.48367837,  0.95312196], dtype=float32),\n",
       " Array([ 0.6 , -0.35,  0.85], dtype=float32),\n",
       " Array([ 0.59000003, -0.7       ,  0.875     ], dtype=float32),\n",
       " Array([ 0.6 , -0.35,  0.85], dtype=float32))"
      ]
     },
     "execution_count": 9,
     "metadata": {},
     "output_type": "execute_result"
    }
   ],
   "source": [
    "rollout_stored[0].info[\"end_line\"], rollout_stored[0].info[\"screen_pos\"] , rollout_stored[0].data.site_xpos[env.end_line_id], rollout_stored[0].data.site_xpos[env.screen_id]"
   ]
  },
  {
   "cell_type": "code",
   "execution_count": 13,
   "id": "3586b644",
   "metadata": {},
   "outputs": [
    {
     "data": {
      "text/plain": [
       "(array([ 0.        , -0.13367838,  0.10312194]),\n",
       " array([0., 0., 0.]),\n",
       " array([ 0.6 , -0.35,  0.85]))"
      ]
     },
     "execution_count": 13,
     "metadata": {},
     "output_type": "execute_result"
    }
   ],
   "source": [
    "env.mj_model.site_pos[env.end_line_id, :], env.mj_model.site_pos[env.screen_id, :], env.mj_model.body(\"screen\").pos"
   ]
  },
  {
   "cell_type": "code",
   "execution_count": 26,
   "id": "035805e6",
   "metadata": {},
   "outputs": [
    {
     "data": {
      "text/plain": [
       "(Array([ 0.        , -0.13367838,  0.10312194], dtype=float32),\n",
       " Array([-0.00999999, -0.35      ,  0.02499998], dtype=float32))"
      ]
     },
     "execution_count": 26,
     "metadata": {},
     "output_type": "execute_result"
    }
   ],
   "source": [
    "init_state.info[\"end_line\"] - init_state.info[\"screen_pos\"] , init_state.data.site_xpos[env.end_line_id] - init_state.data.site_xpos[env.screen_id]"
   ]
  },
  {
   "cell_type": "code",
   "execution_count": 8,
   "id": "7cb51890",
   "metadata": {},
   "outputs": [
    {
     "data": {
      "text/plain": [
       "(Array([ 0.        , -0.13367838,  0.10312194], dtype=float32),\n",
       " Array([-0.00999999, -0.35      ,  0.02499998], dtype=float32))"
      ]
     },
     "execution_count": 8,
     "metadata": {},
     "output_type": "execute_result"
    }
   ],
   "source": [
    "rollout[0].info[\"end_line\"] - rollout[0].info[\"screen_pos\"] , rollout[0].data.site_xpos[env.end_line_id] - rollout[0].data.site_xpos[env.screen_id]"
   ]
  },
  {
   "cell_type": "code",
   "execution_count": 8,
   "id": "0c14815b",
   "metadata": {},
   "outputs": [
    {
     "data": {
      "text/plain": [
       "(array([-1.01327896e-06, -5.03678381e-01,  1.03121936e-01]),\n",
       " Array([ 0.59000003, -0.7       ,  0.875     ], dtype=float32),\n",
       " array([0., 0., 0.]),\n",
       " Array([ 0.6 , -0.35,  0.85], dtype=float32))"
      ]
     },
     "execution_count": 8,
     "metadata": {},
     "output_type": "execute_result"
    }
   ],
   "source": [
    "env.mj_model.site_pos[env.end_line_id], init_state.data.site_xpos[env.end_line_id], env.mj_model.site_pos[env.screen_id], init_state.data.site_xpos[env.screen_id]"
   ]
  },
  {
   "cell_type": "code",
   "execution_count": 11,
   "id": "572c9d14",
   "metadata": {},
   "outputs": [
    {
     "data": {
      "text/plain": [
       "(array([ 0.        , -0.13367838,  0.10312194]),\n",
       " Array([ 0.59000003, -0.7       ,  0.875     ], dtype=float32),\n",
       " array([0., 0., 0.]),\n",
       " Array([ 0.6 , -0.35,  0.85], dtype=float32))"
      ]
     },
     "execution_count": 11,
     "metadata": {},
     "output_type": "execute_result"
    }
   ],
   "source": [
    "env.mj_model.site_pos[env.end_line_id], init_state.data.site_xpos[env.end_line_id], env.mj_model.site_pos[env.screen_id], init_state.data.site_xpos[env.screen_id]"
   ]
  },
  {
   "cell_type": "code",
   "execution_count": 12,
   "id": "0792045b",
   "metadata": {},
   "outputs": [
    {
     "name": "stderr",
     "output_type": "stream",
     "text": [
      "  0%|          | 0/48 [00:00<?, ?it/s]"
     ]
    },
    {
     "name": "stderr",
     "output_type": "stream",
     "text": [
      "100%|██████████| 48/48 [00:00<00:00, 688.32it/s]\n"
     ]
    },
    {
     "data": {
      "text/html": [
       "<table class=\"show_videos\" style=\"border-spacing:0px;\"><tr><td style=\"padding:1px;\"><video controls width=\"320\" height=\"240\" style=\"object-fit:cover;\" loop autoplay muted>\n",
       "      <source src=\"data:video/mp4;base64,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\" type=\"video/mp4\"/>\n",
       "      This browser does not support the video tag.\n",
       "      </video></td></tr></table>"
      ],
      "text/plain": [
       "<IPython.core.display.HTML object>"
      ]
     },
     "metadata": {},
     "output_type": "display_data"
    }
   ],
   "source": [
    "render_traj(rollout, eval_env=env)"
   ]
  },
  {
   "cell_type": "code",
   "execution_count": 22,
   "id": "4c55de2e",
   "metadata": {},
   "outputs": [
    {
     "data": {
      "text/plain": [
       "[(Array(0., dtype=float32),\n",
       "  Array(0., dtype=float32, weak_type=True),\n",
       "  Array(False, dtype=bool)),\n",
       " (Array(-4.745425, dtype=float32),\n",
       "  Array(0.45678097, dtype=float32),\n",
       "  Array(False, dtype=bool)),\n",
       " (Array(-4.712586, dtype=float32),\n",
       "  Array(0.40549603, dtype=float32),\n",
       "  Array(False, dtype=bool)),\n",
       " (Array(-4.627638, dtype=float32),\n",
       "  Array(0.3019078, dtype=float32),\n",
       "  Array(False, dtype=bool)),\n",
       " (Array(-4.4458766, dtype=float32),\n",
       "  Array(0.16117108, dtype=float32),\n",
       "  Array(False, dtype=bool)),\n",
       " (Array(-4.1971245, dtype=float32),\n",
       "  Array(0.09988582, dtype=float32),\n",
       "  Array(False, dtype=bool)),\n",
       " (Array(-4.0805554, dtype=float32),\n",
       "  Array(0.13749361, dtype=float32),\n",
       "  Array(False, dtype=bool)),\n",
       " (Array(-4.060509, dtype=float32),\n",
       "  Array(0.132577, dtype=float32),\n",
       "  Array(False, dtype=bool)),\n",
       " (Array(-4.011795, dtype=float32),\n",
       "  Array(0.07837212, dtype=float32),\n",
       "  Array(False, dtype=bool)),\n",
       " (Array(-3.9762263, dtype=float32),\n",
       "  Array(0.02909961, dtype=float32),\n",
       "  Array(False, dtype=bool)),\n",
       " (Array(-3.95026, dtype=float32),\n",
       "  Array(0.00347632, dtype=float32),\n",
       "  Array(False, dtype=bool)),\n",
       " (Array(-0.79202604, dtype=float32),\n",
       "  Array(0.00389826, dtype=float32),\n",
       "  Array(False, dtype=bool)),\n",
       " (Array(-0.46826267, dtype=float32),\n",
       "  Array(0.02589089, dtype=float32),\n",
       "  Array(False, dtype=bool)),\n",
       " (Array(-0.5001763, dtype=float32),\n",
       "  Array(0.06089514, dtype=float32),\n",
       "  Array(False, dtype=bool)),\n",
       " (Array(-0.5087271, dtype=float32),\n",
       "  Array(0.0815711, dtype=float32),\n",
       "  Array(False, dtype=bool)),\n",
       " (Array(-0.49670407, dtype=float32),\n",
       "  Array(0.10299784, dtype=float32),\n",
       "  Array(False, dtype=bool)),\n",
       " (Array(-0.4538833, dtype=float32),\n",
       "  Array(0.12433648, dtype=float32),\n",
       "  Array(False, dtype=bool)),\n",
       " (Array(-0.3622803, dtype=float32),\n",
       "  Array(0.13375586, dtype=float32),\n",
       "  Array(False, dtype=bool)),\n",
       " (Array(-0.2047902, dtype=float32),\n",
       "  Array(0.1126318, dtype=float32),\n",
       "  Array(False, dtype=bool)),\n",
       " (Array(-0.10193557, dtype=float32),\n",
       "  Array(0.05219638, dtype=float32),\n",
       "  Array(True, dtype=bool)),\n",
       " (Array(-0.3137432, dtype=float32),\n",
       "  Array(0.01618338, dtype=float32),\n",
       "  Array(True, dtype=bool)),\n",
       " (Array(-3.1568637, dtype=float32),\n",
       "  Array(0.0102998, dtype=float32),\n",
       "  Array(True, dtype=bool)),\n",
       " (Array(-3.1610787, dtype=float32),\n",
       "  Array(0.012389, dtype=float32),\n",
       "  Array(True, dtype=bool)),\n",
       " (Array(50., dtype=float32),\n",
       "  Array(0.00562602, dtype=float32),\n",
       "  Array(True, dtype=bool)),\n",
       " (Array(0., dtype=float32),\n",
       "  Array(0., dtype=float32, weak_type=True),\n",
       "  Array(False, dtype=bool)),\n",
       " (Array(-4.745425, dtype=float32),\n",
       "  Array(0.45678097, dtype=float32),\n",
       "  Array(False, dtype=bool)),\n",
       " (Array(-4.712586, dtype=float32),\n",
       "  Array(0.40549603, dtype=float32),\n",
       "  Array(False, dtype=bool)),\n",
       " (Array(-4.627638, dtype=float32),\n",
       "  Array(0.3019078, dtype=float32),\n",
       "  Array(False, dtype=bool)),\n",
       " (Array(-4.4458766, dtype=float32),\n",
       "  Array(0.16117114, dtype=float32),\n",
       "  Array(False, dtype=bool)),\n",
       " (Array(-4.1971245, dtype=float32),\n",
       "  Array(0.09988582, dtype=float32),\n",
       "  Array(False, dtype=bool)),\n",
       " (Array(-4.0805554, dtype=float32),\n",
       "  Array(0.13749355, dtype=float32),\n",
       "  Array(False, dtype=bool)),\n",
       " (Array(-4.060509, dtype=float32),\n",
       "  Array(0.13257691, dtype=float32),\n",
       "  Array(False, dtype=bool)),\n",
       " (Array(-4.011795, dtype=float32),\n",
       "  Array(0.07837212, dtype=float32),\n",
       "  Array(False, dtype=bool)),\n",
       " (Array(-3.9762263, dtype=float32),\n",
       "  Array(0.02909949, dtype=float32),\n",
       "  Array(False, dtype=bool)),\n",
       " (Array(-3.9502602, dtype=float32),\n",
       "  Array(0.00347614, dtype=float32),\n",
       "  Array(False, dtype=bool)),\n",
       " (Array(-0.7920121, dtype=float32),\n",
       "  Array(0.00389826, dtype=float32),\n",
       "  Array(False, dtype=bool)),\n",
       " (Array(-0.46826276, dtype=float32),\n",
       "  Array(0.02589107, dtype=float32),\n",
       "  Array(False, dtype=bool)),\n",
       " (Array(-0.5001765, dtype=float32),\n",
       "  Array(0.06089526, dtype=float32),\n",
       "  Array(False, dtype=bool)),\n",
       " (Array(-0.5087277, dtype=float32),\n",
       "  Array(0.08157134, dtype=float32),\n",
       "  Array(False, dtype=bool)),\n",
       " (Array(-0.49670467, dtype=float32),\n",
       "  Array(0.10299796, dtype=float32),\n",
       "  Array(False, dtype=bool)),\n",
       " (Array(-0.45388365, dtype=float32),\n",
       "  Array(0.1243363, dtype=float32),\n",
       "  Array(False, dtype=bool)),\n",
       " (Array(-0.36228138, dtype=float32),\n",
       "  Array(0.13375622, dtype=float32),\n",
       "  Array(False, dtype=bool)),\n",
       " (Array(-0.20479126, dtype=float32),\n",
       "  Array(0.11263192, dtype=float32),\n",
       "  Array(False, dtype=bool)),\n",
       " (Array(-0.10193527, dtype=float32),\n",
       "  Array(0.05219674, dtype=float32),\n",
       "  Array(True, dtype=bool)),\n",
       " (Array(-0.31370842, dtype=float32),\n",
       "  Array(0.0161835, dtype=float32),\n",
       "  Array(True, dtype=bool)),\n",
       " (Array(-3.1568635, dtype=float32),\n",
       "  Array(0.01029962, dtype=float32),\n",
       "  Array(True, dtype=bool)),\n",
       " (Array(-3.161079, dtype=float32),\n",
       "  Array(0.012389, dtype=float32),\n",
       "  Array(True, dtype=bool)),\n",
       " (Array(50., dtype=float32),\n",
       "  Array(0.00562608, dtype=float32),\n",
       "  Array(True, dtype=bool))]"
      ]
     },
     "execution_count": 22,
     "metadata": {},
     "output_type": "execute_result"
    }
   ],
   "source": [
    "[(r.data.site_xpos[env.fingertip_id], r.info[\"end_line\"]) for r in rollout]\n",
    "([(r.reward, r.metrics[\"phase_1_x_dist\"], r.metrics[\"con_1_crossed_line_y\"]) for r in rollout[:80]])#, [r.done for r in rollout[:80]]\n",
    "# rollout[0].metrics.keys()"
   ]
  },
  {
   "cell_type": "code",
   "execution_count": 23,
   "id": "a7a3076d",
   "metadata": {},
   "outputs": [
    {
     "data": {
      "text/plain": [
       "[(Array([ 0.03493699, -0.198526  ,  0.28504306], dtype=float32),\n",
       "  Array([ 0.5       , -0.48367837,  0.95312196], dtype=float32),\n",
       "  Array(False, dtype=bool)),\n",
       " (Array([ 0.04321903, -0.20694444,  0.2865013 ], dtype=float32),\n",
       "  Array([ 0.5       , -0.48367837,  0.95312196], dtype=float32),\n",
       "  Array(False, dtype=bool)),\n",
       " (Array([ 0.09450396, -0.22791187,  0.298051  ], dtype=float32),\n",
       "  Array([ 0.5       , -0.48367837,  0.95312196], dtype=float32),\n",
       "  Array(False, dtype=bool)),\n",
       " (Array([ 0.19809219, -0.24103165,  0.34398323], dtype=float32),\n",
       "  Array([ 0.5       , -0.48367837,  0.95312196], dtype=float32),\n",
       "  Array(False, dtype=bool)),\n",
       " (Array([ 0.33882892, -0.21474227,  0.48161364], dtype=float32),\n",
       "  Array([ 0.5       , -0.48367837,  0.95312196], dtype=float32),\n",
       "  Array(False, dtype=bool)),\n",
       " (Array([ 0.40011418, -0.13481002,  0.71028936], dtype=float32),\n",
       "  Array([ 0.5       , -0.48367837,  0.95312196], dtype=float32),\n",
       "  Array(False, dtype=bool)),\n",
       " (Array([ 0.3625064 , -0.07929441,  0.8808954 ], dtype=float32),\n",
       "  Array([ 0.5       , -0.48367837,  0.95312196], dtype=float32),\n",
       "  Array(False, dtype=bool)),\n",
       " (Array([ 0.367423  , -0.06623739,  0.921308  ], dtype=float32),\n",
       "  Array([ 0.5       , -0.48367837,  0.95312196], dtype=float32),\n",
       "  Array(False, dtype=bool)),\n",
       " (Array([ 0.42162788, -0.07969151,  0.9190187 ], dtype=float32),\n",
       "  Array([ 0.5       , -0.48367837,  0.95312196], dtype=float32),\n",
       "  Array(False, dtype=bool)),\n",
       " (Array([ 0.4709004 , -0.08642517,  0.91900814], dtype=float32),\n",
       "  Array([ 0.5       , -0.48367837,  0.95312196], dtype=float32),\n",
       "  Array(False, dtype=bool)),\n",
       " (Array([ 0.49652368, -0.07355149,  0.9311175 ], dtype=float32),\n",
       "  Array([ 0.5       , -0.48367837,  0.95312196], dtype=float32),\n",
       "  Array(True, dtype=bool)),\n",
       " (Array([ 0.50389826, -0.05246776,  0.94622344], dtype=float32),\n",
       "  Array([ 0.5       , -0.48367837,  0.95312196], dtype=float32),\n",
       "  Array(True, dtype=bool)),\n",
       " (Array([ 0.5258909 , -0.04132925,  0.92473435], dtype=float32),\n",
       "  Array([ 0.5       , -0.48367837,  0.95312196], dtype=float32),\n",
       "  Array(False, dtype=bool)),\n",
       " (Array([ 0.56089514, -0.04441645,  0.8774889 ], dtype=float32),\n",
       "  Array([ 0.5       , -0.48367837,  0.95312196], dtype=float32),\n",
       "  Array(False, dtype=bool)),\n",
       " (Array([ 0.5815711 , -0.05661507,  0.87489337], dtype=float32),\n",
       "  Array([ 0.5       , -0.48367837,  0.95312196], dtype=float32),\n",
       "  Array(False, dtype=bool)),\n",
       " (Array([ 0.60299784, -0.08997375,  0.88107723], dtype=float32),\n",
       "  Array([ 0.5       , -0.48367837,  0.95312196], dtype=float32),\n",
       "  Array(False, dtype=bool)),\n",
       " (Array([ 0.6243365, -0.154143 ,  0.8782884], dtype=float32),\n",
       "  Array([ 0.5       , -0.48367837,  0.95312196], dtype=float32),\n",
       "  Array(False, dtype=bool)),\n",
       " (Array([ 0.63375586, -0.256108  ,  0.8705062 ], dtype=float32),\n",
       "  Array([ 0.5       , -0.48367837,  0.95312196], dtype=float32),\n",
       "  Array(False, dtype=bool)),\n",
       " (Array([ 0.6126318 , -0.39325628,  0.86926496], dtype=float32),\n",
       "  Array([ 0.5       , -0.48367837,  0.95312196], dtype=float32),\n",
       "  Array(False, dtype=bool)),\n",
       " (Array([ 0.5521964, -0.5334175,  0.8858828], dtype=float32),\n",
       "  Array([ 0.5       , -0.48367837,  0.95312196], dtype=float32),\n",
       "  Array(False, dtype=bool)),\n",
       " (Array([ 0.5161834, -0.5959039,  0.9442895], dtype=float32),\n",
       "  Array([ 0.5       , -0.48367837,  0.95312196], dtype=float32),\n",
       "  Array(False, dtype=bool)),\n",
       " (Array([ 0.4897002 , -0.63024247,  0.98095775], dtype=float32),\n",
       "  Array([ 0.5       , -0.48367837,  0.95312196], dtype=float32),\n",
       "  Array(False, dtype=bool)),\n",
       " (Array([ 0.487611 , -0.6323682,  0.9915088], dtype=float32),\n",
       "  Array([ 0.5       , -0.48367837,  0.95312196], dtype=float32),\n",
       "  Array(False, dtype=bool)),\n",
       " (Array([ 0.505626 , -0.6097075,  0.9740019], dtype=float32),\n",
       "  Array([ 0.5       , -0.48367837,  0.95312196], dtype=float32),\n",
       "  Array(True, dtype=bool)),\n",
       " (Array([ 0.03493699, -0.198526  ,  0.28504306], dtype=float32),\n",
       "  Array([ 0.5       , -0.48367837,  0.95312196], dtype=float32),\n",
       "  Array(False, dtype=bool)),\n",
       " (Array([ 0.04321903, -0.20694444,  0.2865013 ], dtype=float32),\n",
       "  Array([ 0.5       , -0.48367837,  0.95312196], dtype=float32),\n",
       "  Array(False, dtype=bool)),\n",
       " (Array([ 0.09450396, -0.22791187,  0.298051  ], dtype=float32),\n",
       "  Array([ 0.5       , -0.48367837,  0.95312196], dtype=float32),\n",
       "  Array(False, dtype=bool)),\n",
       " (Array([ 0.19809219, -0.24103165,  0.34398323], dtype=float32),\n",
       "  Array([ 0.5       , -0.48367837,  0.95312196], dtype=float32),\n",
       "  Array(False, dtype=bool)),\n",
       " (Array([ 0.33882886, -0.21474224,  0.4816136 ], dtype=float32),\n",
       "  Array([ 0.5       , -0.48367837,  0.95312196], dtype=float32),\n",
       "  Array(False, dtype=bool)),\n",
       " (Array([ 0.40011418, -0.13481012,  0.71028924], dtype=float32),\n",
       "  Array([ 0.5       , -0.48367837,  0.95312196], dtype=float32),\n",
       "  Array(False, dtype=bool)),\n",
       " (Array([ 0.36250645, -0.07929443,  0.88089526], dtype=float32),\n",
       "  Array([ 0.5       , -0.48367837,  0.95312196], dtype=float32),\n",
       "  Array(False, dtype=bool)),\n",
       " (Array([ 0.3674231 , -0.06623724,  0.9213078 ], dtype=float32),\n",
       "  Array([ 0.5       , -0.48367837,  0.95312196], dtype=float32),\n",
       "  Array(False, dtype=bool)),\n",
       " (Array([ 0.42162788, -0.0796915 ,  0.9190186 ], dtype=float32),\n",
       "  Array([ 0.5       , -0.48367837,  0.95312196], dtype=float32),\n",
       "  Array(False, dtype=bool)),\n",
       " (Array([ 0.4709005 , -0.08642517,  0.919008  ], dtype=float32),\n",
       "  Array([ 0.5       , -0.48367837,  0.95312196], dtype=float32),\n",
       "  Array(False, dtype=bool)),\n",
       " (Array([ 0.49652386, -0.07355144,  0.93111736], dtype=float32),\n",
       "  Array([ 0.5       , -0.48367837,  0.95312196], dtype=float32),\n",
       "  Array(True, dtype=bool)),\n",
       " (Array([ 0.50389826, -0.0524677 ,  0.9462233 ], dtype=float32),\n",
       "  Array([ 0.5       , -0.48367837,  0.95312196], dtype=float32),\n",
       "  Array(True, dtype=bool)),\n",
       " (Array([ 0.52589107, -0.04132928,  0.924734  ], dtype=float32),\n",
       "  Array([ 0.5       , -0.48367837,  0.95312196], dtype=float32),\n",
       "  Array(False, dtype=bool)),\n",
       " (Array([ 0.56089526, -0.04441642,  0.8774884 ], dtype=float32),\n",
       "  Array([ 0.5       , -0.48367837,  0.95312196], dtype=float32),\n",
       "  Array(False, dtype=bool)),\n",
       " (Array([ 0.58157134, -0.05661472,  0.87489295], dtype=float32),\n",
       "  Array([ 0.5       , -0.48367837,  0.95312196], dtype=float32),\n",
       "  Array(False, dtype=bool)),\n",
       " (Array([ 0.60299796, -0.08997327,  0.881077  ], dtype=float32),\n",
       "  Array([ 0.5       , -0.48367837,  0.95312196], dtype=float32),\n",
       "  Array(False, dtype=bool)),\n",
       " (Array([ 0.6243363 , -0.15414245,  0.8782882 ], dtype=float32),\n",
       "  Array([ 0.5       , -0.48367837,  0.95312196], dtype=float32),\n",
       "  Array(False, dtype=bool)),\n",
       " (Array([ 0.6337562, -0.2561074,  0.8705059], dtype=float32),\n",
       "  Array([ 0.5       , -0.48367837,  0.95312196], dtype=float32),\n",
       "  Array(False, dtype=bool)),\n",
       " (Array([ 0.6126319 , -0.39325553,  0.8692647 ], dtype=float32),\n",
       "  Array([ 0.5       , -0.48367837,  0.95312196], dtype=float32),\n",
       "  Array(False, dtype=bool)),\n",
       " (Array([ 0.55219674, -0.53341687,  0.88588256], dtype=float32),\n",
       "  Array([ 0.5       , -0.48367837,  0.95312196], dtype=float32),\n",
       "  Array(False, dtype=bool)),\n",
       " (Array([ 0.5161835 , -0.5959033 ,  0.94428897], dtype=float32),\n",
       "  Array([ 0.5       , -0.48367837,  0.95312196], dtype=float32),\n",
       "  Array(False, dtype=bool)),\n",
       " (Array([ 0.48970038, -0.63024217,  0.9809571 ], dtype=float32),\n",
       "  Array([ 0.5       , -0.48367837,  0.95312196], dtype=float32),\n",
       "  Array(False, dtype=bool)),\n",
       " (Array([ 0.487611  , -0.63236827,  0.99150854], dtype=float32),\n",
       "  Array([ 0.5       , -0.48367837,  0.95312196], dtype=float32),\n",
       "  Array(False, dtype=bool)),\n",
       " (Array([ 0.5056261 , -0.60970765,  0.9740018 ], dtype=float32),\n",
       "  Array([ 0.5       , -0.48367837,  0.95312196], dtype=float32),\n",
       "  Array(True, dtype=bool))]"
      ]
     },
     "execution_count": 23,
     "metadata": {},
     "output_type": "execute_result"
    }
   ],
   "source": [
    "[(r.metrics['distance_phase_0'], r.metrics['distance_phase_1'], r.metrics['dist']) for r in rollout]\n",
    "[(r.obs['proprioception'][15:18], r.obs['proprioception'][50:53], r.metrics['con_1_touching_screen']) for r in rollout]\n"
   ]
  },
  {
   "cell_type": "code",
   "execution_count": 49,
   "id": "38e61624",
   "metadata": {},
   "outputs": [
    {
     "data": {
      "text/plain": [
       "(True, [{'fingertip_contact', 'screen'}])"
      ]
     },
     "execution_count": 49,
     "metadata": {},
     "output_type": "execute_result"
    }
   ],
   "source": [
    "touch_detected = any([{eval_env.mj_model.geom(con[0]).name, eval_env.mj_model.geom(con[1]).name} == {\"fingertip_contact\", \"screen\"} for con in state.data._impl.contact.geom])\n",
    "touches = [{eval_env.mj_model.geom(con[0]).name, eval_env.mj_model.geom(con[1]).name} for con in state.data._impl.contact.geom]\n",
    "\n",
    "touch_detected, touches"
   ]
  },
  {
   "cell_type": "code",
   "execution_count": 51,
   "id": "68aaeedb",
   "metadata": {},
   "outputs": [
    {
     "data": {
      "text/plain": [
       "Array([1.], dtype=float32)"
      ]
     },
     "execution_count": 51,
     "metadata": {},
     "output_type": "execute_result"
    }
   ],
   "source": [
    "state.data._impl.contact.dist"
   ]
  },
  {
   "cell_type": "code",
   "execution_count": 41,
   "id": "fc819166",
   "metadata": {},
   "outputs": [
    {
     "data": {
      "text/plain": [
       "<bound method PyCapsule.geom of <mujoco._structs.MjModel object at 0x7749d83c61b0>>"
      ]
     },
     "execution_count": 41,
     "metadata": {},
     "output_type": "execute_result"
    }
   ],
   "source": [
    "eval_env.mj_model.geom"
   ]
  },
  {
   "cell_type": "code",
   "execution_count": 26,
   "id": "8eaf5d34",
   "metadata": {},
   "outputs": [
    {
     "data": {
      "text/plain": [
       "(np.float32(-0.09992059), np.float64(-0.09999996940976795))"
      ]
     },
     "execution_count": 26,
     "metadata": {},
     "output_type": "execute_result"
    }
   ],
   "source": [
    "# eval_key, reset_keys = jax.random.split(eval_key)\n",
    "# state = jit_reset(reset_keys)\n",
    "# eval_key, key = jax.random.split(eval_key)\n",
    "# ctrl, _ = jit_inference_fn(state.obs, key)  #VARIANT 1\n",
    "state = jit_step(state, ctrl)\n",
    "state.metrics[\"dist_combined\"]\n",
    "(np.exp(-state.metrics[\"dist_combined\"]*10.) - 1.)/10., (np.exp(-1.5*10.) - 1.)/10."
   ]
  },
  {
   "cell_type": "code",
   "execution_count": 33,
   "id": "893fc547",
   "metadata": {},
   "outputs": [
    {
     "data": {
      "text/plain": [
       "(np.float64(0.2465969639416065), np.float64(0.049787068367863944))"
      ]
     },
     "execution_count": 33,
     "metadata": {},
     "output_type": "execute_result"
    }
   ],
   "source": [
    "np.exp(-0.7*2), (np.exp(-1.5*2))"
   ]
  },
  {
   "cell_type": "code",
   "execution_count": 17,
   "id": "d4fbf4a9",
   "metadata": {},
   "outputs": [
    {
     "data": {
      "text/plain": [
       "[(Array(False, dtype=bool), Array(0., dtype=float32)),\n",
       " (Array(False, dtype=bool), Array(-0.09999998, dtype=float32)),\n",
       " (Array(False, dtype=bool), Array(-0.09999997, dtype=float32)),\n",
       " (Array(False, dtype=bool), Array(-0.09999994, dtype=float32)),\n",
       " (Array(False, dtype=bool), Array(-0.09999982, dtype=float32)),\n",
       " (Array(False, dtype=bool), Array(-0.09999924, dtype=float32)),\n",
       " (Array(False, dtype=bool), Array(-0.09999751, dtype=float32)),\n",
       " (Array(False, dtype=bool), Array(-0.09999336, dtype=float32)),\n",
       " (Array(False, dtype=bool), Array(-0.09998853, dtype=float32)),\n",
       " (Array(False, dtype=bool), Array(-0.09998377, dtype=float32)),\n",
       " (Array(False, dtype=bool), Array(-0.0999779, dtype=float32)),\n",
       " (Array(False, dtype=bool), Array(-0.09997098, dtype=float32)),\n",
       " (Array(False, dtype=bool), Array(-0.0999607, dtype=float32)),\n",
       " (Array(False, dtype=bool), Array(-0.09995576, dtype=float32)),\n",
       " (Array(False, dtype=bool), Array(-0.0999537, dtype=float32)),\n",
       " (Array(False, dtype=bool), Array(-0.0999264, dtype=float32)),\n",
       " (Array(True, dtype=bool), Array(4.900092, dtype=float32)),\n",
       " (Array(True, dtype=bool), Array(4.9000916, dtype=float32)),\n",
       " (Array(True, dtype=bool), Array(4.9000926, dtype=float32)),\n",
       " (Array(True, dtype=bool), Array(4.900093, dtype=float32)),\n",
       " (Array(True, dtype=bool), Array(4.9000926, dtype=float32)),\n",
       " (Array(True, dtype=bool), Array(4.9000907, dtype=float32)),\n",
       " (Array(True, dtype=bool), Array(4.9000893, dtype=float32)),\n",
       " (Array(True, dtype=bool), Array(4.9000897, dtype=float32)),\n",
       " (Array(True, dtype=bool), Array(4.9000907, dtype=float32)),\n",
       " (Array(True, dtype=bool), Array(4.900092, dtype=float32)),\n",
       " (Array(True, dtype=bool), Array(4.9000926, dtype=float32)),\n",
       " (Array(True, dtype=bool), Array(4.900092, dtype=float32)),\n",
       " (Array(True, dtype=bool), Array(4.9000897, dtype=float32)),\n",
       " (Array(True, dtype=bool), Array(4.9000883, dtype=float32)),\n",
       " (Array(True, dtype=bool), Array(4.9000893, dtype=float32)),\n",
       " (Array(True, dtype=bool), Array(4.90009, dtype=float32)),\n",
       " (Array(True, dtype=bool), Array(4.900091, dtype=float32)),\n",
       " (Array(True, dtype=bool), Array(4.900092, dtype=float32)),\n",
       " (Array(True, dtype=bool), Array(4.9000916, dtype=float32)),\n",
       " (Array(True, dtype=bool), Array(4.9000897, dtype=float32)),\n",
       " (Array(True, dtype=bool), Array(4.9000883, dtype=float32)),\n",
       " (Array(True, dtype=bool), Array(4.9000893, dtype=float32)),\n",
       " (Array(True, dtype=bool), Array(4.9000897, dtype=float32)),\n",
       " (Array(True, dtype=bool), Array(4.900091, dtype=float32)),\n",
       " (Array(True, dtype=bool), Array(4.900092, dtype=float32)),\n",
       " (Array(True, dtype=bool), Array(4.900091, dtype=float32)),\n",
       " (Array(True, dtype=bool), Array(4.9000893, dtype=float32)),\n",
       " (Array(True, dtype=bool), Array(4.900088, dtype=float32)),\n",
       " (Array(True, dtype=bool), Array(4.9000883, dtype=float32)),\n",
       " (Array(True, dtype=bool), Array(4.9000893, dtype=float32)),\n",
       " (Array(True, dtype=bool), Array(4.9000907, dtype=float32)),\n",
       " (Array(True, dtype=bool), Array(4.9000916, dtype=float32)),\n",
       " (Array(True, dtype=bool), Array(4.9000907, dtype=float32)),\n",
       " (Array(True, dtype=bool), Array(4.900089, dtype=float32)),\n",
       " (Array(True, dtype=bool), Array(4.900088, dtype=float32)),\n",
       " (Array(True, dtype=bool), Array(4.900089, dtype=float32)),\n",
       " (Array(True, dtype=bool), Array(4.9000893, dtype=float32)),\n",
       " (Array(True, dtype=bool), Array(4.9000907, dtype=float32)),\n",
       " (Array(True, dtype=bool), Array(4.9000916, dtype=float32)),\n",
       " (Array(True, dtype=bool), Array(4.9000907, dtype=float32)),\n",
       " (Array(True, dtype=bool), Array(4.900089, dtype=float32)),\n",
       " (Array(True, dtype=bool), Array(4.900088, dtype=float32)),\n",
       " (Array(True, dtype=bool), Array(4.900089, dtype=float32)),\n",
       " (Array(True, dtype=bool), Array(4.9000893, dtype=float32)),\n",
       " (Array(True, dtype=bool), Array(4.9000907, dtype=float32)),\n",
       " (Array(True, dtype=bool), Array(4.9000916, dtype=float32)),\n",
       " (Array(True, dtype=bool), Array(4.900091, dtype=float32)),\n",
       " (Array(True, dtype=bool), Array(4.900089, dtype=float32)),\n",
       " (Array(True, dtype=bool), Array(4.900088, dtype=float32)),\n",
       " (Array(True, dtype=bool), Array(4.9000883, dtype=float32)),\n",
       " (Array(True, dtype=bool), Array(4.9000893, dtype=float32)),\n",
       " (Array(True, dtype=bool), Array(4.9000907, dtype=float32)),\n",
       " (Array(True, dtype=bool), Array(4.9000916, dtype=float32)),\n",
       " (Array(True, dtype=bool), Array(4.9000907, dtype=float32)),\n",
       " (Array(True, dtype=bool), Array(4.900089, dtype=float32)),\n",
       " (Array(True, dtype=bool), Array(4.9000874, dtype=float32)),\n",
       " (Array(True, dtype=bool), Array(4.9000883, dtype=float32)),\n",
       " (Array(True, dtype=bool), Array(4.9000893, dtype=float32)),\n",
       " (Array(True, dtype=bool), Array(4.9000907, dtype=float32)),\n",
       " (Array(True, dtype=bool), Array(4.9000916, dtype=float32)),\n",
       " (Array(True, dtype=bool), Array(4.9000907, dtype=float32)),\n",
       " (Array(True, dtype=bool), Array(4.900089, dtype=float32)),\n",
       " (Array(True, dtype=bool), Array(4.900088, dtype=float32)),\n",
       " (Array(True, dtype=bool), Array(4.9000883, dtype=float32)),\n",
       " (Array(True, dtype=bool), Array(4.9000893, dtype=float32))]"
      ]
     },
     "execution_count": 17,
     "metadata": {},
     "output_type": "execute_result"
    }
   ],
   "source": [
    "np.where([r.info[\"phase_0_done\"] for r in rollout])[0][0]*env.unwrapped._ctrl_dt\n",
    "[(r.info[\"phase_0_done\"], r.reward) for r in rollout]"
   ]
  },
  {
   "cell_type": "code",
   "execution_count": 22,
   "id": "b52426c8",
   "metadata": {},
   "outputs": [
    {
     "data": {
      "text/plain": [
       "([Array([ 0.26876748, -0.24839334,  0.79923654], dtype=float32),\n",
       "  Array([ 0.26876748, -0.24839334,  0.79923654], dtype=float32),\n",
       "  Array([ 0.26876748, -0.24839334,  0.79923654], dtype=float32),\n",
       "  Array([ 0.26876748, -0.24839334,  0.79923654], dtype=float32),\n",
       "  Array([ 0.26876748, -0.24839334,  0.79923654], dtype=float32),\n",
       "  Array([ 0.26876748, -0.24839334,  0.79923654], dtype=float32),\n",
       "  Array([ 0.26876748, -0.24839334,  0.79923654], dtype=float32),\n",
       "  Array([ 0.26876748, -0.24839334,  0.79923654], dtype=float32),\n",
       "  Array([ 0.26876748, -0.24839334,  0.79923654], dtype=float32),\n",
       "  Array([ 0.26876748, -0.24839334,  0.79923654], dtype=float32),\n",
       "  Array([ 0.26876748, -0.24839334,  0.79923654], dtype=float32),\n",
       "  Array([ 0.26876748, -0.24839334,  0.79923654], dtype=float32),\n",
       "  Array([ 0.26876748, -0.24839334,  0.79923654], dtype=float32)],\n",
       " [Array([ 0.03493699, -0.198526  ,  0.28504306], dtype=float32),\n",
       "  Array([ 0.05467008, -0.20556903,  0.2879694 ], dtype=float32),\n",
       "  Array([ 0.12839839, -0.21615738,  0.30747497], dtype=float32),\n",
       "  Array([ 0.25338876, -0.2480327 ,  0.38547328], dtype=float32),\n",
       "  Array([ 0.35608405, -0.26248986,  0.5322279 ], dtype=float32),\n",
       "  Array([ 0.3817351 , -0.24343966,  0.67996335], dtype=float32),\n",
       "  Array([ 0.3471588 , -0.19892067,  0.7906286 ], dtype=float32),\n",
       "  Array([ 0.31936902, -0.21280576,  0.81041855], dtype=float32),\n",
       "  Array([ 0.30544874, -0.2563585 ,  0.8026124 ], dtype=float32),\n",
       "  Array([ 0.2788391 , -0.25173664,  0.81372756], dtype=float32),\n",
       "  Array([ 0.26248008, -0.25572088,  0.8137799 ], dtype=float32),\n",
       "  Array([ 0.25404978, -0.25700277,  0.81358284], dtype=float32),\n",
       "  Array([ 0.25229353, -0.25338423,  0.8163977 ], dtype=float32)])"
      ]
     },
     "execution_count": 22,
     "metadata": {},
     "output_type": "execute_result"
    }
   ],
   "source": [
    "[i.info[\"target_pos\"] for i in rollout], [_i.obs[\"proprioception\"][15:18] for _i in rollout]"
   ]
  },
  {
   "cell_type": "code",
   "execution_count": 11,
   "id": "755b836e",
   "metadata": {},
   "outputs": [
    {
     "data": {
      "text/plain": [
       "np.float32(7.423525)"
      ]
     },
     "execution_count": 11,
     "metadata": {},
     "output_type": "execute_result"
    }
   ],
   "source": [
    "np.sum(rewards)"
   ]
  },
  {
   "cell_type": "code",
   "execution_count": null,
   "id": "64928ed0",
   "metadata": {},
   "outputs": [],
   "source": []
  }
 ],
 "metadata": {
  "kernelspec": {
   "display_name": "Python 3",
   "language": "python",
   "name": "python3"
  },
  "language_info": {
   "codemirror_mode": {
    "name": "ipython",
    "version": 3
   },
   "file_extension": ".py",
   "mimetype": "text/x-python",
   "name": "python",
   "nbconvert_exporter": "python",
   "pygments_lexer": "ipython3",
   "version": "3.11.13"
  }
 },
 "nbformat": 4,
 "nbformat_minor": 5
}
