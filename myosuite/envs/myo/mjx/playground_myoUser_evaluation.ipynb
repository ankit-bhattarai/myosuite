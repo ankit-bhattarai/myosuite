{
 "cells": [
  {
   "cell_type": "code",
   "execution_count": 1,
   "id": "0bbf96b8",
   "metadata": {},
   "outputs": [
    {
     "name": "stdout",
     "output_type": "stream",
     "text": [
      "env: MUJOCO_GL=egl\n"
     ]
    }
   ],
   "source": [
    "%env MUJOCO_GL=egl\n",
    "\n",
    "import os\n",
    "os.environ[\"XLA_PYTHON_CLIENT_MEM_FRACTION\"] = \".20\"  #restrict JAX to 20% of available GPU RAM; useful for loading MyoSuite and UitB policies simultaneously"
   ]
  },
  {
   "cell_type": "code",
   "execution_count": null,
   "id": "eaedc17e",
   "metadata": {},
   "outputs": [
    {
     "name": "stdout",
     "output_type": "stream",
     "text": [
      "MyoSuite:> Registering Myo Envs\n",
      "MyoSuite:> Registering MyoUser Envs\n"
     ]
    }
   ],
   "source": [
    "import mujoco\n",
    "from mujoco import mjx\n",
    "\n",
    "import numpy as np\n",
    "from brax import envs\n",
    "from brax.training.acme.running_statistics import normalize\n",
    "# from brax.training.agents.ppo import networks as ppo_networks\n",
    "from brax.training.acme import running_statistics\n",
    "from brax.io import model\n",
    "from etils import epath\n",
    "import functools\n",
    "\n",
    "import myosuite\n",
    "# from myosuite.envs.myo.myouser.utils import update_target_visuals\n",
    "from myosuite.envs.myo.mjx.utils import get_latest_run_path, load_checkpoint\n",
    "from myosuite.envs.myo.mjx.train_jax_ppo_steering import get_observation_size\n",
    "import mediapy as media\n",
    "\n",
    "import jax\n",
    "import jax.numpy as jp\n",
    "\n",
    "from mujoco_playground import wrapper, registry\n",
    "\n",
    "myo_path = os.path.dirname(os.path.dirname(myosuite.__file__))\n",
    "os.chdir(myo_path)\n",
    "\n",
    "# from playground_myoUser_pointing import PlaygroundArmPointing, default_config\n",
    "# registry.manipulation.register_environment(\"MyoUserPointing\", PlaygroundArmPointing, default_config)\n",
    "from myosuite.envs.myo.myouser.myoarm_pointing_v0 import MyoArmPointing, default_config\n",
    "registry.manipulation.register_environment(\"MyoUserPointing\", MyoArmPointing, default_config)\n",
    "\n",
    "from myosuite.envs.myo.myouser.myoarm_steering_v0 import MyoArmSteering, default_config\n",
    "registry.manipulation.register_environment(\"MyoUserSteering\", MyoArmSteering, default_config)"
   ]
  },
  {
   "cell_type": "code",
   "execution_count": 3,
   "id": "24566bbf",
   "metadata": {},
   "outputs": [
    {
     "name": "stdout",
     "output_type": "stream",
     "text": [
      "Tue Aug 12 08:07:29 2025       \n",
      "+-----------------------------------------------------------------------------------------+\n",
      "| NVIDIA-SMI 570.158.01             Driver Version: 570.158.01     CUDA Version: 12.8     |\n",
      "|-----------------------------------------+------------------------+----------------------+\n",
      "| GPU  Name                 Persistence-M | Bus-Id          Disp.A | Volatile Uncorr. ECC |\n",
      "| Fan  Temp   Perf          Pwr:Usage/Cap |           Memory-Usage | GPU-Util  Compute M. |\n",
      "|                                         |                        |               MIG M. |\n",
      "|=========================================+========================+======================|\n",
      "|   0  NVIDIA GeForce RTX 5090        On  |   00000000:01:00.0 Off |                  N/A |\n",
      "|  0%   35C    P8              2W /  600W |     171MiB /  32607MiB |      0%      Default |\n",
      "|                                         |                        |                  N/A |\n",
      "+-----------------------------------------+------------------------+----------------------+\n",
      "                                                                                         \n",
      "+-----------------------------------------------------------------------------------------+\n",
      "| Processes:                                                                              |\n",
      "|  GPU   GI   CI              PID   Type   Process name                        GPU Memory |\n",
      "|        ID   ID                                                               Usage      |\n",
      "|=========================================================================================|\n",
      "|    0   N/A  N/A           77338      G   /usr/lib/xorg/Xorg                       76MiB |\n",
      "|    0   N/A  N/A           77576      G   /usr/bin/gnome-shell                     12MiB |\n",
      "|    0   N/A  N/A           78428      G   /usr/bin/nautilus                        52MiB |\n",
      "+-----------------------------------------------------------------------------------------+\n",
      "Setting environment variable to use GPU rendering:\n",
      "env: MUJOCO_GL=egl\n",
      "Checking that the installation succeeded:\n",
      "Installation successful.\n"
     ]
    }
   ],
   "source": [
    "# @title Check if MuJoCo installation was successful\n",
    "\n",
    "import distutils.util\n",
    "import os\n",
    "import subprocess\n",
    "\n",
    "if subprocess.run('nvidia-smi').returncode:\n",
    "  raise RuntimeError(\n",
    "      'Cannot communicate with GPU. '\n",
    "      'Make sure you are using a GPU Colab runtime. '\n",
    "      'Go to the Runtime menu and select Choose runtime type.'\n",
    "  )\n",
    "\n",
    "# Add an ICD config so that glvnd can pick up the Nvidia EGL driver.\n",
    "# This is usually installed as part of an Nvidia driver package, but the Colab\n",
    "# kernel doesn't install its driver via APT, and as a result the ICD is missing.\n",
    "# (https://github.com/NVIDIA/libglvnd/blob/master/src/EGL/icd_enumeration.md)\n",
    "NVIDIA_ICD_CONFIG_PATH = '/usr/share/glvnd/egl_vendor.d/10_nvidia.json'\n",
    "if not os.path.exists(NVIDIA_ICD_CONFIG_PATH):\n",
    "  with open(NVIDIA_ICD_CONFIG_PATH, 'w') as f:\n",
    "    f.write(\"\"\"{\n",
    "    \"file_format_version\" : \"1.0.0\",\n",
    "    \"ICD\" : {\n",
    "        \"library_path\" : \"libEGL_nvidia.so.0\"\n",
    "    }\n",
    "}\n",
    "\"\"\")\n",
    "\n",
    "# Configure MuJoCo to use the EGL rendering backend (requires GPU)\n",
    "print('Setting environment variable to use GPU rendering:')\n",
    "%env MUJOCO_GL=egl\n",
    "\n",
    "try:\n",
    "  print('Checking that the installation succeeded:')\n",
    "  import mujoco\n",
    "\n",
    "  mujoco.MjModel.from_xml_string('<mujoco/>')\n",
    "except Exception as e:\n",
    "  raise e from RuntimeError(\n",
    "      'Something went wrong during installation. Check the shell output above '\n",
    "      'for more information.\\n'\n",
    "      'If using a hosted Colab runtime, make sure you enable GPU acceleration '\n",
    "      'by going to the Runtime menu and selecting \"Choose runtime type\".'\n",
    "  )\n",
    "\n",
    "print('Installation successful.')\n",
    "\n",
    "# Tell XLA to use Triton GEMM, this improves steps/sec by ~30% on some GPUs\n",
    "xla_flags = os.environ.get('XLA_FLAGS', '')\n",
    "xla_flags += ' --xla_gpu_triton_gemm_any=True'\n",
    "os.environ['XLA_FLAGS'] = xla_flags"
   ]
  },
  {
   "cell_type": "code",
   "execution_count": 4,
   "id": "6adc215d",
   "metadata": {},
   "outputs": [
    {
     "data": {
      "text/plain": [
       "Reusing TensorBoard on port 6006 (pid 3077204), started 17 days, 23:16:00 ago. (Use '!kill 3077204' to kill it.)"
      ]
     },
     "metadata": {},
     "output_type": "display_data"
    },
    {
     "data": {
      "text/html": [
       "\n",
       "      <iframe id=\"tensorboard-frame-af325c610f1bcf61\" width=\"100%\" height=\"800\" frameborder=\"0\">\n",
       "      </iframe>\n",
       "      <script>\n",
       "        (function() {\n",
       "          const frame = document.getElementById(\"tensorboard-frame-af325c610f1bcf61\");\n",
       "          const url = new URL(\"http://localhost\");\n",
       "          const port = 6006;\n",
       "          if (port) {\n",
       "            url.port = port;\n",
       "          }\n",
       "          frame.src = url;\n",
       "        })();\n",
       "      </script>\n",
       "    "
      ],
      "text/plain": [
       "<IPython.core.display.HTML object>"
      ]
     },
     "metadata": {},
     "output_type": "display_data"
    }
   ],
   "source": [
    "%reload_ext tensorboard\n",
    "%tensorboard --logdir ./logs/ --port 6006"
   ]
  },
  {
   "cell_type": "code",
   "execution_count": 7,
   "id": "8f2bbd80",
   "metadata": {},
   "outputs": [],
   "source": [
    "# params[1][\"params\"][\"hidden_3\"][\"kernel\"].shape"
   ]
  },
  {
   "cell_type": "markdown",
   "id": "f42ae8a5",
   "metadata": {},
   "source": [
    "Load Environment"
   ]
  },
  {
   "cell_type": "code",
   "execution_count": 5,
   "id": "77845a32",
   "metadata": {},
   "outputs": [
    {
     "name": "stdout",
     "output_type": "stream",
     "text": [
      "Current backend: gpu\n"
     ]
    }
   ],
   "source": [
    "# env_name = \"MyoUserPointing\"\n",
    "env_name = \"MyoUserSteering\"\n",
    "\n",
    "print(f\"Current backend: {jax.default_backend()}\")"
   ]
  },
  {
   "cell_type": "code",
   "execution_count": 6,
   "id": "7d523740",
   "metadata": {},
   "outputs": [
    {
     "name": "stdout",
     "output_type": "stream",
     "text": [
      "Restoring from: /scratch/fjf33/myouser/logs/MyoUserSteering-20250726-224307-FixedRewardv2/checkpoints/50001920\n",
      "Checkpoint path: /scratch/fjf33/myouser/logs/MyoUserSteering-20250726-224307-FixedRewardv2/checkpoints\n"
     ]
    }
   ],
   "source": [
    "## VARIANT 1: load env, and load params from latest run \n",
    "# Note: load_checkpoint always loads latest checkpoint from this run\n",
    "\n",
    "# checkpoint_path = \"logs/MyoUserPointing-20250718-200508/checkpoints\"\n",
    "# checkpoint_path = \"logs/MyoUserPointing-20250721-221417/checkpoints\"\n",
    "# checkpoint_path = \"logs/MyoUserPointing-20250723-150450-MyoUserBase/checkpoints\"\n",
    "checkpoint_path = \"logs/MyoUserSteering-20250726-224307-FixedRewardv2/checkpoints\"\n",
    "\n",
    "# checkpoint_path = get_latest_run_path(\"logs/\")\n",
    "\n",
    "env_cfg = registry.get_default_config(env_name)\n",
    "env, make_inference_fn, params = load_checkpoint(env_name, env_cfg, get_observation_size, ppo_params=env_cfg.ppo_config, eval_mode=True, checkpoint_path=checkpoint_path)"
   ]
  },
  {
   "cell_type": "code",
   "execution_count": 6,
   "id": "7d554ff3",
   "metadata": {},
   "outputs": [],
   "source": [
    "# ## VARIANT 2: load params from pickle file\n",
    "\n",
    "# env_cfg = registry.get_default_config(env_name)\n",
    "# env = registry.load(env_name, config=env_cfg)\n",
    "\n",
    "# #param_path = os.path.join(os.path.dirname(checkpoint_path), 'playground_params.pickle')\n",
    "# param_path = \"/scratch/fjf33/myosuite_ankit/myosuite-mjx-policies/myouserbase_params\"\n",
    "\n",
    "# normalize_observations = True\n",
    "# ppo_network = custom_network_factory(\n",
    "#     obs_shape=get_observation_size(),  # Example observation shape\n",
    "#     action_size=26,  # Example action size,\n",
    "#     policy_hidden_layer_sizes=(256, 256),  #(50, 50, 50),\n",
    "#     value_hidden_layer_sizes=(256, 256),  #(50, 50, 50),\n",
    "#     preprocess_observations_fn=running_statistics.normalize if normalize_observations else lambda x, y: x  # Identity function for preprocessing\n",
    "# )\n",
    "\n",
    "# params = model.load_params(param_path)\n",
    "# def deterministic_policy(input_data):\n",
    "#     logits = ppo_network.policy_network.apply(*params[:2], input_data)\n",
    "#     brax_result = ppo_network.parametric_action_distribution.mode(logits)\n",
    "#     return brax_result\n",
    "# params"
   ]
  },
  {
   "cell_type": "markdown",
   "id": "40e6f53f",
   "metadata": {},
   "source": [
    "### Internal Testing"
   ]
  },
  {
   "cell_type": "code",
   "execution_count": null,
   "id": "10f9af3c",
   "metadata": {},
   "outputs": [],
   "source": [
    "from brax.training import acting\n",
    "\n",
    "eval_env = wrapper.wrap_for_brax_training(env, episode_length=200)\n",
    "\n",
    "rng = jax.random.PRNGKey(123)\n",
    "rng, eval_key = jax.random.split(rng)\n",
    "\n",
    "# key = jax.random.PRNGKey(123)\n",
    "# global_key, local_key = jax.random.split(key)\n",
    "# del key\n",
    "# local_key = jax.random.fold_in(local_key, jax.process_index())\n",
    "# local_key, key_env, eval_key = jax.random.split(local_key, 3)\n",
    "\n",
    "evaluator = acting.Evaluator(\n",
    "    eval_env,\n",
    "    functools.partial(make_inference_fn, deterministic=True),\n",
    "    num_eval_envs=1,\n",
    "    episode_length=200,\n",
    "    action_repeat=1,\n",
    "    key=eval_key,\n",
    ")\n",
    "\n",
    "metrics = evaluator.run_evaluation(params, {})"
   ]
  },
  {
   "cell_type": "code",
   "execution_count": 8,
   "id": "a628808c",
   "metadata": {},
   "outputs": [
    {
     "data": {
      "text/plain": [
       "{'eval/walltime': 41.33294916152954,\n",
       " 'eval/episode_reach_dist': Array(0.022375, dtype=float32),\n",
       " 'eval/episode_reward': Array(6.5148783, dtype=float32),\n",
       " 'eval/episode_success_rate': Array(1., dtype=float32),\n",
       " 'eval/episode_target_area_dynamic_width_scale': Array(0., dtype=float32),\n",
       " 'eval/episode_reach_dist_std': Array(0., dtype=float32),\n",
       " 'eval/episode_reward_std': Array(0., dtype=float32),\n",
       " 'eval/episode_success_rate_std': Array(0., dtype=float32),\n",
       " 'eval/episode_target_area_dynamic_width_scale_std': Array(0., dtype=float32),\n",
       " 'eval/avg_episode_length': Array(26., dtype=float32),\n",
       " 'eval/std_episode_length': Array(0., dtype=float32),\n",
       " 'eval/epoch_eval_time': 41.33294916152954,\n",
       " 'eval/sps': 4.838754651123446}"
      ]
     },
     "execution_count": 8,
     "metadata": {},
     "output_type": "execute_result"
    }
   ],
   "source": [
    "metrics"
   ]
  },
  {
   "cell_type": "code",
   "execution_count": 9,
   "id": "33d01bbb",
   "metadata": {},
   "outputs": [
    {
     "data": {
      "text/plain": [
       "{'reach_dist': Array([0.02351627], dtype=float32),\n",
       " 'reward': Array([6.330341], dtype=float32),\n",
       " 'success_rate': Array([1.], dtype=float32),\n",
       " 'target_area_dynamic_width_scale': Array([0.], dtype=float32)}"
      ]
     },
     "execution_count": 9,
     "metadata": {},
     "output_type": "execute_result"
    }
   ],
   "source": [
    "evaluator._key, unroll_key = jax.random.split(evaluator._key)\n",
    "eval_state = evaluator._generate_eval_unroll(params, unroll_key)\n",
    "eval_state.info[\"eval_metrics\"].episode_metrics"
   ]
  },
  {
   "cell_type": "code",
   "execution_count": 55,
   "id": "749db759",
   "metadata": {},
   "outputs": [],
   "source": [
    "from brax.training.acting import generate_unroll\n",
    "_eval_env = envs.training.EvalWrapper(eval_env)\n",
    "def _generate_unroll(params, key, num_eval_envs=1):\n",
    "    reset_keys = jax.random.split(key, num_eval_envs)\n",
    "    eval_first_state = _eval_env.reset(reset_keys)\n",
    "    return generate_unroll(\n",
    "    _eval_env, eval_first_state,\n",
    "    make_inference_fn(params, deterministic=True),\n",
    "    key=key,\n",
    "    unroll_length=200)\n",
    "generate_unroll_jit = jax.jit(_generate_unroll)"
   ]
  },
  {
   "cell_type": "code",
   "execution_count": 56,
   "id": "a0a55bff",
   "metadata": {},
   "outputs": [],
   "source": [
    "# _eval_env = envs.training.EvalWrapper(eval_env)\n",
    "evaluator._key, unroll_key = jax.random.split(evaluator._key)\n",
    "# reset_keys = jax.random.split(unroll_key, 1)\n",
    "# eval_first_state = _eval_env.reset(reset_keys)\n",
    "# eval_final_state, eval_data = generate_unroll(\n",
    "#     _eval_env, eval_first_state,\n",
    "#     make_inference_fn(params, deterministic=True),\n",
    "#     key=unroll_key,\n",
    "#     unroll_length=200)\n",
    "eval_final_state, eval_data = generate_unroll_jit(\n",
    "    params, key=unroll_key)"
   ]
  },
  {
   "cell_type": "code",
   "execution_count": 57,
   "id": "a2c303f7",
   "metadata": {},
   "outputs": [
    {
     "data": {
      "text/plain": [
       "(Array(-10.9054, dtype=float32),\n",
       " {'reach_dist': Array([0.02216392], dtype=float32),\n",
       "  'reward': Array([6.478419], dtype=float32),\n",
       "  'success_rate': Array([1.], dtype=float32),\n",
       "  'target_area_dynamic_width_scale': Array([0.], dtype=float32)})"
      ]
     },
     "execution_count": 57,
     "metadata": {},
     "output_type": "execute_result"
    }
   ],
   "source": [
    "eval_data.reward.sum(), eval_final_state.info[\"eval_metrics\"].episode_metrics"
   ]
  },
  {
   "cell_type": "markdown",
   "id": "2f254fcf",
   "metadata": {},
   "source": [
    "### Visualize Rollouts"
   ]
  },
  {
   "cell_type": "code",
   "execution_count": 7,
   "id": "b40d443a",
   "metadata": {},
   "outputs": [],
   "source": [
    "eval_env = env\n",
    "# eval_env = wrapper.wrap_for_brax_training(env, episode_length=200)\n",
    "# eval_env = envs.training.EvalWrapper(_eval_env)\n",
    "\n",
    "# # Hide model target sphere for visualization of policies trained without vision\n",
    "# eval_env.unwrapped.mj_model.geom(\"target_sphere\").rgba = np.array([0., 1., 0., 1])  #np.zeros(4, dtype=np.float32)"
   ]
  },
  {
   "cell_type": "code",
   "execution_count": 8,
   "id": "82de8a3d",
   "metadata": {},
   "outputs": [],
   "source": [
    "jit_reset = jax.jit(eval_env.reset)\n",
    "jit_step = jax.jit(eval_env.step)\n",
    "\n",
    "# For VARIANT 1:\n",
    "jit_inference_fn = jax.jit(make_inference_fn(params, deterministic=True))"
   ]
  },
  {
   "cell_type": "code",
   "execution_count": null,
   "id": "5ab48442",
   "metadata": {},
   "outputs": [
    {
     "name": "stdout",
     "output_type": "stream",
     "text": [
      "Step 11, touch detected. [-0.00516176]\n",
      "Step 15, touch detected. [-0.00037479]\n",
      "Step 17, touch detected. [-4.644895e-06]\n",
      "Step 29, touch detected. [-0.00631386]\n",
      "Step 30, touch detected. [-0.00450933]\n",
      "Step 31, touch detected. [-0.00184261]\n",
      "Step 32, touch detected. [-0.0001313]\n",
      "Step 33, touch detected. [-0.00013387]\n",
      "Step 34, touch detected. [-0.00060725]\n",
      "Step 35, touch detected. [-0.00108897]\n",
      "Step 36, touch detected. [-0.00091314]\n",
      "Step 37, touch detected. [-0.00044047]\n",
      "Step 38, touch detected. [-0.00015509]\n",
      "Step 39, touch detected. [-0.00043332]\n",
      "Step 40, touch detected. [-0.00059914]\n",
      "Step 41, touch detected. [-0.00076019]\n",
      "Step 42, touch detected. [-0.00085377]\n",
      "Step 43, touch detected. [-0.00068146]\n",
      "Step 44, touch detected. [-0.00035816]\n",
      "Step 45, touch detected. [-0.00025969]\n",
      "Step 46, touch detected. [-0.00038206]\n",
      "Step 47, touch detected. [-0.00050282]\n",
      "Step 48, touch detected. [-0.00067693]\n",
      "Step 49, touch detected. [-0.00073313]\n",
      "Step 50, touch detected. [-0.0007829]\n",
      "Step 51, touch detected. [-0.00065249]\n",
      "Step 52, touch detected. [-0.00058567]\n",
      "Step 53, touch detected. [-0.00058972]\n",
      "Step 54, touch detected. [-0.00051462]\n",
      "Step 55, touch detected. [-0.00053811]\n",
      "Step 56, touch detected. [-0.00050169]\n",
      "Step 57, touch detected. [-0.00055003]\n",
      "Step 58, touch detected. [-0.00063049]\n",
      "Step 59, touch detected. [-0.00078874]\n",
      "Step 60, touch detected. [-0.00080472]\n",
      "Step 61, touch detected. [-0.00068181]\n",
      "Step 62, touch detected. [-0.00072676]\n",
      "Step 63, touch detected. [-0.00062334]\n",
      "Step 64, touch detected. [-0.00050377]\n",
      "Step 65, touch detected. [-0.00050073]\n",
      "Step 66, touch detected. [-0.00036239]\n",
      "Step 67, touch detected. [-0.00027525]\n",
      "Step 68, touch detected. [-0.0003196]\n",
      "Step 69, touch detected. [-0.00041425]\n",
      "Step 70, touch detected. [-0.00035756]\n",
      "Step 71, touch detected. [-0.00021147]\n",
      "Step 72, touch detected. [-0.0001477]\n",
      "Step 73, touch detected. [-0.00015366]\n",
      "Step 74, touch detected. [-0.00011003]\n",
      "Step 75, touch detected. [-5.3601507e-06]\n",
      "Step 76, touch detected. [-8.588603e-05]\n",
      "Step 77, touch detected. [-8.010438e-05]\n",
      "Step 78, touch detected. [-6.0315633e-05]\n",
      "Step 79, touch detected. [-0.00014233]\n"
     ]
    },
    {
     "name": "stderr",
     "output_type": "stream",
     "text": [
      "100%|██████████| 81/81 [00:00<00:00, 1228.57it/s]\n"
     ]
    },
    {
     "data": {
      "text/html": [
       "<table class=\"show_videos\" style=\"border-spacing:0px;\"><tr><td style=\"padding:1px;\"><video controls width=\"320\" height=\"240\" style=\"object-fit:cover;\" loop autoplay muted>\n",
       "      <source src=\"data:video/mp4;base64,AAAAIGZ0eXBpc29tAAACAGlzb21pc28yYXZjMW1wNDEAAAAIZnJlZQABTB1tZGF0AAACfwYF//973EXpvebZSLeWLNgg2SPu73gyNjQgLSBjb3JlIDE2NCByMzEwOCAzMWUxOWY5IC0gSC4yNjQvTVBFRy00IEFWQyBjb2RlYyAtIENvcHlsZWZ0IDIwMDMtMjAyMyAtIGh0dHA6Ly93d3cudmlkZW9sYW4ub3JnL3gyNjQuaHRtbCAtIG9wdGlvbnM6IGNhYmFjPTEgcmVmPTMgZGVibG9jaz0xOjA6MCBhbmFseXNlPTB4MzoweDExMyBtZT1oZXggc3VibWU9NyBwc3k9MSBwc3lfcmQ9MS4wMDowLjAwIG1peGVkX3JlZj0xIG1lX3JhbmdlPTE2IGNocm9tYV9tZT0xIHRyZWxsaXM9MSA4eDhkY3Q9MSBjcW09MCBkZWFkem9uZT0yMSwxMSBmYXN0X3Bza2lwPTEgY2hyb21hX3FwX29mZnNldD0tMiB0aHJlYWRzPTcgbG9va2FoZWFkX3RocmVhZHM9MSBzbGljZWRfdGhyZWFkcz0wIG5yPTAgZGVjaW1hdGU9MSBpbnRlcmxhY2VkPTAgYmx1cmF5X2NvbXBhdD0wIGNvbnN0cmFpbmVkX2ludHJhPTAgYmZyYW1lcz0zIGJfcHlyYW1pZD0yIGJfYWRhcHQ9MSBiX2JpYXM9MCBkaXJlY3Q9MSB3ZWlnaHRiPTEgb3Blbl9nb3A9MCB3ZWlnaHRwPTIga2V5aW50PTI1MCBrZXlpbnRfbWluPTIwIHNjZW5lY3V0PTQwIGludHJhX3JlZnJlc2g9MCByYz1jcXAgbWJ0cmVlPTAgcXA9MjAgaXBfcmF0aW89MS40MCBwYl9yYXRpbz0xLjMwIGFxPTAAgAAAB1dliIQA//70oPgUz6FLysxWvdiImDlA4OycM4dgAE/6amlnbtZt9YBLQAARsSPykSCvCtN6x1ftNjytUFAodEXwf2AqOTCFufqv0VPTldzFYOO3KstEhUTXLpzK0eP71m7/i8choNzL9EGAU5T6vzQWp8k19PiR2YjozDZ9ta2UeO4rVhzawPxURYDOrPXrM5yQxokZLRN7me0LtOBH9Z38yn9fbU1KR81NTk30yYVqGki+gi5cYEoRCgBy9atHY9IqdcnX4p4YQkh1p3ambqxSADZx6n6VhHXzECCe/KfGeSX3n0pVX9bD4sOtsB2r0/Xl1VmMB5gSBMb266NkaB9uhntRPIpOkAL43oOPsu43Fzg2sTgoDx5kwT2LVUPU/nN8H8CqB23AHSXrkgA9u2at9Yx2s6YQmZyfl3aLz2mGnlUoSZ2MOMq20OTwSzur7SOZvD9Ooxf7Rkw/SltW6fEZFcuAvy6CzKarX7EMw+ETo2FhIUbr3tv2xkVQdvS/2g21pgscguDgAoUeAisJ0gaVbsFYQ4XXwJUbUv9S375c2KRaNNp/fitCuv5CXYUTpSOQLRgWS7v+yTyZyOLjfehSuQ4PBdYoIKdAGqgOt65TXjHMp9fqQQ63jWYqqADrgW+3IkekKoorD6WqFlRUMeLx6qFTMWuzdQV5jjNpQdhUDfiWa2A/OJEBZS3KXMsuEmSgc8AdI1Q2LW6x2Utbf+s/RCDkVIZCunhBuOnzHRD2mkxgHYFQgOHQ3A1yzRfKh+MG73BU9zgrb3R5s4vaE/XR+QcwGxS/PtevmaOb/TdBaKXrhYbCy5Foicg9qHr71affwOHCSCE/kwIJ6PLa4lGCslqgU/52Hjb+EZ5GIN2C7EWM9PahwLLKEE3qq8xyWJIaiH0tRjoRcqmKyYHokpgOfb3FeDd+uRXR0sc/nX6cY42k1zbcB2Zf65tcRQo4iOXBpNXllYj6isiIlVn0dfTIVsCItXKP5d9dqWq4re3bePaU4rM778aMU6xBUMyHwPPG0dCM6nKbRug3DkixzBZRTqMobKpGTUkLEqnF1UjMhsXZread6k5R/xYqd7ee20HfXkqwENjnZNh86QAAAwJ0CUS+GykRSbO4LP+mc/VQKfdakGpM5ym2X8PhksAV2s88w6FREGqNlg9YSHWCLXXeUpuWH0huYi4SHozwfPB17/xhK7lCdOzW5pHJrPey/CajaI2VSZnweQWAFy0SKarDwj5wl2pNU86IKX50hfd184UCzZhl89Ejqj5S64RshgEQy0s8a5kCw8gb+Lt2LRcWbZXchIL1MwDkzKzqn1ayJaOti4ziJkK8dkBSvOvkYQDRMaXZTHspqQjL4eby8vwZKu3GCsaQw/peYdHvOULvMQXn/umJR9n4pQ1uFgmf4Lz0ESOQXx3LYFU9OYYRQrC7sF8gX9BM935r+fTMiZZhhEKw1g4TrYntgKf3fbSiVqWvWM5tQxG9JyEWHUr9FBlH/8yNBZy0irzTwGCEyX+2wlMvnLopZi01ns8x9ENl1gWeBRV9wdEB/HArBcW3ogOcm6qR0pwyHpAbAQhtlepGUMT2YEZ60gbQHEGSely5ywwLCuWI3Awse1qCXfKAKokMnxSZJ2mVXrAwxZy69F4eEUNdANLzdrqzJOvQ+ykK4zypT2ZCAFoxzAgC3rZxAupN20yBy3x/4Y7FxoPSBrSnJ4jDd3mA1jyjG50ItykmD6podfOFwBJ4Q6uu6yNJ31gFvaNNGwcDwTp+yBknez8pgMEGLYfR+CWauhTf74NPX43pFcaHF4KeJruyEq0UalmyAhmjF4BcnCCnk8PsG6zmDSLd7koI7qHsklbh+00iIS0/VwBcFk6Cv/GXqi5ncncXdVuwvIe+slv08WxvdLvFcQZh39qeFyzogAg3WigDl6bXUQL8Qm3S3JfFVWgaK7Ho9pfQiG8+x8ZBCqB+/HnakzImz0m6FyCtGOa+S95mHSQjchuioUDyPnSxOHuYu6SUL3wJOxocc7oYFFKwkJuBR1AIFhxWgV6u4SSsMyNc1SccLzSaFz0h+3yd3ZtIfRX2RMvJ630igMAsNqA6pwAAmb+BW7QdsThZc9POeFmN4/RAlepWSk/y5YKYWHIv10oMeNhLT3GCDGpy7U+Jm1Et2FE/oSq1opxfr7YOUnhA+bKfeBW4hSl5a+IBq966jvTILOdPJp/6bAbOhYH6LyBfUo+cNECafQYzlRrayHdJ9GFG1taIl+r5VLKQJvTNmbztmUYjn+lQp+bCSZISo1OnoqpyP/fxUWI4aD0K2jp7a9u3gNCXxbmRK8O3AopKiKNbTC2lcf5wVP6t7Jqn1ph16FMZsfiJ3t5Oey8eCNHSuRsWf6+y7P4BI3UmRdS4LUFK3MrcQFqDiLt9X4g8shZCdHJpCgP5chcgKd1KXMr4dBIKR1eoA2ORSmEx5Z742jRB5DSJCgqnvuGDko0RyZ17pzquxVSFC8pU0viKpBMEEUoR3i5qbnlvAAADUEGaJGx/5EAGRVKH8RVhsUfsw+P11goanvVBtZ1fDSAmbWs07H7jAUUQvMfXYz1FGOj1/D77xt8ZqM+kNSYQQc5hr6sXjxmCpjKp0iH/pV5u/9ushPAZWZqtlwhLpFzlHEmskyNXZIzPSnBhQ08URKCcH4jxKOOceOQY9Rs929uSNy9rshvX5Mci7iJqSS6b8RaAaI32VeeXtpc+bw9iwbuzje4D9wHEuh+F+5uG4IaqqHj14NEi3F/VSCualIHMgSZmEsq2Bhx3FDNggGiSJR88yEAU3/a0JZIr65KDQ2ZQj8o+CKPoUqvYIBdjvv0IMCTFNhQ4tTzR7crAYnECJIPwqhdij0Hi3NQHBXirLSkNwamI5sRqJ8eKEQjhtbGsa2jxOVNqNjRiD6pen3QAWKx2w1UfIaOiSxkYWIT2w1DkP937g2ODpx45Fp0kB+SJ2KRvX3uCKENZb1nv5b+7n5K11od71zm7uHOwXRmcwKXLAjwa97x1fOFoRpb8UgXkiS59YVSlfYV4VpDe/hXx0hMXsMVpoBSc2aAvGaLLLwtg0xEHXBxbaKUAyrG3YuzwSUQ/BpHGdzzylw31BGQ+QAzXM9hazLGwtOJFQ7q07Z14w3+paADCnXw/G5WMihZYt/IOmzcwI5LsEXYvIvcDOlsmUtgFc8IT8boP8CqWqU6Vhqm5HUbvMTKo6oOA3lixni8SiemYtYor/DISeHgAnArRBwVzSZPqP97+vhiADKbZ6yEn/jAcwMZCi+jDCelAZtQSFHLQ4/Rjs4ILQFw2Ivma9E/zjY4Rmhpag8tTG11QTFV8k98ubkrAX8BvHcJkAdxKHtJYfF5ivcn8xHT+t3pGIhLal3BCwncLE2jLerdRB0rzzFWWsx5och+G3AdW6KSmzfMJBUJF0xjnxiHbCEmjzL2wvSx2EDMh2RJMq/ycVX7krgX0kQ5kI2cn4i/JUmSaJFoTbjJ586BBFTkGifMAfQaIjLmOEs6ZzNgwbzYLMYlN+Q+68a31u6NFDDR1Ti/qJRYIelUSRZH1YzJ18U5TmIWRH2ZRtqDlJCFwG54OG/09MAtgg/YTHHuYxQPdkxkwAYZub6AmB3yJXuO1i9HpvatCr9cxTUaT9lvvXzfAAAAAsEGeQnivAloayGtM/A8Mb3dSPdp3hy5+34SIoKD15eeT0SoQHhIsjbB3X7810QOoT5umXS3fGKXAw+bMRxMridAS3yLr2w66Z5/FDh0pMCZWnRdweCMq1q9R1qVIqzIBBzzDXMXyKj3yScfLB51o8KzkRfkmIqajL5Uwih6QFGW3SLXhoLZfB5NFJUIjyWChi384m0o6v6y9oUfLMeQj5UDMMFBcLmh/U+u2DxccCAmpAAAAdwGeYXRJ/wK7tuivzOG2Ou5/v4eKj9H09lIEaf+vd6uAcKN3sRA0c7uHWtd3HeYFr4ms5av6uUolTU6pDgpe0zeACypUQ2CjyhyyaaOGZuSydm/000ebpnRoZaqXklVrgnAtoImh2W1EpOwPHQFQis5oFiw++eqoAAABaAGeY2pJ/wGXHTitEOHpbdwtOh0msAddV+VUGR+lC9VmWbvFU8sZHxbjWBNBGAghOJbcDnzzylbZknGMbfI0Zg+CKiB65YWuN09sG0ijaUTArNyxY1u1oQF03ZrC3DsRK6cNT2HmUw4lFqEQ9ZsOZPBekIchm49UzJ0M49yD58uA/ocaLiZURcelmkR5A9nbvEV5URhtKUR/B6S54AT050PEvnulh+h0wjzTKqoA+Dw39zjTHmDtOmWgRHHeRGAfr/gTJ7BBbgDtKgdryWx7ImmdaS47Y97E/EobafegTIOke6KoBECNfd3mnBXVVk4h5YpAr0ototKvr/Bfw77VRzf+CW6OwQe+wid28GledWbujKGZ/vrTNJdlu4tS33LhY5ReO+tZYhK3gkFpv0qHdgddYCCUQeL99MDnOhmNKY2h+wRMCGXQYvypXxUIUSQBZ1AM010fTGCLn9YFOKE8wWHvIZzypPF1JwAABKRBmmZJqEFomUwU/+RAA3xMAhtwMcWrxqKkEFHmDneP9hbzPT+0l8oVSIcbjX4NmymiLcDVstCg8E0wJCvoXdWwwVZfCggOsfcJ4EEBNVedTaCzs7ReRWnHkQbx0qMkmgvYpCQ5gSW+81ldJMSBJixNMS6zgdZyDR/neohPeHBmJNrd6yHbDv9r5KkqtA7Bl1Fx1RS2u7cr7+S9FnMfXgSeTi5ZUWELeensAFhX9vxacCewEpQijNSfW4EcyUw4UvnC9CUzXlw6uJF5AUdRhPSrKMhAPz/xwTNieN5DsYCFW+B9kYPVDtGft495YBEwAvD/cqGFFHuh5nLJv4gKjZa4IO+cA1ndAtvePkKz4k+5i9qIClvRhfgV4f4pP2xvMGh7a7P43lV7tMTvm+rXVDZrNDFsjYNPDUndKi0PtuCPKmmVwkbpRLsZImUhSpu4dzvfpT0gyYkv2xANhfqETFsbq3jo8C6LqvTEo2a4Kecp146V12eqiNT8icea0Rsbxfuy6SmQH0dMhjzHB7+Gd4gwj5TsIBdG662mmnBLOBmEfG2UlaDSegBCx0nbWacXNz/6uOIQscz/FhwPyZLwKdjynFm52jMPyXxBP+LaMXoItfZtyukimmMPXcgVn+w/+19cT/7kuLNDSuqoXR4ly2Jo8ARf0dDc/XkHi4VTzRyqvuufU4UUd6SUdpdZ62S4osde6Bkj/X6iSuNs+WfaL8NpC/nJjPAVn/SDAxXhDSiUUKs2Of8xkigfEm9CkLq2CvVSEu7np9qe77eixoIbdXUl/6cGsYi4KcEbvpCLmzdFwgTWGVJAv8kUW/XwT/xhtid/JxQa9bzeYwcvOgqocmkH8hkM7Y3Xewd9hZMMk0XUneGNSmQzpkK4UkI5GEJ18oMZXIN3Xn9uhoj1boTzv0OwKwDUD7gb1YYvMwTuLr920WjH7vDbUTW30N8bCkBEEBVvxSGfx7OisWevFvybmPQ/bNFq6MXqQjxcs+b8t9LBMS6bmZ+r4qupzmycMw9XT3WyLVV2KSS3ASEvXKX1GTsKvb0m/N2SGl27K0H86d0YksNKtvfZrN57BDTk/Hafp2wHRMQHXUBcB+ipCwSsZn+/QOmAPPEnMCmKuQpUCE2I+5gmu5Pj9ySSy+pMKQyU2jkNKvTwsaY9jaTQnHUjfliyBERfbblbUKncDGUUKJYAAAMAAAMBCcflou4kfOrAro8IjYPq9+N/0D6bLjuy1d9/0XJ3lMfETVH4h4a2ja15LTifOTApsX456MRq/IwbHlO0oW4QgQO7ay2u9dDfOAcVDgLseETmuYgnfdV3o3EuqQnW0d6f8XTV9miTOhsxU/P59zkMI35MPpOZT3HKvrx9WI3H02BtQsCDDUz1cOS8x6hqtPqpVlTmtZCNHUZMoSrgfMbJuebZXk86vvQbPVOd9c+w2rfVYIagJ3dLsm1UR0L6RjoyBbmevQyC6sRSALQs2boMHC454zKhuj+e4htzujmI8KuDENnMm1Lc0kaJdXtlXrspBnkn8iDbWd1frvswHS2u+XkBc+zejiTqvr9i9ZlTd5qo0AhZN91GkSKAtKc7TFEAAAKdAZ6Fakn/AjRl6Va1hDBNN2um8vUnMNXdHgEQH8nvavPELrYTewW/0v5vY5BeUGl5g873hFaekQZyLOu5PC6nr238aZK98RlmNyBydYGUfut1EN/m3KpM1q0Q+oyhNB5BPS/YaTxNqigh8YLO3y115XofW0/5valcJICA1FCiEMkGOrM9irTj5FxYGpMLuYAcnOcHzdSyJvJczx+jOKO/blMhDJsOuGhSWXJtbalZ27Y0j4XtoysrQMhGPZREoBFqBoUpwFbL8ugFoW4kikBQXFA1Bh1DhCDeZih/5lxtMr+ekr2nzWA8UOmHHhz61nZYo+xXjJ2Eu2KPhTtQ1WZ5qsnuFR5t/mERTrwO/7jMthnt8aDWgbl1ZAYo5gqFhoQjCx5QH9J/tGzO84hOSB3dB+XPbP8IhVrGYsB/5CAZm+zigtwHivG9pYwAiM3oBEVf92VFKu7ucKw8cruDaprDFwIQZ99vecy1J8qLfGKB4vlTPkWi+kpUev86sTVGhtwrPd/VJDT2jEP/siOJAqEqUtfBvdUuWZO/JiKGZnHuLMNj7NyQs7fYsU9zBOBs6ndZaDHZ7OuE8rxIJ+v0FIjfRi+cbV0vAwmpBwgQBeuzw5pG8gke0WMaLO08OiYJ80FlxcvMVcDn+BhAD1qTli6kzgVBwKJC5eeGDVb7z1t13kxT2k5TjmXQgorCwQ3ZQvGSx6orGRdY4g1lf/dlRGblDYUjtsM+KtG5A6MEA9AKDcCR1kXCr4SAvw9TTo/hZmMnvfS/w63RqfI1Ei7mycunTixc6TAuAmwNGGlCXgzwtm05r1qtWHBjQDSKCfbbD8eumn9jm5Ng3Zl/Vci+7Qy1LOTuKbyhWw+BLoJFeeKiEDGJT9VykWTLuA42Nuh1AAAEb0Gah0nhClJlMD/kQAM07DOKBQBjKAIK7mfrldMSGNF4amX5OtZTAO9IxQWVtemS7zcocoFzgMPVVhM+/GE+rA0nePmqBs9o7/BVLzOd4buldShjZPraOpzHm5OznRp/Dk5W0bJzs/vA23rV/2Agm9+fVUHo46DUNXbuLPbtvY/NIE/x31njqqYok+hr6lH/VjJKJPCJwer/vYVQxIOk8MlqY8cFI2Avg23yrvMUCn/OmhCtGTtzS2VQnUdAbzU8hRtyIS9znEm/gimQs3Zlt9NqXp8tj2752GKkpoYA61dF6DfU76eYC2YqZvdtUdEhCXqVJDfppBbj+nVLE9mlQ8CIdqJqkLhnhzB8DCYVYar8qS9uZvEgzplQxqcTNDl19zEM9mkmxXjhU+MRdVy/Hi85UxWx5t2LcclrVjdUAh8qB4qXjwUfdOl/5xv9ECQDCgpDD+SU+ne6oyFZi/gJy3glg1n9ca+16dcnV9bTNouy0eVfFDwBC0l3SyOJ1dehS1wW14OXKWA4IixxIi9t6kM4y05yntUciQn3FJefnzmXDj2G2hRPVrS3+JpESXse3jeB7NedG5Ow4EY6a37epphR5ZxImdl6PYhyagVztRiB1jU6n6G244qBy5RRieegduYSqteZ0vEcBdKv6x0KJTK1uqu2wyGqy0vxTGgBiaHCEv00CuBFwWnt+Lt4ENEcfe+83Ia0XUvIdwpYPNoE85sbO+GHJZgfMSS8aBkJ787kVvUEdGg2kD9WB9mk5j3zRj0Uw43v7hgghVIMPBzCGPvSkKpzJzR+6AWg0ntagqGdO4fH+GIWEsVYBX1RSdb0gSuFr2uXNosFggN1mNrUiCNNYZhVPy0X48TQ4647ZzLaBxxV64qDqsXBAFbEKLK7nwRlc01QMN0L9F08W4jQpjZRyvmb7onNn8T9mnZ4ug9QayadOJ9LKjhIIuXwzc6gQHLKJ+St8RtWUdQToEHAe1A5djs7U/B+X0KmWtWnT7z54KXJ5TX3Hfd7zeMM6UzWhcY9f+etOkgWPtRYtIGP1jzSvkUdzhy2oOjgYvAZY3MEMiPlHRbsqdDfT66UoKXl9mNvzsDm563NWMn1JUTFI1841Q3wPC5mZASsyaLsmbDGa8CqZc1hrPHxo3zD3ta2QVIf/VlGwfHiiB6fcvFsQij0RgWWx2XoWfuX89UoeKuAvf4pz9VL+MlS7USs/OV+tEu9AtsZNlg2SoHozigFfZ640K2ui4QRNx3pPxjEsB5Mp9dod8D2VGFtQfnq7ICFQnovA00v6v13HJ6Bxs2OQpdLuQWcRptaTCZThvAxAoairIHGSbGIbCvn6lXrH10i5XweufScETd9eA4Tr8UKyDWEwhcUSvHCM3YC1eGbpBbHn5iP70p0ByaEhZFgailOxpknVdzSnUtOYOUobbC3PRa3U6q/DtiSeAp2XA7PEKIBusGRO5Caz09ClRngVgbiVaaMNTLWctdPDEKICD+acE8+id1wUnjhjcFCtRiZTqUAAAUvQZqoSeEOiZTA/+RABkOdQZUlF4Q7ZDDh6vOHYnNDcrL35gP17uhWdS9oI+IqqDxJKxl3kFrhLKvjF2++bOrGBheAtbwj1pLm3QIZdyUqMbd0yORDgUNBRWCY7DK15EkHjxQoFOyFLJxH2udRJo731tO9cPQo6XGWLKYNYeX8cT5hfxDEQHmWScLaHP/MxySLnwIqfwNN2ulWPCmkI8fzJBvNHToT3Pq3/iMBcmcSjz0ZSZaRocWMr/XabEYijlZn9T+UagMG6sujdi4WuSbxlTTmgK0ZIR4Dj90otxkCQBpepVs8OvJ2f1xteaEW6dxDk2eo4tH2+5VEuvngJRnf6WnxpsrOB883RkAM6eUfVRZxf2EZyLa1jFRBwTXN2Azh6W4n7acCXWbx2Xhd3zG7PWl2WxdpoxaxYv2gEqhoC0yWEzUPklkL98m3jZNCPy1hPYwgnAZxzw6jRywe8oPbNgL6kIjDVd6CB4H8JqDA2ua3gGpNL2yqr57j5Vptxh8BoLzIl5JRtgo1O+v0yygAnh2R20HDg+YH1LW/n6ahUpmL+NU++fayzswV56S6/WA9Fhq644/IdYWVaeKqaOIT7nlkFTNVR7sbt+gCkh/ua85kZSIB7oYl6u8A7RZuQWkNN8AABR6I5Hw6Mmni02YDw5RP2af6SzPN5wLyucy6reQpKTWnKWeJV1YUKK5d4BVdCOe9IQ95AoNxyL+ReW8+L6jj/QrDRYSH+ow8+YL7RV2lpNNpJgT6JNhvAXsiSKJh/SP9/Xkr1uhNSf1LboeNaYtjHsC/kapCI9yIORJ5TeumT9n6t6BWvt4nUuOtIBdtPN++W51Esv8NHzDLk3GiLNFqwfJA5/vfIkyV++6bytnt9ooXIvxsEHPu0BOYO2CfNEM6Z0ZTIfK0epDwQJlj1BOLQZO0bntXKlG0oXV8Vt7Wv4qhxi9/954K5DoIfZNbbDqvrDBzE1bzRljRo75NI71gVVqSCbfLW/yev8OYznYuYFWj520UBTEsDMm7BZ+/+R7SveQEcBvLl8sr4NM/14wxMZKwQhIq88wXICywI1INcqfkzXNBxp//P5aj9fE9iNQjw+g5lZ51p+0h3Wfx+pWIZ6DcaMlv9i/CW/vB1zWoqC/Y1U/kBwJExzL06eAX5lUd2TBkxLnpCTZ20HUjaZAIqK5wEwBffBdrFQ8iUegy9H9alJc/tz3HvWLprwrVfDsE2IaSIsLSeMui6SyZ+Tu3hcDZUEZnOMWEHlUrj6v47TSoi4oE0ae6zGZuWqfSOeQsVPX6SrQtzWl8aQtP8BuJL0TdRtwzaYyqxxs+9Pjv633hTkvQsjyv9MY4VEzXM2TJfQZcxdaPePU+m7F5dU0QNqrrZ5f79xrPb0SPEELktjOm91Ls9dyX4//61UUk9UQOAp34soeON4g2SemzUDMjw3gNzKz8y45Oe/USJYbQX3bX/9rtpUKBnQ/uJ8M3aKN7qupfXNjjAXJzJNKUn2L2jcdATfZ0nrdUdHyrvaqtBnmHcS9gMrzi2pnhodEg9qaTSUqlRxmS1rxWd0BmjbEc/Dbk3ZlhvpFoS5ZvRM4bD4Iyjjsuz6izhCX+9NahPQIC0Wc+DdmU1kjJh5Taa2sLoAcr7u5O/f7e2UVMNs57JfVRCcxfh9ZzEQ+/V4yA5tRXx9MO4X8eePdtEMjKR8/F+QoSQWrQy+UO9Ho8IeJuSx+5Bv4kYQ2EG7dGctrkelAXvm5zKQPdZYOKKQ1tKV4GokNg5NhCQkOIVB1NIAAACE1BmsxJ4Q8mUwP/5EAGQ24JK2GjKcYIwkTt5sLJ1QLtA5Uf+e5PuRhMv1Im+qkWGmLqA9gCavRcrGcKAztqF0dW6WVZT464aFWfUPWdNnu0/6ojJF2IqrRSUbw0Hx3a/yOEbmklCnSpqPpN4LccOOQR8pLyEKGXBCu2pdAqhvgnh/bBRzOV2Rh5HDA9nsCdIY3yavOFye4e4zLoSesnYbUMeShA98VCHSGW2kqs5RC9QAWzXS9ZZDWKnIQdbasKF8ezmu3/LhASkgeFvAK8zkcS8EbfK8jDphabNtnSqc/tsBrfJsr7zMWbO1ygyzhgG9cGIxkBdczLXXlt6xTRZQlh1oMeMwruvsbVzibw+bp05XnWE2+zK1ptDR3liMH+8jHMz/YA/gZrrsL7wbOpCpXO6b6jiIwXWA7uNAc7pMdD0dRtIgsoCWF/r0m6NGZc4qsw6evdEAyAbjohNaQxRDozwlQiGrZEizBP62a/da9mBaOicsZ+epcmHMT9mTBEqMfp+E7pwJHLa+D+ce1MlRzAEQCDIwvvabhWg+eJctM4+5pZ/xGrSwi6Uw7DLdU51SGVjGVyby5oAldlRDq5iHAEXl0NaYKksfyB70gQCbamKaaGgwxvPty2wwQHZ0pObceepSRsmDBff7v5FpsudUKWGVJMQft/wWwBZ2DEfVIQcScHIp4EaJJXleKt7tECbgUIOKF97IXcsHhqs1VYt7b9WVOv7i5EmZBjWQQv72kIeykpp+e5+uEcRCTGuOitbEyAHI5YBlQ132FL0MfHBW7Y0+oFoq1u9OIh51CYLaujSAjA/lFlWwUYbcCXt7+y2atK1kzZKD6/m7lfBNRXqkT7m5UaSSfzQMD+ZGF4SuTXlJl8YUprOJEDd2v1+0XWKtLJ6u2jBxfhkT63a0vCcxAW9QI2pK7Qc0S2kQkAHoatF34/8XAmYgQC1n5RZpIm5zvF0yrVmI9ivDOILAqW1xukd7usQbsgLEqVFj4VZuAFV/KAAW9tYhgU33VHK0JQhAtMLyThiyEu+DBcliTFq07LBkmn1OI1IwroPrQMQOwGb09RlBpiipMFGMZm5c5uIC9Q3vFK4oyQmRDbXzTv6NfqEGm3ecsp81F5gA1tH7fAYfbNMNnHaZirqefxa0QNnbgMb5bFmacAm+pdLxEiwjTp5D1Go8yTfFfsr5tipeJerxwlpIqxGgzhQE92tadxTNlfFGDYsfgbnYuqN5dio8U9cjHBwC9potnTW7c1DvcdV/7/b/TWPvU6TKDvC/Z8Y5s0VFdxTjlDkzfEGd49aCOrtMBvfNojJKaOoI/XCOc5l/DLw8kCwOH63oH/Rs9s0WFT8LfBBrtd3p0v59QWGFdR0KVz1vsVigFfkGqRzPepy4HLYafG2cLRwcs8klRk7BLW5wM4d/PYQXmo4diKtUt7GcNkr/LYVUyX4Wxi4p9lZiVN8iqRS7cPqcLnCeENSnYBHE6gTthOoaUCUqOMoUOv4J9w7PlSkr10X1tAusnAvcIjJkCCuo3wUscQOJy/ueOBjAR5yfi9xxGiu0pO4m29779jIB4csBT3+zRQV4InibhcyO1ZpeYlR9079J1qr+RkC2jUKnPuahDyPgNx5YsPebIlqrKLFR+PfTp30DiPy/rSwgtTjBAg2A3zOS2UxRkj1QTXbSkW4yXMNpBKXv47zjPFbqH+BN0Mn0KjwsRMv5SOQxNpGgOZdKIk0sRJMxG1E4JDW6DjvuJXRoMMmSBJP1JFZlB9ci1AN2KJ3ULXFBf7YTzXeJ3F9MtUcp1FHYE/pXZVSttJyC2vm9TL9fBUAXfeXRpZnIAZaxZD0F7s8v41wfVTeNEiQSTrzO7gpJ3Qs3S1ahU1tSHGMdO2hHRnkt7dFMLLtu8CkslpLIqk53yYz7m83tdv/NIwKjrkUpG4lolls3edAilY4UirWkjdC82UZX+HCg6362pe/eomUC5JJFOSsjE+PiV20J9110diihTYa8hQXd8VM2yFxeL0mviUgUNHq6jArnosSRy4H5XuloLLCjHSfQLLWnz9IdzCNhHZ26eB0a069WNBrCVDjBJWAfLxCNgyX53F7OzQ2SH60PsjXYG9W1hHJlLS4bPDq5z/xsO97BHFBSRboHAQ+8QUSMiwRDkIoRHgmxGCnS1cq7zoW04ua6IDAUpOIuNTbpMih1UzZMzjLwAWzYCWRtE+PAeQaJYOvCaRHfvUx8m8I/ad0iICED8CKbFllwcbqN7gHMV7soGvEDWRHCyrHBlAs58YaNXDfKJFdrEgvt4Nn0sL+r8E+uNlSk/1iZ1Jabu55YNoChKtWgFoPCCCSke8hSzIoRnoGEj79g0FQCkQrLFoKMl2zm6I74NK/7Of0FJ+1T+yBZoiRYBzXsC7Lk7LirYa4ywQHa8wYdaE4AMRNTpktND6OjFQCbEWuValEngIjc/Xd5FYAGpI+Q3zPTX5+WSM4e/cNyA1WBXjlMcwrq15zFKiyU8BUclNlxR2aOiZYHjn7CTZr/EQeMHNQKdxhJtDXsJNZiiFNkp/9C4Zp3hLILPwYFV3GbjjgdMBvKf96aVW6dwS8mpJTRJDhUImoZCvdMEfc+kIj42egHGKlSkTHQ38By9/ZSeTPquZYqtjV1xabvpXOc15oNkhrl6gYwHWKpIvbAtphO+mswjsjXLs3dyzy96bK6lfVsOSjfErl/qP/J1lpwHOW05KRa9RU9vWYzXYxEOP0wiefWssSdzf/0NIDJsf+QO9VaPnsNoO/rkESQ/GggKApG8Y5JTIEXtVPcs/89Bd1gLMtTSOr/O+QV+Wn5qgYMZohszOjH/J1EbJaaqcWZHAAAAGKUGe6kURPX8COeqXpDTY1lGaBI/qDGYbcO2SwCR6FvCx9zrjJxTnJIrn1f4paoJCKD6VKhBFTMQ/sRLpYo8TjMccQz7HiZStocORvXws+UEYGSBrKmwi/9Upn66LQ15x0dN/3cxalFdZjpE3WNAmkd/RaGVugGtT2qQIb5i0S7ijR/h56w0kInOZNxKrRiH4kMj2/HMq006mdcMUlJoTKVJE+qPiyiYL68cb51b/6CuubIupQON8fplMTI3d/LMPPJQwTdQBamwTkeRUMAovDJqMkBsAohZrxzzFCzi3uFVUaOJ8b6vXi+bV/LOGfOymnY4vzuT17mZfu8WXh84jXZXcUTAxNu81ZiYcYsxGNzdH5ZGRttndookLTPaJWtiZ/EXl1dHRLHCM1MShbM5ExZSiqKLhkon9JbuYiru7H/JfN4vxS33ts1iXYZIcLIN6tkjCJDvKZiqS8+fRa6CXoDM9ytWffF3K9u+cWdfen4C0xy9lhETOGYEBXLEROLf84qD9bjTt/zzvK6lMquEs3rl29KOihHu6Xk0m9QG9NpH1JTrSU2kKIlUjQkGLGiBPQ9id+4eCMi2Xm6f4rNquV3jyPiCRhMnlSHhgHq90/irxrQkJ7cc657SLmsX3a2PPe24cFKVT/XauR/0LKnvA2UfaQFORBErJTzO4HH6hIive3PXWWo8c/eGPeea5oHO+wnqTkUr5f/8QOVu6URuEvGd73EyBQl1WV33+59cSUYYzkj+oLeGgU7AV4dPX5GadUS6rB8aL7wUG39F6C8yhfUDV8oi+izoyh+zfo+4C7JF7PkTgKNZTBJGokVMSvCxP8N9ReAO7V7HlfvteW1Z5iJY+XSOdbRHAy34ss0VLaLfvXe/GvJJtPYG5tZ3xYzTHiAynHlFVk9h0Yg0rfEzoV9V9XT7qQdb+uHmOIfhSuSy+b9dwy0JUrJ5DPKwIcLeXhcCbPqYoCoZ4h1al05tCXQrG0OqrY7W068ew1Vg8yjBGcn7n2KnKmmSbfPldBBFSJ/4MEU2o3GqtmnSg2EgL5gQK/swHXh79pxlfVeCg8kc6qkSj873yK2NHE87JqWu0aXwTVVy3iakQ9Kak9/MfxWo31l802Z3QprtpdiF9V4kemQAqTFffmrAu8JxNuRPEjEYZF2dexOyhbNl9guGNjat7pB6EZqkl+Sg/GQXMPckz4eza+P5mJx69AalkfBELurXjl7/ZwKOh7RiQ7S+rnQYJbsrtgWtBU75sb/bUd5Gcwbv+QERA8SovlgzjJWbtBsWZDAUy/pRQu0hAIzT9qMtqv/nxuX4ByKarfZRIvqKJoIQi/7Ugaw/ZfDXPf9U0Ra1Qfc/eT/JywciILOwT221KLyrpiYJogeqzoN+QyxgFEIPxTHnRtkdUfTGWPf+6vMRMMye5BcxYrWlw4YOXFkLOAzdxSGu6RrWYlhtaHslqz1opkjsz7aVP0all8g3NuaGr4VMILA8zObYjKKeYxjdQiRtsemf49OTYTpaUmjk41WCNtfWLzSCQUhOi1U01XehVmDvmTtqokD/4XVmS6OFU9Pqnv/9wtC4j1whwsE7iq88rBtccWA0OFHL7P0IrQQDs6QcQXOg0AKX86LAXQuESOeTV38y6m7gpW6ja+7Vg0tDlrefD1Sp1nJKvFnnHMthWigDXCZwd9m+8rNQZZEv2p7GsyOk2qUs2d+Y6JCyqUgydCewS0qM4dcvbJ0qHONHRBnCx5b5XicRbli559BdGdnfms1UwTOJCPDCihLptO5SyqRc6kYN7aIHD4Ce6qEj/rcosc6S+k7vSBf27WlDjUGN0PKepXXOIYpgF5aiGgsxPbo/9xmXIgh2cxE1054gyrrc9wNfhz0HvmA2o6mBZONYF4imRkP5XPFswK8n3iJ0Y//Lqllt368gYTihg7K+RJOTcYjmXZIR0Ep4Csf1A9QXxmmjSiG2Yd2X9eViR2GUv20gopnW39g10X1vheX+QYq/nTnG64ylR0dERTydfnTKT4qTNI3YRcZx8R+vsx/YVS1/xsDQf8KU3SX4V9nY0nXDS6PVQmVz549fDXhse2BbuiZcLMYaYJFkpU/NW+XBxVL6pAqk5AAAEVQGfCXRJ/wK7vi1xuIewWtVYpS8UQ2vfCH8JrCTBezBFsVdrU7zqkTh//7plLX2Spvre/h+aTAtF/yVtDaWvoJbw2CJ3gRKEVr069hXgtsin0DijzDez1mviRnwsaHRjSYlQ+W+9C0zxzJYXJ3m82/+rJWmweFs19hrW9APi9NxfSVX94y7Haj578tVq96889rzcvdxW+nf/qghjNPOngv4pPJNjDs8EgehUDcXe+LUMXpcznG1RVL8mAIb6xtMUqgR6Dv8FXFEZIe6mGFrAG0CHUexCL1Rr064EfW73A7ccUWnkNugWyuvPxwR6/kZRQHYOvsGgVXNKZX4Eqso2EKi2FrpG7o5N2NDcj7I+SJYRRfINLisdZcdH4CtyOwfj23LpwBPEuRw4wTbh//JB88zXvKl9Jf8AajchVnQedTVGQ52JEqGpszG8Onc/LV8tfmhpnggI+konqN9p5Kk0xSI8HaMfK5tGBnVMXXuVmxU74BWywIawA2YCAue/bL55jvj8NGujKbNilCFaHF6nbSSnFiXt6ez/JeunUwPdOX+Ix6JKUVQJaWwqYeCdheb1swKH4B1wUvl54I5RBe6MB8MRAoz1F+JxYQLnMtKeY8qMg1MnOQ/ziSRfdAvNEsI0PfO7FN/A/pU8eLKWlIpjO1pVOiUarFXLMe+w1DIctXWHL9964fJA/LSBntMd2TJM8siQJE/prcOg2DwojFQ+fouKo0OhVEYiqC7zbNymlTtOrWQiR06jeZicqIZ0XMLJYO0a1E+sL6ixqwBuTaefRFMDY3CDFpWWk9iVOT92yuTSoF6SMGsD/KZO85Yk3i+oxRlYkdhfxaaFcf5FEEJaikSd2ooyJ5RhIYKcvlC2jsuu47x0gneUB6hJsI3rPovFBgLEopG9nN8djBIPX10iD9JAznX2lvypkPyzkN+7RIAL5qcXfDE62dLvfQVGHXDr3PV/07cmDAN4a8w9BwEMh+pLUml/HbNTByIBxayl+a1akrHvJk5JJUd/ewkwT/Be6GvYG0OshY29PruyxOFAvX8YNJhfeL8a44R+ufroQ1WJF+4wC1GHaEddegnFsILPAuTs77HSwR4ggMxy8JW9qMSkrdEGeCwhwZBsQRfWaI21NNZXQOa/zGuH3Xy18e3IVEuyE6BFz7tpEfGHQVynZaknMjPCfEGiNNnelo2FWen9tBEG38mbNoly7Xs3d77iVwvsdR/MozbbdSYOb1O+9KrBe7DITSCgvFVHp0YehmHP2XI6RHOpqPbSbpLY4NOtbJRaZ7pn2/stNjqg7GS9bYvKz06yrBVlLRXN8+olLUw4xUnJZPW3aO3VFIGZv9JRek5kcbDMhyos7YFUsQyupM+dOU9qtp1vc7wzaW5TDXgKChJk06kPpsSkgV0ZY6U55JiZpwj5GF+KRp3LsOacTXiYBbPs1Zg2D0xSBZhMzDZmlxdAIhm0QQyPzO8ceLlIC8ucgdYEAAAFmwGfC2pJ/wI2REN3309HIajctH4/OnhlxP3GoW3QH0RvWfXs7SmePOQBaNvjVNXO8Z5pmf81XBhpLzC2U1EyBTO462Bv/c2kCS/b6za7yQV9Cq3U7W6yUmd8qJ5PDcotl9xKCUKaouNbksDipa3pmBD9FfVn1tHTL5PHCZL0wLLXy6CsoALXV2Idc/hnzJVvm4wFeaLVLvYsvpzvGEPeXt4G/7f/R6hwyUP2/bj5VxpRl6g2SxOopZARYeNtLa2eEsuxCZr+geGtTOcDfWp6o3jvLnN6CAN/4gdc4nXLNSkgSt4MRFGUSiHzA4w9eZT4Nx74v9DutiWUJBEsZkMUZpcyL5560xVpuewIuEKuLK0WHYzo33HfqvlDe+Mz5E69msO26H5Et/+KlhxomfqLCMhLLrN+JyoccUgFNhrRUNjnh9Y5ia1E/63D2jSapqosm6pVyQ+FaYWWt7AoavGcLRoyJMx/PUePp4MpLMcy7eXpd534ZeEcG8mtzwea11xFGSOD0BXzj/RhtjUSZx+npYRVwOs+cHvY3FBOxEhn+hGxwn05ovTe5KcKMFafEtC8Ajuh13gVd1StynNHF+KsqbMcgMMubkXgtZMOoF2qDhYnB7X361I3Q6uQ7WX2UBIJ3s/HEIXBDcRItfFWaZAsRD2Oy/83hQIrCGLfTk1sOqy33YiaJaG/KVVQWwXhlYV59bA8pp9M1OKorD2ZI2F57SE/Fv/UCVY5EpsD30BLiYGYKWYeyNLSV0II2ALSKuhup+1WrIdz6BMotY3n6Hs1G0z/UoAnn2FzlePtPL3HcvJad8wqp8rno8buJINavN/D7yxiK7uDY4dYOM4LuVPWxbg45YJQabD1VMs82olZFJlfVXnpAB4VSU2Wqm9qwiq3QXy8Rvcw4Xc2EMwpwGwREYuFIY9XzQPiSXt/ggF7kXgo05TGR8KdGv6sISLgZYsYcaP6KGElGgc5c7oYmiHdk02P0x1P1DytZjcWrSgUDNEyAOgXnv+3vKi9PWVNTToiyxJHE841LsJL+xWFjWkVYyIFqcBA6O5oeZdPbcFo465zNgghBGjP1Zm1/j8qJjQYCikgPMBUZvTNH+2yHLQNlfVAhE3AKlbC7QZYsrW2nnYUR3CWuTZdXiaRT5CB+9SZzFWa3MQAWLCK91Kco++uaACbHOp1XH15MiQ7foijzzQlpPYlIAg+jTDCUqgZWEogxF/RIP5R1scll+mB9cPpV5qyhcTwMccYPTB4UOYR4vaTERrSbQnBHkLiEMMMzPPvtPjZy4HDoqSmVMR6TmX/E8BQRp2v7rsY/t1LpczmIt38hUh8GlyZX6Um4UMMuORSAQ0qRAB7zMHYoveu8yJBxoBOmler5MSkEP3oC2QiJIU0UyDGj6/Gyu1fPlkbdsgF01BUngXI1BqLPE3xVfz/hyx79YOTz38yPQY8Q0l4O1qBPT9bXSl+CN+OTOdzNScxr+uYS7+mMlcz0l2vsGXPtExqUlomZt8XpsGt3arrGo/SRnjrqnDQZcsiprjKcyoC28yvSOGEmXvhnSYjdICyEFRbSHl/AlYL8kenuIuEYU66iv28NvsAAVs+9LA7cXyOg5GCiJ4eZS5aBe+mOqpB6S2joU2NCT4BBTR2ThI5OE31UmkTSdhxN1/CBiNkVSUvVnhEcmf0kBVtsTDEN6/3UqQ/DTrMA+M46BtXporA5w7M33Y251vL2mISlCcQZTGTlE1pm9p0McBIWqNOWudo80Pp/BKjHh2RX0BXdSHkNb1yW1oo8eRINzzWiNfcf2NQ0Lr4bMU1kzP1X82wn4CRxPuM7wku4nu3TvVSWV8Gg6RU0srLVdTrKUkvk2fTCI2L+vBGIvj1VdsxhbrjXjZn9tOowln2fwiHjCY0ri8CTS2zo3eX0CmwPGhOK4AAAAdzQZsQSahBaJlMD//kQAUb+HdDZtoMnHtcWtamH8UjTcoDiKPJuco4RoZHGO7JrLZA3ESeUuxEjO10rkWQymaGAUbhv0/4sFvE++I06xcNyHe6Mwl5V7yCXzeJd8LAJpSH2uvwrDophwcnhdBeEfA0o9Kx1O0i2qHuqCeQJUiaS3Qnu39ybJdPp01BQ+2bnV+KAujJDEOvuzUy0yc8WRlgTpOnsvcgKw4B4kJcsBZVeH9mAseayShoLVV1JcYFqvyyMIn0tmID9NEd2FsHwEMZN3boUgy83RNqDHNEY6NeCK9fQ92fGcKyRbIs0EYKCfTs/tE3AHSNpWKte7r1nneanyDlDDEuQsqXFqnY0SQ0dkPSQlhAm/Lp9WhsJAzhBq13+AEVFm16yJllHHnLvcWLnolSFnKJcDMW5KBJq8vyfbbVAJIqbYo5WQSeKESigh2LJr+bwciTfDViLURhQ+eHb1yZKN5oEfUaVWPF33bbjHgkrOuunF+JiPcQn1P7vL9GP2EeGlXPszF8jj1r2yS3qEinWZHVGwJlEljfB0M+ZlGSMUDi/MSzXb9NGnq69dCdPsfqQAfBbOyz3L/qA7AtK68sfUAO1AqYmwYZFt/B+lalwcnZwf0T++PVBGnbe1V6U2eRHyZAJMScsACr5847VU2Pney57CUDmUudZ+BZYsxbGVm6OjfqKvN3xwl4gb5unOzVQocusimrFzpzTaUKpUGv3DIOF5HIRFubp1TYAVC8+KasusQVUTHGZwU+YPhJ4iWievIYIItstl8fVAcZwiqopWos3mJmE0TMJx84zwfruNu+SpBXIWIP1gXmqjj71c4AijGzSXOkwUfBI+ruaFD8T9nkSDd3+Xai4vjOla4qrC2paxH5lYTuhl4FE73fbQgQgd2kODVAOGfTLOQdrDRZgfxEx9hoJ/ideGDSIvNi1n7a2FMt4Jl33lTsZlZ8GNShhtojUoBsZdSQg9lia+rAoZ3WsVdHEVxtBOevJmDTUWL9mQ1cPS4b0B4Y1fF4JIoCUI0coRHzjUjb+7fBPs0gCOfInbOil5hqYNXN55Po0QJ5ora2wYCstBpkWRFO5smtwGHItavR/sxIMSPywL1Y/7lGrEWY/zicTpUpDVsZuHtj3+BNObKx8dxhM8lQLPr91FdHHAdNkSlbV+1Kuq+xd+mkf67hC+QawnnjHmnysigmZ5Y3Qr/ppkGfZXXfbrhwV55t+YX87tEos0e+YgS4pyctxT/gMM2wQzbz2GeLxiAuqCLMB5CNE0R3cCQ0jCdM//y5RAkEBfTb2uu1kTl2p932suZgEsuddx7G9/u9NSvXUiApzm06JwgGsk/uFhYcRlBUwtwX46+0pLNmJNMp7q2hTu0FtXoA08Wh2DM5sHA6uuodIedCSjI21L4oMEQleq6qhZ+3jsEhUhk7hqYfY38jYW+OzAc80V+Sjq25Vqiovdck4V23+9iy+YHMq5AxeEPHpdEDvBhzmKvKKPv3YW8PbKXQTgpHV8oUg7z4ZrbLualoAkt4idS0H+gCYyEzOmlWJnlUZNKIIEG4J9fvj00oylN4Ms7D3etxZqOpwaTIyTGu7emGW8H/mg/eK+WXa6AOS7TmIdCEMysZKVV/0aCTdN0RgQoFNs5OGbUlClaWC1mnhtszi3b/fpmriVle6dhOTO87AzTv1Ef7CpDWlMkDlIh3Uvqa2TbVRshAtL3ntX6ANhZnUmvbbyUQI5NEchaRtywSxpusvmpqbjs5/GKJd+DJWKod4gPJb883mPacvu7m/75YgqQN3PQNyveESwu/YPFev+RLP4mtOD74NcYyY0lYoxknAo20tzkVDgWQwYbilDjJn2sqh0f4SyKadw1c9aMpMMB4LFCP9+juEFGluOUsxL7n95dzCn9+Y4FPO8hkMgyEaWL/xcHPJPqAzyng33S/pyPIa73VGPhy3Pl0tqTJQcLH/1JZK1zfS74osG1P4j/7lFdw/L+PLzqlGbHxKdmNRMzb+P/o7u8zGQ0jg08IKa4TFJguUAUr1gmUiymVgoXGYXHHoDtTw8EwvDciHRc15JjJtZ+tChqatMG06DbKzTfLSlH4wSllu2TWMjPwzbvVww1hJT1frIYRtmNOhO7otVJEHQ6W6zt6TvmD/Xb1s1lFIHSrtF7WQMfj3bUtAun6WeySPHJHIyS++GuXd+vdGeZy6bytzWkyLZK6LOWvCCMD0y/YAfsuTqKiSPmoBQ1WDpj7fb9YvGvlOt2rtwPT15yFIs9VAo6V2Lw+MJGrmVWboQ57T+9yK+iTTW54NSnpJvAWirGYw91yARzGwl/8fd++ELzwn0OTMb/jwzB1dUxIbzmH8wKTxO44O5+8U6/0MB6DVyF49ERmW0o1U0cOM92G5apEq5ups9zozJYkLMTGtWJ7+gao/pChZFl+lpCduAKNo1ZXkwpvs7kYl05qYyXcO4EXCpEgK/UzZb/mt2aVftEv3v5YpgAFq+8YJIQIBTwGzxzPXJyGGy7youD7PmYkSwH/ILSUFqzzsEdwaExYI8BDHGx1HwcAAAUoQZ8uRREtfwHkwhnMywQ7fpiGQGNWlJpDbyaRMU+nX04qBThRepWUkROaimE9570ZGIWjQPipvQnvfRxLlYa88gUkeraVRs6DCjryWH4meR3J2sjR3jiASjjmnvecZPFXfauwnNfDk3+mRL2TNcahqu0vxwz9eepiCS+97eHoU6KfN8k4yYqCqIC93+yw1ctdIlbXHe71pM7HLnD0bOPvlu9LEpFeN8L27XbwEtdCg1Irs05GKRbogb/E0tqu0t0SxdC5351JJ2tsPjnhYfds+Pqu4GrJAB99JSzLyhmZAQcFYQ6gPhMYw1BXDHz/RVK89TiinRBDRhRy9GxnnKLu45d99mH8BTprgxQcSXaxWAr0j0pZ59bTSKkBpjz0u+fLxm/hNdyB8L88gcECJ6e615e132CHc5DhlLb5qCHHMEjOI92NVJnGGEKcncbnsJSvEofTaEznRs34r9yaFfSlolLxgSJlJLfYUgIxwDqYlZOesRfr5pDbiLCqhQwBczHVumFMeKaYnVWQzzBd2OcuI9l3baQ9ZTX3O9vrF43JYIVTpFN9i0ugdrpcqUTqnc8btk9NdoNWXvrMibcsyzFCCaR76kzfyeQgz5Qe+NTfiZqTvl/pwk82X0PbkdOklKTpRBwaI08yssaR0Q51ppvLhpAwvQuXNtRm9uLSkx9hlSinhACjHS1r5Z0+BWuo6NswnPngDuyovbc7nRpoAsvPEO7rgDiutkmKYUwV9mC/oQLNP9+SzWtY44EjLXYc3jMCCPPmxUV3/tU6c5NfOVFOlN/tJUbayFUVmFhXwBueloiws7dnSB6Fup2ozLO0w54PoqdTji/Wg8YSibxkaLnti3MeI/IKjZ4t2FqacGxNT5hsHrxT8ZOtocNetE+IyNFXbgmo5aDjaLpMPiBhnSkXjpcP5ynu45SJpjPoGLcTCeOyfeb2y/dCb8D8ievGxM3Tb6yVtiKOllx6chTSa5eiuRGRuEGOTQYn2dDZZTNl/XaxylkS7bd+NjSWpx02pNK8TlJMvTSP0oKAdKYg5CEXM+a6d3R18zDA7wy2UcBSYAR9eiEvZJmfUgf3gh3e50/AnvVLiGpBkeEhwyAStKbC4JryYN+Q9qEbKAUfTH5M+ZEcEXT2gwyjIrN931jUL2RlOKJ9fWd7aGYNI7t0EllAb01uXog8l5Cl9jNn/sDzE0rShykvIyvLk/zdn0xpAyhHRa69Bsi9S3xRFcw4k9hR+S1aSOi1lueYGO+8oHZ/+Yohy5wEbc1ScHPM+8YalKWzbBnoaMPPN/NaCWpuZ4/fEqCp7T8tyq6QRL7v+OsHuuwf69H3oS44cYzxLQdJFlYBIE8qXobug9JUN3x3aaAzydJm8kdK3bpMxLpibo/Vw0PgDcewRE4S7ar468zoiueQ6Hvu1D8Xp7rglbd8sJGXLaOe4/zEgYSm+pAUOefqNyS4PXpx8W5f9G5UZmTnc5YZcPaSqD84RWV7pY1N+fQEueGdPNbyB+Vtlp0CNNwtR2Mo0sQ6QpEFvp2T0lE/baRByB6hJqYt0DIauHoEPF792E+6PmgbXUqYzGxs/ARf24rLzgZK7q2uohaaVoqnJ37nzeKoppgjXl+SfVriAeLGxo2AmNtZy/x6Ogr7th++kA4UVxrkf0C5L2EuKPuFCuXsCFhf7ZVXbUMHM8N5h+WklI0e8bLnlC5/5CGEoQK1K5wmE5FG3zFWGMDNUY+A4P9je+j3PrBDi49fRDB0KHD/8RYh8x4elmYRAAAFOgGfTXRJ/wIzZEQzByFhc2Bo9dYmpFwYUeRwr32GugLpaUMQLZ/4fqIF2C9rdzV5BjsoDyubI4UUXUNA28j+O42SqLG8gHQGk53/UjJNHzgWVBm3ltAFmqr34zXRdWir0QAvunYUt6KjzEWpNiXhvvRIyHSfrfhWH/X+pY7z2LpLyGAS/BETGC/GmZ4tsYvdrhGAAhNscz36WVjJgIjzT/3mgXbxZ1S8RaVf1wxZFCjE8UtGs1CQWIbaS4cZpplukBL1FB9VjCvZHyHefVevXoeQv12KGz1DCL7VTTF4f6eea74hCbjyHQ8DrvLnFkKlMi4vnl+C4SaPC3S1ekYybjfDi9mZsS6MMF0reSeVcnUaBYL13He/dxr/EPq9rw/5ZUfxO/YaULfteq6JZ0JcIPa5ngd6BtGSLC8kUIjOWUcz3ii/SFtVlyGBEDOiCdPPDlXWSXHxjcT9rStCNkbrbD5gj3Mw+Uzj13mTsTVb5JNZ8/SRC1cpR9mbQB31m6lRlJE6lIX0S0NDrGzEoIQWiwJ5TTUr5r8rbjgQ/meRQOgsszP45HbfJkrxpBG3ZtoIz8THMe1mxMGRh6r6Z+CG9UdqM7cXp5NAgn/sxDG9p0BNg1sbywUTMnWKQHFYxnaiXFrrf9TdnLZdRRSeDC9l3wvtSnsxKqvETqSUz2MRU0KxO+RDHnyy6nxFSjJhrV7t8jbWjdaPl8QvjPq7ZW1iYv6NfLPXxNRxSDdxmLe6DxD/URfJ2qFm64aSJq8bSLW8/qHrSXQzGszIlL5Owt9P93yEylzB+1BMAavePSGXdh6VTSumpYWQDuNcu+RquWn/qvsE+UMiurX/qmRLOKtRhKrRbg56yVpkYpCLiMgC3o/Tv7yEmZkbZhoBXW4dcGqcPakYsucNLQEnYq7FQLw4gDkIDnjvMsPfI7rBnEYN1z4QvbAv21JiTJtMGaFeDzter1pqam6MJHR4Nciw90VV0IAXpy5OGERe+ULqwHW/YS28U2cICMm+md5BU9qD2JBVCH0wAXTIYa+E2KxuaakNePhDzPBqO4NzRWGFRqSw+lVVS0TazDQFmwBJWpK2cdXthJZxTJoha0RujDJ5O5PLnHdpFk4hMPkk8knFSh+uq5tV/MeD5VX0CmBEnoYPJkokgDLc7jeAYl2bDo/r716ThbS+3fPXsEOlGSjho/drwArY3B8cHjHHZwFiwduoFRuRUJeZLI9h9nGApV04w0PJfgRk4X/p30grF8xbre4WZiuDYmACD1ncdIqNQYjU53iolb7CyNwICrGLRWiq+JiGI9xHZF6Egp7dLqkRFkwqbwAdoz4RYqKkVqYxrIlobQS950o8jaj9Id7mLRx3Me27J+E9Cjgq+wz37K2Jz1RXOJLE3jlkDCkCwVtXCX6sfaJ2ozBhT/fM9qSioakqbHLWnWT9qMvym8WbCqcdDeZ4uqnDAEE3HzsOivb3q0zRj1weHLzcUi4DsxbUzqbLN9wMo+sOjIrSnEkaKeU+DHm/VcIGY3d96JlaZuGfP8PtYA8zRecDnGhcbjBwc9xz8YunPq4ZsOS5ywSMv7LDPj/SXlG/Zf6VJTBPl20GFwF52n+n6XZvoJnDqk9ql8zcPDuJFzsQc/8+I40ab3XP1kHTSrFTyWN3PcNtxpu5VVxCaxb+lYLf4+EBtngPMBme5FlmLXngpiVGmgcDIhq4Odh5y/DeLOWvqm2jDJxtuaP4VsW31Ttl3oOTMJ/UZDfPJiqo5aLPqK44jaFg/BuIC/bFQcAbbYBxyIFDzxecYQAAA9ABn09qSf8BVTo6GSYD8MRgxNFdb94o4y7fW+2vc3vde8gVtHR0XpBXlYQ2LNsyKBXpXYjJzJKdEzWcUSlvPJXb/YDEEbYwZ7ZPq0lPiGoYqSmyego65unVcPJaGNJeLXRlly1RlrWuBMzOP35JEB15ljdR+ZTz0lvJNJ0NZuCELzvZFPcMaGKyAlAc5JxhmWF3Rzxe4thL2SXbxoRfetoA33Mht+s2ESoHp+6ZPzzLfZHsmhog5tbdfgELw94jMiqsTPKMF6hw2TOc96oY14zy7OyiyIqGKuhmjMjejF/vzgb7OBjM0kboG5Bw89v8VO9NNNexgxkvhZFLD231VwjD/dJmK20rooU4LqvOhrCowJrOXyAilPNSl0Lt7l3EDXVkewsM+i1nEtaUU9Gn1jIdzwxEAXXs4qt/6yy9tWC94bH1jJRN+ikg83citcx2kXFC3Fhcvv9XJFYHswyT6aNTumkKZobNaPmxnhubaDJHfXpXF4y2L/hNUrn1fVsIYVWfsXIxAzQwScBnXznvHu/YcZFAB21KN41h4hJMZRRWm6dJdJuDmTM4riAdxE7wi6a/Pm7r9goLI9reC2NfsCEEVPKnzD2+zmmWCFCu4iISW0xCB14n2CfUkl3faIAvd33YD3eam01rgTwN4K+oxTvLy1dE+hUnyVcGwoSZEnCROaP3PNSeYk021Y4gy9ECPOpUcEOsghHmv7lTTrNh+fLrABnX5NcNaJ/wlHObCSfNKNKwU9GBZmNzLlPa38/z/4VrwQkMx8XWMBvpLBgr19e0Ae5yXz47/hb1cd2YIDRfYUa7j3qsiQgZg3pz79wt6PlD+FJfMITNiFJ5lZBchm0jrT6leYz1EAYceTAPl049z8RlH4OdToVc1MWTwhilFyOw1ow8JHpWhxIUlMOfSIbViesP5apAV0WDrW6r4nm4Q5wTl89ULlFXrZ0qILKc2wqI8clnWs8nsOg3KtrMrPmGoeDfVz/SSVKsw3pU1ukdvx4eChbjhlp6OFd6uxC45uKtlFDiJNSwwLVSWfjEXt8X7Ps4UBF1Tr6Z6rBEGe6Z3F2cjfkG0/6hdxBFDgFLW8bVgX9SR1ggE9vW/Twkt3emPK9qc9dv0riezWu0TnKJo5pxAKz2E7JoI1d02/p+kL0h4DtKz65XInC3KEsmkPys7HmX8UTugePJZAG0BcIiH32iyAFMslHeDLwQ/LuR0zhoayVytmgKTZj2nTUkCW6pHdwJkInYcAscRmGmcUfcWN0LDyauax8cB5fG6YvRhieg+rL/cCYVssmSF0tFvHmgAAAFaUGbUkmoQWyZTBRP/+RAAiqJdIJEF7u7c0xwf16ic9ItWVH7AzACyV6gVg5buR63gkSKVGxpnjEwZAsz+bnOwaOp2loMREtTVS3s2RqhKe1Ng2nO0rM5Wc+PB6lQPmB9PVWNj5IvG5WNWiQqrFb/Now5rOcYq5ywjHUrnJkgvfo94w2Yk6rRm0+LBvbmmWweYNnFM3Ru2XChAH8qBBDNRzpclV12U7rf7WgXa1FVUlr1tOROkLE3449CiBdooiM12NH/+6/FdGwTENz85v9/GVfVv9lV3jW9HWBEf+Ugkg6Nr/9LG2/DDBN2lBgF6bCtMyyc1E5XkVMN9Fi9NAhsS7P8i1UODfIFk7Vdyx9i7vdYDLBuHE+PGKiZGRupbbKoyeyBldemQYcMLkc5qceMhf4SHDW9+q9fpFMJ00lGVgHc0y4JL5uB9jUIdU0TNIva1zkSGrY6k8IqOW/fQFCRoRRrRbHL8hIlaYbX3l67KmZy+UqZysIaop7GjCwYnEVvGZsgl08wIu4kn9Tidq5NhyCf9hqm0kphSjAFjZnP6fvwUYfClhGs94/ziiw+uTL3xdtaULfYVooxLmm/qmAogQkP5e/g1gDptbi9DtBEM29fNJir2LpQ2NsVY31IwQtglsl8ix0sFXsxLqSmySkXg6e8arTeR7VdvWW4s0w3AmtIH8WZ3LxjonVFAQlNtSbFghvij6FeQxME1LuMHX88xjqFZMdUbti+xHZeYvF/SEggCAI0c8GSH2rWBKgmYez76sEek+P1OhoLkJj5VTf3sdmMmLe3BzZ54u50WQwzxcEZ4jMAJQqNv0p6ywS75bPpV9rpAlRkCNDNOMp98faP45pSQvygCVNt14pDlmLC37NAgU3NAfBTXYD7QXvC+oBMEi+pis3cWP+OE09NTIal2svRO/cwiGQbBRy0DwoscZHgBsQNtGX/9zEn3stzAm9D/mA9sNT/++cVrw3NnOhNvwYt6YIeHxuYu9O+bBFCdf3IcjAFDoVQG6ZvqGYP0zuhAdYH0CACLO0zfRdhBsIm8e6yEZ0hTKNUsADGJN1i99O9gPopae4TewEALHOt6lN+7sI6ZHzXtYABT3ZddDOX05rsDXPwXFJhpySh/LUfO9pd4F2/qumih9Z86d2gDdmq+eNotJbIK5EZkRvb+6kIqXntMSYvN974yQqK4inl1aPGBuhwwGZjPMp4HBHsLRxTYp0zDIHlrV8uxusn3HuQrw+aLRvEODMBGQxfAb6rjfoSN44CvoTiELD+vYf/psFS1LH1kXwAyNNpzD8sS9iV6Ic/fTRaYzhPZT81Y6Cd6aLQy8Shgk5zvqkvGEkj8H7Los+wgPGNxnoI+NgjAM6x7PwdkKGDCHXFCwjVPiaPMPmopIQncmSGuVgLrAy6fD1kj110nGrgx8AQXUQrGNRTmbWWzcbyrmIztQZHKegqFjIo8F9O/ER91ZbNZRxY60xdNTOLZlNuzzT8LcrCnW5apOdDoVa8PquvSWDYntWK2qpUEFwrzL3mkXga4rJT1GpBnPqSqHwj9RW4NwbAnFlIKKW2TfPg9YTUI+CNlr4QIKHixwNy2w4umziV25hzkSDC3KWDJJZKXYe8uK8OB+tqQIZz6jZ2n/OAKRUMjiWza6GJl9NCow076giX3maXN+KCEh8P0gUxuPtoM6xH6gCD9tv0Cio/0d/nbv6XC+GcKVadgwk/rkScJuqQZqpjWOWy0ndxWua0T1bkB+/zek8n+BEGqvjDmswxM/d0MqHL4oHNapF6+PCU7ik75HRnWyKY9xY+gVisWZSKYsJA25ykApHRQgZfkpHaeZdBriBdmsWx0bWgB9sqIDW8AAADnQGfcWpJ/wFZwveVVb2b3M0Oz1zM12wIg7otD5nut0jQzS0Xbu96YxsKtlwXu/mEToyPrugk530gAeGHRjSULOKTKn5VJiN8j9bGCANiokvnPSPHv/14Hs0JqsRijzz9LZpqzcnCmvgYqyO0UXkeiI2wLyNhwhzQuNkkwhWminYX2i+tSQbT6SjGnxCyaRG5Cz/hLy3t0GVQUbjE0sIX9KT5ZHw8Nv9zw8AlVkm810t6/t1gNDnGjJAPv85FYeF2EOZyI17cDtS7E5KvJjZD3cWVC6GjTdAzNUInZ+sDwLSoshzmbnfpLkCCVn64RA9U7PFzNOHWne8wyFBtSb4j+IC4BMW3V8LT+brSgin8bcZy9kup/vuuU2ygKyscf6nZx7H1DHHtU15WWbP91yyMKcYOuiFgKcZ1jhHNHs65SafjDEJxCDYGc3AXpm1U4vbD7/Lf3fEcO7pteoncSJExS7vrM4c/+ez5/B6XwjQmc07tQZ0qzRa2i5Rg/C3CO/muTOXsLKNq0SW/BqaYgTb2w9o/56nfTzGVSwa3gJvk9y9P0wHiPxNVx19snwJUMFVc5SMB+QCmyHz50J19TBr1DwQAQs1PgKeAEJwz4vV+9xr2LimlkCoiedoVAaxd0nM8gG/4N5MkxxiEoSHBerOXjCdvYn38eAdI6OB1v3EWBkRp6Z3jp1bZaZ+qnNHXeDCScG1lS3339AR4Q7nxdrXvrG18RWaKgBGE50SCx4o3x+mgOacsUivDQLfwvviY3Rr0EltSLMt/0GXzKHfkckZDpRoNYWJh5mjrbvyyjHz/sPPQWWE9OVRWFpAq6M3b0NVsT496l7OmNgrYw7PiERMrq0XLTIRFzKwdrCa36KwF0x5Z04ffnH7JT9TNrEkq7JFAKytKRg0ne6Kwfm1GYxxgyPi/ItuIaZ4MxmdSH66qH15glxGjMvGTRKJYVZhS4/cqNRBeHMEYzUJ92qSD03QMa0/QnxkCcH1QGHPJJ2POZGDCuuVKQjAd2+iqQkhfiedNXLF1OBBGnL+jhjyASnxItm1mG6I9KF+WudvEcZ5vH4vHEO+NX0t9iNX948pOwgltqnWNkOv5A2HZaN2a7aAT15XKeMDjg6CMCGaNotw3shS2JXoTeUmYHD5dI4yNmfyaPwRm63DCpaZjxyQt7fgT9eI3efbgoiKa9Tq2TvSW8H6u6ztlWSvs+ATrwJHmWSpiFcrFAQG5dje96J0XzR0AAATCQZtzSeEKUmUwP+RAAg3UnRxgohhJ1TeX0Z1HiT1vm9FubuSeTsEERp0QpdHT4WQg+Rr0OcC15lAIRvNkEqBSnCR4l/YDBrbvmKY80qRBkoDucX1jkJHgpz7UV0J2HnqlmYA2qZ1lXj5XxxnDRAip6JXGfC8q2DSiDZle9FUf9ocKDNEK9Yf87/E7B8acItDPkA8KtLX9tX7y68f0pDBda5zB+iKYw/H7Axt3Nzh8q5qKK7ifb73SDfn6rSULX0kWRmBcqFVHWmUFty3yUEmbPZkoeuJ+1Z4COCEK47YAKydiXdvpxV7rKEUp5Xyy9Hww/8Iq3JqsLQ4m5CpuR4VH7sXpOhya92YPz9KnHuituSXnF/lK7FR++9wum4IYzvKOk+hEZFhUhqDpdcxGC6CF73d1b8QFI6q4QYgYOQg08wXs1eTyfRt7MNJUi6+WV20yl+6nDvhqVjOAPYztiVNSh0e0UoB7As0Slo2CNfVqRaaNNB/oLuJtjwhZVu2pxlKMdCND3ij5Pl12u9wVToh4IYVzbsoDAivkIDNHaSxxdUx6PyXYqx/lThD3uVuHWsweGSQArjCkUEQjh3jGOEOvHxAIgO7SZFkhUAvMxSFTGEEZvFOsjU2eqTY7WtoHqHibblJm3mQMGtU6tQ0E1iCTMQl1npZ/BEbKP9a91qOIOVWZpkc7n8a7rLTNOAdHEE9U5R/bRG9PgeoojzHVR8RTqhXrB07fC1dJP3odXEPqdR6dh8a3JL4T5vGwNNWA8eid6hq5dxyHo8nuixq7CcftM+stL5jgRWKAlw7KckdcyjuLCihlbTsfzhTwh5aArKcveQ42LCJaMWqftjWvarr+my1HO3zq+5sbEJD93t0mUzdUrqrXPCmnsz8LbuxqVMDggUcdn3TH5Kl/EVwK+GkQuJ21/Vc/OkuVUVV5V2FPh+iXOAzHFr8WWRYaO/8BpoDsLeU2+0ebj6H+nTVqhayKctz0Z8Z8TMrbtt1OtoqHx7vllgIuUvSb80KAxf0iAZ2XtjDYoNMpaA4ZMuyt4FOYLxPNMy6Kz33Np1RPggF63E88BUh2B3NNt0+eQqtGgmcqTJSyMe6aGhdv1NNFMpGdFPvcLDcXmckrvMHSgQUNU8gyJOff9s0CZqj6qZTo2APdrcuEU8S5eOiTc9UKXIfFE7WUM5vIZOZa6xHFLSJ/WwJC28fjHJH6PB+1TZG5Se69WtIzjDaVzS6N9x3R/aVeEmByqCuo6J/NgHicRoNP0L9DrqlMJ0sJqg7WMWelEBtrEZIGcXI2xlSsaIKGeZRxm+xgrkSqO3PiJZczzoG4R5Lv/dFF4u8tgsUa/h48TcsM34APCBsves2cwtEkMIjeE2cImALfy5eJvLKKzL2jMdU4Vm2Ak7h70Yl9SA1K0c8Mo5SYQewL7rJkn80Pv6fL++8YfhNtvws7osoMxvxv2KbV+ic8aZnDBzPAWNG5mqwlii88lb6tD6afwJd1TIdDN2c3HzMvby8SMZu244ulRO6fld1T2FUR2h/E9HNQu2xV1t3NOXQYOlZk9hBRPe0OG8Z9EYgZDCSVaDwq8zXQvOu4hCFKn9dkQdE2sBSJTSWe7C5exQxwOkx29YC5/UzMJW2uAAAFUUGblEnhDomUwP/kQAMSKGLpNX4A56OPA5MaycJMSh9pijCLvc9mABpOKBEBB9XE1f3rUGiE8sHNHvtwtKIUYdSoS1tNCE1P2VSK0setVSpQN8Fo8TrDgB/8C40U6PMtdT99tr/MorSKF+/UQyrtmmRubfJZKgaxogAow8lfjbk/hp87q+3bQMsDtLUDOB8tz30vrvbUv0h5b3CG22T2nv7+V6mKy4X6mP04QUibJYWyFRmK1r9KHwJlySskseq/Lc2UM7qfj66R3RYwNPHMAPy/LD0QFcJ+QdCd8EXb//X4iy6Y3ulHvWo8WkG28LWKxt/BFZn41Nl+0QIH09rC63XBppLPUub6DlELr0sBMQmdKYmj3sw7xZx8yLwI1LO0Ci0BopHkgW5A9F/YO801DB8deznc1M+X3tOAYoa9MgABTBvNLGWPQTSV8nwlMRDOezkTXTBbDEF2tKBwuiaBgxo6V9XUnID/Qgv/33PfoCZWUZXIOkWQuN97+3qIy+Oslaxa1eGsgEXhynrboG/MfQ/u+35GcQSzv9lvDV5m256DmmdhD+n9ec3Z1IZAkHFEuRL4dDnj8q0r/FY8c/CACbwY4vhwmGo5oW0XkCMJEyrPAE8b1RVDtakOpH47I/DfOv+W+V6DHi7P0xxzVPBhZrlluwpSRt9k9nNnbdI0NvTr+35RpzWoeC7orsNWV5Wlb4K3l1X/Vq+PSVeM0QukHE5JoINZxwLeaCIarOMGeEl+y7ZUP4DXI1tXEFJdDyykSXV04fNBK4Bo8Gl8CFuYvRfpzgFKdliIZ0tDljCHQZO/5JV4gJtwKzareOWfNHruMkw0nbUdPr9tamSRwbrvmNXtB3mdPE3HgWNrfjlApTjD6AitE8n+PhXQ7pBqvcYO5lRF0r5y/kFz8PmBpRRTAfDCbvYmG3LqMXYnbrf5z6iRQZ9GC8MgJRuaS6LXGnSDov3BRN3MG/I9oiFC9LVuHZntMFCfKnpbkJcj4BEHNlPQXWZ0cd4pYtFAGv2E+PK4xpkyu+EHXlimWjVYoIdVAmv6E9sRP2v8iY3Qj1BVwaEC46XKlzWsxcj7pn61Cp4GwRAsQbHyMFJrMJDRB3JsMyUT0KRp2WsAIKPPpGf2gd+jfGVdaxmioDHvK+0TVw/es8T3y8RVR/OJB0TbkWnQST/e8lQMI4N9YOSAqaLxVKW7UajACQA+7QQaxoBrHtauMDCM6tVr9u2uqKjuy/Xo6VQIoNYc3cm4Lqaumlo6rYcFkwdnfcjdaMSY0W8GJl773YcqMfH/7cH+hxvT+45I4dcYr5tG+P+jSxyulcWhU8rwGAOfmLK1slxuBD2VyBeRwQI7c5+vGFrWzheOAvKJ9QD48PLSanJiJPy1S18t15zKDj+OCgRIBoWwwzsTdBlxxwqaM0Y6PsF6DPl8WP29GNk2Q3piZppW39JEdofMcpK2RivYNQLkq0T4EQs4SZqmJ/79Wpp7IL3H0MIQYX51afxUOJlQAF0KUWqOVuo06KZ0RH4BCLIv5oLM7+0Kfb41kRZZL36aYhMWz0uvg6H7dIpyNVqWldSutVgrabXkfWTUzTLRPQvuExl1kVvxWRmb+qhXMKyhx0kbBg9N4tLY1i1Zk8b4OBXQYmCm+O+Ma+K4lPxGYPzoMrhwe52fv0HwZXc642PbtCkLYY9faybJ1XtbJkB1FOF3kL4l69YpTk3lqj1AT278mXlNeAtueQniRXvCUYJdjDSOHMtiQbq8atSMl2B68hRmoFJrwrWqKAqB5ApdLzQ+xpLwHZ1Y8xeoadOEPOg51sy9jEiYS6jOAbeDAAAFsEGbtknhDyZTBRE//+RAAw3pXClkSX+HVZWpPgwqqNBZmY2Ncj6WanbeqAPHa4DU1hQPVDPwGQLhAWwDFflv/dEzhkkvA39jDcA0OhufH1tC2kx2ZNgapD/1dIsZXkVKCVedYapB87YjWeWA6XNK4WuvODYFPDcf+aGRmd60aZfEeAtENGPtEuGi6foayornUw5RvxrfAPdYNrTLSFfqlmoWVlLVmLQHXaYMP3baZIm18c9zmS6pWkdSLpfeN/o43oXXQ9QiwR4huX6wRBeuUC0PKIqNE9QDs1tj+wxMDCgucJ21G8huYclx7OtTx0RV1vXUwaBOFJAINEJz+UJA1Si6D8OlaQtWgr69khKKuEDzqA351bUN156sGrQtNrLtfMGcvcSN4CkPH7jfIF8z34kcRB/IuaYkqVVLzYSQ9pyGsBzmaU8w9wacr+Z1MlBZ6elgpKPN0ONAU7Ouy0pBsRJKAnDdjMSTqTkiv5JccwbkLKAR0dSVWDRpSxnTJ57Bc1zblVdo/27rntCYh0wh5s5dSWjRIgXw2jjFseYXB1pA5c2rpHh1p9FP1wwjs2umx41fWpvxJ9/3Q7O4uVrxsg6vJ5RinrTm+/nmzxTSqG4xQAwBmx5ES0VKu/2Wq7UQBZL1diSDIiu9qBWO0pazdfbY5UrrgKg0uLJGPIpRu5Jr2UPF1TZE8XZTwBTnnkO/TMyG7wVOyPKYcM3+GIVpYu8kllPZjVqUsB/eWn+zl2n3MN//klZ/h90fUsyXZF/p68Bdoa0eS8brhvjrLoeJ92qtN41V9foaajB4zXFUnv2vfNAvicSKomMJgNlsUpbw7KzgEN0LGw+9MfacsbveLsZ1U3cTUjSWcEzWtVZDJbNxUXZWqAVu+gfczx4e5Ou6ieJnZYPw/A4LhLv5qUMJHMHqB80q2TU3OtB0I3KIVD5fN3bNKnvwPuRaCosdlR2YQ6JcS6h2oftSz4cxXjA7Rf11pZNxz83rk97CrCQEo9QpV6JuPwDsE36vmQRpDY8oAtwGonJWLiRK2xtr5dK+OZQ2kSpCr+ZFci/oCIfiygrGMZlrFZSKGNPd8CayL5RMuWJSkuKv4SHR/2AJC++Xxb2qIRnG6Cph51Jp+5biOQ+cGLzDqnzi35jT/tfBv8ojDYOwMPCQTVPVHmkxyO9e1TC0C9o7r7I/pJRK1tB4f5vCXfUDN/56/p3plFnAzGCiet0GV+o4steMT5WFDYqUaQ/DuV9WKIH3yZHjbs67xniWqPv6JWHeJ/hhUyPgy+lYchmqAE2Y/ZanSsj994gt8FuXET2EQY9OlvApPwUg9dCTyGJy0iP11PJrSdphdWso/5Trf5o1sVDxNOJntx429UkSA3olfaUJXWzZBnztV2ggY7KdtIKoSQMChKU/7ySfs0KT14kkyyVUZUfMwMBzlvjVHFwvC77v1M0tU2c2IYdrLhomRIOIZFEIlODlVG0N6z+6sZZ/tFgpPDHp4TxGl7cgElNWJ2VzRE5oXGp797r2OXhCicXcBx8Uyyd1LDgCjNCRAQxfkG5h87U3JwRdBIGmadQ2wgIOPBDt5F5OLTO/OVaVVcnNcMl02TTrEMh+U1KFOPRvJPp2c1gHA/WWP8Pdjzdr41pOUQ9PQtT7Zx091MnagRXAPny7cWylxi2BNIo5fvCkBJhHTgiHgwqYtdmNSpb1uCkOB8jhnQbE42eVNLt+UXuMrtekCPnFUFht2oWKBeEuhJv6y1Cq0DIZapl9L5nEJ6d2UTVfUd2n8ls7rqutoPJyDMGbdl9nzKtOjJzOSeZf6+YpRXytLtcc2L5ERDYVBXNkswrgMRVAWNbH9jPtTos3bYeopneqfSJVQqcFugG4k65bx6YIOSWygcP3fI3VoBy1PEv5Dw4xQ+zvEBTPykDV4ulfzUZE9fV1HQR7iWU2+o2crYjEFyyV8fsAAAONAZ/Vakn/AVbjstb5RAuGsotiO3dnRXfmA1ok5TfwpC4aUOu562Y3qo1vhW8MVutKb6TPx0uogJsDg2TerZwJZrsqkS/UXT9eIFR/7bKWzPBzAsaQrXRbTQ3qK7kF3Ccbd31Z9lE0eOYHh1aq6Q6WKzmg0K8cDKZUpA2qVMopeW2/cwNvulzMaC/1fvBWwzq+RPiVysSvxU0t3hiNOM7dRzuIU8wGkZGpoTmuu73FCdU66J93kNdWEIswkqSSWGtbfqLaPQz7Y9qyI1ydMIvN8hELi/V+3lSgoqFKar2Xic0kr/IMHnxH2Lj8XrE6lVzsm9ZBR0SAsruX3H67owbY4x3r04WEdyr3HN1P4I+B80c45B85lO+2neDTs6ZHR1c66jvBEVxns9fNy6uq0fKzt82w+CkujkoAzZumeD0SKI/Tl/dqMUOMBM9SIOJUBl5fAX0ffracA0bfVIQqDDBtbVYb72uW0ATYO78puo2UJd6Ogq0H5CG+dzxgZbxi0erIBCB0TTaxnA8UymtFqeL+meHbgqOMWNIVlf/WJ3mn2BbDQkajme57U7XteiGR85r6Z5F1DcovFhrkIIATxbyGjS6ZhfA+guSUgs4cSaxEcf6HalKM1JntyqHA5TXBfmag0q40i20SkP2UK2JUR8oQOMCj54ERvGhTWopdacqt9P/Jx2y1ycyxL3Wd/G+0Y1T8tO1unZ3p5PhJLEEu4nOkzlYE7a0hFOtkjv79c6ctVaIjqjH/kEhrDKSxIE9ep0VMzK6jysDsHCZRkFZOKMInHJeRw52d6cuxwOBEfrQ2mSlD25pdCyHP7XjHj7rIYSCLI5GzuZTvWue9znwJeC5BT21kV2l9CIW/5OYke4JSxgsnTN7uFnq6iZMcyi5CJmVZtixL6XEKyqEpVSbpOREactD7CiFUipEgWftECMBz0deox+eZOK+b7q0AQt4A6ybQGreSRQPg5voDKD3nAmrU7PsQ1huu5avz43Ol6G49GM/5hsGMXf01nxl6c2Uz/dvzSTSWbp7+1qYReGlDezH/Clo8UcWqqCGqw0t5UEWGJiBv8WA5MToTCCMowc2+nbrFuv7eYZaaBwZc/E+GnioKmyE+4UbMiMN8rmaRp6buXYqh/n6RFucIQbjQ0++50IGDe0SG4GXbauKP/XshgHu/OtisheuHt7EspwI3EL1E0HB9kEfgJ8vsGHhzrZVAAAAFKEGb10nhDyZTA//kQAMNx/3X7/YutiIBj49bUowYWdeZhquDcmRvmdTduUbt29hzNVYwBQH9ut2qF3RYf0rHBB9SXyt76teCryi+okO9/Z7oY1cvffywMFhLDDfp0hoxbQuILDDbJrLrtn/icwEiF45lgqaZ+5a36C2U1rwLDjPIdLw4bfVs4uLfub37KikHvkbPbDlveUsb4dlbaIuk82qZxg6drfm+5CeH6i5S1GcjCDhc+tSDKcym8a2/Pu0HiOr2FLUyGRNMVg7MzuA66k65z3rksWL+gkxFIww8JeKnwLzF7l+I0MX0SNvwgJfedzWeqR/hcz2gw0gt7POvNA4Qc83gFBOSn/gAMz5+fk2rkTv4zXc7jSKeaE9fOQBv64d0tPKVGmqGlwd+sTFPjeLg3OzDo+PMJF9W3KaxiU/TR/JfOX/k2e4du35wP2TNSNufxVB1su8mJgZnjAJEdbidwdcfL5xd7yiTT/nwslLIJC3hqPuunFNLB1rBaTGRf+KG2hpcMriNXTDwwcVtZyHhPnv0vlsDyaL67DeXK3JCj0DwCUioGX8IDtcGGk1wQTYccprD7cAlGWlFZLP+abf178hz6/Q4MF7Q26J33RqFweRk91t15ksu+Ro5yKv9ZL+NTL18Is7exJNOrKajdgkF6f2r/yeTCoer5FeRJE6O/mw/l97mo0PaKsUg2+Au2o4/zWAVfHrX2OuKB8y1MAUqapHaD26gNFJEOohhpCVgP1V+I2tujK9KEDaY2osbi9Ru+RYnReLuMc52qzUbJ5/HvCuAaSR+HXXASZDf2Stgl6PyrVfi+rdrzITkPz1HjiQQ1fw7J7Av2SDlxZTpBhoV5ZApAgADZ2gdIdYeYYh66GqNw6MmftwUnt7SiUZK7ZnmaH+YTythUDs5ZPZGb+UNUbG1c9fwwQrDQWYisNBjVgOLIhPh9/GlUuJKyDkE4RAjsPo6IslhifICV7jjib2A7SMDCY0A5K8ngn9d6sqeU68S/ZWKeyM9Oki7HVIHxwhg1IrA6jNr1aNlo1QT7TsMSTJRkGyBvbZByuBVv0iAuruCMWP0XbBuxRkV/kToYjKHz8N1BHPfmPF8ciq9iljjog5olPS2STqyMriO/ivPHHulLGmetLUmn/mVFdjVEuDR39u/wbzKrFnUqEMyA2qYVixZmCDf45QIq0vdX+AMXe5wJ3Jq9sirE14DCnl8UiTZSnuYJtDZEDepg85kbuY6HlIDRWVUGXuHEyVj5BruTOyqDIGHufbLaL7MB/Gcdxb5jKnx5UYRGFgVBiT/3Mb7qqe/KvgadbZ/8tpMy9JRo7z6xp+/sFQHEl5WnxsM1gpo37+OifptJF/vvs4Ril48wQxG72W0SeSfnzuysG8DdFBmY2VfygfWNxFYQnidgOoy+9nbz95SxDLMdg4wtcwOxG/CIBY2H9csEtgELFSs9uFA0qHb/L1Kl8CMAu1Irt5UJA5Xa383y45YaQ+hMw2WkHRysrRTtZ4t0KMLtyxkbZNwMgGciJLIdAY878L/IxyCaB61u+PC3I09iLyAwJcvCtgVFtHkswqYZ18LRzvRZxhEkSYc42flxENH4oQFV2lsyotmhpB/aeYHufbKI+f4JBoPhuYaRriP97yDlYwVghmm1OvM11k7f9PyeS2GZjmwbjmybqBvUCbMlLZ3rGV0ZB8vzAcZAHwQXHosQKjCbW8n/5DCFyu07/aHN41Ln2Sgl95SSnCy3Aw4mmCAaMiwbfQacSsX9QAABkVBm/hJ4Q8mUwP/5EAFGJmP3P9SEVmhLvM0XhwngbWIeeJcvFYTyJSQkpHUqGQgjl18BOfbbdcVgKaJoXezzPdSkE2sfGCWfM2R7bI13wF1VAjqSliekAS8v4w6ROv1iKM+n85v6j3VIKinL6kf7Vx3heeFDVVUBRp5UIolgVISqKj+giN7PgSJlAGHFPugcNLOn/wIGR+HmTNdvzmUHXgPeoRMocgvT6nE2OJ/vsJPcNlNW9DpNJUF3gYvcTngwphPYYBnJUg15WTyyShnzteMxujER3Xvvu4wKOWiVo3DnWGEt2Hg6k6YeNhDmcOujyISAdpIxkcIheI2rdA/2S/E4PpZLWrzgThIsYYH8Tco/rQnX3MeyrLrL8UZBjYdbWlr7zMr0HOfrk18NcgX8pvAHTIgV7zwjYdC7QL+sLVTfDHSVhaiWu5HmmluNkXwHHPu3XlQmdhxRm1ERZfuBSnNBRYn0KCM/xE1tyE3BoHLNa1tSg9lQRkJHSKJo2mNe2qFQb9WWXQJU1nogRmI8WaICs/Wk2fOQG5Md9naCh/C6xqeXcIT8XK0lV5mwQ27f3ONlTGDfe/Qsa70JY2i2UhIJhmbb3ol9hMrfPgx4IIV3nVUR+CtbPqSD6WzDxEIHiNdB+qXhkjwo8KdNMaQQSxOJ5sNTzQTgwL9xytlE8bmiXGvrSHuUwAbCVO04nY/YrlltWPapzuqrLSKmKMdK3+13+OEBiz3oCbTlE6s2Oa3orhqwLortUiH0A34mrpO/+UYCNyVADYW1DCtZgI5zb72KcWVkg2upaTn1GJClQK0fd7J6Q7W63WgEofblw6yQF637V5a7mBCeWVEjW7Jf0pEJ0P4gzSLbPOH75EK4mS7MkmfccnJXXoXHngoV9EYTK+9RB/nNY17MWihO6veQyUzGCexQ2K9xCBKku2vso2cwVIvZTWFDfj5ERlaXMXg7cntx+18gHreV3J/N8//SAB3scexx/HeemRJWuSZ+MuI7PDKBWe0kWnOnrK015C2gX6b0z2o74NFwo3d8kJtgdbtTxUokfNhvICC4a1D6lSMUpAugHiwTCtKUuec+Kq0olvaCfwgGCJ4ArXYwxzmTmPF2+M2aaW04UaNgtFmb7bwZbOnse4jiMuyQIqYUaKzTarthCiSICrQR+uyYo31KXWQrTgio6EZ/RydJrLwLGC9zD0Sj7QSpZpvDUGza8A6ut5gb6XijgV42NhaGS8/yJpBFsDutpeDyiQqx3r447EL9HQP1uqgUO1icjMtOMfIOw1Wn92Rlyjle2IzofQUqlXe1n3ZGFNFX+KsVediLTnjuyIfXZkxSHT4WPt3dnGCzDaEB11G+BOwJ1APk87oxUMLr1uQMEXYcnU3nW0jkbcPr4cZcD7cd4o90zIt5kANNYe3ziPwhkwRq3LHoebrEF7oeSuDLoJFJzdQTCBDjH8SBkzsrDx9PxV7SajsHzfUerRh0K7FC/aCZNCGDYg62XO18pdtWjDRR9O+qssnbzPWT0t45zFQ4xUQyvaAad2goKr+RwUC7Gxdtcl5jc+K9ALPPtZZDl9kJ1WOoBpV8JtX5CLDIgVCSFAHDJaOpHy36d32qzH9kUM45DrVEFjiGJ+L5QHBpRF4dq1HDCRmedbiNU7dvVcsTzjZBcSG1Q1M5hhiL1fv7fxhXz1SMYwEO14b58mQPlGfezytOM0K72L2UiFaTSDMKlZVJsaZCXkFPfxv58qQyja7wyvale4VQjGUnmcXyhahxFNzejlw+PKuizLEWKXbPuwUBZCtUOJlz+Z/mGiGevDweYx/r88SvH9IzmRPZxB1ah1UA/QrD33P4F0XVfZId9btDfJ9TcVtWj8QsoEsPMpNvK6oEzDYh4b56nd2VpYWFI3kI86kxrKnaLGmPXF4K3MxVIL/2ki6rVpFA+1O9wWvNYtwjtygtyCNaDTh+sRkhELZD1SQi+Edt7o9PoUxevilCeXn6dCWfQcbZOkvvGJ2Ip3IGTmvjEtAxqw4eUelwRrrxkdHMxZkPbTMrDkYPdLaSTrt8M/dzOC3WPnHnHYJBH6FKbkJvJvnsp/DXXd+7ekjz5TTeDmPPVg9saL9DtrKrbhesIrJ+0AXb2M9qBUxTFWJQRIlLNiVCX/oNbkAAAo/QZocSeEPJlMD/+RAAw9kTKMFXcmor3XSU+EesWL8qcAWML9QZKOorOWJ0rEd0az5M8n9AKrIdKXilABP+F9m9cv5Izwy91jQQn36RaIuQp7uya8r9Y9D6wN02Yc+veIceK261oxltvbbxPHJYDn9tG58qaX1Khvy0yB/7da5Z4W/9buErNnLPMC/B1S2m9kHX8hzBx56GHDP7xZXIg0S/GT/U4sXEYuqn6OANlTDEarpPpVJ1/KdODtD4/m1EmynkL+6If9eD3iCJl4MsVUDAZs6/mt2FVaahvPQSCG5ydUs3m6LikVUbdz96Yao5aOGr6q1TbMChEM9qA1wQD3podS8C9mBOUMhIfO3CJb6I7mQgrwiThqLUmqNw0hmPq4UYfN4zq+gsLKSuX/OqeJtWUr4LSHxiA2jYaC1jAbYNM+YpHZ0lsx3ovSXpqHcJSQmbORLCuM5O8gMgAKFymtaIcCvxfHEZTQtahr/aHyu3TshHIVLZf3NVx4BDDIP2E1Sfcb6qKhacX9AsMm7bTCKKIg7voA/VZK4/tf9uQ4TztFKm29fwjA7odYRfcGM7TRbZj8cescNi9ZfbJfsCEAc9hkygTkP9lAhZt/iJCqRCnZH0VVBTRdaUBLqVthFXYmXgaXd7okWdBx9Kj3bEAoBkZnpdyhoo3pxdQjNrrf80i86xbu87mixCoMg/YurPpyUdIvk0yooqCh8o+VpEzO7onoVDh4jaEd5jMs+A5JnW+gK1uuV2qnalntFk12z+/GKB1nSpbqAv9+QcGyMVb5W/eFBTHaQKra/QE4w280vXg3vVG5IqRIwD3yAqknAReCI3cwbKqIJF12pMmX4wSOqwe9/a3tJKczcxwsKFuLdQFidQI3EBhaib+binMzT5hr1wKE4WGWU/tdB8LEoFGV6GVCL12d4PrMWcu9GedemeEtXtqMNdrjPFs9NO/Ulbr8np245Hj6Vzm+9kXye4KaOFG7uzojHyqwlqFQIcMHMQjYQ6NBQhLhneR5J3UrIkaykzFQ2gWa6/WqTAKdDMQRKvOxSz/+wP3ztqicJ78KvQ8p+xzeUkpz1If3o/u7HDDXM27PtDkCwi/q9yzBWkpePkoE4AU24nksIuYCoP4K95sYxxWgCNNjMQLZBZlcJn85ahRotI9sQ3Q3/8IkjeOl+oCKXYUT7MoIzZmoxkWksUE/XfCzTWNWtWK06Wly5hNQEqf2URwXjbsZYDw2uasczslwqoehOt8uFJhNmXJrpuJwon5h4Q8DmcnfrIF+t1j+Xe6HlOaYq0fcIydKFDVCWS1oA02GsvOrR8hhTI4Hz/CQ9APT8RyQWE4tkx+XhHtDNZ25ndc4y9Ed/YVZPKO3n4WCnmQziLGYmTuR52a3jbBWNMgNBXyeuKZE5/UWpQO4EzwyKH11vqdFMpmiP1glo8yN4x9tyquCNyAPUmY6EON6/9LPwkvB6cgBR0elvXwvh2YLl6Xno2wus0u4mKX6ib/G4IwiIDvpIhlQt+Czfm8nw9CQlDwfWFQ0InnxovOw6jq9RysVavXnQoarG9uK3QGWHoxbpuY8BqsfA7csc8QYbTMRoDk2YfdCrFtHqKm7ioO988Vr1guRD1mxmDZESjCHVmZeiSeu6KLa+1y7yhpfxfFUrFEwNjP+yCzgQjtKlJQ2K5KR8oqFKQcBGN80JRdHs635u/7QSDvYf67cRTjGhU7xHgN0ztVTDNl1HRZ7fLWobcdrftJe0UFwJWZar5GT9zpbl7hNgnRhBM4Co1nmbsrjDSco/Pm5ELkF6KuFFJpXo4pdgjL5GXuvVGVoVFF7JQVet3JkzT0+2i6iU1sXf7HPrX+HVm8IuUBaQt78rUMe2Lb8YJ9P6hBPunZSH/wHl0lRB8HhvIiM1OLgxz3NCReug4RmWM4E+ceN6o0DXs5c3b6el0U8/7KBmumpekBcdWiwix2vFSMjZCr2FIqWS62bI0PvyV2XX2IB5RI4ht2qeQmEG3XFoZxLwEiQtxIniUvCMn2CUIRy7i79Y9WiWnK00kTa9O5LYUwGaUZBXOsSzkqvXQuWxkWVikwgNtqUX68GEsPj9igjvHm6BKEoz8Vys6oDAqs4mRVBxwtfeKa9OegtO2Z/Z1Iw3UyCfbro0uX+SGAyoRjNwqZgyShT1ZPM7xmmbRx2N15pum/H6G/8OrzwLzjhUrt6yUxqIb/Tcqd8kiv1RTjNGAPef/uakFea/Xi1uvnIkx+HwRAuKhsrIlMre2KX5OO0/kgyREEM07mo29rFiyrDq81EIm+q6XANLzspl4isQsy/Vh5adyfldNrni8IR8CsOnIwKWDFTM9mpbxHVcmKoh60uogAX5REWZY3H1afr2jQv3UBoxElL/rsOll4NIYq03n6FUf+hDMhHIpUVpfsz3QgWcOIdVyRATmvBaDdewhkGOzDsxSL4/VRZEHkPg5DNk9xVuHvFndu2VKDbbCqe+tOuzmgOpS4MTU4KcFh3bwNcqwyxUSwR+PD3eAEKi0yi0b5DGwhq+iqJgRmDGAZymIEYWUo8ye8yBI3iPcMrY3DrlglVxCdY2wVxazQBWHKPHJS+RB3YdNP7RxwDp36pkLM+4qKyMlj/8b7XvUSmOSaH97Fd2bAQyfGv4rOiARqgq59PSaLWzAPHdseI6NaJxubNFQ3ath3wWqQt7oQKHUUAJFUUm48Yq5Y6+VSygtL9mCsowXuNa/YHCbSCcVmyGPUipwShs3J5PhdRKDu3sW3zVVWtTz9RufcLRX+g8Gd1WCGE7xBWzkakzAZ86P0wwjI1vS8xZC0Gph8hwGfANcyfam5gLFVrUI+T4XVTIUTiVv+K+ZdNi3zTtKx+Dpx3kgeAeEdbHy2GcrxMiegbbW5uKr+8zHpkvdb/xCWobt8dCw2QLQQcAxpdiwBawNHarYLJ7zlBxDb2oW6vJ9DOg5qgKNggTCAkbHyt1ug3R0Z5cCUWIisICo0ypIxD1TdqBjeqYJDE/Ir/22mPQEPhpkDxZqsLorMj8gVU393+6G5rGRfevnlFuFoEPh25IvC/+po4+Q/gWYTai9xBzOZoGr1KGF/BiiFmuF4K4DrG/rT70ADBiNGadT5a+2apWl24syYk+P0r3mjowALicsY1FtrO61AjnDJ9uWG6FGLfvtQP0/BHX07IyjVgzlFpwjDYXFEArq8qP+srX1vQpYz2SJz/ZLPeNu0Yi6ZBgTfvXVb6OTzGecp/QoMfyVd2OWRQj0iGsMxxmi/TIjH3eED9k6a/W5OqcoB6tY0MBQONr8U/trMeb0puU+10G+SNn6UF5UY3PFVC8m6T5MP9ALa1bd4zUemaCTsmRwTmACR+DmmSgm7VAWZ6YcqU9FK//lkTkoxjphkkkqpS/iuYeW1WnilByATiyv7dgw6QHLxSNRo/WkDBL21D7xVZdossY+t63aAWJ9X3nSeqUsszEjGX07kHMHLyX9iaHKC7oGt/KxXlfuO0OFC/mcJaYfG1w7XhlNVGlvAAABlRBnjpFET1/Aebj1gLWgCiikhP3/2m6OeQMgyNXTn6rdg7ezE2yIVg9oi1HOv6gO5S6RMEyxexdTo1NqPuOeq76ySk7V38Uo1H/JEpklsr7Nqdh7ENX6pv7nRiLnRG06+yuRGGaA3gh9UiZ4T20jlOiwR583QjF9kyQZzAHrpNCSIIXRmdsr02vpymJJmsYi3kHmB3kW939NKjXnY73RsK6WitVe/AnfjN2sm09HhI80LWOK8AItF/y/vu2gGaENdzVIoa8gJdrNKHBeKoaeCx12ZLkISGI6V8hkkZS6nSJ1fXRPNfdGzBExWJqzd0tT3vLASrS91aG0Rmq8M+ROLbpDlhAkhvBqHq0hGZoIFWf/zpDc6awIKHnHokEk+MgESe0wXpc7wnPqDRwTG/MnChNXdjN78IHJ7nL+BmTdd1X9QruAUmPsx2AaG6xNf3Fo2QY5oNmICvlm+/rAk3OEmG392h38h90YZd64Cyy7oMbjODo7S+Lr60vAEwmrlqnSgqDd3PF9etOGbUZ9hqenFJhwslC9C3DhhjIITmJO8CJkUbbktZfyLuWRbjubPlyVri+TI9IBApn5llDsNrXSrLNZBaYVMWu8QFU1kAlDj8R4HeYVl0VKfC2hod1ZLoYXdvWe2l4OuNxGxluFWRvhlYPfbiX/GS+UVTAT6geKjo02NA+jZfLVPzdHSUai+i0BWVNoAv+oDMIAKHxJ1N1wWeeKvr9Sg+u7+vsqS0PFXM4zdbbHIgyBEdYJz+zT5ePVy2kEybFiQVOgFTXIjQCV8bJ8UKA00lwIeoKeWgwOvexVXeZgLZwKuZaH6oCsDiAnqHD40WRY065WYzVumL/5P/p4kEmBm4WyiisXq1PkuRvfLP92pzFuvQINmh9ESjGIfq19JjmbGH5lwnGvEdhgYoQKS8DyeRH5LuHkoApS3xoTapRvJj4zyYUiS7YLiGJsKA4t/NFZP/jEpXGlstaA5dhnXu7euWZqYE+3QV2oVQX/vhYvBppQwD/38rrMLKKnQXyuSTLvWSjlLOTXn8IUq2vsVGZFRt2syU8i06zRBvzUvkHMc6tHXlsvc5NTX1oF3GD4qAHokzZVcdc1lBBD2lHycORmWICpqiPihcZCOjx6IeSJkJ/T7vYK3TiSRp/RkQyrX0tezLkxP14v6A75H4GFH8Tq301xbe1OmX5ZisKml6xzYphYNLc7f7oM2ufw8SugrU6pAfx7dt32DY15qILsIgXf/R5NBOKUzwEr3w/SfKQNP1PWODfxe2qQDNqNJ8iQE6U5N9L3CrMEzYSsCRepRP8xa0IfvhDJQcpfsHM1GM036H4Wr2LxRJFhjlRDO1AtNJgXNYjByCVro5y6EE+qCCnCBvofiV3HzNMYeKuktpan7bpC9y26vAE6oj3Ek1XGvQEubkgtkGjkdPtf9f6HAo9xWN+1MYQOv88y7l/u7ThIJPyjf0U/VO5COLJzqTVA9yLvFHWvQOScWlptu4/xrQQi4O1KW84yxQwL6iyjpZOOGRTj+aEh1oP5APM/4OS18sDJTdZSIEtwa5b0HimRtbkZ+tOeyaZKKN9wl8vs7PT5mILguRrNMcKLZGYx0d/YhxDhUzdvKuauCYFKZ1QTLo1gNDxH7sHUVIL0335AuS/ehNdemasltP90jbtilmdgfGV4YdhJL4c0lDaqOhd4KMz8XvtWl/h7i7jrO5AygAyPCTOOY4vT9S610NR5E986YQChNdu44ZCmqG4vsJwPrskhptQ8ZR1zwvf96KOJRgC8JBQEhv35h8XQDFY28i4kO2Mqyd4+GqdPucGMV3EBU96w4Gs9jdlW3d8jN0rnk+MdXKZIT9WUGc8ZrMG5b6lIpoXPvPK7aeaJakwcL8xZZ5SpCHnk1FyElb8WuDo9ojVg/GmhJtP8ri7H3Co0jUnEUeB/lXy0eNe9MhniEAsf+eHWd0FWAvpx0Wo7lnP51iYAdVhAsnFE1IWoMBtDVs9PqnRNkivNnHznT3P1d3IEnmBoBiQscO/JIJwco5kjXzFT2F/GBuJXpjOqZXOSjGhKcOg6zBJg8t+kZJo4/SuiAxFWMT4Isrcu+2QVBvXieNAFmL70g1iS/ttE0dhb9X1xYMWkZx05tfeTAVM8bQGNZTsxlOMrdrDxfltFcpJVlYg+8EAAAWtAZ5ZdEn/AVp4W1yxLr4FJVKebFNi8XvrXEoAatFNbIekvr1j9fmFiptYsNb55qyCo7zMMdp5Zfuw+IRdlMfCADBc5608YaPumpKCKuZqLGfIuQ6LFIveX9VaNLjLHdNGmfbJBbNRapIYwGv9X0KYL31/bTSz40RbzFTZz4z+Bj1fN4UIY0NuF428WeQhIDj8Fx4anYImdG+YF31dMOBMVAkqKQdhW9uKY9S1ME+ZeUThROOehwnDF0EjAIq2IQCm2A+DBZuvwtgT0MWgD6/rupCSP/scNo5up7fmj/czbA4E5/TPTrJui1qqJox07eUjQkafWKxpK38rRadyOb70GkkKF/WyeqVco2eMiiKHtQABWqPltU9Yz/TIAG+BgDbu5RKd52gzV33WXMaLFh+pS88f5VTdj4lCuSrSLF1Lwmj0rwkoYZoz3xWHcO0MrjAjL483zwqUjc0yRqNvwMVRVMTB1/YxZAfhLlvfAcRS9T6MnOHwqEaFRV1ZhDmzwW6esQYrv1VtkaUdOk7gNsRuLviuzcpNc7MFdvcRyNKLT9OB6LlyBELPjZ4HfcU7uMQhvFEnfR1Y+k8Ua4oSyoFXN9amJGZEiwRPTeXqNsmUueuU0XEM+zOHtz63cQ2wfVz5gza9AN12xYlF82hRLssk+iuO7lETdGE5Im8HRU8CNzaAOck6hUMpZzt8Fy8edjtXoh1ISD32smS7K1uL+Y8RN/EFzuL5fe4WBeml1u4YmiVubGnSA9Zq4gT2y2WvMLC/bU3eNabkG4Vm7RevCoShc+tWBQHf/gZuiFiaiCJUtBpL03N1uNJwjTptCYus4s5TTAHPYUZ8ADcUkfe98H8VYECwnYcTYmCIXSFCtR2pqKrMy4q75CXeAPZtiBgNgW00yxjH0CPFwMmkPAGDl40CAhQNRu6pI7nC4yasIE5qt4DXp3KxTezj6tx1z0xUcJE5LYuk965cucz/EtFeNptopCcstQ1cg3gjMnr5XfCN8gKhhjl7Pwznr8dNSMc09AJqgdbBavdHD4Xe0a8Eq41gJdXWXb3CqaEDc2Herza8o6OENaELkJXWxE+diHyQcyKb3M9d9v83g1UrGwEZViLUFdtMoTj/l+CNTXIn8lY18Ptk5lHBX78/WWxG6VNoLDL/aw0p4OGGOL7W1pjEg+EVaCLaQxzy+180s+ete0b11PlV9U4ce+CFIY6IgRVzKU/QEgBRM2VCZrI9EBNn0CSaCj5EOIYoXCQaBlu5hi4uqzrdNVSNPkzr+KHhSbfv00dIUEt6CiJm95hhv5jFjEVgreEXQ0Hfsy7py+NoZZCF9WylDnub+beGc4UoTAYYMXZTiLNGmKWXm6C7AzenULjKB9YzuLruT8ZDzrzmqrUCl5v1w4O8CZzNulv41Z+Xt8HrY+U9iDP79swfEf/t3lgCeUyFtDEq7TjrJkG69b0L1daG8ixF2aPaRK9KVfTPap0B3Gpghx7gMQqdxQ4x/uSazKjbVDmlNOk29Cm1J60yhdhfD+0szNdCzPmSPH3okhDykZ4d1lBpF9PW1KmZwa75opv32taHMtK9Y7nX+SnXA78zh0K+k/1W8sh8v4M8Tdo4ugNN9YDeMoO/gdSkQ/Zuutdh2phNHXimhsBZ+WaHmnkci+QgF7zk8v/nuXv9MyukWlj9QWPCMJ6pNv3ojNytVDu1WU+CpbkXDMI8GFzbtlnzx4SXASCEpC3BgySIZB6dfjfFvRxD44hx7vfPq6osxsl6t3Xt6A+CCskPi4veotfx3U4WgeSoGsit7YiSeo6AeR6J8kZzXyWoSsW2hd39RDKZW1SQkxgqMRi32Wu2qIlGxDYwLlErVQA9wZ5OxDMk9Mn4jYUewcRk8D5Da5nyJgjhL7nb92Fbkla+/oyhCbNDXnEW75TahUA4G5an3WV/v83maW90HJPUtlQnjwAABa4BnltqSf8BWnVFuvQKmiusGowCmDUNnvdSMAP+JmfiNdrCQbgSD7GNF3LklRgLwLeXFvV4Kp/wO9fgW84y0r7WfuP/6DnkkrZpTaPLxeSytkQPm5jYPst8wfGOoqQsrjHMZtcM/a03+6xyZ+d/+JqNc7BidrIIlAg7T48qafd9QFzxnY5gdCHJUTXycD4aEk3/8fcJKgbUYUPfjyHLZwQVtiba3oqzSD4UGR6Wz5OcZNYJLrd0qqnTQCn2k0Z9HhEPCIRW432073QLvFom4O24koR3h4Fi/U9UdoOcPVkz6MElW+qyLDh2TtKaxigA9Hme2r9TO3CaBlUsJgI3MsMjvdp8xq6AllL3xFkdszVeo4MGrWQE0vXLR/uVD9aBTuDnyisDY4M4T5BYhzTPi58NoFM3/F8PtcNw3OOak5CWfeODx8lCisxsqhlQNUGt9lFEL+jd2CX4x3g7pxDwYvRRHGtRYWv/FyzZyNxijKecbRq+XT5YSktrreMlMW3VpDsOTCxJ56damM8o0eD7C/qBRfZzMCYdJb3fdCfjI88zFRPwRdOt1M/bARn+TliOWTReNMS09LYdGbS1MTTeJXuTcSXW+/7to6+S/f/MbiEFlID0+RuCU6WL2Eqnp5PhvQ3fyFCHO4WM3q/HWwtCe3OgP4d9ueGiYHJ70XpSYlzW30xmDuN2m9nwhye9Z3U3Iwt1LxkUc6WnMfiUsT4RYBxaR77Z5yBr/B8X09aAyJtu6W/BmGjcxZx8+J5BEnjmk30kCmfHnqad9Ltmf8mFx+X41KNcRO2Lqr3nRXtRrmUCptlWFIAlSP//oWRQDiWR9SDqy2DsDKX8ArQdMvTqDKkOSdFjC4AFBl7/mLQWTXuso4/9bQDIaEFfYd1S051/iUoqTu0LLfYO7m5g4zIzPow5JCVvd5aVVKSu0mf1wFrUI2BwILBnAytHg0aUdDqbDu9B8mXRMDUAwiQVknWEGIrlox2T+0TzjTDYXZCD/oYhUxHzHxwffvOf5MBFIR6xQX7y4sp+vr/kWNo8AjOvUKG3i6eW0KX/UdExwvKeBqhmNFZIAYKkuhqfISgh1AqM+nnJ6bHpFGDMCDv23/9G4PIykDPF0jQYNr/4D/5mQfRD7o6FXHzhlHWNVF0Ei9yhIrlNwLNeQjFwISMAvRmCFhBTmS3HdzlRgCFVcLL3isUa4CDcP96Zey5EXl0nuSHo00rUpgGV+qm5OUBuPhIw4jL1ZE1FpCfggMjW6P6lFpAOH1JluO+urD20L59Eq3Bc6geKqnzH8xSf+ZysKkN7GY3b86FHMFqomRklQZsX0BDAzUjT/1LUSDg0qILgolasVvuUXcezXrY/s1GUtQrfewdS+H8Ss1T1DW6qR5SKlIzQY8lMS0tVbORLX0McckKnM4mEh08D7btXVVn5sl5+MKisyWLBfYqm6bQr5ynw3EtJyb4kYRfcFG5XA1D4XJMsnSfRPkrnHRvMwtCrA5BO9kV8dOam8umHokUihpnXk5z3EWEO9DTZ+gmJ75MPEuq+ixWxEWeMXRSe53L5hXii97tDDuezid3UQU6v5uqOXKmgLr6NOVJOXKJiuqi5Wt365s30sxfOkaDQSo28gYBdTS/E5kjsfBAMhTILZFOauX9xan0kI3nm3awPbJyiVX3LHMAW+WBr1377iFNaa2cAxZdte6Yt7wPMp/YdLxkJPg038nC+frpZDtRRvLR6YihD2ULZ8maaKTMDQViwB9EYyU23RmwnuvVEPKj31Eo/aC4Sy+Be3OA1e2JL9fn5G0a4VefKdv5ZKcu/IwXIAnwVfcxQ2VUsZ1ljFMEKxRUcJ8hiperCbiMsnjE2mCyhy9mWPwN0Xl8XoF1ixdJQMxSAjtimOSEuLvMgj+gdTRlzM6Gv7TjNbG3Tc7WRbwqgh8sEHUkacLDoYQn7yhYe2n3DeQAACYJBml5JqEFomUwU/+RAAizkucPMEbVv0hkR7YQygqXQiDeqb24CqP5FRSnZTsngo41NPKkWt2vuFTrZ8EZbJuNSwGT4tayNYKVx5azLLi9+gc4mst+O3nVzdh+evhhKqcwxTTYLsdC6Yk0uqGRtqPZcSl9OYYwMFI7AYHm4Wnkqr7VZVEaP2Y92mA+/LxshE4KIZPTdI6NXBUl1tQ8/BwhOvKj0JW0SdT11zXHROXTK7dhSaELc5VGbZx/ZAKvqEyl0Su6NPHOgnay9NN6ZyP7Ge9zyh7+IUACkXxT2SirexU8Gbq/mOx+2TW3X93W1vjPJa+XPkABVPV6CeEWYeVoFrEmhoQoNLlk0lH7MMlsPBLVV2Ni2psXAm9nKeiRBosfI0jXqXB2Clnp0xPdDeIqpU2wSTHHYsFTjUB1E7cRMzN39OeIoeQA4A2vEU4TlsOGEcH3W1gIyOLCof7c+6rLF74zGRxGQpe7j6n8rDFjIzchkwtB1cexPvq5WCW2wrUSdjwAQiz2Hs16bLbHueWJ18MJqwzRMIV8Rvzc9AztDg5qX+tFl+Z85rflnVmXdtEcUx1W/nJTZy1sHNGpl++e8Bup/w7n5G7bayh/QATUNWJyf+S3cV+rXElHsjWOhpaVXNb4+Ik9eppqg7U7XSsQoqPxuliSoV4i4S3yX1ovob0nqMYV/c7iih64/cKiKV0n5zY/kkY+YkfMxnIYjIuaf3Skulr3seycRoIHtZCcuIMVh2/+2WH1bkzuF8cx2jFXLnUJbJMhCLsHG8Ry/9l1LCXqxPSmWBpOsAEEfEoSHQlHxbcf6IRiBO6eL7ZQ5wfG6Hr9GOV0GRXFi6oyIZtLBTTFpRAYQVAisSRAWnAPAaozshniZVhdQC/ATc9OufzMvhW5fO4+D6dlqb5CE/UXpq2+1N4qVbni0wSQw7qErCGWtTOZXSItQ9UN+O36W7W7APXQW1CQHXvgWZcdhRS+G7gwtUorsVtceHvOCgV81g4W9R2JFAQR1EOnXwAv3zF7Cq3IAAMIGJOT60lk2D6tAxw/0+4ewYQxqqm/yb30kc1IOCV9xgBXOU9DmfaABxxvUNGmzOqPd/g03ETyhst6DbmbmiQApWMqU9ZQlo2s28zpPeByZoEU1SeARQ+uoNFq7mm42C3MoInar9TuxTUd7wmdyeSe+WLDCOAShLq9ifV9LEG+Gg1BRERFdkHrShO4XQBi492yw4ZQYiUSFA5CPUfRbp3KcwGtyetm5EYxhJeyFPnfm/TxozeKgVrttMHjqIhrS2XNwacNR5YIvASA8vEzkSVR1uSuS+X4gnYxnR7O541K/DmCjV79mjkKg2nM8MzOHYS+7zrm252R6mh8axXFlIU8Uft6avbLMy9+yW6dnVk0sm2N3l12QbzC6//JKof6BNxyDDXizzO+hhukqUJR0gQ8DeVjS8Qqgd+TA1BD8MYsXkiC1wX8lsm73eDa0QNaZKScvsKdvqfAEON2eER9Rn1j/A2qwlW/LYpq7C4BNkYr+EXCyvhUeG+m/W9qkHtr58Y9mpIyvxxtj9/yjZ9WXXKi/Sk0YzVKl8KdUB9rlOhyEbGGLJIE2aQ5Zd7QhVyO8mohKo4wKs1dexINOa8zsQPumAgz6YPXuwbvSLg+sPqiEnmHRKsTFo2zTn+2BshguMD51lJkjLcQ3eQbGMLDnho6bIaCF6l6Lqv4lPszk9CevpL022jd/jpnzT00+8yxzyu/w6eh+Olc76VJnoy7Q0h9vGqFSYYGcGYiCmRTcmSEOc8RXqXpmf+zXCdcp8O4/w9JRbkKZ6MoX/v4Fj2WSfF1Q58KmtI6T9TUhk3S7neo42sc70foaUE/xBwhRhpv6dA2y9Fx3Jsp9uQwDf7Q4tmw4yWm1M9Yic88StFWcNCca2HhXfnMFKPn+NNh4vXh1fQ/Yj7WKu5AgfDL20SXIRaqCtTTISWtw3qQq8usyYtCoDUL2/ShEOZkCtAfdub0xLmNdPvqWY8uxCTSuqT1htqa7DG5fCWXUa0EjXHUUJVU0CjZ12HwqIYyPknRhjCJ5pzX5r9pkKHPRaXUBYwQyeQ0gpokrMTZB3F8Byp3alqQrKHdyeWzHxqqd6BMATkPjknXWRT4UL/1ZDRCSL3nvE9wxXJ92TsICr+zgvNQWc7N7QgO7YJm8ZTtM/QMDq48UU3diFmrXii+90cL32INwM+kOou7IZf8C1lRtfNvUNTm8oA48OlGzjryuT4X2X1HQuMN46kvf6NUDHpRboGFN/awLCdfJi3tqQvqvHUr19gt/1e7yNm8U6NXclYew/DMQZLp/TgC18v2MxHaO0m4yQbWHcdH7rptAV4c1pcPoXLrrTLsNmBTHhZypKeI8wxMaofViGlYnJTeVC7wsV2l6lwgt+g9eldY7kozCgq86EbmYnMULHP73gDplkFi18A67If5jHK8uJ9l2uw+23/3sTHiOqFNLHAfXkOzpDGbFVxT4QeUyTv4vuMr76T5d8z4XFtfo+rCvrM6VtiFa8ltjv12gM/B11SDxzOaRBwEpMhP1CagvfRRiYbRMa8jQ13kOXOX31a2oUqY/RxQIIfSeMGG/GzUZ7p91idv9i/eFFzCmTo3aG/ZA7cJH7U/YvuoLbWnMZEbkBixwj71PVfFJH7soQuC/sp7oOQaHolu16XdupeGE3FZQy6KGNgdWjjDa2jIR0sKK+qOtKY/2gw0cPZt6NKnveJjndqaiu3y8GuAjAbUU+ihIPMPS4s+UcUvoSeaCIIEbviDLFKvwC2TJBTsXUJgB/9qn0ciFdehP3Xp/licHTG2K6O+p72sTNDnh486fJvS8MH90bCfSJvSXEF5e1ldJYPVU/XvTMvqKcxh65pfcnM+lheP5poa0T+UfRL/UtinqJZmmMCO7M81QT9BR09wc2dqWkhg4YakQ+hfdrGt5voIIH25RUwd7SQpiarQ8emSzGXDRsQ/metEVkil38k0ySknFt1MzcLO5NJERQ0tgVtEbLAdlpls1wdBsl+MnqVd9hAMStYUB9ULJlikFZIjKs7vQLnTRrdFoYjhDSd8yOp37XT8ZRCPvNQWWYndLXHt0YRaE2Gs0Bar7conRfXjfLIt3N3DVDu3wHfj75l4j4ETOnvAp8QjSOYc7lyeObTSPDno0j33pPsnufy3iX1qTTLEtQVh4sETXx+iRPHiWd5bz3RP6i1VpN65Zat8ZoiQWwKrMPpa3WeGI2tzdZ68507+DoXoxX5+BAAAGYQGefWpJ/wFW48Az0qDL8w2yrxZU9wprJZKZaLhj5fpxNcIKzqXLsRL9vapfws1HroSsP2PScUqZozJ4wbzjo+e92WFxCQqXb+CqBFnGLvhNSyTGpL+pW7NRs9Sn9Jku+kCF0dw0Zs06ozRY2LA35n2zNP1XXUcR7d+h5v5Igx+5THTriGD566xs6rxy4qa/JHb6dUNt+GdfyK9gqOXsy+kVpSDXdcfBl02GLRluEiVXWYFuvMw4yfxa6HPBPejM6x3M1gYPEtTu5tgTyCJt6niEIkVEto6U42De1yZC4kGg7KfMZ/VUnLstCZJffg32lqHP3bfgVulUQkHwU5Esl9oIfWldvPmimqWn8vSeGev+oOsu+zY9oFOQ5lfWO0pTiMniinFE6PUEHouPK9wjunJNKTFW7G33KPGgcjUWCWCDVxIpdNsBKC+c8bNQir+Z9VjeVhcb12RR73AP82FJQguR0FYMIRGZUDrjepRg9CQYlz6zJWhagk/sdTfWUE3tHR+iY7uZllPNvyjadbeLaJjpRCLdk6byrnKv2YfBJHv8s+QuT6lUUKUS1SI3OFDEdtTv/GNzHhijmucHpHN1xdaxYpzoBcuR1Z7CIYb23aWy3fzdD2HIpxuvQDDAD6a6PVbR28bUKbBpGiQgcF2gemzsjBtnu2f43WIgkskO5Oe4VFv88fgtSttQnL0U0/HpYoCGnfQ4YywFMCsKDwC7gsw6qzKdtl6qpUgAMJ2BH6xYWYbWcmJLXaSkv3qDjUr8Fu0fac8zUEKT/VofSwnlDA8YqyIQ5kNHYPdeQ5aUdpmt0alsd0k+OLJ1AHmV8jwslbLclpJ1x++lq08nd83UEYANvWlgg6D4x3AbM+naeyZ/udYmVb93ogJeZ0gft7PeqNCeUZZ27kiTJhLoDKwdRlWttfSvXrketedY2JaJnW8yIRSpJliLbKnnGgZxOYhQRJtQt9L7K7mAgW4kvSCVGypVPFlaVBt1XDHJO30LoUf8RFJCQDKt2rdm+QomaLo5138jE0m0wxdubixy0McBoPAzfSVjoj5t68WrX90X8olje31qJg0qjOmju6kJWIRRnq6VIctvl+C+s1dAWeL1oZptR6BwKrXAwh2CTiWO4UFhaY/RwZBs2oDgLwojoqY4cRMubaFR9X7HKjxPk81SAFdZ2bFJ1JV94f5zqFLxLmOMNOe1NuUlJc+4lKIjSDcGJaw1KfdZrXd9rl69cS+pWHLDBmdpYAMYp0E4311Oco0vOzKNivRkHh+LAtHts+SOov4bT0md3o7ry9jFCjOI8bF2ZU2NEDLniG4rOZBXkBdwhuL2V23kUoVa8sSLBpEL86Ij0igDRNpjiXULqzPgx+nnEjEvY/mTIVOrn9xgTcj1qr3VAzbJajGKq8Bq8BPfbj/EQQTS7VsrhyLQH37CF4EKaWY3keEkKlNerpjYNczv8N+tCMb7BuYW93PYS6aDbLmlak3ihooDgMbkpyLfeuxM2u/oRCktvJykXQEB3D7syMmhAwI9DTGkCOrilG98BDtIgFHYYD4+B+EQPBqU8CPHcep6Vw5EMy/oIvGypa10Crlmb7HOswBVk32FEzm94DCaJC6qpEptQfPyFQG/S0YfSxgqyxpDcTV5DqxW14qRoGjpPqWxKV/CEzs/U+xzVV/Ize9COeMPHcp97TW4A2tDlTehLzQS4aXnlNHkQyyX4+Ay+xeS4yuYpTlp9c6nJm+fmsl380DTWiwDd5x9AGSlNdK2HsOLQeUEwxWOOPZOhtlx4TA3CtdDRpBukjUUE7eIpjAFZy8lvU7b+f0Xv7ofS50YZ8jKCsSTPdFm/V9oSZYlJtAxOeAZfSbGWIY1JV6V89QgaGsimU1TVlm0o0GNUeYVTx18EFPbO4UMSQF3gZbEd3OXemrHMyp20WI5XibhXnTwkd4+k9A3rK4JSm2N3zl37+WreKbpJtCfCAIbPmCjWKpSZL62x5Nlz6NaUaeuwAAQ7yPIZCLtpV761PyR2TjIopNDZVXAIkbY7XP6GCHIvAsSmnTmBbH4p+FFngjGEjUhKO7j/6ZdySjSngv3fHQB7UkdJl1sRPxObrmWMdzi7hfuGgGmMoHXTRc3aU9M0t0c8ZhrpR/gyDEHx4PJEmwgVoTE+bqsxMfkhDv7KxoXuhPbjyHvCfSGuzpGqHAAAAe5QZpiSeEKUmUwP+RAAw+j6JL9D+Aqm+XIQTnT0wVDhMek4+cAcoednt54ZdRJXPvh0cZQCWV+ZUZi+Nst/E9Kddw5/7TSDceP+mWhBhR200bJojmy83F9hty3oCYYQ/bBAfGtT7ji8B18FPDpmkQxlPWO6xkp4Tc8btThvXkiMqwFRIN8Lf9MeGwpUf/Ge+uUtUTABmn6T/tDd3XRiVbQmN6Hd+wSjihjJH6jifJ2Msz4PKrl4XtaJmUC8+9mjhX+HDOf2WoEThtU0LJHDTO+jCeYjfNZTp3f8Ibg6mQmttXC2u3sYC9Gaz48LQShfBMJ7lbJ5cJpq/QEuRl/GH3mp/Yij4fgdPpsB0+EZ5JMUjXRl95QVXcz/4HGHwCEQuEwbwIM61ArpFbG+iExwZIVd5h6M0ncio8r0hH7uX27jG9QZ7l0LIv4aJgzuFVWHiMMp8Ufy+abmBmbRUOPJFHnWPWv9NyxMuW5D6/zPwrf+sWajpV0LD4wPZDKc5PTSupD9WFKjHN/AIKazb5HCKJVcn11j4RUtPtGf+fSDnKQXKYJYMZ5B6zOu0NckvwEe/vAVS2LMz5QUHUGEKtxG8vhezllykkd1FQshVzKWg4pQ386g24K1IBTsprOWbeNET676BCGc0MWCTEgaOiTs0y9APekW/fexKzRXc1W+6mYhlkBuCXrJZwo018pYU0hBLSzr8mGj/N/OXJXDn/dDbP49oJWl4LR/5eqoP8Ae79gDSjL64DAQT3bj7Q6xJAeNyh4w6MHaL/BfowsH/FAyRzwB5cKT3dSVp1R4GVOE8Qq5eHPwWMewRgmHXpLN9g/QEXiwsbRacpfGfAaEhiDxI/PXaK2dOu+r2k8vGa+3zvAWEiVkKi6Emf6O/gBTALsg7NcUi9WT9Xsu7xCdXElAf5UTxr9GNatuE5lcvnoWNERNl9Rxdh2qRLyoHWaE22LZTK3hTM7agpLUiyZGXcsengTzJ/Hkp2JMQUJoQmuS9TJLCJEYBrDMRELJy2pQvCEWlBGBCp04yDjTIw2OKwYl467n/QBuG49xmDtcGm9o5VrMxOHcvNPEK24wvD/YHsJ6Z34TdbYMA7yx2dE8ruJakJUgzXT2N/KqVMrNMInV50z5jxYBgLpvS2+oH7lD1pgL3P4t8LCvxq/DgsWKEyAPCsyG/FM+P4PeCQs1ZerJvMtBloSmuiQ+KwUtYIcOx+80hvOe/ACQk72LZHY8BMlzchRoXgvEclTRqSxPuWtLEz7+R/H02CzkhWxdif+XRc3BvQ99rU2rv6AGr31iNiYISrAh0/KNsKXC6lNQvlbJO3IE231WGow1OOIaGgv3PX5+czYIHqcrw6KZjaTtkDMLnx00YrLpbVpAj+ZgUh9ZemEAjpox14mM+Zhyhh/dIQyL0karFG+tvR13j9crF6q+bnF5ucN6CO/GcLiJwWcITnzBmhU55UgF+s08TEyGXCYwJg0RKWzc9A/j+a6beLH/LO/glaeuqIzOAyJD5uzskccjuknLPh7HBJAdTKXSme+HWiAlMVWiHx1O4r1vhXfpSBYpG0FK/il7x0fmH0wfhBmVawoSiEqJT6WICpnB2MQ8eljOigcpAjWOzokU48pX9HbB/tK53iyAcZdcDi9GZh9YOTnjAmkfzI4BvQeOQKUk/oAlAnFJXFnIAz/mVJmgVpK+MbuJ0RxAMtNlqZMfQY6FoKOiXrnz24YhaEDuNXdfNwX0pdsJYnD0o4gQwibD+sremtrHCQUOxTxujpEfC079bU3hG9l2WKKlzJ6DMYVVc8fHBftqU7kKJem67AlpIQoVDEjoOSgWwVEk6dqPZi+GD44hGkrgUZtVPE9Merzl071nQtakuOG8gKiaRmPxDhjVQwzkeJTsufO/RQyG71V4Ho5M5fLhR6d8hEy9g1TMOpVMMifF75ZbR+g3DBHEnZGIn/Ywb4/xwtTYKnis/c3OOCClXM5+a9SuhPd0weTWXIYBTKEakcvkM8egZY/6grmCzH/ieHreTAOR3HxEeyhZxW0SY6LDhYcXVDToDP4dSbUNth/eR/IOiMIX6K5HAh/N7YNR6kBqaGXYuxZCXtZEj4JAlwalCgqBeGa+lqp/KpIe33e1X5V8sFHQAKdlSW7lSnNDR94FuiM7VvjXPPSM8OiyjbMEfHqjl3vIsIcLZUEDK38vnzZEHiuxfRyux969U7LtWP3cZV8xb2ow3Z8OlwAPs2DH6b/y9ei4DBXky1v6a8Y+m1odpLxcHARElfiwGFCMNA3rrDZpK8PLj5XObHG4u6PtiNNDu+BrPqTQfDOZoLcO+Lby0oWjgWaPrJkArH0xx92GvOEBC83y9ffnJDWcncZdOnoBDOoEnSYiFpQIyMLSwlxzP27dO6KkMtEwoBk7drHVBMOiHVy6F3TeM6uGkqC+7c58A4ntCSsf97me4PimZmL8ZFn1e6HS+FeOD451rD8hw2hXpRnJcX/CdPr7cnGsUXEUiBjFbjEtcFfjRso5V4f/V3gc8azD8ODU7bb15qDEoqrYdrsx+xWEGtWqb57ZYc8JJyFdEr1GJoNbTdFwfoDPeAjbTiHDzhfUH5zcse4TJNuJpUJ1BaEmUj3XTlnM4XbIqXw9dATPbpDdoNMwc2J+z6AAAAE3EGegEU0TX8BIpJkxxEkYChAzaEkAAVUD5FlM94yOzCON62dRLurZBi1IevQWqPe6tn+Iq8ccTkG0M5qsWSmcUkBOK2ksNEFEyQ/rvkhPs0v1qOapO6AMrLeYNVDsdIrrvSQMwY+SXyywF3h8ywoPlAN0nhjYAPWqZuiGwFF76m/ajh4zu/Gpu3/veKeXForZ2wakS73RcI+v7aINVRS2zRRmCrzHXJqZXkuI+2rsyxveZLGDB8rd3Luhal6Qds4CwMZTEEI1y3xSFxB8H98o2rfDHP8/5JD3FPsw8FC0r1CBxxRXS5dE22R78oGH4jvJYslR3rMlSPJdDKfxTY4kGTtDIi3saqqwJZS3PCGzEJ6Qt2cNRyRpHAVVkXZ1bYWxXKdFi/xcmg91JpUkKOvw5B6rBL6hDE0dguBBEZc/2zO7Qhfabcin72DUjvKy+9ISWGPFcbGl1KXUJ+IE7JDgFx8cynj98an4SdkPHQEb8DzJS/vJppSjlLDRnnF1OPyCtVTjcyNPKH26jD9gyJGxdQodCcJaxAOasv26ybOcoBuFp+PH2HAJ9YSHkrnwP8ev947dtSfv8shU+5FyHh4odfduG+f8lFpbtNUH+VtUSSm1dlgwMeVTP7W9bdHa7PoRt4Z/8uLol8HuJcUatabX0Jiw2v1NHzd+OTDBKoBPDhdvCIWwkoWL8c3Vfj8YWnLyc5auqZMqvbANhKGQT+YVMRfid802S96t5rYWY7xmB5KPlmhSwR+3D1xwYXVA6oJ1aY/RR06eBV/2m3EVR5v253ik9SeV0yaFOEgpCBe3SbZcOHQM/bi1ZCeEEjRDq1quc8ML4E7uWKlZLSyP3oqDf2MCtlPj2nqsVP1kjkqGuvxkFPzHD1ebP3jK5STqG4L4y+ZCa1tAxjVdMDG4MuR3tDvnNgnLTq1rDOmhxV5yE6krEUVp/1Vsmv69X0L13EqBL1iyC28oyx3+khEJy12oBBBum6LlSd5/93wXZi6RPrryqSoQy0ImGDMr2AQDu2sKG3ZMnM8+dGYeADyNcyZuSiJCmzNqIowl0zSnsv2Degv1M9Xzx98mxC4jYLvOmudRHB8DV90YmxRMIx8SAw01UNh/HN+nY/uK2Gp3QHdMdESNNZbHcCoSblTSTItWZXU8YdBu2KBXlzrE421irgSm1zas9yGQXaCwO+KH5mrCwdq1hsHAdi6Y3WW45CeIPN7Ny3AfeeXzU21iVfRUrqr47Cj7M5eLu71MAtmer+BkNk/h0uH8KaA40EIH1Z7QyaJCd1TOzSZyGW6UpB85Ud/TK82Y0KZ3IyK5mpfEyFBBUdyD6uG6EJ1vSRXN3KSVJgjTSFqFn4pxYk6OcxNLRR2IfvrduAE3MltLj8CCcsXLPDpSqwXh2WLkZxt7y58Q1au8JeTCSOY7BRCwN9YnPx+n5GVGfxBYEfnwRLjX/qNl/7UniNf+z5ihjS8DJW1wYmoS+nXScskpPFeRCc5fFMUZZk2dUWovtB5yqVMAaIOZgbc8Mg1eV1m+xejzKoTij06jSpv7s7DRT67zz2tDq/cLoemz0Dicwd0bdbMWBlld+omE516ETgRis9Zs4JEmXoBRYfpNEXqM0v8jcSrW09Wlwdsiu9Z0mOQFKEQ1OF1aqSq0X8vDVecGZjDv5PRAAAEOQGev3RJ/wFXzHGMiu/e1BwDsxKGDUUDI+652F6G1c4CBF48xf/Wxlgv/qd9LCKNaIWg5/JbaSdvXS9ynqCWto8tfL6kJ6fK881MfW2peWc4Jjpl6gtc+ZBu3zKbwURSDsVS5ujdNcGpVLoJKsUW8atEWDUjqg3eWwQK8laUFYuhfCgz64FttcCX1L3j7R83tVP81DMfVY+nlrLf9kbK75sfnqX3N5teSw3m90DSyn6VMJXcCvImua78pSB3ncip/MUrou6NiL4gGmq9Gb+mqOqWEwE446cZOs/QaBjNCOP5l50mCtqJP1wBpOSQCysIjM0Kb7AcXS4wwWITGi60lD+1NRy7Gk9hDP3c5G1w0+/WucXS6nsix1GLJXnZ931uxXqVhNix7NYbPY20pzhjfocOSZ+Rd07NOE2QZrIW88XaumD23H3iDNiC+ER8VOKLdwxCMlCE6S3EflbOxAeMA3s2ZomRgmaFNgjYy8Yajgrxn9jWrIdMr3cqhC+osGtXqjgGIXsd37CDw9BG4lzTGmGk93YBWUlwDeOAPzqJl13hXa5afeI1HhonSfI/WBNlx1Od8aB5A6wKZFYNBSssN+tLe7PaZvaQBBNSifnfYIcVa+wu3uPXSEfhv45X96o6lIWsyOELENLJ4XuSDgbcJV0dyOPFnRDoo66PMv5lGisMU306kH1vTTOuOTDJlM1GP8GyEWusGsKYZ+9r9osgmL+C7ITPp+ctX+HSDuYiwAeeMl9R2H/CuDyLNHtyzFljZ/yytV/Uwkgjo0CPyyvW9/XVkEfFhG9SnyXx/XddLkRhNWETy4FmC18/j0kRgSaFdt3KjKFncfPCiewOz4SAzzHBHm5DLchqiQHM5K5EKBrTfDZA0WHPngFPeIvto9BeMe8v145lu4t07nplPYQ6kFBOMEOc3ynZ+TzK5WvttgXxDKREysE6RgcvH6O+7TQqD4EAxyhFJ6W51r9Ug0ZbbmwosF3JiMnQE2/ceaGOb4T02C7GuesiIpX7oo4b9rs4D69urvyfnZz1VX40NuM6XqOp+5WxlK1XbQWWwV26UYEsBjw1+Kn+F+oUGnGbkzZnuNnAb6rB426p1DmpcRErJ2+5yJF0uhfBHJtKihjo8l0BTsH0py+lHog+bmevG/lYIGHG+sP8NAE3rPRhZX2jmh65TMRnNhTDzNq7T6ApQzu/FxTwPzDaMxSnByBRPkSUlyOBbC+B/zpmtveF7v7+zFmcPY9vPkwcML/5V7FSozjOIT/32gTh6siom2GUTQgZ21sxL41OfDFOcy+A2soAn4Uc7fmPO8iVlWa90t2YwZqu68wV2tMd2vpICm1oUjL8MfF0yzqjCBxyVshENUKG6+f1968HPcbQWNQPQtw0uFRVhj1j3UukfpCkDQhKwHET23+Gj1p/Bq4/dyZjJg0gGweo16lPpbYVk0gAAAL9AZ6hakn/AVU6Gza6oHnHRl6ivD+ZAsMmwQjKACPj4pocB3FEXlLmZAzmkJseM09uIJ6DhT52n2HJAOh9qaLF81IAvCbCgo/Vt9JcXvUnpKHpCPNxBytSisqTYUPXre4ZmXrEnBYdCSFXv9rfielIaVO752wOPOfFoDcGw0bfsT/53/L5Ujx9TLn2Y0HqWnx9kmR3VLbSmREOXQ8SrQc2OS3pzEJOyxiEc1OZs+vxdm5BYXbZg9UYpvkSKoSXgugep3CxT5JIqCZCXLnMCrBvsgobEdN1u4ac/hFTgnCK3NTFUAJgDcfkSOurRglOd2ujotUH++b0QgOABv2VEYusxV/UArMF9YSdPpZqZb6WujgJgTAjsIpnu/kGeVWHcFmNDjQOqPXti3WCIGk7SYdLFCN7Xve8K91Z8SRv5DP+rCzF+r2M5y+R/5xmAEkrLiF+IXbqx7jQJRDvCo0QXJtLZGJstl2dgisfLJhnaTz9Xf/1Qin7tqHboPPsGMqhu+wuHwMPhW5MbhGF1+gCtlandfm5qVSGyUVm1aglJou+6E2KpccDrvu4jg++cooa9IY/9qYh7SoG79Ixhhh38EREwTfdhzHiGEO/ycKFl2dRUh0QoN389uPWXj1So2WGoKabxRO429bz8J16Q40eCUzuIuFpaIMFOm7KvtNEotJ9mqnSRF+etlsK9CiCH0QijZgfln6drGftLNAAIGIEcVumFlqGbDZCvM7KugdgAyhlEQ7Dz3NLTleDXbefvTmQA1E7O7EY2Ki20b86i1cVla76nCkyhoAsPFM5/su5Cf0vl61C4cwNxJd+KxBnbdTJKIRXXqB3WjWKozWNDFOucWdasmXnHJffJBEZp30mbElUPaw3RZKBT+sD8Kvko4ctxRmElmr3gjhe//jE3SJFy+946/1irc6ySZrSBlmsTNh2wttSGU3goI8FVu+pf4vjk4rzkr2aZqtDPX9qLxJafhUIPdPgqZCJNv2szNnSo7laG6XjTWDt7q3BQ10z31VxAAAFbkGapEmoQWiZTBT/5EADD3PJbKAML4g2yRlXlw+0y3CU6fCGSH3ldfn/TFkc35LmQNoZvSml9C/yNDNvG+GB0DIt6kzdrKKn1DXS6CT3kdeB3G6N3RvawCtXSuoU/rB3DtLi/0DWDjdXmyvx77j3GKH0yiOXeRHwIq9cH2vDhqXKDaA75PTS88h0SiUMJ6oQkaUpCYDFMEH0NoH7ABCBoSHN0qxIOXHbE5XrEmq7dmc7JpacOn5HvtZcVjtLOzvoAN6rmW2EgCyzTD/iATA7NcLoMw2VpQnqvut16Aodt2xGxxx9MgO7SkBothLrF7hZhm/EGWgdDrdrnDOCYSfiILfubJFMlaCETanPOJVgBdvpdLtDZIiDZhbBCqtRFi20vnNI7VqpsdVH+Wj8bip6JvU5z88xjCluRqQVGmQuIlFSHkMPWmbT1mwRe2XqrBhYnA4XWZHSy86H71M1QPQS+79T0P3vh9OLphKpUe3Mz++Joim+PyHY03emOlJiyfZpTwJmFs8bq537G2Bf0o/3OAoHAWzCuwy3ho19Vx1teOPHXIjp042BvRxk6S/IbhZ/mAiL62R1OPkBhFnmwGU7dD/F+22rfy+43iHjyfUYoVl0ZtpQDpnuzmdw2kve8MWH2IuZDdg7pTglkqzUsrFUk9S9NxtWCXIbnEe9acd35YgNMBHz9tqfiQfLxAICp/oXdgyltJSzryJAx/HhW16FWOP4o19xkFBu4FVE5mtwD0w2aqTlpTsA2495Yi7j2SokW5dLwQ40v2ZlG2g17nDEdBM5uNr+CtlBtagq3DkONoM2dI8MrpNWl8WJNlvSqvcZr5AE0jowg2QFVglpJiv7OPrJdcBkkXniNbAKjvUM9MWhKXAS6hiaEHM17pUStujSeAOfwHRh+3Z0l97YSVhGrVNkDiZ3rae4dAcfV/sBaKyBqGfeWhQXghoWiBoPYACIBIC4X2Co3ZiA7M5jnbGeZjMOBMGGKqD/26W7FOj17cVdGqZcc4IQGEdrWCtntn23HqwCW05AMPnEmVFjh8bcCtziZ+Ol1tM4gRqtiYQyzce2vpiw0NGUaR1redAviaYw061ygyV1fWeO4073TM4sMmDpSrp6hTSvCVzgBnPk7qf6kJ53onINNm1OTpvNfcFLHdTt1WpGMCvNntzsv4FKrn2OlO8eEp7rq7sCszegKGuRRGhowyawP45HV4qCLvgvNBSk2kJ1ikYABsk5d+/b+qwrRkcxWi3bLmzbcN3eg14nzPT6uoqHJ0YT2kGzBnjzgSkini/kAkudnAp9weno+CdNTQW+nlNmeh580o/TaoDUNoOeObGRcp22lh1NDe6NeUwNnV5bf9DOB++pNthBGZlnvTces+gSH5mYvaOpipq83vfAu5xRaKzbduqfjWhPG34LsOWUDkA8wKUkHvwtFlTQRt0f1uMtqvnTDjsgRiXoyFH8gScRCVEkpHWQ4hHcSG9aJ4T1IpPhlRqiAJOd+kQBHd/8q/ROhXAgcx9uOtNJO8K4/8FicvBKkjv4acaFc7pxxF7lvkWWSdr04dWXpYcRiwO0FZQ2jyjL5EhfvOEzlUlADbHPaMpmMbXpcKChHoIQRMDASbj452AIU+dzf1n4HRh7fOf2tWtBEncQYWRHu/+ktlwR/I+/XAiWZxJPpKdQ4wQKwSDc18BoL3XPmbBdQbNBF2uZeOO8+bJ/6TaWoHvka0pTkxF4P/W1e8GzS/pFZXYe5RKfSNBEm+W2EiytBXbWX9fAMo3EprMmSmdj5004ZzE4GyzEd6daIMSbqZeOCjK8Noz9IzG9whV0KSH6p6z7ba4mC89au/ZlMLOy2KaGDcR8Ks1ejvbCg14AAAKUAZ7Dakn/APK7CCuhNv9aoCAsHiXKJi1LvlYrMHAummHN+IkmmkOv+kC109of7suT03eJZZcGff3vpnauOCw5JRT+pvBXcV7LYQHA5qHp8oBd+aKzAmgTuteCO9cQdTC4l7t3uNJ/PBR4TWku9sYVyKD0ZgBNBoEbuNlunsTWlUmdFHvT6YDb2lgWiWs1L54r+OIhcBlosShNfIgGXolsh6AR6UV/U9FfhkH9vFrAQHM/fwqRd2InfurNET3rrF5okB2FQV4WM7J+9LqQN7U9Fd/UCYShHob0dQ9iyCAykS2l7NtcJHQ6usvfX5gl47RaTkA7B8gJFCKAyrr8Seqov7Cyp0x+MOKvKLVJll2Yf6XI17b0h6lczsF7Op/Dd7vdOZafggoEI9F6aGyKtaJhmVy59cTCATh9ORZH9LcN/aJ0tE9qwHhKpu0qAiwAAapFhIH9PypotWX31wWQWrEEjwFPZmwiGTAM79ayYADZD1MfZJy98BZ6WbZoZpiGk9jmPTwYXPrtqFW1LPs+4YvGx54LIf6wmxjegtkWw2AZ4DgDlPhGH+uzYAtZKJrhKTdK4Tl/BL4Ayahc4mOI5HOGVUZf7KxFzHthaxKi4jYwgwUrrsEBSFvkKmDA5mlhLrWtFv2uMNQWfzqec7VLKHPqJmoa1vL5DTUlf2O+JbqE5BOAnsQ6aMSBkLomnhR8nAwpkb7DICzOWnMjTQoUMXBdURIB8p8fu/DenLzoneFGYjWc9AvOLVLirySiMt5aXimfPPYFWaay7nUPj8Rw7Cc65ZqRg3ub1iZKIqGltv2zl3b8e/mreI+jeFBzMyTEy2X7msqRtAw1icFk0u8I164n4J12FvRlBlmSnAkBh9J7AizXQL05AAAFDUGayEnhClJlMD/kQAIpKFw6g8hJkkpPiBzsK89Pm72OyLd7cwvz2/ginFIOTja3sv3JipKIUljmMlP1eIFKT6DTqlCao/vEldh2fdqVVy3uxb6GZ8wypDbQvT6O5BFphzXM2ETA3S7BgWn8nvW7uOb96lTs3vg1gSawP2jGEoCoekhUC5sCJlXFadpP+Xp6ooKKyYnEWzk8NHold+grhC2lsSzxKYZKi9meJjlFtbKtdzqubF62ae+uNebWGiQFT6DMI/RSEEDfPeFX/ouwD89EdlfFDcleRbqs4KFy02Yy7uONrFS/4GeTwrH0wbneEdH/i8QJiBRRQAZFKae/j7xeJpXKU7kGi7h+IU26UbYLiDibgqLpbdeYykY+TVLAUwXcQ+dereGe10JBuUYi07bW3RHW2NX8kwfYEz8jG1tnDq3dpHHxqKOGu5D3ENh2NPCvr8x+L1+mDp1oYQjL1ymFKhK1CHYXMzZ6wK6jHRb/3miR9FCQ1H9oWRQrShl35w4OT+dO3OlbD5BEOSCQqRfk7BIUyrh5rWXmaaMp3hhLYeHSzeBl+H0ry+QELoUrYlLvjyEKqinw8hTZukwC+KEkjAkIv7r4R7qEsWAEtFVI7zKbxrdW+yy2fILnnHQmKow7MYA4fOa2nEEY7/dPPCnYbbMkL0Rdjsqb8JYsJhzdX4MCwArZVilXn7kAlzGRpcSH9vNGYEubGXUFLlwDb36pzU1K12+JPsmZ+6JLUvgnh5zOBuUPt59mKuHYRli3MBE/L2pAzpudM5ZhigC3if58gh5SQAmLgMwPUNDmHkFWwcnII61wm7oSpmRQp/+jf8uuevx+MPUbFj0POuyUJYR/QTiXe7dHVI4gvOg6eexUE3O+xrMbCcLrlHpVloqcX6JW31JR3cS3Rpqo+zKC922B0AMUTDA5CovBAEYMTxtxZJcKOoMn8IfdRcRheqtE2zV5CMFboV+HbvGJr5x6rv7jutzWDg1wnmWiP5c+5FOaDd9CjABQfB7o9VNuZLKGaXEQwqrHodTdO5HUDlJHzbvwUYZt4gNJaHCPppLA5m5jBJfvXNbvg7y7u6AtgM20ZQ6XByfxw9NOD52LqeOkdOPmx4Ffgv8Zak8eq3+ktkIjMx+bo4+PdGCIyIzPw/fSuWEJk7g16hqy1UZgTqnY4pPYqnLFuJunqo6XYZhxNJzIvUAIWKpsoSEmYgx/29P7oCMrGjZk/KdAuy4Obi1USbzWjxHB4xyOdAvgKGLObJ6f5Yc2YcYixuQsigzmfWboE2YVpDdbDwk2fZAuBH3Pj1bivmklE2CYtRP7JSnWoRjz+H4EpjY17yOc8GonEdBXg3BfG4JuuTW7QLQL6tL8rxHdtHP1fhoGCMYmhr7RaBwSBfKddIaHawzNujGpyIIFgESCu53SCzM0D8xpJXsS5myrfPCCeVW6diEtGxFtJz+MBM1sm5wUiWPf4sejOCbivwWmUOT3ikAQbLyCzSFlAPXw9BzCiPOVcplKdrySxFz+acef+JkWY2jpD4IFXK3yabUNWzE8OKDlc2qvtSX2ryd0DhTi7o39Tc3jeUCjr3A3Xf4JnbnRIoAvFLNx+9eVpyV4HzxbITB28g0QP4hPS+TQv/+FeLTPHhOwLo7gQPXilzk1+ITYw6YcyBCiV5ScZumNxOBpVIFv8ha37DT+L0ijiXt2LQtrWQcBj+zJ+mpY4ARYVhZPBURd5rdimQAAA4xBnuZFNE1/ANPmAc7FL2iAatSAnSvbjpO4qLlFkWaT5mgJi4n6TjFgYOpo9FS/USELv+uXrWA7P+QT8EcO+tuCi45TboXzQWeAnjTNRKT+0fl+jgTcOc5noE1Bgyrkcz6itYSZwpnMWn7xfDWqN2xt7CbBBAI4WoqCqbH3Chc0Te6CZf1FxmivXPyKHMR+4SXojipBN76ug/6If6Fe2iAckyy674ZWh95EyVq55c2dO2p+RLqSZiVBw+6g85zKvqjD9sCDq1pa0gUWlD1PgeHjZ/rKbozIoja/gMxGwVzyOMdh7dUOHvbvOUuLNizZRy5TkW+Lvt8MYB4EiU+3hrU2W+W4tsnsmIbUWRSvOqDxwPhrS2SFrCloBeeGOOg386ndYZyRaMmh1U6eAPcvHlGoqJZ4I/r1BgvZuYbMTY+exVy93C3z6dvdzwWNlfkHgARcbPT8okiwHjqT+gQm3C0a2Ed/Snq/m3PrY3QZiFfeeSX5jGd4iqQ5LJdn8DeBm5O4ZeXqJzZ+hH2SqpAvln866LLuMf56isJ3q0Jdt3x5XrQcuDVxm6XREvN38gBh3ebb20wxqcJ6nw/sQLqHywjebsvfXo/w6dyafGydYScJ5QCzLr6z9f/ehHaWUORTF14A4uzYV9pDEJghfGlspXxoIqDyf9wHnNl1BqbsnPlic3fsB3OfLFB532ed+FBat00urA7W4o0Vkmwlm9lsc5hrkw5z9P62r3/I/otvVaMvX/JhjDA51RcQUTchRRfC//frXXXkTNudxvWeYErhae/MoW6kpdNnNXij+rtIVXbo/WEE5OwRLmT3+GiQCRpJM9xRaTUOqUkKFxxGcbdWDw7Ic9Idh447fBeRjAESLQpEIqUGe9FVPuFQZLBzCTJbqTLVYqm4WGffHUJ89cuor68V6aB/eqtDFcbhhl3P9e51G/P/xJmL5XMs/hfm8sRLttJpbZ9nzuaGb5Wq14AYYA674+63SixM8UF8bIDdWiuse5evvJu+bOJp7lLLoA+bZ8GUtoi/qvbjldtX/uloVTUel3AkzBYrP9LzIuwKxG/Dr3MWTtjVkZW/3wNIaJdmqoBUt2Ps8zMj2OxzFYWtr6xs3gSOXGToglrr79PdUM9L2hwx02Np3vgNIN08TGgXSAv758FIpbnU0OWRPhUx3eK1Nr3my999/Jh5Std8FMr4cQwVmQvkty7mtUm/gQAAAbIBnwV0Sf8A8+iqWfx3WRyb2p48lUx1r5wQQhqNxeugdk9DRUe08ePFAfG1b4ryq3e1lgTV9sr6uQv6hGq9+JApgRosDddXDgX70RqTkrwksnlE1a1+AuD2elEIXXhxmud7ao5mrVkW4U3mz/inWq+UDZbUGiQTUoabqBXHmxyy9a9tN/WkakFGTG+iK8twK1yjTcUU+jJ3KmyW6rJFTxQsp5R+X12s3s+bIf8KDYtABQXHATVzhw2tCg0jDkHwixdqk2qfjfFlNrBdbO7xcZ86b63Sqqb9ndZS/LuiMbn5Tn2YFrzT0CUnkMjq+AfQHt0pT2qa/HLqNACGiv6V3qBq/o0ArG99OhgqNQ9XBkacE8nQRy9bH6ZqviDyHPHmz8OOscx1j2eO+3lVF4rlQwBAO6idkchcztEFjJ96QwdkwbxW+OH7FgCt7pdtw2abI2fj2PSVhRm6hw6gBMoJ87XfTNhp0IkGseKcCIzSGf6TMBhdpfRcevmuwnE7BJydhy8LQ/t8QeMZlALcMdVKUfik4djP1uLLTx+d2/DRRcySY7qezWRw1r89aPSUl2RuBQ/s3wAAAeUBnwdqSf8A8+ixdVo6QT2BEuAr1P66R2RH/28MhNhyewK4eE5inYV/5yumd7fXh6/m0EsCvCcr2TwDtHHKyhC5vPPQ1WpIGY8YsdSxxcq7svG7QcUfb7F5Y49SR0MH+0xsLIrwLf9ZIFWZ1X5pkPOyD7uma9+wEcx5Lqzl7fHmkK2OcXAjAIGzSMN0nH79lWpNmgS2H8N2T6Abfkv7ouwwZ8Eic7VnwHpGzZwasP5FQdZvmzjfIUlW1u7As7VXwV/Mrd8MZlkyWGFkVAWEN+96/zH0k0ZqOYKI8vq9oY4v/En+ONOXwtcCKCaGZ2BbHABCL+CYeYJk5a3L/uk+b77ilmyWPAuajFCIMSEuzEkN+YLw/wC6RdOaw2zzVClz8ECMMOx8uH4T8mwoS4hCuCWh8A4J8LR5os/kiCNV61pmOg8eM3588kFB8Es8/HJNBNwhkGX9qKS2RH57QHaD9bCRKVvJig3xfs384Kf6bfM7m8ApkCGOzaflakVO4HdODNeymRKoOrvNG5PC3YoHxxOLkx5Ox0YSdXYP40LBAprgM58az64VDRvhdHJCxxiSra1nhrQAy6aVoKZz6eW0JoemH7zeqAIapTMoUhdtZ4xluWm138obYai5A5GKUNCLrhy4Sha13wAABWtBmwxJqEFomUwP/+RAAxIk2QoIml/ymogjYsx6tz7bHEhi1zWrb26/maJ8RuFDCm7gDRSeS8O1MZ+pzQkKg+cbFVCqDWvFMOj9IVIg5DNrkd44RhJxIe4eTBqKQBsO15K5y094vMw4LWYoxtZS2Dm14rvPY4MLt4/luasyqmGDJ5vpWzDl/x0M5nXD5bgB6qwVOgRj+rrgyXlgRFtr6nQraoDybyNKtKzMpsJvTeY0LrOCFhMNvd4LF6jvqTSpEqVxKobuR+EsRqNnnuSmm7FHFgQzKpQDRn8XDuYeEs/74/zZuWkzEQ6UrVn1+jBVSFg2XPkyAtQ9HBMSwmYqUxwIzXee2nvYsFWPzpU/UPNHZ7TxsUrnPM1ThEdkgU+GH/XAbIBP8k5z+qvYW5NpAcWJwwpl8rNZzyUFpNC+YSwF0vlvr1X/u6ZuJ33C+O845walr5nLFO5Oc1EPsepw8aRcAmwZxaFSpsCWXOEoAPNGOzXh3Po2ruNNND6FkpISXoU9nQg8doJM4oTLuJYfHantpAP9CwqebQgxHPWVnmn+Ww714KA5iUZ+EpYARGZGLMszAsioptcWeyBZxpgRMvd6iKPUGjUe6K7xxfkyAriAPCivArbAsMwtPPKhowrRC0p8OuDM41leWWJ3sCqLH3I/0O/y3qPdOyKEODI0Lkmo9jeIbmU2Aa71Ox+p2ZNMX64AD0Z0xJJNpmyKWm3QAlXBD1Kh4FEOJEs/xQ1QiQ7urSvaoyhG6zty60FFp77SzjTRIlpP0m2AQyKhyt1YaLQ6SN8GdQbHgmHg4ezZxhvMcwq02dmevAZ0ZjHXm4ap7oI3DNDQGMzTp9P4j3qGqYl+LlNbFWVsC6YOnYOOLXSHTFlNBwk36od+p27epPzOpYth1kMyRrS5InrMybW92FxUOppQ4jM5h9+QXplEom+LAjaXBXYCJD/a/h+gUm0EjbyOhyn3m21eqMfYUIc/r5Uzi/7wlqVxJSS+QxAiuuNpLcP5k+XtFWSJuRsEJG6rvPmtt1svbT7Fcw1tmgn80HH3K8vk0UqFzDPUtX+E3L84xbXHbM+bvEF6O+uYDxk/gjhHWLKZwxSX38O+WQhrQrw8dXfREc4C5woebvBqSK4jf1xTKV11jywthMyEFol9ek53wWbKTG4Jl9mHE4nVOzc7LghPo2OHP3bSWHPVWF/ymkTp/AIyXoifmPaTwoPIdyw3UNQUVBjdmcoYepEdqKTVMgoSWeIhDoKgh523rWTvzdkHToQekX5oxaMfAIlCWwPJ49/jkVtTp3l5rM+Hng6bKhDHTg10eC71uQZgIY99StHkDv8byXpG5WTuLtd5az1T8GeSpG80GZmcRuMapijn0cbUBwVXDDDp2rIaKbHEID8LAncDdrvlZf4R5p8vHcskpEjjStdgTVSy3AhqVGBieXBAyQhNKDaEfAZmNzmy2xeu5DZmKA8Ai2wPoWT8PUEcYfA9AAe00xUz6drh+q7Vu69GLuv2QIz+8aL+f3pbT88YXNWv5j+j5ctdgC7opOU9M1iTTOB9QOYZHtUVoyWi/AQ8Q6RRHIUlZ5v4vHdqGFZeXLuj9r+W77ciP3WIWhvgvgtWAzT3ODP6y5PvXzuy9KOefSnxgR7rVEoayG3aStREH+FGOsq4rlxbhcyz24RIkKZ6JwgjDWdMMZpkSTfYlERzXaTzhN3/5N9oW89u/DVwg/w9yhydld9v7G3Azvq4vfv8/Wb4GzQV1a4QrHTs4D5aV2i2pbAcFXB77oZd4E7JwreqRNGnljaffdi3kb63Ykbrbe0CIBr5p5XUr2fMSKoUHhkxgS2gY1ORoUuovOXmQE077Xa4IAvAAAADPkGfKkURLX8A0+bKBn5NKQ89xe1R8juOL7/dC+tfz9bQyxqlsHs9HJkD+gV+4ZB2aLIwWeEoSM0K6DYrUHTijYcPX+Py6eDbH434Oi223tKuDwFyF8OtnzgFCfw0V2+ezem5FV1ZMBR/BqmVnmusSYtxRUx46sgr2QzNuGCXD3eF1tGDs6q2QrTqAeapZ39Rqmj2cwqRk9PiniWA8b/sIe47I9Vi7mBz4B3tO7/U0ADphvw+0TtxyxdX9T1nx0JvN+bwgE39Wv87tB/GRKtOm3s8e5eo6YG94b2u2Td7XcRDBWnmXJ1tDw14vg7RFVP6Spw8DDyWqnhduY2aZQ8gmQMQXZ8T9xvg/35vKShlk8tU37dKMG53W1IOpiBTvGhOjOpPxWMqInbS0gednsZK642PsNgWDeiLvXO+hNW/LtQ3wYcjY1c53Fl+h/MN8Ri1SM1zPxhy6zPJiVbQhWxH0Rn9JHj33S3mQWUGVWn4zrnuHhIWUgjORiJ7vud+yNunpU+Ice1rLXGQ6tV6fcl/OmVnlYchhzozjcmC+hoOxWYGmrwaLK9exgWgbJs3iiA+i4dJHcaB4S29Jbe+8cqHtAcWur2GGVOujFVSVL4zlU90IeA2AJ8LFmRdAwS1AnuT2s6D0TWS9gBit8tehfjfo0MdEfAze6OGStQXTHF0B8IO/w29t1ZsgttnPsRaJpLA5QBWJ4y7GLii067mHuUXYXPaZVkrpK3b6rUCFb74TSkTCF1fsaREvc0yqBpqD77ZMeB4/kbkVXbXgjIHbHyKmOl29E7Jwbc6gEGHrCebNB3jp3Jr6o2JNBO+eNeYNx8RsMfH+OVj9XwMjn+84Gb8E/TxKTLOOSAFzGPvYG1XMMkeCFmLwbW4Wpf331mt0CDZebWtJfakAI07f61DCAePdSwNXb8bvqm7CCY+R7sYBpppyKtiWdD06P5qbQfvhQoai8/V0r5nNvbW66hWgylbQ6hFZQifLNjpLvS0vtXureC+VBuo0yLvXxYimxSJNyBYauJM/pf/wwCiMu39nt+hStxnXbyQOAqNG4tGiZERiU4F0xVe85/UOLku+NS8Cl58z2PxIpXp9daVPznK2k7fAAACpwGfSXRJ/wDq6f21bgPONZ23F3X950OlKxqIxhSI+gTIfQXwZxg11f5xiLG0lJqT2qah0uIUqtnirEOyMiItOX5GQhhlPcWIGGY5z0V/FgvxSvd81tEUJzIj6cn4VlgoWTBZe5lyOyxylhLsuvXmft6+9KAYwboMciiSJz3NwU2ht1PN/UPXQSCpyJxu1L3w0GxsYVuN4KUJ7uFnq0iSRET/awPQipMQsF66THISWYabnM70UUdWdfLixdcTP9LIX373J59PVwsOBKs96nHsB70tW07+mthggzNmYX5r8jfs1JYrTvjjR3pDrq6Y4xWFgw01f5tFcy8+i8y0Aa46Uxl6dio/8tS9Nor3dMpqafVYgn+TjwUu1V9dEy74tZQ6AZfCckypk1AA0wHy9YitknW17hGLkZAJnIRBmRrOQ4O6UTZtaswdR4x7OdJYluUM/i3u5fdBlSsOWEC2RyckMcmt11wdGhwqMhzAmMNLyDU3UBkzEUj4kGAFsvxuXriPeALkR4LSfgI9TxxZDbzxjjO+RXOLsUS3kJuLrQFCWG0jqCQIZmqy9KfQ4XueHIO47lyKTZ4VVYVR9OQuAt8LXnf034glelSW0QFdSeAHybJfJTa9PtkP6sNCC2j67GVnFZUNAQywFZvJh0ZDEGjezjDg3+aaEiiQmpSlp9XXWkESgg8u6+kVNKg3UxXEglH2NAc0jRdvt8/AbOHHnBZphLTzJO83nfcFgyHB69ylGIExAjqYGWik7oxtJrfjoC7siRvpOKO2k43yltkx9SkwzbbRdzch3XPij+k8JLJVklkDukh8a2B/NDy15ucfcx3YBDOz8UwEsA1A+1SvFLyJvXEGwaXrkjzhKETFfHzT7kWLGGvqa9BqZgtjfDmWgvTe8hd8gEcdc/gAAAEcAZ9Lakn/AOKhYTwtZK9CIGg1Ps5ztDLDunti+Xn3xyoKXNOVKzg+ZoBBQGm+pGiBF4B4YAEBKk1P28fByYJyLLV4MrqhbHZiGXra7Z20D3hDEEUCgQ9ebf2OHXT50pGt90gYvSJhFg49h0rQkLIz+6IrbcH0E45cWzAwQkA15I5eFb+1NIxGV1Qq7IyDkDUnd8aH4clWntz1tH9gaQ7DOSb7zLr+blQya6/JsSX/csvwh9TxQbP+U0eOVBliEo9IiUjq6ypcYmsO3QP07s7EGgGL9fDmJlGBOLUVzxSkGprVBT78/FnrPFnNn4YuTMWSVjoySLSJTBZy4SgMI1DQu5aIbJ7P0imCzd/48hxVVvAl/V8/lL7lJxnEEZAAAAUTQZtQSahBbJlMD//kQAIpJYN8PiGDUrG9AN4Hyt7ATRXL9v7fFnMqROoO9FR/WHjeXuj7cFRyCVhrTSXtpLBzxw40j8bPgkrHwAT4bZ9szFOP9jOwHl5B8c28+t7FgfI0xH2vFnEYI7wE/QyrDfIwq9NxlVAa8OqWMTXLtkKo+6vtoEYN022/PMVQfvlqPeD6RANrsUQUbJ+ccZ7HVqANfLZzOb6kvGdkmRR315jtTEpfNmZkbNra1VHaDToTa68X9igOcqecApMUS1DCTj38nEBSs422F3K4Q5K5dNgAvdpQep2ga3k91gVxF566NohSMsbQX6J1jy1O0I/XHzmoAtQw3tb/0n2gjfIVHEGpoyRe/F4jW+Ym630TA5r2mrfWHMMnNJoU4nIC+EsUD48+my0wCS5QKhrCDUg9XgLaKyloIM6Iumo7bLM+wWJcZGFxeOEEuxoM3qJCnJd+ggdWQ6IaGhl8nPzMWYrrXAduKt69UQvTE/WkXG1O7x7nolT2frgfCUe8GlsLn72I8Jdhx2KFI4fYunYg9EY9U5jFMtjbSVj0yK1IxcjaxJo/5qRLQ/tbAynj326MZ/bNH9IUArG9/MxTKQmVjb05bQ4i/ZAPGHe1+2Xf+ajLXWltDA96/IrcqjA9ridjEkkzOxNfb8OE1VdtLtCD8S40DdcZnEBEOWrqUjrnMbVETIHRG2YbTW/rZlCWCEH8EoWW3uvqeaxBF9xM1/6eqOW8FT4T7oijTA0l+am3CfvuI50hesXq2AgZg8sirU0+4TuveUk5YG8w9eL1rhsAR3esLmEfswYOP63xlkhjHxGVwFBWm4CFDvy/P/lYrOCyqlwlkwA1mFvE5XzGNXGba9du02NRQxZZnvlYlPlpPhYO0+4obahViKwK882le4oU8GRZE/nXywkeZvBCXZURSDF8MNxC1027CmCxrJFjd7QaWukzRp1Dp8T1Yp/UCwznKaEf8QX5uajB3FRNgvbWso9Y8JgwFER69A7TIji+HCxFWfxHbik30Hl0cFXngB2ZDEFg2kqGBWU3WR5FIug3fVxrwymbU/W4rQjyToVDriPmRQ+FGYbsF6/deXF9cd1Htr/5/09fyvAgl1gJUlmLtjkKK2rjYa4bLGmvDlDEbY11j85UPeIugm9wyYvlrIfAx9KRf5KdhWBC8CwmLqA2fOr6JRkQTyICWHiSHuIaNZgOUuu+RpwDoYg3WGKnjXDQq067tsgpPSwKh+aJ6aBQerIcHbskImBhgfSp3qWMZxwP+jF/QuJGTZh7InHCNjTxvVgsjnpt6vvokQihNftnc8xgW8aXWo9cpcnJzm9+rGZalGqzeaAcknkzK4isG+xtRaezfzKa4wKIjY5qc+OZopSJei/RbiYd5QMTxGrZ6Iw6yaGAQ7qDmGByWeBPNAss8NI4ZjibNzWNHE6rbOmcoL8zqKEpvXFDganJRb5mRm2qbPH8krTaVWQd3Z44gh4FpiLTBeI5u7vtfXizjtfiE1aT9ernqPgsa2K0iWPjxgrxhBzVIl1sbIsu6TX/tBroURR5+xKfYB8PncN/uc8NKRGagz1EG3hn8TbEwjtUrNal5wWDvNR8hBzzGzcIJGKP0AOUja2wbB43hM7Xm5L5+rahiu55adolW4GRYxyN7/I7/BF9fAj2f/obOCbam+WQRRbgNgxFXsR2vjbKPU1+zG1hiKheywL495zrXbdVgSCUAc95UYIxjVeBAAACGUGfbkUVLX8A0+UglwRP3eakcQa3DUszO5wNzvDwpk6ucbILqaH7C7kuO13FyyeB46Z9EVfhb3pliaHVQeopqJ8nUOGSdeMgILqschM1hhT0lPFMFte4op12kj1RFINyAxT69GMBaO3Ob7guCnD6NF/ft4tnJMc4gAG2HvZBrZX+SQHdcoDxC8xi0hBeWQRNJ1iXF+H6RXiil+RmI2IfjOhY59xP+cE4rvdvh7aKvuwQU0MoHCmonQhNaApwGzF3Lg6L2cNqZXDekyUhAsvbhilraxIyRGUhRB02ZHfMPSmGpCXZQGOXWwJ6wfjQnFzTXqZqmnLcB74l+usKM4AtFpK5/T3/Gwdhfchf/lvI6PQNTcfOlq5EId50fwLjf8JaGO8PtKaT2CIxVfM6dzvxq0eJoovwIKQXh1UTJzZUbFELRnCTgAHpQOhjquGRSDrT7yp7ZxhfMIfffEpMYb66Wr5khL5MO6CXumz78XNHGKeb3Sb83MeOoxn9cXiCrvG+R1hXERJLKpt3vCqPL5OQVnIqnD1QjCHMZ3s516NL+wHQ+7essTVeWAV3WThpZcjnQDGDPjStN5o0/hgZpoc1QPdFRkI7aXsVNK0dxy2jT/x7Ln1lZFNqKttv1aDO2ezMhjLyJaq4wFkgb+UlJ4S2ynp4izwCsAHpt6VVVyWmue1VMoAs9QkxO24aTnx54JJdsHO9g/5sMgblgQAAAYIBn410Sf8A5O3i3/RmqZcnPPYb859pPZA0oOW2egHIUr8VTgwkCopYpTdPdVjsL6L8SgedNYPu6gwse8wZLOjtopuPU0nROM1deNM532nNDM81G3OgzC64e2wsF1PyiDxn8bW4pGZyryAei0lVc11DPDqO56mMG5f3xJq277tgKO0Yn8BYcabby7veCNXowAgnQQxRI9I8JIEwy7CEyZZGt4mTzcc3LuuyLnSwV/6M3YmwWycXBRgGvTnVTQr4xYsWvoXg55RnxQotvEKSM1T1A6egsg1Tu+z9IpFDWrWBy5ULZ5lDdX/SbVXaSRMlZIGycZcLfNuwib9iqPuaQj6AOoFMTjICXVhFJCXCZzw9IggW4yOckzsvkpof1wJS0ho/x70zsM97qZE/SE3B6CDmCoUE4zeMJOl/fMgB5FiKXp+Rc+IC8CJug6siEOUjq8DFW8kUYB78FprQPqTM+eb4qWfgclnNoy60YV6mNGtvTQcsGBLaneyVpwdMt2tsNnpmXQAAAloBn49qSf8A8S8s/IfD0IFwDI1kMqbU9RofUBGLFeI6aeqVLbkWonEL9UmG+Jg70mseFLJVJ401MRUFNXGfTZ2ZIPxG3FfrNASM26I7tB+lIMTH8yxXJWTmd5dsEEIiULfPoKpNeViSznmRhxReyyGc54FxYj+f7IkNEmymrWoeo28HsTOxCzzpeO66H7e1DhcRVFfoqqyO6IEskhyilqvh94LS3ovB065hYjPouYTP/xPMd/P5LiT2GW32C4dxOosEoJ69MdQtG7+d1wcZu64DZ/uuB2z9RfkqmzEayI3PMHUVMin0z/ABsnRKNRvIECe0ZAMg8hSmuYU1G6f1A4mo6B96ABLzMaYVkqJviIapuohlQN9gYlf1xATgj/fuzMsoqaGZtKR3rmXWJwdUVmNqK8AzhKy/YEYzSdf5QKw+gkEg2aXew30OKstR6kyLAZmR4207/K+P3XxcTk3EzMCWypgqnEsOM2GLC53AGn34IpU3jJ6k+hnCkA/Tb4fcHIYU5VUd1Dgy4Lp5gmLN78V8bjFNg1ae+WQ0oCiZdyX3KGTrrWv/XxcgZf7IY2XISzhm5rBDYk2+dViAfnjEUHPpOFqURT4p+MxE1zZKq4/xlLc7KIMj4v4jsNIYUHQDqSt3tseM/ZKCrrjgDsPNvpGvJRS4+fRG5mZTPFBJkdBjwikPi525w7GYAWgUnk8vjyJHlEBlTNOvV/EwmCmQkFvxd+SpFx6c70QS3qGgJXFAkYJvvdz9/dB8/I5EE120/ZZOtAoSWxzLwX5cPUnGR3/ubyjR0FPGYSOZwAAABaRBm5RJqEFsmUwP/+RAAxBhDNDJpzAI9paWECqtwhJuyRopVjUTbhXy+nEodD02arOuqAu8vKKIjOKfgrGI7rq+6tjEstY6rqXFO7TfZ3Dpl/Ps3siFmO11+q9JICA48t0+x1pQnQXoR9C4gPPCLHVYdtclEBhIJghXynszUEO0AO7vwKeJOIU2M1xpcHwJkdDMBaENgA3oyrj6PtZz+dRQVXcJ4S/XLBpdLMl/Epu0fLkf1P/vN2dtM4PB9LY/rQrvWPmlC2cv4I9Q5sHcEyEq1zTqXAMgPNFaoziTMtOoRYhcZjKMGm0tPO1KYce46sTr1Y+u9cn9hqUTINKPGzSF7Jv02NW5gOWGmHB5CCmA9NjYyx9TLKsPZB2ym8h40p1JFf3nRuj2+QAs3vW+v/2D1pP8u7OgYh3XNyh9MH01Hbbd/+8MYqTQxBMDZjdvtGIqF0gd0Q6+V6oUSz1InqgUi6DKHoSC1rp9s5UM0nufD8FD360Ja9OGIbRndqZcgX7fAHMPTZ9JJ+zHN53Ac6IzDJLmKwuovYNWK8MN28WeOj58j+u6zyLPzipC/daHZWpPfX+pP7lKPNA2RgbkNvd8hU/7Fg7VJneR9CtD6U+YvhsItBmAcYp07DeBxgwgQwyojadbhUgz7rqp69g7Hq7CoyQZYsFlVTHlqawkCTL4gWWACajkVZ5nO9xC1ENlqzMkHfPVw0DzjcqyWRnSwWW1ZUJONP8PZLdjEPDLr7e0bYcONldlhc85/7y7nhlcWng7/dmwJnz78YAfCLsds8rQALuk75IYdFFrlNZ+oA0loO/pEhTZcXbwI89bmCYJg/jQaaOJKtoOWYZ/yQrjLUFi6YsY6R7/Xy6a+GQm1e0EedCbiAovPoARGui+Q3DHMtfy65BbrPwPHJ4y1EsoajNMiQ54/BQtx/EKy0IkBeb8sL4ZT+f4CknKeJrx1uH6J/YO/cCNqeW8V9Y7pJG6qv6xRZ0dv1B4HEXcTcWSbRAo7ABdX7ILZvrxM0w9WP54a+OpsHCY+VKoBEK9202gWAzlP6vURvI1R8+pAQe7jOUe5bYMBLOLJmdzG69pHog5TxhsVwhctApDrAC0L5A7tHn7ZD2GByykQpLxGVb2jOppMOrX09Ap9FtYnZ5ZRTgINCUMDuPRIHImsaQAArwlQQos1s8cZ/0RvDdGW3SpC2HlygYV4+lzjjfprjnsvu7zgYirgpQxb+XWKM3k6O1orYKv/ltucrCzJyw601TgBmi+w3V/XGbnLS+aX5h8QndEjUjCHkaGOomp8RX56OEcPyUqOs0Og+N5556eJOwhCvta/mEBpbRs9s8Qh+XZegPd4A4qRRrSC56XXmdA3ecJJOO/b/8OTV5xjMrPz4SSy4R5qGpLFUUD1xBefd9cl0A9DEhuu0G4fsuZnYRiCNyy2AyPHsY2/MtYpIIgTMUKcWzQnBiXDT9gGI8ekDRyvzRwbTgzcx7yKBkm2tF+wj3gmA/ZD8L5pBtz5niL+ciRJAjbFT+dDBJTgImnpU8B2HPQF1DvqtnLnE2aJqWC0syBGIFuhxQ5lsnWVYJPVSd1qz+38IUtWSwbr+w27Jf9/lN5nIsqd8+lmKE8Ur/zdRCBQ+uArHFfdbT/c0I0KIC9TiebB3oh/80n0xP/w8Rba7YwH2ezmnwxif5UeaxCMjFI/u/tHVx7NEXgPMdz4YUhxp0NnFJylEw7XC4hS09Mrtm+4uPMg7WOm10h7A/hLypv8vsornl6OZ8LdSzHCwrAbu63i20xdNzHbTAj6BmCq0kaL7U1L5c245Hdwd48YXM7IALFxytgvoe7X4Q7wSIAm2RHQ25slYjfzhUlgoKOU2u/35/IQ7RmFL2eXS7Ph+l6szRQqOA7DLYzSrKTnKO8UlcJ6/AeVLu7/Q24s28YtDy2Ufvtyl9+AAAD4EGfskUVLX8BJQpvAikHS4KZAiPG/tQT9Dycs7G/j0MHEIRnsDagmlUBnwSv38lhc4AGFp17l/IaagyPcdaICkqlThrOxWrfAcj8EWeFlg5Ob+q5jH9btoH4DSX7IzLNkvv/Mf8Een5jXoHVI+Nd0wk0mDnBFvnNi4UHcPFAUaboSmBHlNRz4yoJCD0bXCUTVJ96KZ9vRe5F5NLlH4OQ+XSgLywAHiv6oN8tCyP7pJzyHvqXrk1tFDXjErgvtFqbpNqYbc81lLWMfuWfGfYW7sV4BVkBVqltuSEooJNQDRDmRAEgNBLMTozDPj9C/g6u6DfxfTJFGoswUOLpeS25rAHEZeR1ZZec9swaNBNu8JENm458MgGSx+8fNXlnd9UwCuttfvcD3C1CGo/nDwZ9m//xp66H152C0yggzBEHIp8oNoW0FACBg9TSPtWt9xBHReVv8SWWN2YSyrMpwBsdt98HrphZ0KCmV8G6CAXuWa4n8qx0kcuBtGky4qJ8aa0CMkS30MUJqbTHEXvoTVtDAYRfFFOwqFkYzGxTFxixPZG9oIV/hkJmz8Ou8PvZWSA1BO7EM/TGGygyYUUmUVoGOG3R995RCK2zoKtXV7S9WgHDqF+YtlfwPHQhW2YBh55qFZcBqYMZ2veNwL/I+WtuSUJMIfppGVBltW9dnD9BiZSnU5/AP2huvHw8zJGt+nXiS/OqGHdPza7rQYAJhMVCwKUoOAJxQnBxzRIkwDa2xucmiZXAfuZyT6p730ZBB4XbTKumYq4PpbuRuu0Otdvj2Bma+mNBNOwqnUkuwS6mxRotcx2DLQPVXeB6JggtkoRk7ZSqXIwSUC+1zB8rgVpjqmxGjm6h9erQONW2uek2IJ45c7xKBH91Uv8EWv5pgCWhefkF3zBIYNMY6repL7Xa/a3l0+lJJD2EqlNOIE3ItMKGtaHTXO/AroWyTHw+hNEWAB2qLgqGzn1KvqmsyYxdERwYymcxl/1P5FBpjHDATUwZ3M2r17H2DkVtfo6E97oEAu33k9NOjkl9Z8WhqQhzT491WMf1sTr0oS83QEgh+JEdGLbeXP8RNf5T2o8hpVsJtdUlQys6gYAJ4g6xjfXZojF/pgOel6qQTCcCTz3cle4K/eaYe3Po8x/PDDSSrsOdia434mXLK9S/8CBoBGJLWg4CwtS6Zt4hVI/D40K8UkLrjMZCqFw7/N/tWtO2upbNcT2G1cBwuK3NMf3ifdTcq1uqEBi4y3vlBSFV2yw+4rlmTx1oiIRxDwXukd9EJ95cDpxYlchlpCIDeBCIJp4roqiXde8ieX+eVMIqXpNN4KnFAAACYAGf0XRJ/wFU2gbsVZtMtTia1NcvCk973jt00J730bU+QzKeQ4+v39IhqW4UsWPBD1ZQIQdLTnKrZuLss/5k6gswmSPYZXYH92Jhf9ldXOjlvxLnFrNscL2Rb+B6uovMxP0c0MhkT0K1fnty1u5ahJHuRAovHj4S+G1tqgxNUWheOME/DIalUIcBijtk7TMEwXsklSdfoC1NUHLeyX3yvEmuOZExNDAiAHYjGgwBKor8uvSrGaBQZMtvd/6WNFxeCXYvA4wspcZOrHWekM4jbJE7L5lEzf9WGOeJVZOWNGCgbYmz82a+0cE8qOPHsmgHwIk8yZ4RpSY1xlAtCGqoO5hyFmVcW5OyCTIKxo40VGmn58G6/1EHOUjs1IHhqFM28CRTnFSk6nUmMBK2DBhrf62MceRRpHVUtUfRYIJfyNh75nNcRlZfY6Oa5QzUh7rCxYEoR+CGfIqKL7rpLXYUnIaZqO5l0Bw8DHnahfEQegtMtXuJiS1dORQ4t9TBEfU+Z1NWAZaIS8aw+oNJzjIreVxBPq7jRkH6L//h+EEPthSBp00trESy9GKP9djiMM5qEQLEa3qqIv+MMOlC/NHV2AYJ0UvSZAP/xD12wwLdCMAP5fipaJ6D5rv8M6ERDvqhmZpQ/cHVZlwfFAHav62XjE02KWGCQSCLsYk3UjQBY3V8qd+/rWzuWoohvGNCaww9ZHYP9B/NTKwE02xl6Hf4tp8KKJ3UzKiUE/NzEQ6JF3YcewaB01Z1zrSIFtWbpcMYislb9yRcrXcQw59aVB6143q7031IufUY2v/ImVmF7IwQAAAB9AGf02pJ/wDnZ18KT0MHmfs8MllMjLA8DZIdsvPORHDtkcPJFvqUNhin7b+GxG0tu8IfZSQhgtViOS8WCK0uAKJD35goa4cBSc/jsGB4XUM8U06AnQJdp8OHl07aDgeUNBs89Bv7nxZ2KB6f35P5GztgFtvDl7djNy2KmPAh8rNdQKLvIM04mXWexpY++F7b3wsBH7hocJqeuFWOd8xPPg12gQlpaSz7Zp9RmhHwcZoapScmg4tV2kXQYZIrraKKZJi9xz8puv9+PP6MIGjkvgtyMPvu3KvBiv4KLibCrDlcCuaDsXh6Gy+n+SfXXFukFvTvKmkVTyW2nvINoNB/jrD6Tu0hc8IsMIL2afdsULicvAA7lrz+TzRMvxFg4mfnn3R9nfANe2pqfZL20rbBfdAxM9hSAuvOPt6s96sk/sPl82p6dhHvL+woz+HuJ4C4cKlhJ5KOWniP8S8K3NBrXRQV7dUR5tag/+6/P+ZyaP9LV0vfoZFZMLgBWYqASrDiLhlUP/wLbT48ZiGfBM9E7M13Vk7K4M8e8/Y0xLIVhdzKBIwJrY+hyvQ6fV6aEQ2LZFyF+lt56NvhhUpETF+uERw2aWOrvhnw+BI9qm7O+CSAs4P/X9V0gEsLamNvFQbLz5Dl/Wr4JTcGt7mfOdKVZQM4Tf1wAAADTkGb1UmoQWyZTA//5EACKSbsXcGhS9gpJ1Xcu2El86CTi1vYoPe5JJsO5TI8y+7eFdSaUGs/qrsNfIL6HuckjDc75Y/RI/pqY63Tm4QX6SN1b/AmzlvHwNi081Dz/SvQIsoS5T87IsacsR918ivv1lk75GqkJOnmWNdAe5tE5PFUlCVJk1sp2oiujSRYMRvFdO/dX4UA/0byBU4SficLR9bubt/GFD+nPV5zUAJk+A5v2WOl2RRp0z75Zm8g4XMsc1YQF33L+GKEfYOd4orGLtQO0QELodEKrB6QgXWM0lZ8wP9jei4moBHtvMNNC3HNvQ+YICtee/w64awtudR1A7emS4gr896o4C5olNeAZEp87SH96u27LI8EtYiITeU3f4kaJG0Y6Qdw6h/+wy5Aro3TwhWfD5kp4t3088OpfkYHlSo/d2PreHJp3HJKW4CTzhruDfgItpAHB6hWImyzqiXm6OCCWJJAUA8/II0mGlXcW1s+AOHTse4MJWZVB+eWdyHO807cHjQKcNaxfOFns0PP4rVIPzasVIu4wRF9phCJvzGHQhsj0KhoDWnuuaIVVRa3fWVnSoqZ/jFFAQrRVJyf7ETJGr3ODK42vOJsfLWGAH+LpVPX3cwkhaq+dkFOLCFsGLRLf0Ynhj4m0a+GOG6nu9Pylnc38tWQ8oCNYNB7wo+pQXkJR9usg+1Qx+/LysnoZTCv+Nz/gdwp/Up6TQY3Rxs/fRgwi/Vpl6dsRFJHk7otsLpeYEWTClqkkreuEknnHlbMeJccUCuSE9xlesyUL7fqZgYjk2mziYKbmXok9rocWoMRHc3aLT61VUFf27M2/2QvBwdoJH6me3dEuKzIWPkbFBMgBcbrVEdlv8rrzrpqJoSFyKcSyg+BLSKs+4KPP4NW9zPtUrYcJalBPQs1g3sDm5xgVVptePFrZEAABq1QhAw+oyALItNP6fb+AYBc9Zzned+pYvNO+Dk13vkhAeCKXodMDQb6em0D6x7MKZEDBUzCr43Xohqq6sL2Fyzf4yvLu6xnVfYJ91Bal4eSnfnYsYU14xoVNHe9Oo9fG7lR/GC6r1eNu1V9bA+uIMpF9lM5BN9RHA/wi36vBcouX/IHZbTood/ghWgtzQAABYFBm/lJ4QpSZTA/5EADDe4vbGHDlNvAg2zuTVqzBzceKpgPQv5q/hZfCcPXQHlfUeFN0E87eioAoN28GrQd+Xl3F9fbDLVrh/yNM5bWsi0cgqdZXmcuiTOdIu7qf/hksnoeLi+XpTe+nYpFGmoDLnWQB7kQDemf+V1IGm4eupw37mivYEpxh32s97gQc3UPn5kOeXt/kdbIkIP24TEhCqQmV/1CRnqoLNrgBf3X/75lziPVxVBI6lsvkz65tYu/pdt/h8c9ZLaLgGEF1+UYjJmRVZfkQxSc1eugJJAQxjViDySKa2GYuHEMnYAUeCSBB1q7B7ZyzrKZSiFeH0494+iIaBq5zLymWB3CCD7atWPjC90A08rJGdr7/94M32XzXyeQQW/tn3yfhL+W2TChK/0f7pYzM/RDr8Zwq/gSlubSk1vFAP00kEI8ib/uxavGuAyt+ewytaeHCd/PwMkCK7WTfyzMmM6G8fSadKQxYpywQdNXWrZZJV+HTobFe96w4R5uHHsmL9d7uvgaqdQsrcU5Vu55ysAXpR+1t4ftvqtVblzcPyOwomnsxabYrOR5SZohQPtZiuwiM5qB+wu79jwAAkl4YIfMsTCFVhRRO+d89/FB6sBYwhNxgODrekL69aT1W2oBnuYlz5qv6fC9KCdl7fCZ/A9aScE/SQ3LgL9nAwkULA5b6eIznQCsuL2CpEkFt+T51xbdVi1LNamAB82aRKlLV4OLz18i8asObxyikza39uuMhgS5fsCOcRJ78v9eeQ5ZKec/3V9bTQ9xHitdJ+huUf7mLdYHBz0RzZSFLreERSaBOYUiuIvrARDFCMVqOn3hnAGyNPNQh32OeDOIPixdQ4zs3nsPTTLBTSuOgENUYvrKZxTo8JP7paB7CZ/gsHZ8G02p0qTXMH63VYOwbwjB4n3Yf9fU2Q/TBgwxsHuAU6DiQIOWxW5vlSorPgjCE4sVeO0b7CtCskWMXOWW/Tu3RavGglT2AMykyxOmcvA/X3hW05DNKmofuMyfCPcBy1EevkOqwKuHmUnzxGF28RcwcgsmeHl96gM6SlVaMONBBdxS2/7c7aIhQ4k3PKNuU6YA7w6AaXdp7+VQ/sKlnEYbTYmgvC6NzKv2VS5oOU9et+ARTlRritA2rBrAdHN90MCEvhYpcWI1K6+GFOt1KNEwv0kRmTu1DPwcHxNNHKbpSp++Jh9IQ7Le6J3u8AvW7Z6nJPXmnYuqF9+tOQUU7Mrk2NOgk+/rz21ZhkX9OEmyI8EC1RvHu3AuNC/RV67Rv5DVc7bQYMUw3q1znsUmr4N5z8GVzEkM/TtKCouhiFDFcTTRvNOmyBH/VF54HiGkPVIsXF6iw6sVhM8jD+2KcpkJdcKno/iN9adtmmxqCyH/DEkbSkrM/TUUwFahQGj713VPqAjwe3/qVLjzKKDGQzn4/J9bs7wJOrCx36t3iO8bL7z1+ys554HJoM3zoVZY7ebnjT70X3aab9XYF0VK5u50KhrZmgWUCTSrQC6PGkVDn6bfh/dNOIyg13MqrJR0mEcs1cvO3QBbEnNcN4bNJDrYxp29it9Zbc20ft9p0GdMpOsjunNS1F7mPJt78ew07erQ+XRLwGJw1oqGlX7tmyIxIOABfWNwMbIca0XdBQrB4XAXPmMyW/dT2sRJCBoLOPcpPDEeopUm7FfPercpcnwumY4DA4nBmhOL588soE63whDUksz8Y+s7zFkBPqWTl5nSYa15o0eIcvkgz0VTfPfJIVE7ck4fh5pw+s4N0iwL7l6AzREUk+DtXHlgp69cioW5IB0CzL/P2wBnNLYGjmGLQSUcK89rQOtA18Zyvtd6gfmudaacdECiOiLtzd+7ih5Ye15POApz2+/jhyMEPgAAA0BBnhdFNE1/ANGmlSQYVGaQWvIvy11JQwF4D4oBQMYpcX/bKqdr2ka4ZHZeSA3EA79EIA9oSrPbjZEYeiCJbCyreKzA0nsBwGqUE+NnEb6QQnX+Sa39sWSiAnAruZqxIu7L6Qu+fxAs/0poaUFtU2YStaXl2H3hFbL/Tj6U+F6decKApFGIbtIJuW1gg8fOdNyHCrMBxpg7RCOsF58V8ZrNmXeNO/6toPciFsVTLl+suWd1EHT9G0WPSlh+zoi8y8hrr3OVd/4sbhNs2voFDf1rXL+FjX4xo/YvpX7eq9yHz+GOi/84XQjhal+ScCndAWKhjtVEcexmit4/z7Uq03/ams4zPEYwEhbjZmlwRpzSbilpoYLi/gV9aYy2nmtLvRKD9jcl9yYMKpTkG0NarOYWzlGGmk2KTOUDE6H2jdnuWgc7XF1ayE6XbQlsYXyhvpLkfK9r0rTbMBgNp/2K9IB1wxWGc042auv1pzNkGBCeFy7KWUVH2Gwv+1EfT1eRsqBrV8de0R9ADrTtiupl7Q6H9YaPZWMXDlL9sLyxJz6ewFUK6lG5lYuWSEmmjzJIP0Bv0bv8WhVWttj65czpuI8mKD8EjH8fvwe1201aUB7H90c0GEtDGf2qUOEQ9tGsfcdkGi/GB7zmQZUK0QB5Ze6Ib7Gzmz+V5Xb0hKyeCMPPLlVozagh/qekSLTOexSrrXhIRpI5OaN6HVn5M2AC2qeqOZxNrATiwLZsimTZP8Za+/bRQ3guUG2+WGXs8RS9WXvSKrnXGzq6hfTCIYhSciQgiYTJyz43BNpER7xJiNqpmPkZQfusK8/RepwcW2+S5rplxvl+/dQwkOKCMcfK9qOWgm6qZsHZwqrjX7srXwa6lOCSr+I/Av75sp+8DI23sE6KpY+YBN0iTkAMfirZsd4hzSnn8qHr6Uer/la02CVjnr8+Y3huzIbDIy68SOoLgvg4NUiy9rT/NqeJVzmdkAB2iuHR9CToYZo26YIRgT9ljtARtrZ0AtAtFuAMDHraREo3+uEf4CkkEZ0NysJizWCqP7zwveJHGSPvxX0WEyBkpISuuGCpT7+/J2e/4wc84sqdVSgmYKAY5WVYoZ1sMbrBAAAByQGeNnRJ/wFWukL4wNGuns85HlB6AUinq0bbw160xOaKMg9A3K38vbh9N8hFP4Oc6v4QtGnjVo00z6ESKoSjWoNSwIexKQuCsmfgXRlOXzaWJnxXI2O9JiOGyGJnZTGlt32dVk70++ZrhNNRyG/MHK2raDVlxfUGFJY+7ve7ICNur7IrLwXUXjVby9nr9kycJi9WWgxq+ptoF3uM9tKjuf9U7KRwwQd9J0iAJAeFxXrWvAA1GrwT11N+4rgkyTElx57sLli52Raqqo0OwNpT8ikun1ByK209KuPQ2znU7BSSlWFjZhydzMjeuBjzhdmwHzFwLylLPgd3zmbmuxdvEB3ylEoVCvEH9smwrBRDC8vCtStYAMQgZUGgz8g1pd7RdS7HOIlz+qWGgxlht7vROUetORqgqYad/Kdiyodz9UrvWGc5WDQpdJL6BeOKASrfLSTM8COOyKlb42qZRhFQgc8gdUoJg+ZkvPzCxPB1w8wGMibMeYSl6eRELkUh0kpGZHjHNYXD7gr2UZWQEPbUe7RBZFUpvOVJu3m22BgQ+AA/vpU33USwP/pHf2mnHx7Mhcu08dgti3WSXwcDXZlJLHr9pYWk/w5dfkEAAAHZAZ44akn/APPsG+IuJssH4+dvUF7Pu4Hhq9AMKNh5BsOEXsm/NWoWIenrvJER3ONCVgg661h7lsNBJyI05MrsGEvQ2aYbT0h0zo6l8qUbvAdPGBprOOge4ynfd7WZA4f+zTxHDp0mOXVl7Pdtj6AJ07JXW6J6mSxfthBjt+516/wZvq9n44gi2G0xtawnwsEyS5fVk9wJJKQ2NhRAJS4Bcz676ybB/syV3UPqmjCnysKRfBv0vF8syp14nVhWRruOcTbqJnrMXJhk7gw2NiTL89F4kiq9OQuELtzXJQHk1Jwc1laH/EIsxcfFqXKAVcuCU/++R2Pq0LGI22X8gOrx8U/9+b+ibajJ5dU6ynkEYNqVrL5a5zZc8/OIe+RIWtJtDGnCsv/8MBJPB2pzNyvyTFhXXmGYuFMeV/hYJ1OgARW15cCiOugMq3yl7Je1HZgD9Zbqy0ZD51emgQEk5dyBoHQJypz1xGHkhJSRwhB7oprajOKfeqrAlxfEjs76TeWmfNVOIgJQFWRF3Ljq8K3qGW8gEpNwWQkElDE3OHOqnvPTHM05kg3W4bBijbDaimnENiOc+C+fWpThpwZATrvO60cuLyBX4uioWzKjww181duM+sje8tJjacAAAAVsQZo9SahBaJlMD//kQAUYnzN+Uv1EjwDXUt/8QGfbOI1bLgq82Jf0BDkk2wohIIg9ml0IXWJfsL+WjFasYOmsn61dK9aV1qjzobU+xyVjZjHbpjzU5mQBq77IBV/8fv5/9vHh3zYHSN+GwGjo8utX9FLLJqao2ixMAIhcZdjun3Buhl3EaWH+Krlxtije7dLjXWijms7I6I3/taFD1laRT7OFwG7jGbP/kVPRq3iNIULDEai9T5mL8Nq8cDCmgDqY01EssyXWxs4pfjYgwAgahIPy0bpFkQOopv2XH9k3ebnxFwE56mTUbGVUPQh4XtD6Q/lsWE2lSlPZcMN4d3UOtxz3G1bpQl45D6XxBXY0FCjldOmXYDBzmPdArxb6M6j8AIKVitivL+qFoRzaxyu7Gagf8wlbaOk1cOE1DCV2pFKUmxRAM7hodvT7KgNyfvOIblglgWgXLwAP+U9qqaP3oH6XR1eXvepWiSErcL0cIhL/ll08zlBx6K6WyTBGEWCgoju1hF4jgeXXAa7uym18f2PbQGxjSoJLXzvuVysqnvg+jBoYfx5JlBz9v7Npt0smpfOT2FVYNnzHBXDOuGJ11lFvxMPRQDFzo8HRpOtQgtZY5qQ+ofDIMDtHTgeCxn/UTzyS3wXbu4WKaRH7wtlN3NxQIYjMBmCJu6KLC62yR+0ytJLpHmN3ZdYrXqX2ZWT5P7KTQnpkBvaeGIgtLMf3GgXDrn6lSQ+C8YifHwNaF2HgBbtW5Wy+XRSmDEc80wpULN1E6BdRm7rBaBrXhIyLquRAY9ejBW1OwG1Da4Hw+vBSSXSnVdIwcj90Mc2IPjHfVHzN+7s7XYFsCmKC/QYEpOSenveC6USy4Tp6Dt/zSE9IswAxdTsCVZq0ZAd3pQsYNxB4Ibd1IAlZcEfbGnoz1B8EtXoKzBqGICWb6AVate7z32Ux4pvS12GsgSvhHvqoYsWxiOJKxQJoo25i+bdVMN4MkGH3ZTvztysXqtLA6xJu2MSmffeki/vy+E0qBkPbGDo0XcWl5I+OAbPpL2scdfFQWqFtFo4q8Om8T9S1dktyEHILHVvGcW4i52EczJKplDyrpBvz5vjsEZdv4usPZ+W9MLZgw4TUJrvS2QN/ONWlqyux9thVBdyckRjQeDdNK6ZrQrgLYdG5iuiSWohjKsPMYivhO8ZjML0+FONqC3GGEO2aIm9BQk97NMRFJVinNvRwVkMMXuGFljs5WdCp69z7OyyiiSLBqGlV841k8g9NPN/+hPRFlGBrditM90B8tE3oBpmv8HugDE4wiZAPZ368nKprHuwYUbmuuXqVcHFkyC02MsedZcvHBJ7csbkR7qcQ5UPMijbUN6uxtMN1OZSDzk6dT/SWxITv7nMQ3BLyY5LwZ9xzvIJfST0WUEZtXUNHD4Zd21e887bSi3ZE1U7Ow3vJchAUERggp3sCCavf9Ww9aAkaN9VMcpU0tKW65PfqLsScgAnN6TwFYVxzyGQKWnKHYMHlthlb8odYtXC5MGaRggzU83QHsiprMAofmUwnpfUO6T6rg4nCNg2sDfVB5+F71CVItl1w7H4xbQZhd7T9DaILI6KxAWn9EWf+e+OY+oITT5Ff0orcHC3oGcrOZ/g+1ABDBm/DS/1vXZ2dQpEgDPv8T/nGOLK77zN6B6jmcRgXJINi5JB36U2ybK6BM6PGMjZlPSroCn1szTMLdQBbAzGK07C7ZFVwX1N05s38lS3yRyFJbDuMx/Y1CFbrlzk11G8dgVPLD5vSqwe4N/onvgrvGw2eyBs5KiMqFePkQ1GwqvfML0KXVSkTVWSmxKHE4M46+31P3vU8bte+T9kHtm6PpgcRWU8AAAPjQZ5bRREtfwHmQu9fTGvdU3H1G1QjMAdDYcfIw8EDMdpPihe4YSOaEz+ioM4seXlvJKLrgm3kCKhETuied/lytE15v+VBafhe/kUQoHaa0r8xnCrggPlEy2Gjn3/owo7wXpjKi/ktdNe9qOeOcsQsWbF57QXswVnj9DWbhhFJXRnuznYqdtfjtTZfAxaL5jFy3C/KH4egYBFMfK/yofA8Pr+wlMJs4S9p9FQbY7tX7de9326N8XRvhmj6O6Or0D3ijj+vZCvsNSeCP7O9ofJzFdTpgj0zrecRhnM0SKpNqaEIzi8FkuRKcziaotKcHfEPWwnMZzY3X+sZdUOzWt7MvorCFcFJZsZKRs0Km1+/ZBRODhIrXO6ChMuksGIk7me5t1jkCOqY0krYvCLEYLZBueh4IXAw8h4NKlGSmC46XYzlL1AWscnrlMAwQ39BKMYXw9UqhkxwZUZaShzZdV+C+Y9niPw9BIyX/UIlEGJHyRE4fITyxbuRvIXGfBGrU5FG3STWBWpo/6ph4Wss0d74f5ms3syilYCG9Q91IZoiSTJuyKDRxiKVlbvaVlOKNw725qnFlhegPv2T69HgH+h1f2EfJnzGU3bXW1xhhDA8coPVkOdcOjvDSvHYT/I2A/nl4XN9rDOpzx1WFim1HuvqnB6kM+yWFWcnLaMX7nUJED4LeqvC6XgXqhNYxPorn1jm/vWRqnRCDzVAJAOh3o2KKD3PqSkLN2WC+UcwHRGy5kr1yUEBgZ3NJsR+JOyuiv9M0g27Ybpt47sy5g2/qFKOkU8xuRpKpR661hUwBoONADptKkYBztURDG6sJU860kpAbxEsLW1YGig+L9fppCYUxEM62AahSZrV05GrEhZ+op9U7z2ucFr8r71UcP6bIKCH8Z+zSMSKUQ7KHvQozoIDhjbh/mTpA+0Q5lk5sSZMKxwXjCh4FJsiV9Eg1HMf56l6uK5qtBHJrZehN4Fu7P1NJcheD/Dd/KIDFUHxyfNF+qz+67etrQNUUqAcEYXFg6cXmRVMhK1m9R+ATmolfzFwnC2FUaoikWu5zBc/P6y9XEsYgKpnOUbOZAysI0MSpDkphUY90c4BtmIoqBprIXjlpJyfpcT+zdEFMkkyvYkwn77n0nj4JvtduKwU3a0t1YJfe/RieN/bAtTjkezTWR1U3WH6YeNNscbyus5j6ZyUt3krKpzLRZTyhr9pRz2w66gtFd+Aj37LInDyCFSmv4DYtQKfdpqHHa6x+lHWeI9WEs7JjEzgFZ/SxSpSFYwXS6TfcoBMZyjtJlE4SP8X9WZ+fWjJQRwNT2qn/wtL0yazXpXdamAAAAKhAZ56dEn/APPn8Su3a6QeVvbdCRGV69+9LRFqrdDqfMv2uz0kLCGVX1koBIgQ4IkdWzj1vq8WymH9abdpmvPcWtfwjqKBHUb/rQ2U3KbSLVlkZ/p2r26aW+BB2Lc+RMdzUuNqZVvc/nx7pJdTtpPU7SUSBBScJqYoGbDvvzinMtghrGB2sePvbwI9PBZJjiLH9GeFXcRCJmF9zFhHpcyie8gRrZI2Ak/fNaU2Sq06DYgutfaDoNy6CpWvEc7v4Wl+hek7l628bE1+nf95aQR7Ki5LPae9GMWaGNPRiSSBSbX2AUqS6sjU7ab0LDYCI8Um3U5lM7d7ExLfd8RjKkAqFq4TqyUO9ANozLZx4mBa5Z5jJ+O6COitnolaHe/0z2BHP8ngpU4cC5RE2I1x/QBz3rrfZVDhkv/OWcxezk3fziEA3cFKZx80biEHVaJPx4WL3WXyaLyOIyh2fcXFZD8vQyc+dSnxZeNRc6SGwjOmX7yBAkFGMkwHw3PVLyJ20Ay8ttljCIPuaWfoORnrdhUf/oNfrot/4TasDVH+lBEIxmUnBe/L7BDbuHlLR9aCPw+X1NLVkDA5+8TCP+9bi+BR2xGt3d/Hk3FXrEtiU9nu6Z6luaFSVWv5c2XaD4mxZbz7CPE/ppp4uc7l4mrI13GCPhUohLvYawvg/dh5VBoeddbpZ0j/NZjgOgw9A80WAZTUbRrIsZvJbAEKp0WrEm3aVSl4wPsEu6n6t58XgMgDkItNVmO/ISEjyiC6XHbHiyYKuAeQCnQiENkJMCVGFCLRUkeaP2hJ85kgPZ3WDF7VIFZjGmm8hP5k15okazXN5NG58RXIg0u3NuxJSrXvXUj2La9xVeNDF6XT1iK7BpxX0nAHPn2ipdVXAwvZCL3l7IoQuQAAAqsBnnxqSf8CNj2wzzoHyosGl7mW7gx0kMlsGDV0VBfbsziR6EWKtiKw+VD5jG+rLgB1PN8c6nDjuyk/CYymcgCeeicMFmGeZ7F/u48F4AU8KlrOPmax70VP1sLHF42VzI8zHJ9pnCIzysIskWyaozN6VNyu3y/zFHkE02zwJqXdWMOAPLyCp+VhhSHMs9awA/VM2KfZgCvqJcERP/V8UbpOluMCEc+5AyX/0HLxXP0sGurrm3HcyngJipeqn2sgTu9e4GImoZZiIseZ19DNZZIiKA/5p3S/Tkodqd5x5Qp6BrtOwinGHo4ayc3aeLkYO0Li68g5cWekleJELGkv+ECUdf+FXNNJyjl3ZQhYSrz7JKpSvC2n/ztHuEdOc7Uf8k9aw+ljO7oXiXg+WxizkMk+dioupPOqQ+LrcoydBlKDfm47w2OY9vfuLoPaOS1aNVKNpFKj6XLxfvreC8//lMswe0LASprYceasEPBVY2guv1X7sxqfJwuKmpTAWKazsfySxANWw57Ks4n+WiWFImYY0sVSgFXkfL+sEAmwDtL+x60zpGv2sCpOaR7uwHL6ExCdZoz2fGUCgZh4X76V3MVqb0ZSpxid3FtzP2jPfcttntjs4ev8QSah7XgQ2SqwuQHqEe4V6kcCgo50ksN5smNBURbUXrriHkYb2XRMMLY++bly9VwIrHH5K0vweV41pOVkGA+Hf1HJhp5+y9ZMJB8HNrCltRkAMThe1pH0DJFt/Jbz+8OLQc6IgzZfEdwBmaYwywLTdU+E6P2wraoqyGHDz44b7MiwhJSv4zHULDFzRCLgtws7SgIRW+5UIAPTbwc7ldei6kXKKHDpn2xHFQdBwE6lrUfbxiNxjfsPyr2sQDRoiV5yGCdOlZoFMeH7ldUIOkqz4h/FoK3RgQAABSRBmmFJqEFsmUwP/+RABRv4Ed6eApUB1cEaCGDnT1iTRnn/UX9PALOvN0/QNSyJenWYz2i38ee8ckT8/3+i406bvemi+NPj+DjsJhiOldXDxoN78hf3WRAr4xib5VqDJNEDAW0OrlPqti3khNt+tQUDfLs5tM3E6qT/YpG7n3+3TlxccJjv1+5Z/MRR9S4GA0o5EE5IZAJM+Nu0et9KThdDOSOTRc79J25D7WYjkmE2DV1d+AIWynkTDMHSXjQ+QfY/rEQanTLpXMdDhP2lnYqDpry/tsTBS6mBQk/gS7AMxyrW9vc2SphNfKhci7LYrGsieEJrfXVOVy3Be1FgtgQzhz4OyMna/lfUIo+1GXDj6kKEmP7tYq6uvWOATqAio08gegLanhEDMFHQ4zLFuogOgJSQZ3G4BOILjN3Mk/doiirpFAgl0IEwRs819Ig1nSQFjfcqLCf6EronHlbQ8pbmpZcPVLFAPWzoM48HMcDuAx4rc8gm6496V57p0feLsA8gwmf9jkq4aayzKcrhb0dB2B9QkF/2k4vAfYklEyukOo+ONS1l8von+QO5Yi+5JtT17By4DVc3XJhhq3hfrxPvYeFOcHEOb+4R0twYXqtDICVWMgkx8ETRRA9AXdbMvam00NwkiTyKJ5yFAA64emrmlNOxLidOCEpK/lMjIKSzwCpgz8iJMQiUXDt6LUCHUy5DwKILzsNZ2U8Fc5V1JOh4EStlbd6cvJ483Mhjvuo/7iVICEct5p/ifNOgmNFHOtNkFFnhIous92ZGKOZBTpJxaS0CNwqXTRrEr9m6bK7LbF/afyQ71O+clS7+cb5Q824lqyogqm7IUmgw1mreQr3tvr8V5S7zIShjdqz92QiOLUDQpak8YQm5iGtcl0CvR2UE/JnMmLBCF40cjDcHsamjsef7zZ6zLJksZ0Mn0c67vMVciMXVFkUts8ECKsWaew5Ok9P0kOQvpMPy1MJyIbde/azea7xmReWU+Zqp8qn9o0N9NnDWSN0yRwumtGmyN2z9iUShuH+06JcVYURaSF/wdCiqRUjlDjnuJf6DnpwFb8UdJAFcMrchrzNKh+tbzmcDv/3LOxIyfXE/ompXXYr3DutgICR5mCVtMxR9d6gXi/KVEUngvzDkKHlmXAX6KykHFCYeP/quwzG/0qcMNVu4WLxUSMrSVTjgMYai9KAPhLuOLa0I/MsKeWd8ptGFfUQsBid5u8IyBEihg2pN/Dhh2m3LSTW5Gwe1bXHZcKXxhPp0VkpJxW/+g+jJlMGi4c5iO8Sez0fKkvaRNcYdBNY+mu+zhrTR0TYrlcxLLWJ6zvSwYQ0lnR8guXg1KnxRMg9p9B9JggW9v1+jOLo1nMDThCJAbamffE0/rznHFNrXrOQXlhhlPjkxdgCRQXHfy9j2Pf4H+jaN200evM06JO/COZr+pHxw4zn8zRZ4pBJpazU+PI3xmt4rnDjo6QYQ+aYf3TEsudZtZkb44zbzETY03PTohPfdxnbrJ7sIgeH/m4TZeXhvQ40U6lX7CS0cHHlrXOfhksRoZJ6FosHQlSpN5CjgdkaRlJSSif9SO2r8SyetppeX0O/73GotL0R8e0a9E0Lz/UtTlot6vYTwiB+XOxPUl/H955qqptcrdB4EDnPcO4yaW1JH3htxIGb5x/qDmMaaXuBuwmqJewUewuHmXtya6GU2fjX9hcmY13A+Uz8H4Ij48pZ2UX/oHkrF4CF2d20E/ozz4VIfOi151F/trubYgAAAAydBnp9FFS1/AeS85v5xg+qqX00ZEtv8gt//UDOK1Og1XNogvVRKyTdzKZFOScb5P212FzRtzvsVyUZ1HrRH/9Zk55jVnriI7n1dax9CdQndh2oZa6P0Og0Z1e5q9PxZ2cH92uUVx3ekIC5UfPWgexUYFfw25+lkkr5sWftUmzX+UCaywzQxK7LJP301z/HBP7uB6tmhWnUA8reUuKzFRD1y5wmPI98asRvx1uMLDbedTldMOjVVZD4LalVw1WP7q2GiY9HgmLlaQJ9FuNez3ljr+PSLpqTYlmrFVK9BpSPLP/KlKa3j2lNzy4tym68ufOKKw8fwbvR0spdh/hMQf0CkmYFcivvXPNuYdXGPIXbxj5DXbjARnKRDr//VKluwCxq/q0N9FQDlBoZlnG/u8s9DCgMgNp8g884FwLQ4uuYYSmf4pbDtORTUV458E0/FdqIDIM190QwjZH8GVbeEOBXK2sS+4S6S3iCCEq1hOJ6fJkhCGe7AZUzg3xQqbwWj4HBlxOp++j1/5vxMY71fU0GyhT4tMH/xBfTs3P2bqH0RQd1wX2VAY3CrMryEmlfsJfsQECkjA9zObVD8UcZauuEr0xuFdX+HJLQG8KsaZWqSeTsWfBwszpNkAzQ4bYUHgxF/0tIqQyJC4PWL9d+iWPmgweNfuB26/QMNTw6WgZrFyIr/FbPef2QtUH6r/qHkw0f9xLfFXGIzAT03QcHWnIVGibIWCc+fhu9nTR7+McsQufZatxDb1g8CCAtTOfmsSHfKuF7rCYZxpGGc09Uo5Hvw50PoOD41byajV5Utx6qCbk1uGVz4i8BO/C47ugUEqOdVThv3zTKEtccVe0YJaXjPYwjT3JdQFOpcYcBzH9IJbZxWUkYjmmUJr9vHOivMw5cRsvVFWAE4MYgKgstYJuoZfps+fLT53bSj4giuCWMfABRVdpO1PqkABtl1txzNBuWxUBi1qGjzzwnI7U8ztOIkRSzthDEdDP0ES3gZKD9qqDd7H//Fl7etKxoox3ppXhFSylSc8vmcIwLJuL22tdGPCaOFI3pgLS4PAOUHfqIlw26zSVDiZzgAAAI6AZ6+dEn/AVa6/qchXWDoITMbVHItb0knYFCkDwvTWMQF5HtH3eX1nWbpDpuDX27Z1avwd0NZvBQR+dWQLFa4dvdiu55JYla5/7Ew9VDshmx4OjiN1hZSpNILP9HV6ut16axlE7b3wg67BBbVCSmBNWRd1FoF7XwnvaNPf+beUcWfBMFZI9e9IBT5IpFQQiD9NBNYJvhDaO5fuKipOl252Ki0I99N7++pIPQLxukXih8iV+8CCVSP9v3a4OmM0XjuvuDgRIZmg2n7cwulcCB6sIsciz/ytYOtowXhn67NgLVlMUY7dtrRm1yTvMRnGySqnr2EJZz19CVkT7PzJFOUtpiBXAlsOTSPHpFRdhU/R+Edge6GjlN/uP+P0Kf7Tc+aGcLljogSB04d/B6/ma+UCZHY9zkdeBhii2FSTyKVUuTTRX6g0IFO94AMGHbBOEMfxEt7Je2Ny5hXudDGBT2umgz8WIp6Mq4bIftEBo77k+ejrE+T0JmTtDRNttw1vDpDH8nvHf3GifFUQin/dlE+XT2xUEcGIyCvBE8dcyhK4ySPeZljczWbg44HdSZ5qKZgL0SeWnjYxaL+3ADKCvyEAWq8z18seC5nNvJVOUQosIUqQgn4wIbMWbIZQ36NErrk5+Gt46QATsXf4lC9TQVkO0gaTdI1L5/tqCGsOei0cXQqhoU1u1S+5SI/IjkftkbnjSz3A22eUKTSn0KCnJay6QIFtp2+pTVFmdUdHbPTSJTdWQRf7ItLmnVZAAABtwGeoGpJ/wDy25dQVC0DHl2oQWUChqephCsaEqvl+fEznF0dJaTU1AfVOVzkjlqdw/x4uB+KA9+ZhZvV++5AGr+Ic9NdtBMrVeJL2EZTesxgsadZHGDdaPeLzof+rzHaNQMO/wu5Pwd720Mr8e7FePxc/lQYKMaEh625mxQ7A0tPuuuivu4s6TWKIJ7oRT/KqS9x57oViSxDn1I0DBARNlos3NboBlmVFfeLZn0ZlpX7+CXJn4XduT0YMP1NtVvCnJCi4paeA+UZ6LdGvd0fLoiVzDJNwRbf7/HGp5MjlYtWpUnkPcJT+O19G+Mrg8zdkkkvEBCLvTPEjsUsJGWcWVaZ3NVs4Rq/8Ai7l9rmdf/Gwb7bNu7DHQDrlVr4iUXu6SozNJlUL9wDAft5YVNwbH4tBrH2ZZ6TcyNIs9/Q5rLsuZ/mW6WLZSCuzqam7ZEYY3uvhs+gXOAUxI+QYWxMmktozKsAR+Ua2LvPprrt3fMDJFq0lyzvoC7WN/wv9686n7t+hQLc0m4gpYO/wR+kAiRDFo6f6OYGhvTMAe5dWrAU9c1jZwncA545N6FzhHQHKrcSE+2YvoAAAAUTQZqlSahBbJlMD//kQAMRMUHS/6PK5SyakzE5DjUgPAYcMh+rXLqZWTLN8wtPkif0svl+24pGc/JM6QkUA5uoiqHp69l12icl+rWTo4JzJRU0o9u7T3+t5IMiRP4K5Br61COrrDI7V6KoluKVki4vxU8L4DWimvv/llq0MbcHvVIhX9DMZPZheGaO8RhxTK70pIR+uixlaK9ygTz0eAtziqYfUBIFw5BlIQsHn88WvMK5CVK5cvscYKQjkvlu1bk7UZTLt2IxsZLr4Ct4I63zmtczAEzzEpQhymm90aetynWjRnFja3VHvuyY8egIpQ0lMhVkd3TSWu6F+5Z3WLFjRqmlucFL9+ewH+4F5mvBRUYfQL1xz6v3lFVFDdLbbAAUNF6+ILSHye6gP+vPVkTBCMrowHtgGn6IEQL2HF4EG4p8BnN8rcUpbV3XKpFvlVdEr/JmSzyxwoC6RWf+jweeby+58MGnEdy1Adn877t8PS0YewSYoIebH+wBBYEF4E31J8r+S8tm3+oePotNwo51niur5m1HI+0EDj3h4Z6oX+lz4bh1Kw3Sl1endBbi2z14UcDv9sjrW/oCDfo8WkzKTtxUGFDwWMdXlI0VL5EpH/nQoGh2dHEgK0k5nPlolLo2101e6uWU8Wr0XY+zcEBdwDwezLLIsURmECQtGo1Bddk5fjAY+ZUcCMptlbCGyv0zE36mEH+t2zcvIWxvBjS/5TLsbLTGC2R8oJptUBTbOAJphRzbrtDLLHraO+BoRH5B4pv5HV/tJS82kSaLkIQsKrmT6XDRtoKBAXdb6LKI7k0m/xTpz+2ClRenj/5dxPgcY4tp9oL8TOcN4YWMkro159R0ofzMt6mFhQvwmc9wawSeiHnNWZCSOeWxxgwGkpPmpZD2Q1/h0jh9LQWpoNytslnibMskxGazk7BW7/QAsbuiYpcfP0l3NGUrRnm1FIfL7jmYMxiUHlZ+05WqeD0ZR5Osxhn1afgCnJp1AagSBam/BpsIuWMvnHuFeXM8oCO8H0J4BNrzh5Ra/HjwiRb7M6/jqf7QCrbydZSWUc8Wwd2M4B2q2OW+ZrWK6+itSQboo4r+G9v7MrfvCwoUYKaWZL0z8CQmgx+K92jNNvdYXOMbvf1o3jJiIXIqoy7yiOn7EzCsD2ddI+iBwK4AmVtOIgI+62xUvLnXGbCw8ar1Rk2ddPpOGEUO64eWHQC8iBAWsG2H2IyZ2+QSrK6E/9TExnyWcRXER1stG5Wj1gxP9IMEXPwFrXevzEjCpX0m2CiPuP09lVBfnmA1juzDo+z2fNCwgu0RcUkCRJvGAHDL3AxNH3tItfZQ+O0sXjJuUJHZWMh7iCIfks5uyLIWzld5SKNCxusAqfvffzTJUld6RLHr0bYoYpjCkq28ThmSTt80o0fVw/szWOlsEILoIzgp6qcwJq9r9ZffFMJjjDNue8YeAjDkNUdl/dB+MF9QvHrANnCK1skMkFFv/38C5pr29EHAllB7AfoEyWldBxalwTY9bosaYu0uEiKZZeOLJ9tfUq1ep0HV52CsfB6vMJvZHFYPI/HkT/LsbgnohVlpqpwYzaUi4HWler3YbTIJG1Wu+5/5Schmss3Wt51b3ifYPFQCKbAOgtrtapm5qDhFGbCCLS1HyJQylBAv4FxPzb3i//YonylYz+u4J0cqJkNkYXiXlDSMMn7Z9SMdwQPv9GCMxmSL5Lw8Iu2SvVWJHuMXhS49AAADdEGew0UVLX8A0rbOuZi/lByFNtvEhZFLpzuPWtH+y5TWwlrVMncBOhr9ul5zmzEtiXW0tYZtq5ZTB4IBNRX7laOhbSWFYk6UcXkxh4VyUOvckfO1/IJoK5Wdaah+T7at3CQmQpGMnAqWYYmDKT+pXbxpWEZARK5QKlLDT9ZOp/9d8LhyCU0veA+bVASNEns33yomM/rq32UPjjNHaBTe1Au+fM9M0ZhDMs+oP1jVXJaZ39x/7szvj6dYHc3BnVKjLYP+ow7UgcJyJNVjIs2+SWiRDb9JNBtuO5TCP15GDFpOg2m1CNiB4wYZ9XI4nJspDZ/mNFXPt84o50YQL/HZqi14Sn1g5heHR/ita5CfknB0UH+0j5gPJbSOuqiviUHTvRCd+z4d2yvKCb6F/2POafiw5nYr/B2ONJDVmLIAlt9gkTVmxr4473SOK4bGrj0whrYU0ZDdpLbWRlfe3WdFl0zUclO4IRwONfki9KMkyX0l2yCaA4/FGBpkeKmaeJSDQ0krfpn6O0bXad7XoblgWpelq4XBiYNDU/qG6VbIE9HORGLp4cygSsncmkWTyGqwkFhUl5o0uCJMoDGt5+/3BmtvuS+ZcN8C4/f84jIXJR3zX6oqepVP5ma4vvKeodGx/JGZKe2Zs/xy2MjGV0bc0l/Y/c/7RwMlWay9HMBs6RNMyd1QtOJssmBUOuOD6nB5ghIauWyf/533JcP3OkQOoCUvnW/v0eQV4wzXS4yj4mnUnB8veMREtXgT9wBsjf4zFIteS6yVw3YyeDtQPBZcdPI9Rri+TS20GU8ibdK4kX34iTuNhAvjw1RBU5BwBa5U3pwxFmbf8EefgS2P4/Q8zbveyu0U83Il+8zNT5XVrEWDWZFFpFmHfogU0Zues7MaMXKlCyDD7bCdsr+TUekmIEVXkhtlg8F/Sp5IpV6Eu1zkkVBoUHpYfoLkcnShe7jW8o57nZ0QZyZEag8/bKiRZkvD79DxUjGExQdUVLZ0e0SYSRU67YOo+fAUoD8J3sSBzJtdYCBaeYuzSUsQtgf9bJ3eIvkvG6WdoML5njFgkFcvmFak+RXZGDFdppYWoJ61icPz9YEVi9iiGiAEIGiRb6peyf17FJGEb3Mioy2kikNGPWoXuHnU0ncJuRz2myZzv2r1K9HNSiBeEXonS4t9mZG71fT3AAAB2gGe4nRJ/wFZr1ia16LjMw6x69qjKul4z8oRFvl4x5W9GdzTyQevgslmivmrN5TlM7/JKJC2qTvtt7/SeNR0lE2xy5V1O3fG0rtzbNUezv+k8LELUcYHILg+8vKomwSC5BKptpf4Wvlzqo1eJP6/9iu+QeT66pRdUDSFY80no3Cj7X3EswOjw3TZL41Y88SOgNG7jFHLDcozkuCe33RqsdFOVKmoimszIj3AbSU5TN6m1dMujS/6AWKPbB44g9oCqtcvCcB/vzMhZVCcqslaXXId7sXpJOC37LAHMm9nCcE8gZSYfPYyE/FfeIC/94JzwuFJgMlvVNdqG5VrbgXlgx0FZAriNVZQPUvQ3wp3wMclVHFhtxTI5AsM9q/geMkhjaynOm/TiMZf9lmG5ffp1/mtS9d9okfw4MIWCyWmrpZAI5pefh3aErVQXqmHDnnbjbdAQ4NOkZftNGU/KVBlWBD50WYqHI9pqowrFmMCKYGxUEe68IxOW74sp6vflDVcCRlP0GF26mdnsRVHBV5TMdOopHmiujmEFLKNxuWc4CKeC4DFqtlP+Qv73GpKHXuAxrEHcDMHDGlKrKWkx9hBj4C+dEmKV+QiVQEoyDj4HkYf7wWNrz6/UfrtcQAAAmEBnuRqSf8BVm45utn/UlmpVhTv4QqhwadFp0t0YHCw4XLzEwfH3wo1GyHdk7vQINgcEtuPlyYqs+6EC4hr1xmq5n0T8yyn/wCma2c+zNV6/vVR2W+t4togToo41V7ICFFwbuXt2P84lHpj1La+/WxhRB730OEfhFQDL02FOdTtOdQh90F2DSdPo+21p9Rz8zjupl6Jfk/jghEFI9Arfio7TsPU9Dw3pBpn395vaegPZg9ymSGtlNmtXG45GFU50ChEZVJn3Gm8yeeYOiNa5ol5zYPTg42O5Yt8eK8mRoq8isQC14jIBtqIj1S8TDq3K5qYrA27ZxEe+KniQE8yX26dbWkWz/DUJdCo74Ps6O6YvqM5egfawyrZOARs/mgmGxxO5l83ESDYO1Pd/BFPoyI0nGtvGMwBP/Ub2Yj9f3/6ETiYLQO43Ti2DZZdszXrTuGn+EME04gP6CVgBI8y0FUVddjYhyoxYtVawbrWtj3p++zc+RB0ULw3gs08k1pP2UNIEEQKU/1sz0NRnvyVBaxex4VhMRpNgkaezkGmCjxtQDKP7n/HZADIGmr6hY0IsJ+65OWHZlp8nZIDUR0hdNgwX3sHjOmRwsgwQuUtxdmp1a80vWkfMJXIM1ZpZfRLpfOv2iJ++RRMqElXXEGJTEnYURis4T8SnTwref+kOyryI5o6lthBfrGy+yFEkijNWcbzJ56/sTk9I+yt16d6lqfBCB9GfvW6Rf1fouYhc0+QfRlqeOVN2SOLz/k7giJdj4K9PxbghI3XqsZkx9f+Q6KgOK7IpwMPaxtFEpRqU4oW0tMAAATWQZrnSahBbJlMFE//5EAFGKOv2VIyqvZP7mz/ZaNkTUWQSh+8htTTEB4/K1CCZIY41gEnFWItrrEj/hlVQ9C/vJVfOmUGkLjN7ULheSVKwks+G8cLDeh68mA9d7eP9gBLGPamTCqNH0zDXe6n0NzD8XZXnY3qBbE2DHUpcenez6CG5hql6r3s32MN4GRUBEl7BG3x4sgRX7147swBVs8uCUEX/JzNtWaXiD03jglOT/3JeVjk10qq7sY1mCL3jMel/CsGEvc5VmcgAggo+9JCR6F79KXEu8+pTGhLVEksRIk0nbqVKr9Mi7q9CdbPW0cc1ZzyAZ/SmCK3lMth2c3H+ir3brtOA9VDLzg20rVsjF+/94cruBVRZMg0KjIC1TJoEh7E3hO0BDeNJza6kS0s7DwG4XIGa0qppPKIllVfBtPYq1PQsTmO9M5vNf9ijbkakgeW/sqWEtHS5d5yRbNFjR0GYKyumXK9Yk9pm0fHFnbJx62RxJFthNeR6qMptST/zn1HKHP3+tYlIPhafvZPNC4Y/UWNZSuh+yNHFnWSz0z5Y3gyaH+KPbPUR4n82UkQZ9qSwNLmzhjvTCt2phQAGwlvHWgvW6qW/QKOU0PnOaqxQg32mv4TegscIORu8C/hsqgVROE2Wavo7q8p8HoGbOP27B4NfB7ucAJMytWKdLtEnegxzFVNAqLWUSXioV8el+p+XNhEhsLbPTMVaeQm3D+yYNr37LrwEKS5F8GgyLkX1XJ6ieXkvZfNuCkXtYNiVKckNO5o6QateXBpWS4tVyIbsX/OpIC0xwZHIF/7B6Z7NnrxiWA5y50pYJv5lTwQ/TrwRL4SGpxcymQZpFuQJhLSFYwA3RqhNM+5cmRN0gmnyyOXkJyB9kvKjFIet1ftGeLpoAsfHwdeZeboZ6mDUZl/iRQ1eqpU0CD95PsQ5y6XJVOHR2SV+JEp+lh0uPNhjUq5+wE+9fBySGxApHhMwKwMaBdgtN2RrXBh/x+LD2i8kpFQmvtueeX7pBnAYyj7WbSCGjq51+oladlhcFoDaHyT28e2j1niiYfj4xVwH4s3zaeWYamA2SUFFUp1rjiLzyodxruG5ywFq0GNmNf1JsNSueOTNNrz0xncqO5MoT+nurIsV3HHqW7DRHnx3ZjEW656Im4hTo/ZfRhq3tu0senq8/bkv/nRnV+ulin1Vk9WYaRoehhSzHb3oohqPcBpoBq/FtF3G7KyzDeH4mjVmvnB9wTfFrKiQmactHheXsger1JWMzaHojZ17+wEPORLnidggXqAGB3RRmDtRGQJbnhSZY1z418ikBFuxitE8D6EArfukh4ByX69WarVbQIoPJC52eSxBTPF9YZGNgssDxRyDCzTku0CqzLJInKuVU22/rmClflOvx/34lKkR68uAcELMe/Q5f9xXAbwCUgtChpGka9cJySUj6xNYXQEHbKAKjgk5JMBY7p2m0VCD7eW37GWMQTxQBplsN+DlZqDt25qsb4di6W0MnwqeomU9g2fKNNSU7ScovQGIvqx77Rw3pqCgqdE0+u3OriMfvV84RoQiwcqnxM14Ox2hjBQzP2iMSgFaeqOKN/sRuNhyawhwZqeWJkIgRJbc9zmCNq8NykqZzjvSXhX5xHvc5AUG/R4KZgpKIEAAAIuAZ8Gakn/AjZCLfURnE3ODxOfAvOLnXlN3To9WPt0Y0xGhPESwsv4Hv0CVgl9Jp37mCjgpW9eLe7mx0Pp6qU6ENRf07s5RzmoW62lkQF4Fch5aGYUOxCD4ZRIapcQMbh+ojcuWeY+L5B5sWveOwFO2gp0J/H4R9dJOMUnf4E7p070GUnvg9CnumuM84gD+KgIFHYLaU/iQr53LgV9pNAftY9x0fbsVU45iewCGpeUIzEtx2u1i6NTB7DPPWUUYlKdHXwC64/h7e968G8NCxfnD5G3PdyvUCJRBMIIiJQ5B1wac3DbKyf/PYZoBX48i64r3i7W6a7ylUA2upgO/D/dmcI4CLEi03F1wRwviG8rckByKQLtYXwZUNLCe1ermc5vRkGyyoSzqtux0Qpch9FzCYidD4sxS0BERgJawYnHN38ixYhaBRYcIJ0b7EBT890d0yVQ99fzsl53pYCeEgs8A9DSO7OAeSzi0f1rg64fxRE2VOBF1m3FOQiO0INgULB3Um5jYruG3F1J6hH8u/wMlOqxr0NGpKXY5Ccfgq9L8QzDgpZHTjh2t1+zwqndoLG5KfPqoOKUTARedd/4FYzAEXUrbccaVCkiLwodMjdpRyB1HvlDFkERw7KV8SvVzL74USgrLOdw1m2z9jnkrxapgQSi4z3hfTqwn158rTCL7Nm6jCbB45UjVpYrf3SONUi2+cjg0PcuEJcmW7rnJpCv34ghlX5jXmHyqKqpDKP9AAAFBUGbC0nhClJlMD/kQAUb+EsxtUEweLeo77xMu4pf/XMdgx1GKB8l+urK+DQeItK6yBWqFBouMiXqZFmE47StNI9ty76lkx2HpKXsYnBpnB+tqT0yB459fXQYUZYw38dRyMelaBa6gmsZpPHgbl+0zwOCxh2U+4CB3hBoSD4msutMhTVoWJV7u7qKlAC6H8fhPsTTTssJzwWaaeAHO+QH9++4ZZb+ek1FWkxT7pQ0fIFO0gT5Rx7ugTuCB1lj2pToLMUpMlY5iCLWCCVwcs09zQ0k2gcTj/+emp3+sXOexFkZGdC+vkbotsrPTBETGfCgpcVQ/7MM+zcm27HwpjBE4yDLM0SC2E3bS38YzBKIZvEPli1al29bASP8ZDjldOPUEmMyQLVEDFjyY0LRI6UeHb0jvxy+KBycj9EUXcuGyNY1FlZxu1v6Lpqm/fVagE3GI1CRwo6xgtcNZI/z/nC6b2+gz3NZfqWt9liQFYsNZ51Uvf9r6VaL0FCg2KZGw82zGLS0pxZHNjP/pVvR/BaQ9Ed0nPgQpWUmn89W4Qxin2RoRsZxnJyGBSGPYTEP+wNNzilz7flCetq0SuW+du4P2yiWmBHm6jN6msoyExWuLJpMCSZMcpEg0AEnpgNI4D6uLFXEqXH55KGKVW36DaZX+JnZtp3wpAMPVHQjaPr5XLHCMAzhlOIdnWslUiT18VIcU3cW0L+0rvJvk0ZhZPe0qG6fCdgOelPPr/RqnobAli22gqn5uSuuIJiB7IZdCoNciLKezvh+8yNmIfjDFENUpg9goVIObtblFYpCmphfqQzDeoHTyquXApODFvDlj4K2DNBP4Gzjv9Qynsg4dX4X495XpOV/nUA4jkJe1815VYM76vnp7oJxuia69zRaTSD7Y9DfVD7NpGQX3Ir3G7xFfCmaXDDTnvT9CZEP10aM8SKOj21kTSgUR4iRSIZAPTSZ9aKWyftCU6b4VjBzu8zO7p2tjaL/4HCLqiT5DGPesrMNIm5sHRuKdRlBc6jLsOALkcnpFENCaKevnOmYgYIJyqa3kToVNAVlsVvw6nKP4PhB1EXXmCrAIloFjMQ+1YX3P+SldQqJPEsmqIM3FUT8LuaulyTNda7eC4dodY8kYrjaw46Z+A7tqU/CVz/boOMRpvFsGiV/y2ucE1HZtaCJDinJSvjUU8Wa/iAjXAI/fuxvKfHrM9SmTI/Mep0+GP1aBfgpe93bx1y4AcQS4QfwGJijc7t4aT/5oAXscA/mAeqwordQ2/82hkAFFjHjBpFTa3KHJm/SSlR4kzSVh/WkfhqHSevCJrY/Kw8FZ8cI5kreHd6nSFRaF5MYwhXnN4PM9FeJxyZCxDuEfoknl09lXL+vy98/JsHH1z6/BwAw2kHvGjVJ3QA+eWd6r7rhHhAPMCZgzDx43HJz1ssG1t0EM3vmg2Z05ajkDXeeNkEyeWX4yTOqirBP5MS9YrHWKt1+q+6Rrqi3XQi49ZBKaYNBXCIPE192RnKAWMl+AwlrpKbT4UKoMAlh3H4WbV/Kcyd6RKl8cSFmYtJPImCooZ+9uP2srT2UWtqH2SepTCBO5434ajfmDNgBnmBkQwW9DWVKzQPvM1YiBb4EPynqF1yWsfBEKVt5CJP1Q6KYZkgqCRadcPdALAzAjeyjA6Yxpmb16xby2zSvMXgAoKlASvM9vsOwk58t7JMIIE3m4+fOOYMYmJN77OQAAAM5QZ8pRTRNfwDT57sjmrAm2rptF8GWPgEOqCGkcXJ1bpqyc7jr96X774mXjO0O4TmTpZmENLTTmaVgejXoOGt9O4G/CCaenXzBedvObHkB+zPT30Y44NNCg4Bsb9f+7V4dSAkWk57xIERuLtbHlfroBP/VA35FgKZXBq3X6GN2kTVL4LzQgbBICdBosl+r7v90D1lF2Y7jIoLGmJ80E0iEPurJSA7JURfovdA+0MnZbPyyn/hCDk1VfKHRWopIu++ocUyS3c080UUgnJPwinIbT7tStFx/9dnHhzoSCHt6z7ZtP9ACGCJ1c2vINU1f9mu2JEP/MA4SKgoB5O0+aOeTfVH7Qewxe8eAtIVZG2kpDPlBEmsA/GkV5k15Ey9NPpDcYLdfjFfaFck0E6mFh79xDt06j6m1YrxM8RTP9+Z+3VaqplX/k2Gvozy5BLh4bqGuv1KWoWX+0q3aOE1UZC+sj2i4dT8M6aloAdNPZbmQLXusXzXqssYXXV/B8N3VqaVx93EXH1VstKsvidrQ9lQrr1MWqvUa9hxofWADVm/0zNuOyCdJk8qcD16ybW2qP28T3JH9dsmG7pZN/lONKemmrK8eGGT9GPCN3OXtPSSMFXkm8EqA+RTBQ9UoSaTv2uh7l6ypMlRWyGouU4+9Kv3bLGYD25tHwnIw7A8WZhn+asYoMn0F6PSVoGm9pXE1oT6xcd0uwjGcrlLB4PlLSCVinfZxYtYlyD/V687DqNBIWBQPY3KIshA6KOOvpTQN2hQA/XrP6nk/cLbTgcxbXNuRcSF3J8gw8Sa29rz/yqJT3SU7jg7E+lXq2uRMzOzoEQwyNtliGplzCjgQy1WNumzAq9eXKfSDzdtXS1NDwx7wnlyvczceRhN+7dqu0aeauZ/1Zc1zxASGG6jgPPhIP0PJ7Pahd+FLWgfRMSjtqi/9yHchb5PgCDnY4mGy66a5s6VDG5K0EGDiX9Oh0wNtaCW+0rn6mWGWCp3XCXDb1sfpR74Mz2ma/pYgXWuszh1AN6gRE+aPvzbMyLGFak95lHRZSLeudSmlLMJuNXErC8oPwWbMkSsMLbTakIf0MCK87VjPgWOQhNaNK3iAAAABxAGfSHRJ/wI20iIAtRp2lYVWJwP9z+wegqiGfZWccnkTUnifLEk80BiYtSveOYzapk0RIcwUh/Zo2JhwaTKuTyXfWomK4Y3irBBrwXKsyScYjabttmWyjmWg85/gdCgFw8eIwijIx43qutdxUQHOpUP63Kot5MMCyz52M7mK6WeT+8XvZFRvfoQ8fx8kCSyf1JAaC2MWfMvAf3a/AwpzURi/gCWENmOTlZK2q1KV/RhNORS3CR2djTNP9SVHbQ4EGDr9/T4xX29QuSd/S8XUjlW9TSCSXWMpl4ZSNcRVofrTQB+TBnGPYKrV7Smq8MYfX3i/47z90Bh8dF1m9SGcICYlS5wKs+jkmK6wRnDB3kJXiDo2Xl/cFkAdgMJDB/oCidK3gh3e9mpXnv4TM/bc/Hgd3PuY/96fa/F+abE2A7C6cpeZdekJt3BmZg4OHSRB07TMFKQ7q21QexbMgAfybwcopKS2MVJIZUIjhenSQOgJmyw3nLRywkxc+gi+F5WKHmqAunV7VUgOpJg6bJzbmGrODM3e/hdi/3jqaUTW5sEGFFNxuYaTjB4FQkbdAnFhQsyAqJcJat/GV+06gfEW1AooagH1AAACCgGfSmpJ/wI0IXvUIR2JP4RU4/M1CHHHqlyJSzlZUY4i+0NCd3fL1cXWcryp/1/WfF+iGsuR+Fe9pUSg3XO3PESiu/wXDii4zgCR42Vbvp3qdai+6/5G/FWGHadiwtQqQyNm8QHJdTVoeigUtO0e+GH+fKRWhUtkiFuPPO1OV+oNf3MatTALF27GsRE/S1ze3UJIVJCC+NfeWCLmgHknWfHf5mE401srvsrf5iv0nV5RXG78C+OgRd6nivLuEcrKWDCjO76U7O20RhRdL2XylmK8sbRxpCgpSxXOwhkmcbdmTPA5k3YxgjQYcVih5jctoKjaOl9eDykkbzdWJhmQBvwVNsXkE7cGJoc9tTQRAZHeUKxNa3hUqzWMJXvV9qH+9T1pQ5u/5YqmWxjMCdgAy+5iCx1FmO+FkcewOpNAg5vHDj+5jxolXF8i+6RN7IO14/EDatyYnOSmpTwNDJllmOTDAwe3U/Bxlc+7LW0wXvXAjUED9jz1c4EGdTvxb4bPZpWchycwqym76D3g63O2TR8a9cJ5GJDLQ11FmW4BL3GpXHsB+wqc2gzdf7rXVZpv39Pjrd4gd1OHCJKYyv2mwveY1WnYCwWdJRlD0rxvXOUONvXOLkGhel1Zw9OR9nWLsYraq+rULCV6CQltjH3OGZu/9V7RYrOYjSXM1ZPKBsHxb1Aq9wNyhIqjwQAABTdBm09JqEFomUwP/+RAAxBMgNaASRiFlD4l7hJLlvk4mUQP6hWpvpLtLtrbn+yKrSs91lQRA+yqMz/kGr7JD4YyMOcD0Rczk15l4lfe81y24pXisE+tREIDYw7U/tkdzY5Sp9pJRdq40BB+ir9DI4q6kDKGmIFJ45HPbG3aaSBu8l34CrZALVKrnCT2724HU09pJoZdy3cJHA5aihuB1+FfjU+ZD03zy/6N70yUqjBtxPOtYWvo9S8xStrXwn5KZTxvw3eMK+zg8PrZqZudZVCZ7I+WsaPAauxIswlw+HVAYXlS+m9UxbT3dJ2g4UIkHZlOB/hCKZh4zHX0EPKUZPlm3wCBRmFmnkDOMuZOQKUvB7gGf9TSqEXasF8X06G5pCa05LIBBgm27DLjEIBliXPDkP1zKSY34vmF0iXQGlMYddaA9W7yq9iI1QRyhoGpONksr6ZKD8Fq+eT01rffetNreyc0ToIQ2gJ4fyHuchfIEdIRmfxMQyZi3Ihql9grqE2V3syq/v5ndX2MuWXg79qvVZg+sUyHwl3emUMcvOfdJTnKtCl46edMRlpDkUNbPXpfZ8ZJt7LZh8P7xZpvdEhq1aWwaZidv/pYYEiuk0GHBP+aososf/bGKTj5iS7DwuNKEsGLpJOSsUSN1PGEWXF30EXbyZeQXsFw0TdTFggd0QV0vW7DHZ174Z22cv/jMpjutMunQ98hUOjTUuSOLaFk6T/uBeYxiNgb2OTOxc2izAQU/O8ZCxm4EgF29sK9mzfVXJ+5VbrO8c/YH4GcPALWSJa67DBxseUg3YIhvO0dMheWfguWuOeEXLaHSC4JtJXVqVM8ZR07vSFOvt3zJPoj8Mx6hXJFnwnOLxElz8kSWOdDYB6jLOSkx1lVCwEgZTeN5JGZWvI7g/W9aOJXptvaskV+PUb2k7ikMYRG7SO8w53WqdkfnWiuqd+QYd4W5S4GV10Qqv58nbUHTWqIhlvpdI7qi24hIub1o0sr3FF2Hv9lkY0Bu3c8LBVrNDe/TDEqhBxoanvUDBh+4KluWZ5ccXnGTal8E8sPxZPDii7rPjoSxKAecZfqp6VnmEPm2s7/7y/g9/7Fz9lyJJaw6oDqAd0v8eizLAWkzQtdKKXm1l2uOORiN4Kaq7snG2vKyIhdbxshAAu/gbIncVEvF9YK0Xc6/NOSQMt5FwUBpo+mUz97DVmrOT5xVZmYGvUHg4OYwKuj5pU+LZEGv59WFrLHqTNHIUG9jwZb4qUHf8u2332FsRmkKPVM3O9Z2N4ITPfpxndCW1LLHVfkky5wCenxrefNdA6Jvy3Vi/poZu1qfgSXiTY17aYbt9hPfjhWyypyoW7FKibmqIzuPavPmGmlAoeSl708/SM1cnrKDpwMyfpas1eOXq98hhf8vJz9hNvLrbZyXus93adN42dJFIVfIZi9GSE0baH6VmauqzoiX9oMz6Le/hCAF/LEUVdUVFO7xcD/ze+rjOeqK+xDVZpVHH5NBnfu9e77Wjnk/A3qs41onXRP8Ar/DxtY1op3AfwAKPS2gSChnq8kiLvyfjegwV7aTCyF2fPK9rhwizfF9sHtj6M2SNUcS0ah8dKj0zfQ48aVh4cZUrg3bj9SNGJ4iYEr3lCB2PqB8kgQcY/5/6bAKzm3CVuZR9+SqIHQeRYvgxGSyLexwmj5xUbzvIo/a2IW5YrQhQvIXGOPDVqEzDFvbXBNpYxUAcaH0a3xebm/ajzgKV5+jhwaOHffXXP0kpECaR5FKPzROEZJT/gvhXATUrBWSMAAAANsQZ9tRREtfwDT5nNo1y1dChHYxxGDOWxrBkmLjBDEnXJnzAEYrG2/MBh9839U46MXlOejHls4PRX4v8+8114uqHIwPa9OJgNmT32VMOit942jHV7vf+xPG3kZkky+MnxZXsishQDtQE7QQ8mNcZQxXSzG+5hybgmu5xSLKTbGhWk5iUDuOp6/bHGO907mmOhTYzjAWGsk7oKrMy1ZtVLKHt0PK4S6tKf4p34P5aQmf3C0OlyG2hlXliZcrUvKEXvPgyFmlmP9ibFTmnzzEBBQsucZzJ//8esbin4/cMgZmxkoZ8TlmJNns2W0TaNE07508RfLXLQYtlL7a4trNsYJUr7vUSpyE4eP1p2XHn8wca9Z0p42lYI3GzA3LAQuKdYSyvAjoDaUHN1cQhBTt63IhBToerJIt7vX31oPOEFmsMRmQHEhYs7h5+21LtsHRukxPSXLBTAGPd4u+eJ5In/VFnaQEEOQiQnSZcevpOwmJkUTIKRefUTgB2UqaXOpSJ9nvShRp+7HpEtd7R3ycj6NAze+NsUbL2OQpsF7wni1Ih1WwlDHyrzuSV1UdJdziKFI8eJX0hML8lPXdR3KwFnCi+WJpjpC10BFZUMR8mpbIcOSUylKzoc7vZxL4rRqVHcP+d9lS09Vl+J+Ef1HLlKVHNvd/mv8jZwdkE86lS4IKdWqIn2S+w8aRyQvA6ZkFC6gJ8UHeACMzKa1khQPz1v5lDVXu1SpdbJAO3umWCBklKRHyAksraMsfRlEZWHiHdCWaG2B9J/A7/fbF/AENFuXmQu/SGPoV8Wy+OFMXrj0qXkI+7pnmW1Y22DpaitbbA6zDPSneSyS0nMY/QTuo7HBGM7V6rqwaPHh5PnoJS8F1eeaA5gCqNFrufFMAsTxjND0Y/jHiMxJnd7yS5zhsYdj583ks7qsLb/cv2QBVhad4s9P7Maoovd0Tr6GOKZovR0ychOzUpgiavA7vw2LNPfwKIZ4xVJ+irUVaSsAXQm4d1kzj/kBYGF0q4VRd0S5ay5BdFljoqzL6uLKqJXV3erRuyxvflfiy1cAXYe6kI92sYu4TrDaQlxdglTjuLQOaZHbe8pZaIgmhQ8jOUrY0sFggvXheFsxlcVLzb7jQ1dePAqNLIaGFNhgsOenIXwvmb62O8Yld5x/9c2ME8EZAAACKwGfjHRJ/wDz5G/JSsMktDgkhxAXHaWSqba3tc+JEcmRj9DRNrmRbZelveYTQJgLsc6xccNDg4KX+EMldjpaOLDmp2CTXOJ+R0CWpzSZ4Sxj1HcjAxtsC1RAA+VnT3Y8B5CsVTMzkUw+AOnsRUkc1YsK+XBWa3gMqPmy8QJf+gfnTOndqQziiu3+sCgOQnAIArlCavfd9SLiY2Wg/ueC0NNEEIaU9+tDYZqKtSK9cSPMrCYqQTQIFPczfOCyD0mzCjg/Fe063Xw8o4Qw0Dx98LpFkvvP7mh+2DrHj+LbGSRF0Hx0JpTcFNPhHwOChjcnt5ixWrMptUQ+dN7ByhYBga9e09rDqrmTYDnxClRYcSJI9bcMoRSoIH4iNNb24Ldm3doS1tRTTXzNywgSYqcrPp5/xgdXeYBh77W8QEUf2xXk2efzLSoNl+86RpkW2wi5EQxEiTT0IKlT3Sd4dp5UVkcCqr89V1dOum/RIMNpril8fDdQf4peXLsCK0fy0U7AlTYe2veMVE2ynnqYmoQsBgDZYTnn4tJdhN/vLpkF0cPfu/yTz3jlTqWXNdMZ9GMIlJMzRcbUYZiYuJjq0r2KITMBhOno+IzwIsOYf+a4ddGWxei+guUt+7BT5OQkL3kUWZCnuPXeXaUCJgwoHo4nipFVna8ET9Nzu580XQHSgBX8jhsAQHzi1avqwSRed1MBZi/oduuLQa8uVKFpg08rHCTm60kOPUtGOE0DwQAAAd4Bn45qSf8A8S/hxRBUlGf4h9aVrJFqe/DdcHeHOW4cyVXWRxSustjVWB7NqfeE7hvZxdJqsfVlxM5mqd5gWhI6HCefgERlPWKjv1dPa65e4OOr91yKzkv1q1rKeQ01knLGx8tns42fO27v5Yql3WMvARVhBeHCUqrQtkJPcHTiSW1wDvRsUsj08SxxbV9Q4n5Hz/oe+7K95xm3SrcVbU0sNqFw5cG3Diu+aBP9VNsexMA9ehR73P3DV9Q7Hd94+vafUqqRdUJ/5SLGf4dNNBv7ImKJeAIdbsyQbJnWrweP3PIzRcKPAkwJTP8WMgKTaSD17xzhMG9PXxzkQhFXJCgdHtqY15aF7bgP+L1HtvLnUsfLesMcHQO+6FFqGUoE3WqAOEA6y+IufzTaeA/L29YTUXHTKJtOwCLsnpTq32isApIbHkFdwLEJt4KkZSovfYTWzojEqemXuEzP9vbU8Yp4zoDYZGqlLo64e775sL9OwjJz1BMq7/MGCtOTqvmzHS0k67/jr0k40QoVMdUlYectGuLKsjmqlymftFNLOVEtU2bmxk+IcPDi+jwthD/GP/NeGS3dom+FybuIH/AOhqzTXOzcgsAC+W2mL50Yz/wD+GbyNXW4bAmsyQqEtP+NAAAES0GbkEmoQWyZTA//5EADD3OW6vjhy5FDJSae/UyQUHgmQUcukvSqCAG73ZKgeKs2jjXK1jSI4GCNGqesbNqKlWm7yNKvqmDhOq7EIcrduMUE304GKDJ3z0PdN0HEJtkdiYlorq67h1VrBiQeIGMaiYqxqRUl7D9mjO3HS5M723qekzgEwtoRTgq0Oy536aDQihvFIl8/snYc8eq+Gkv5KtdB0YBjQ2eEu2XQ7QiH3bGzmwelfYBiTctJwj5OPOVanK/hZUoCAAMXpS5Cc4RL2xdX4gfUm/B9iOQxEdLNbYAc4yL7+AY6JpyA0Ju4U32LpXO1hqFJQu68BISeiTKkBPc35jjSy251R/+dwi+FdPKLY+4VTOgXlJKKLTqn6ixNtlDZ11hni+Xfm6YcJ7jZf9E6tyyBY7U8mtVZyND+QDrL+I/myQsd6Teib4BWmpuvf7gctqVPufLcBqrRRRI/pOv5iLODTwENrZo8cGRnnb/qIru5kD+MQrX6fmjqlH2ECc8PnHjZoJsYlPgR8UrQDEeDibJZhmtRhyrYYldrEojIA17nHiyDW23hjz4BXAd8XY0zlGmA5lNTD1wJiNBUG3iCOw5JK5T3vdxcWnyUZ2AYoMxhEbtl5OcY/kBeTcpVkKzo9qCSxBPnVIjvy+R0kpVaEpNZj35gfy7ZuNpAu6PiOSJWJ9PVU2iRoMvwtLTgF9TRke4muWwnGbaZ4hMjqt+4Xd2B1elfMxBSp7kSPe9bKSfLy9zyA6r63Lcs3GFfNrt93D4tUdm4Srm3TSA/ofhRy30g7BHZA8VbEStvBOEOc7AzV09FrvlbyUcDzAks6xrEf+z7UprLesQz/fSASx5S5NlniX7tFZWaORBPRR8arAnmmMk3NXMQpQbdx3wwOssFpHt7ieTKRp5+a8h3reNtylsNpvSkxLsEvfgDaPw6UiDUAkcDzPPGJceD/H/Z1qRwOi6EWXxa9RNtBIZFSUKwrNEiWO9x9jArEHEe5r4KY/twiMRMb4v4ZV2TgDRTzd5mZecypB/fHwj+a6eXJC82Wje+hR5vRImgLDkVsgTW7Yd0Yoahxoq3g8XIRwy9wAgc9DTGeQdZYTDsyg4wvK5+p1Td1LcO1eBR+fpxGvZegaTit1+uVp82pJgqKCZnlznDLuMAy/pAaDaQ70bVxX0OrJsne98jmZFeR9N4W52VKkpOuzWUO3FHyAUKS3RJGrhEYkfHCPx5sdEGS1dbnG24fkHB53Ek/qv519x0Wzy6jFBgZBlIfpSASaV4hr0GuNhEw/slPBsZrGv1cLCBoAmXTR86/m57HnkC8o6z9tR+qfXY2zMGJ3GcKDzjTrYA7Q96iOdyWs5wBe2I6s5rWehrhCSPBqKgJ+vzKZUlsPyGRkdVN8XUg3Hh4k7fMliE+ayWDcAzAzvBnF/mIOPP2Pl3iu6haCbi1BWUby9RtAR1W1szwTM9x8+d/YAAAAbebW9vdgAAAGxtdmhkAAAAAAAAAAAAAAAAAAAD6AAAD9IAAQAAAQAAAAAAAAAAAAAAAAEAAAAAAAAAAAAAAAAAAAABAAAAAAAAAAAAAAAAAABAAAAAAAAAAAAAAAAAAAAAAAAAAAAAAAAAAAAAAAAAAgAABgh0cmFrAAAAXHRraGQAAAADAAAAAAAAAAAAAAABAAAAAAAAD9IAAAAAAAAAAAAAAAAAAAAAAAEAAAAAAAAAAAAAAAAAAAABAAAAAAAAAAAAAAAAAABAAAAAAUAAAADwAAAAAAAkZWR0cwAAABxlbHN0AAAAAAAAAAEAAA/SAAAEAAABAAAAAAWAbWRpYQAAACBtZGhkAAAAAAAAAAAAAAAAAAAoAAAAogBVxAAAAAAALWhkbHIAAAAAAAAAAHZpZGUAAAAAAAAAAAAAAABWaWRlb0hhbmRsZXIAAAAFK21pbmYAAAAUdm1oZAAAAAEAAAAAAAAAAAAAACRkaW5mAAAAHGRyZWYAAAAAAAAAAQAAAAx1cmwgAAAAAQAABOtzdGJsAAAAr3N0c2QAAAAAAAAAAQAAAJ9hdmMxAAAAAAAAAAEAAAAAAAAAAAAAAAAAAAAAAUAA8ABIAAAASAAAAAAAAAABFUxhdmM2MC4zMS4xMDIgbGlieDI2NAAAAAAAAAAAAAAAGP//AAAANWF2Y0MBZAAM/+EAGGdkAAys2UFB+hAAAAMAEAAAAwKA8UKZYAEABmjr4bLIsP34+AAAAAAUYnRydAAAAAAAAo/2AAKP9gAAABhzdHRzAAAAAAAAAAEAAABRAAACAAAAABRzdHNzAAAAAAAAAAEAAAABAAACgGN0dHMAAAAAAAAATgAAAAEAAAQAAAAAAQAACgAAAAABAAAEAAAAAAEAAAAAAAAAAQAAAgAAAAABAAAGAAAAAAEAAAIAAAAAAgAABAAAAAABAAAKAAAAAAEAAAQAAAAAAQAAAAAAAAABAAACAAAAAAEAAAoAAAAAAQAABAAAAAABAAAAAAAAAAEAAAIAAAAAAQAABgAAAAABAAACAAAAAAIAAAQAAAAAAQAABgAAAAABAAACAAAAAAIAAAQAAAAAAQAACgAAAAABAAAEAAAAAAEAAAAAAAAAAQAAAgAAAAABAAAGAAAAAAEAAAIAAAAAAQAACgAAAAABAAAEAAAAAAEAAAAAAAAAAQAAAgAAAAABAAAGAAAAAAEAAAIAAAAAAQAACgAAAAABAAAEAAAAAAEAAAAAAAAAAQAAAgAAAAABAAAKAAAAAAEAAAQAAAAAAQAAAAAAAAABAAACAAAAAAEAAAoAAAAAAQAABAAAAAABAAAAAAAAAAEAAAIAAAAAAQAACgAAAAABAAAEAAAAAAEAAAAAAAAAAQAAAgAAAAABAAAEAAAAAAEAAAoAAAAAAQAABAAAAAABAAAAAAAAAAEAAAIAAAAAAQAACgAAAAABAAAEAAAAAAEAAAAAAAAAAQAAAgAAAAABAAAKAAAAAAEAAAQAAAAAAQAAAAAAAAABAAACAAAAAAEAAAoAAAAAAQAABAAAAAABAAAAAAAAAAEAAAIAAAAAAQAABgAAAAABAAACAAAAAAEAAAoAAAAAAQAABAAAAAABAAAAAAAAAAEAAAIAAAAAAQAACgAAAAABAAAEAAAAAAEAAAAAAAAAAQAAAgAAAAABAAAEAAAAABxzdHNjAAAAAAAAAAEAAAABAAAAUQAAAAEAAAFYc3RzegAAAAAAAAAAAAAAUQAACd4AAANUAAAAtAAAAHsAAAFsAAAEqAAAAqEAAARzAAAFMwAACFEAAAYtAAAEWQAABZ8AAAd3AAAFLAAABT4AAAPUAAAFbQAAA6EAAATGAAAFVQAABbQAAAORAAAFLAAABkkAAApDAAAGWAAABbEAAAWyAAAJhgAABmUAAAe9AAAE4AAABD0AAAMBAAAFcgAAApgAAAURAAADkAAAAbYAAAHpAAAFbwAAA0IAAAKrAAABIAAABRcAAAIdAAABhgAAAl4AAAWoAAAD5AAAAmQAAAH4AAADUgAABYUAAANEAAABzQAAAd0AAAVwAAAD5wAAAqUAAAKvAAAFKAAAAysAAAI+AAABuwAABRcAAAN4AAAB3gAAAmUAAATaAAACMgAABQkAAAM9AAAByAAAAg4AAAU7AAADcAAAAi8AAAHiAAAETwAAABRzdGNvAAAAAAAAAAEAAAAwAAAAYnVkdGEAAABabWV0YQAAAAAAAAAhaGRscgAAAAAAAAAAbWRpcmFwcGwAAAAAAAAAAAAAAAAtaWxzdAAAACWpdG9vAAAAHWRhdGEAAAABAAAAAExhdmY2MC4xNi4xMDA=\" type=\"video/mp4\"/>\n",
       "      This browser does not support the video tag.\n",
       "      </video></td></tr></table>"
      ],
      "text/plain": [
       "<IPython.core.display.HTML object>"
      ]
     },
     "metadata": {},
     "output_type": "display_data"
    }
   ],
   "source": [
    "eval_key = jax.random.PRNGKey(123)\n",
    "# reset_keys = jax.random.split(eval_key, 1)  #only required if wrapper.wrap_for_brax_training is used\n",
    "eval_key, reset_keys = jax.random.split(eval_key)\n",
    "rollout = []\n",
    "# modify_scene_fns = []\n",
    "n_episodes = 1\n",
    "\n",
    "for _ in range(n_episodes):\n",
    "  state = jit_reset(reset_keys)\n",
    "  rollout.append(state)\n",
    "  # modify_scene_fns.append(functools.partial(update_target_visuals, target_pos=state.info[\"target_pos\"].flatten(), target_size=state.info[\"target_radius\"].flatten()))\n",
    "  for i in range(env_cfg.ppo_config.episode_length):\n",
    "    eval_key, key = jax.random.split(eval_key)\n",
    "    ctrl, _ = jit_inference_fn(state.obs, key)  #VARIANT 1\n",
    "    # ctrl = deterministic_policy(state.obs)  #VARIANT 2\n",
    "    # ctrl = jax.random.uniform(act_rng, shape=eval_env._na)  #BASELINE: random control\n",
    "    state = jit_step(state, ctrl)\n",
    "    # touch_detected = any([({eval_env.mj_model.geom(con_geom[0]).name, eval_env.mj_model.geom(con_geom[1]).name} == {\"fingertip_contact\", \"screen\"}) and (con_dist < 0) for con_geom, con_dist in zip(state.data._impl.contact.geom, state.data._impl.contact.dist)])\n",
    "    # if touch_detected:\n",
    "    #   print(f\"Step {i}, touch detected. {state.data._impl.contact.dist}\")    \n",
    "    # print(f\"Step {i}, ee_pos: {state.obs[:, 15:18]}\")\n",
    "    # print(f\"Target {i}, target_pos: {state.obs[:, -4:-1]}\")\n",
    "    # print(f\"Step {i}, steps_since_last_hit: {state.info['steps_since_last_hit']}\")\n",
    "    rollout.append(state)\n",
    "    # modify_scene_fns.append(functools.partial(update_target_visuals, target_pos=state.info[\"target_pos\"].flatten(), target_size=state.info[\"target_radius\"].flatten()))\n",
    "    if state.done.all():\n",
    "      break\n",
    "\n",
    "render_every = 1\n",
    "traj = rollout[::render_every]\n",
    "# mod_fns = modify_scene_fns[::render_every]\n",
    "frames = eval_env.render(traj, camera=0) #, modify_scene_fns=mod_fns)\n",
    "rewards = [s.reward for s in rollout]\n",
    "media.show_video(frames, fps=1.0 / eval_env.dt / render_every)"
   ]
  },
  {
   "cell_type": "code",
   "execution_count": 49,
   "id": "38e61624",
   "metadata": {},
   "outputs": [
    {
     "data": {
      "text/plain": [
       "(True, [{'fingertip_contact', 'screen'}])"
      ]
     },
     "execution_count": 49,
     "metadata": {},
     "output_type": "execute_result"
    }
   ],
   "source": [
    "touch_detected = any([{eval_env.mj_model.geom(con[0]).name, eval_env.mj_model.geom(con[1]).name} == {\"fingertip_contact\", \"screen\"} for con in state.data._impl.contact.geom])\n",
    "touches = [{eval_env.mj_model.geom(con[0]).name, eval_env.mj_model.geom(con[1]).name} for con in state.data._impl.contact.geom]\n",
    "\n",
    "touch_detected, touches"
   ]
  },
  {
   "cell_type": "code",
   "execution_count": 51,
   "id": "68aaeedb",
   "metadata": {},
   "outputs": [
    {
     "data": {
      "text/plain": [
       "Array([1.], dtype=float32)"
      ]
     },
     "execution_count": 51,
     "metadata": {},
     "output_type": "execute_result"
    }
   ],
   "source": [
    "state.data._impl.contact.dist"
   ]
  },
  {
   "cell_type": "code",
   "execution_count": 41,
   "id": "fc819166",
   "metadata": {},
   "outputs": [
    {
     "data": {
      "text/plain": [
       "<bound method PyCapsule.geom of <mujoco._structs.MjModel object at 0x7749d83c61b0>>"
      ]
     },
     "execution_count": 41,
     "metadata": {},
     "output_type": "execute_result"
    }
   ],
   "source": [
    "eval_env.mj_model.geom"
   ]
  },
  {
   "cell_type": "code",
   "execution_count": 26,
   "id": "8eaf5d34",
   "metadata": {},
   "outputs": [
    {
     "data": {
      "text/plain": [
       "(np.float32(-0.09992059), np.float64(-0.09999996940976795))"
      ]
     },
     "execution_count": 26,
     "metadata": {},
     "output_type": "execute_result"
    }
   ],
   "source": [
    "# eval_key, reset_keys = jax.random.split(eval_key)\n",
    "# state = jit_reset(reset_keys)\n",
    "# eval_key, key = jax.random.split(eval_key)\n",
    "# ctrl, _ = jit_inference_fn(state.obs, key)  #VARIANT 1\n",
    "state = jit_step(state, ctrl)\n",
    "state.metrics[\"dist_combined\"]\n",
    "(np.exp(-state.metrics[\"dist_combined\"]*10.) - 1.)/10., (np.exp(-1.5*10.) - 1.)/10."
   ]
  },
  {
   "cell_type": "code",
   "execution_count": 33,
   "id": "893fc547",
   "metadata": {},
   "outputs": [
    {
     "data": {
      "text/plain": [
       "(np.float64(0.2465969639416065), np.float64(0.049787068367863944))"
      ]
     },
     "execution_count": 33,
     "metadata": {},
     "output_type": "execute_result"
    }
   ],
   "source": [
    "np.exp(-0.7*2), (np.exp(-1.5*2))"
   ]
  },
  {
   "cell_type": "code",
   "execution_count": 17,
   "id": "d4fbf4a9",
   "metadata": {},
   "outputs": [
    {
     "data": {
      "text/plain": [
       "[(Array(False, dtype=bool), Array(0., dtype=float32)),\n",
       " (Array(False, dtype=bool), Array(-0.09999998, dtype=float32)),\n",
       " (Array(False, dtype=bool), Array(-0.09999997, dtype=float32)),\n",
       " (Array(False, dtype=bool), Array(-0.09999994, dtype=float32)),\n",
       " (Array(False, dtype=bool), Array(-0.09999982, dtype=float32)),\n",
       " (Array(False, dtype=bool), Array(-0.09999924, dtype=float32)),\n",
       " (Array(False, dtype=bool), Array(-0.09999751, dtype=float32)),\n",
       " (Array(False, dtype=bool), Array(-0.09999336, dtype=float32)),\n",
       " (Array(False, dtype=bool), Array(-0.09998853, dtype=float32)),\n",
       " (Array(False, dtype=bool), Array(-0.09998377, dtype=float32)),\n",
       " (Array(False, dtype=bool), Array(-0.0999779, dtype=float32)),\n",
       " (Array(False, dtype=bool), Array(-0.09997098, dtype=float32)),\n",
       " (Array(False, dtype=bool), Array(-0.0999607, dtype=float32)),\n",
       " (Array(False, dtype=bool), Array(-0.09995576, dtype=float32)),\n",
       " (Array(False, dtype=bool), Array(-0.0999537, dtype=float32)),\n",
       " (Array(False, dtype=bool), Array(-0.0999264, dtype=float32)),\n",
       " (Array(True, dtype=bool), Array(4.900092, dtype=float32)),\n",
       " (Array(True, dtype=bool), Array(4.9000916, dtype=float32)),\n",
       " (Array(True, dtype=bool), Array(4.9000926, dtype=float32)),\n",
       " (Array(True, dtype=bool), Array(4.900093, dtype=float32)),\n",
       " (Array(True, dtype=bool), Array(4.9000926, dtype=float32)),\n",
       " (Array(True, dtype=bool), Array(4.9000907, dtype=float32)),\n",
       " (Array(True, dtype=bool), Array(4.9000893, dtype=float32)),\n",
       " (Array(True, dtype=bool), Array(4.9000897, dtype=float32)),\n",
       " (Array(True, dtype=bool), Array(4.9000907, dtype=float32)),\n",
       " (Array(True, dtype=bool), Array(4.900092, dtype=float32)),\n",
       " (Array(True, dtype=bool), Array(4.9000926, dtype=float32)),\n",
       " (Array(True, dtype=bool), Array(4.900092, dtype=float32)),\n",
       " (Array(True, dtype=bool), Array(4.9000897, dtype=float32)),\n",
       " (Array(True, dtype=bool), Array(4.9000883, dtype=float32)),\n",
       " (Array(True, dtype=bool), Array(4.9000893, dtype=float32)),\n",
       " (Array(True, dtype=bool), Array(4.90009, dtype=float32)),\n",
       " (Array(True, dtype=bool), Array(4.900091, dtype=float32)),\n",
       " (Array(True, dtype=bool), Array(4.900092, dtype=float32)),\n",
       " (Array(True, dtype=bool), Array(4.9000916, dtype=float32)),\n",
       " (Array(True, dtype=bool), Array(4.9000897, dtype=float32)),\n",
       " (Array(True, dtype=bool), Array(4.9000883, dtype=float32)),\n",
       " (Array(True, dtype=bool), Array(4.9000893, dtype=float32)),\n",
       " (Array(True, dtype=bool), Array(4.9000897, dtype=float32)),\n",
       " (Array(True, dtype=bool), Array(4.900091, dtype=float32)),\n",
       " (Array(True, dtype=bool), Array(4.900092, dtype=float32)),\n",
       " (Array(True, dtype=bool), Array(4.900091, dtype=float32)),\n",
       " (Array(True, dtype=bool), Array(4.9000893, dtype=float32)),\n",
       " (Array(True, dtype=bool), Array(4.900088, dtype=float32)),\n",
       " (Array(True, dtype=bool), Array(4.9000883, dtype=float32)),\n",
       " (Array(True, dtype=bool), Array(4.9000893, dtype=float32)),\n",
       " (Array(True, dtype=bool), Array(4.9000907, dtype=float32)),\n",
       " (Array(True, dtype=bool), Array(4.9000916, dtype=float32)),\n",
       " (Array(True, dtype=bool), Array(4.9000907, dtype=float32)),\n",
       " (Array(True, dtype=bool), Array(4.900089, dtype=float32)),\n",
       " (Array(True, dtype=bool), Array(4.900088, dtype=float32)),\n",
       " (Array(True, dtype=bool), Array(4.900089, dtype=float32)),\n",
       " (Array(True, dtype=bool), Array(4.9000893, dtype=float32)),\n",
       " (Array(True, dtype=bool), Array(4.9000907, dtype=float32)),\n",
       " (Array(True, dtype=bool), Array(4.9000916, dtype=float32)),\n",
       " (Array(True, dtype=bool), Array(4.9000907, dtype=float32)),\n",
       " (Array(True, dtype=bool), Array(4.900089, dtype=float32)),\n",
       " (Array(True, dtype=bool), Array(4.900088, dtype=float32)),\n",
       " (Array(True, dtype=bool), Array(4.900089, dtype=float32)),\n",
       " (Array(True, dtype=bool), Array(4.9000893, dtype=float32)),\n",
       " (Array(True, dtype=bool), Array(4.9000907, dtype=float32)),\n",
       " (Array(True, dtype=bool), Array(4.9000916, dtype=float32)),\n",
       " (Array(True, dtype=bool), Array(4.900091, dtype=float32)),\n",
       " (Array(True, dtype=bool), Array(4.900089, dtype=float32)),\n",
       " (Array(True, dtype=bool), Array(4.900088, dtype=float32)),\n",
       " (Array(True, dtype=bool), Array(4.9000883, dtype=float32)),\n",
       " (Array(True, dtype=bool), Array(4.9000893, dtype=float32)),\n",
       " (Array(True, dtype=bool), Array(4.9000907, dtype=float32)),\n",
       " (Array(True, dtype=bool), Array(4.9000916, dtype=float32)),\n",
       " (Array(True, dtype=bool), Array(4.9000907, dtype=float32)),\n",
       " (Array(True, dtype=bool), Array(4.900089, dtype=float32)),\n",
       " (Array(True, dtype=bool), Array(4.9000874, dtype=float32)),\n",
       " (Array(True, dtype=bool), Array(4.9000883, dtype=float32)),\n",
       " (Array(True, dtype=bool), Array(4.9000893, dtype=float32)),\n",
       " (Array(True, dtype=bool), Array(4.9000907, dtype=float32)),\n",
       " (Array(True, dtype=bool), Array(4.9000916, dtype=float32)),\n",
       " (Array(True, dtype=bool), Array(4.9000907, dtype=float32)),\n",
       " (Array(True, dtype=bool), Array(4.900089, dtype=float32)),\n",
       " (Array(True, dtype=bool), Array(4.900088, dtype=float32)),\n",
       " (Array(True, dtype=bool), Array(4.9000883, dtype=float32)),\n",
       " (Array(True, dtype=bool), Array(4.9000893, dtype=float32))]"
      ]
     },
     "execution_count": 17,
     "metadata": {},
     "output_type": "execute_result"
    }
   ],
   "source": [
    "np.where([r.info[\"phase_0_done\"] for r in rollout])[0][0]*env.unwrapped._ctrl_dt\n",
    "[(r.info[\"phase_0_done\"], r.reward) for r in rollout]"
   ]
  },
  {
   "cell_type": "code",
   "execution_count": 22,
   "id": "b52426c8",
   "metadata": {},
   "outputs": [
    {
     "data": {
      "text/plain": [
       "([Array([ 0.26876748, -0.24839334,  0.79923654], dtype=float32),\n",
       "  Array([ 0.26876748, -0.24839334,  0.79923654], dtype=float32),\n",
       "  Array([ 0.26876748, -0.24839334,  0.79923654], dtype=float32),\n",
       "  Array([ 0.26876748, -0.24839334,  0.79923654], dtype=float32),\n",
       "  Array([ 0.26876748, -0.24839334,  0.79923654], dtype=float32),\n",
       "  Array([ 0.26876748, -0.24839334,  0.79923654], dtype=float32),\n",
       "  Array([ 0.26876748, -0.24839334,  0.79923654], dtype=float32),\n",
       "  Array([ 0.26876748, -0.24839334,  0.79923654], dtype=float32),\n",
       "  Array([ 0.26876748, -0.24839334,  0.79923654], dtype=float32),\n",
       "  Array([ 0.26876748, -0.24839334,  0.79923654], dtype=float32),\n",
       "  Array([ 0.26876748, -0.24839334,  0.79923654], dtype=float32),\n",
       "  Array([ 0.26876748, -0.24839334,  0.79923654], dtype=float32),\n",
       "  Array([ 0.26876748, -0.24839334,  0.79923654], dtype=float32)],\n",
       " [Array([ 0.03493699, -0.198526  ,  0.28504306], dtype=float32),\n",
       "  Array([ 0.05467008, -0.20556903,  0.2879694 ], dtype=float32),\n",
       "  Array([ 0.12839839, -0.21615738,  0.30747497], dtype=float32),\n",
       "  Array([ 0.25338876, -0.2480327 ,  0.38547328], dtype=float32),\n",
       "  Array([ 0.35608405, -0.26248986,  0.5322279 ], dtype=float32),\n",
       "  Array([ 0.3817351 , -0.24343966,  0.67996335], dtype=float32),\n",
       "  Array([ 0.3471588 , -0.19892067,  0.7906286 ], dtype=float32),\n",
       "  Array([ 0.31936902, -0.21280576,  0.81041855], dtype=float32),\n",
       "  Array([ 0.30544874, -0.2563585 ,  0.8026124 ], dtype=float32),\n",
       "  Array([ 0.2788391 , -0.25173664,  0.81372756], dtype=float32),\n",
       "  Array([ 0.26248008, -0.25572088,  0.8137799 ], dtype=float32),\n",
       "  Array([ 0.25404978, -0.25700277,  0.81358284], dtype=float32),\n",
       "  Array([ 0.25229353, -0.25338423,  0.8163977 ], dtype=float32)])"
      ]
     },
     "execution_count": 22,
     "metadata": {},
     "output_type": "execute_result"
    }
   ],
   "source": [
    "[i.info[\"target_pos\"] for i in rollout], [_i.obs[\"proprioception\"][15:18] for _i in rollout]"
   ]
  },
  {
   "cell_type": "code",
   "execution_count": 11,
   "id": "755b836e",
   "metadata": {},
   "outputs": [
    {
     "data": {
      "text/plain": [
       "np.float32(7.423525)"
      ]
     },
     "execution_count": 11,
     "metadata": {},
     "output_type": "execute_result"
    }
   ],
   "source": [
    "np.sum(rewards)"
   ]
  },
  {
   "cell_type": "code",
   "execution_count": null,
   "id": "64928ed0",
   "metadata": {},
   "outputs": [],
   "source": []
  }
 ],
 "metadata": {
  "kernelspec": {
   "display_name": "myouser",
   "language": "python",
   "name": "python3"
  },
  "language_info": {
   "codemirror_mode": {
    "name": "ipython",
    "version": 3
   },
   "file_extension": ".py",
   "mimetype": "text/x-python",
   "name": "python",
   "nbconvert_exporter": "python",
   "pygments_lexer": "ipython3",
   "version": "3.12.11"
  }
 },
 "nbformat": 4,
 "nbformat_minor": 5
}
