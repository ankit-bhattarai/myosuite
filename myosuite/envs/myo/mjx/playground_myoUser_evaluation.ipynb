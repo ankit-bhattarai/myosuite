{
 "cells": [
  {
   "cell_type": "code",
   "execution_count": 1,
   "id": "0bbf96b8",
   "metadata": {},
   "outputs": [
    {
     "name": "stdout",
     "output_type": "stream",
     "text": [
      "env: MUJOCO_GL=egl\n"
     ]
    }
   ],
   "source": [
    "%env MUJOCO_GL=egl\n",
    "\n",
    "import os\n",
    "os.environ[\"XLA_PYTHON_CLIENT_MEM_FRACTION\"] = \".20\"  #restrict JAX to 20% of available GPU RAM; useful for loading MyoSuite and UitB policies simultaneously"
   ]
  },
  {
   "cell_type": "code",
   "execution_count": 2,
   "id": "eaedc17e",
   "metadata": {},
   "outputs": [
    {
     "name": "stdout",
     "output_type": "stream",
     "text": [
      "MyoSuite:> Registering Myo Envs\n",
      "MyoSuite:> Registering MyoUser Envs\n"
     ]
    }
   ],
   "source": [
    "import mujoco\n",
    "from mujoco import mjx\n",
    "\n",
    "import numpy as np\n",
    "from brax import envs\n",
    "from brax.training.acme.running_statistics import normalize\n",
    "# from brax.training.agents.ppo import networks as ppo_networks\n",
    "from brax.training.acme import running_statistics\n",
    "from brax.io import model\n",
    "from etils import epath\n",
    "import functools\n",
    "\n",
    "import myosuite\n",
    "from myosuite.envs.myo.myouser.utils import update_target_visuals\n",
    "from myosuite.envs.myo.mjx.utils import get_latest_run_path, load_checkpoint\n",
    "from myosuite.envs.myo.mjx.train_jax_ppo_steering import get_observation_size\n",
    "import mediapy as media\n",
    "\n",
    "import jax\n",
    "import jax.numpy as jp\n",
    "\n",
    "from mujoco_playground import wrapper, registry\n",
    "\n",
    "myo_path = os.path.dirname(os.path.dirname(myosuite.__file__))\n",
    "os.chdir(myo_path)\n",
    "\n",
    "# from playground_myoUser_pointing import PlaygroundArmPointing, default_config\n",
    "# registry.manipulation.register_environment(\"MyoUserPointing\", PlaygroundArmPointing, default_config)\n",
    "from myosuite.envs.myo.myouser.myoarm_pointing_v0 import MyoArmPointing, default_config\n",
    "registry.manipulation.register_environment(\"MyoUserPointing\", MyoArmPointing, default_config)\n",
    "\n",
    "from myosuite.envs.myo.myouser.myoarm_steering_v0 import MyoArmSteering, default_config\n",
    "registry.manipulation.register_environment(\"MyoUserSteering\", MyoArmSteering, default_config)"
   ]
  },
  {
   "cell_type": "code",
   "execution_count": 3,
   "id": "24566bbf",
   "metadata": {},
   "outputs": [
    {
     "name": "stdout",
     "output_type": "stream",
     "text": [
      "Sat Jul 26 00:58:58 2025       \n",
      "+-----------------------------------------------------------------------------------------+\n",
      "| NVIDIA-SMI 570.158.01             Driver Version: 570.158.01     CUDA Version: 12.8     |\n",
      "|-----------------------------------------+------------------------+----------------------+\n",
      "| GPU  Name                 Persistence-M | Bus-Id          Disp.A | Volatile Uncorr. ECC |\n",
      "| Fan  Temp   Perf          Pwr:Usage/Cap |           Memory-Usage | GPU-Util  Compute M. |\n",
      "|                                         |                        |               MIG M. |\n",
      "|=========================================+========================+======================|\n",
      "|   0  NVIDIA GeForce RTX 5090        On  |   00000000:01:00.0 Off |                  N/A |\n",
      "|  0%   40C    P8              3W /  600W |     171MiB /  32607MiB |      0%      Default |\n",
      "|                                         |                        |                  N/A |\n",
      "+-----------------------------------------+------------------------+----------------------+\n",
      "                                                                                         \n",
      "+-----------------------------------------------------------------------------------------+\n",
      "| Processes:                                                                              |\n",
      "|  GPU   GI   CI              PID   Type   Process name                        GPU Memory |\n",
      "|        ID   ID                                                               Usage      |\n",
      "|=========================================================================================|\n",
      "|    0   N/A  N/A           77338      G   /usr/lib/xorg/Xorg                       76MiB |\n",
      "|    0   N/A  N/A           77576      G   /usr/bin/gnome-shell                     12MiB |\n",
      "|    0   N/A  N/A           78428      G   /usr/bin/nautilus                        52MiB |\n",
      "+-----------------------------------------------------------------------------------------+\n",
      "Setting environment variable to use GPU rendering:\n",
      "env: MUJOCO_GL=egl\n",
      "Checking that the installation succeeded:\n",
      "Installation successful.\n"
     ]
    }
   ],
   "source": [
    "# @title Check if MuJoCo installation was successful\n",
    "\n",
    "import distutils.util\n",
    "import os\n",
    "import subprocess\n",
    "\n",
    "if subprocess.run('nvidia-smi').returncode:\n",
    "  raise RuntimeError(\n",
    "      'Cannot communicate with GPU. '\n",
    "      'Make sure you are using a GPU Colab runtime. '\n",
    "      'Go to the Runtime menu and select Choose runtime type.'\n",
    "  )\n",
    "\n",
    "# Add an ICD config so that glvnd can pick up the Nvidia EGL driver.\n",
    "# This is usually installed as part of an Nvidia driver package, but the Colab\n",
    "# kernel doesn't install its driver via APT, and as a result the ICD is missing.\n",
    "# (https://github.com/NVIDIA/libglvnd/blob/master/src/EGL/icd_enumeration.md)\n",
    "NVIDIA_ICD_CONFIG_PATH = '/usr/share/glvnd/egl_vendor.d/10_nvidia.json'\n",
    "if not os.path.exists(NVIDIA_ICD_CONFIG_PATH):\n",
    "  with open(NVIDIA_ICD_CONFIG_PATH, 'w') as f:\n",
    "    f.write(\"\"\"{\n",
    "    \"file_format_version\" : \"1.0.0\",\n",
    "    \"ICD\" : {\n",
    "        \"library_path\" : \"libEGL_nvidia.so.0\"\n",
    "    }\n",
    "}\n",
    "\"\"\")\n",
    "\n",
    "# Configure MuJoCo to use the EGL rendering backend (requires GPU)\n",
    "print('Setting environment variable to use GPU rendering:')\n",
    "%env MUJOCO_GL=egl\n",
    "\n",
    "try:\n",
    "  print('Checking that the installation succeeded:')\n",
    "  import mujoco\n",
    "\n",
    "  mujoco.MjModel.from_xml_string('<mujoco/>')\n",
    "except Exception as e:\n",
    "  raise e from RuntimeError(\n",
    "      'Something went wrong during installation. Check the shell output above '\n",
    "      'for more information.\\n'\n",
    "      'If using a hosted Colab runtime, make sure you enable GPU acceleration '\n",
    "      'by going to the Runtime menu and selecting \"Choose runtime type\".'\n",
    "  )\n",
    "\n",
    "print('Installation successful.')\n",
    "\n",
    "# Tell XLA to use Triton GEMM, this improves steps/sec by ~30% on some GPUs\n",
    "xla_flags = os.environ.get('XLA_FLAGS', '')\n",
    "xla_flags += ' --xla_gpu_triton_gemm_any=True'\n",
    "os.environ['XLA_FLAGS'] = xla_flags"
   ]
  },
  {
   "cell_type": "code",
   "execution_count": 4,
   "id": "6adc215d",
   "metadata": {},
   "outputs": [
    {
     "data": {
      "text/plain": [
       "Reusing TensorBoard on port 6006 (pid 3077204), started 0:03:54 ago. (Use '!kill 3077204' to kill it.)"
      ]
     },
     "metadata": {},
     "output_type": "display_data"
    },
    {
     "data": {
      "text/html": [
       "\n",
       "      <iframe id=\"tensorboard-frame-7f8d9bead23b1e06\" width=\"100%\" height=\"800\" frameborder=\"0\">\n",
       "      </iframe>\n",
       "      <script>\n",
       "        (function() {\n",
       "          const frame = document.getElementById(\"tensorboard-frame-7f8d9bead23b1e06\");\n",
       "          const url = new URL(\"http://localhost\");\n",
       "          const port = 6006;\n",
       "          if (port) {\n",
       "            url.port = port;\n",
       "          }\n",
       "          frame.src = url;\n",
       "        })();\n",
       "      </script>\n",
       "    "
      ],
      "text/plain": [
       "<IPython.core.display.HTML object>"
      ]
     },
     "metadata": {},
     "output_type": "display_data"
    }
   ],
   "source": [
    "%reload_ext tensorboard\n",
    "%tensorboard --logdir ./logs/ --port 6006"
   ]
  },
  {
   "cell_type": "code",
   "execution_count": 7,
   "id": "8f2bbd80",
   "metadata": {},
   "outputs": [],
   "source": [
    "# params[1][\"params\"][\"hidden_3\"][\"kernel\"].shape"
   ]
  },
  {
   "cell_type": "markdown",
   "id": "f42ae8a5",
   "metadata": {},
   "source": [
    "Load Environment"
   ]
  },
  {
   "cell_type": "code",
   "execution_count": 4,
   "id": "77845a32",
   "metadata": {},
   "outputs": [
    {
     "name": "stdout",
     "output_type": "stream",
     "text": [
      "Current backend: gpu\n"
     ]
    }
   ],
   "source": [
    "# env_name = \"MyoUserPointing\"\n",
    "env_name = \"MyoUserSteering\"\n",
    "\n",
    "print(f\"Current backend: {jax.default_backend()}\")"
   ]
  },
  {
   "cell_type": "code",
   "execution_count": 5,
   "id": "7d523740",
   "metadata": {},
   "outputs": [
    {
     "name": "stdout",
     "output_type": "stream",
     "text": [
      "Restoring from: /scratch/fjf33/myouser/logs/MyoUserSteering-20250725-163029/checkpoints/15001600\n",
      "Checkpoint path: /scratch/fjf33/myouser/logs/MyoUserSteering-20250725-163029/checkpoints\n"
     ]
    }
   ],
   "source": [
    "## VARIANT 1: load env, and load params from latest run \n",
    "# Note: load_checkpoint always loads latest checkpoint from this run\n",
    "\n",
    "# checkpoint_path = \"logs/MyoUserPointing-20250718-200508/checkpoints\"\n",
    "# checkpoint_path = \"logs/MyoUserPointing-20250721-221417/checkpoints\"\n",
    "# checkpoint_path = \"logs/MyoUserPointing-20250723-150450-MyoUserBase/checkpoints\"\n",
    "checkpoint_path = \"logs/MyoUserSteering-20250725-163029/checkpoints\"\n",
    "\n",
    "# checkpoint_path = get_latest_run_path(\"logs/\")\n",
    "\n",
    "env_cfg = registry.get_default_config(env_name)\n",
    "env, make_inference_fn, params = load_checkpoint(env_name, env_cfg, get_observation_size, ppo_params=env_cfg.ppo_config, eval_mode=True, checkpoint_path=checkpoint_path)"
   ]
  },
  {
   "cell_type": "code",
   "execution_count": 6,
   "id": "7d554ff3",
   "metadata": {},
   "outputs": [],
   "source": [
    "# ## VARIANT 2: load params from pickle file\n",
    "\n",
    "# env_cfg = registry.get_default_config(env_name)\n",
    "# env = registry.load(env_name, config=env_cfg)\n",
    "\n",
    "# #param_path = os.path.join(os.path.dirname(checkpoint_path), 'playground_params.pickle')\n",
    "# param_path = \"/scratch/fjf33/myosuite_ankit/myosuite-mjx-policies/myouserbase_params\"\n",
    "\n",
    "# normalize_observations = True\n",
    "# ppo_network = custom_network_factory(\n",
    "#     obs_shape=get_observation_size(),  # Example observation shape\n",
    "#     action_size=26,  # Example action size,\n",
    "#     policy_hidden_layer_sizes=(256, 256),  #(50, 50, 50),\n",
    "#     value_hidden_layer_sizes=(256, 256),  #(50, 50, 50),\n",
    "#     preprocess_observations_fn=running_statistics.normalize if normalize_observations else lambda x, y: x  # Identity function for preprocessing\n",
    "# )\n",
    "\n",
    "# params = model.load_params(param_path)\n",
    "# def deterministic_policy(input_data):\n",
    "#     logits = ppo_network.policy_network.apply(*params[:2], input_data)\n",
    "#     brax_result = ppo_network.parametric_action_distribution.mode(logits)\n",
    "#     return brax_result\n",
    "# params"
   ]
  },
  {
   "cell_type": "markdown",
   "id": "40e6f53f",
   "metadata": {},
   "source": [
    "### Internal Testing"
   ]
  },
  {
   "cell_type": "code",
   "execution_count": null,
   "id": "10f9af3c",
   "metadata": {},
   "outputs": [],
   "source": [
    "from brax.training import acting\n",
    "\n",
    "eval_env = wrapper.wrap_for_brax_training(env, episode_length=200)\n",
    "\n",
    "rng = jax.random.PRNGKey(123)\n",
    "rng, eval_key = jax.random.split(rng)\n",
    "\n",
    "# key = jax.random.PRNGKey(123)\n",
    "# global_key, local_key = jax.random.split(key)\n",
    "# del key\n",
    "# local_key = jax.random.fold_in(local_key, jax.process_index())\n",
    "# local_key, key_env, eval_key = jax.random.split(local_key, 3)\n",
    "\n",
    "evaluator = acting.Evaluator(\n",
    "    eval_env,\n",
    "    functools.partial(make_inference_fn, deterministic=True),\n",
    "    num_eval_envs=1,\n",
    "    episode_length=200,\n",
    "    action_repeat=1,\n",
    "    key=eval_key,\n",
    ")\n",
    "\n",
    "metrics = evaluator.run_evaluation(params, {})"
   ]
  },
  {
   "cell_type": "code",
   "execution_count": 8,
   "id": "a628808c",
   "metadata": {},
   "outputs": [
    {
     "data": {
      "text/plain": [
       "{'eval/walltime': 41.33294916152954,\n",
       " 'eval/episode_reach_dist': Array(0.022375, dtype=float32),\n",
       " 'eval/episode_reward': Array(6.5148783, dtype=float32),\n",
       " 'eval/episode_success_rate': Array(1., dtype=float32),\n",
       " 'eval/episode_target_area_dynamic_width_scale': Array(0., dtype=float32),\n",
       " 'eval/episode_reach_dist_std': Array(0., dtype=float32),\n",
       " 'eval/episode_reward_std': Array(0., dtype=float32),\n",
       " 'eval/episode_success_rate_std': Array(0., dtype=float32),\n",
       " 'eval/episode_target_area_dynamic_width_scale_std': Array(0., dtype=float32),\n",
       " 'eval/avg_episode_length': Array(26., dtype=float32),\n",
       " 'eval/std_episode_length': Array(0., dtype=float32),\n",
       " 'eval/epoch_eval_time': 41.33294916152954,\n",
       " 'eval/sps': 4.838754651123446}"
      ]
     },
     "execution_count": 8,
     "metadata": {},
     "output_type": "execute_result"
    }
   ],
   "source": [
    "metrics"
   ]
  },
  {
   "cell_type": "code",
   "execution_count": 9,
   "id": "33d01bbb",
   "metadata": {},
   "outputs": [
    {
     "data": {
      "text/plain": [
       "{'reach_dist': Array([0.02351627], dtype=float32),\n",
       " 'reward': Array([6.330341], dtype=float32),\n",
       " 'success_rate': Array([1.], dtype=float32),\n",
       " 'target_area_dynamic_width_scale': Array([0.], dtype=float32)}"
      ]
     },
     "execution_count": 9,
     "metadata": {},
     "output_type": "execute_result"
    }
   ],
   "source": [
    "evaluator._key, unroll_key = jax.random.split(evaluator._key)\n",
    "eval_state = evaluator._generate_eval_unroll(params, unroll_key)\n",
    "eval_state.info[\"eval_metrics\"].episode_metrics"
   ]
  },
  {
   "cell_type": "code",
   "execution_count": 55,
   "id": "749db759",
   "metadata": {},
   "outputs": [],
   "source": [
    "from brax.training.acting import generate_unroll\n",
    "_eval_env = envs.training.EvalWrapper(eval_env)\n",
    "def _generate_unroll(params, key, num_eval_envs=1):\n",
    "    reset_keys = jax.random.split(key, num_eval_envs)\n",
    "    eval_first_state = _eval_env.reset(reset_keys)\n",
    "    return generate_unroll(\n",
    "    _eval_env, eval_first_state,\n",
    "    make_inference_fn(params, deterministic=True),\n",
    "    key=key,\n",
    "    unroll_length=200)\n",
    "generate_unroll_jit = jax.jit(_generate_unroll)"
   ]
  },
  {
   "cell_type": "code",
   "execution_count": 56,
   "id": "a0a55bff",
   "metadata": {},
   "outputs": [],
   "source": [
    "# _eval_env = envs.training.EvalWrapper(eval_env)\n",
    "evaluator._key, unroll_key = jax.random.split(evaluator._key)\n",
    "# reset_keys = jax.random.split(unroll_key, 1)\n",
    "# eval_first_state = _eval_env.reset(reset_keys)\n",
    "# eval_final_state, eval_data = generate_unroll(\n",
    "#     _eval_env, eval_first_state,\n",
    "#     make_inference_fn(params, deterministic=True),\n",
    "#     key=unroll_key,\n",
    "#     unroll_length=200)\n",
    "eval_final_state, eval_data = generate_unroll_jit(\n",
    "    params, key=unroll_key)"
   ]
  },
  {
   "cell_type": "code",
   "execution_count": 57,
   "id": "a2c303f7",
   "metadata": {},
   "outputs": [
    {
     "data": {
      "text/plain": [
       "(Array(-10.9054, dtype=float32),\n",
       " {'reach_dist': Array([0.02216392], dtype=float32),\n",
       "  'reward': Array([6.478419], dtype=float32),\n",
       "  'success_rate': Array([1.], dtype=float32),\n",
       "  'target_area_dynamic_width_scale': Array([0.], dtype=float32)})"
      ]
     },
     "execution_count": 57,
     "metadata": {},
     "output_type": "execute_result"
    }
   ],
   "source": [
    "eval_data.reward.sum(), eval_final_state.info[\"eval_metrics\"].episode_metrics"
   ]
  },
  {
   "cell_type": "markdown",
   "id": "2f254fcf",
   "metadata": {},
   "source": [
    "### Visualize Rollouts"
   ]
  },
  {
   "cell_type": "code",
   "execution_count": 8,
   "id": "b40d443a",
   "metadata": {},
   "outputs": [],
   "source": [
    "eval_env = env\n",
    "# eval_env = wrapper.wrap_for_brax_training(env, episode_length=200)\n",
    "# eval_env = envs.training.EvalWrapper(_eval_env)\n",
    "\n",
    "# # Hide model target sphere for visualization of policies trained without vision\n",
    "# eval_env.unwrapped.mj_model.geom(\"target_sphere\").rgba = np.array([0., 1., 0., 1])  #np.zeros(4, dtype=np.float32)"
   ]
  },
  {
   "cell_type": "code",
   "execution_count": 9,
   "id": "82de8a3d",
   "metadata": {},
   "outputs": [],
   "source": [
    "jit_reset = jax.jit(eval_env.reset)\n",
    "jit_step = jax.jit(eval_env.step)\n",
    "\n",
    "# For VARIANT 1:\n",
    "jit_inference_fn = jax.jit(make_inference_fn(params, deterministic=True))"
   ]
  },
  {
   "cell_type": "code",
   "execution_count": 16,
   "id": "5ab48442",
   "metadata": {},
   "outputs": [
    {
     "name": "stderr",
     "output_type": "stream",
     "text": [
      "100%|██████████| 81/81 [00:00<00:00, 1209.95it/s]\n"
     ]
    },
    {
     "data": {
      "text/html": [
       "<table class=\"show_videos\" style=\"border-spacing:0px;\"><tr><td style=\"padding:1px;\"><video controls width=\"320\" height=\"240\" style=\"object-fit:cover;\" loop autoplay muted>\n",
       "      <source src=\"data:video/mp4;base64,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\" type=\"video/mp4\"/>\n",
       "      This browser does not support the video tag.\n",
       "      </video></td></tr></table>"
      ],
      "text/plain": [
       "<IPython.core.display.HTML object>"
      ]
     },
     "metadata": {},
     "output_type": "display_data"
    }
   ],
   "source": [
    "eval_key = jax.random.PRNGKey(1234)\n",
    "# reset_keys = jax.random.split(eval_key, 1)  #only required if wrapper.wrap_for_brax_training is used\n",
    "eval_key, reset_keys = jax.random.split(eval_key)\n",
    "rollout = []\n",
    "# modify_scene_fns = []\n",
    "n_episodes = 1\n",
    "\n",
    "for _ in range(n_episodes):\n",
    "  state = jit_reset(reset_keys)\n",
    "  rollout.append(state)\n",
    "  # modify_scene_fns.append(functools.partial(update_target_visuals, target_pos=state.info[\"target_pos\"].flatten(), target_size=state.info[\"target_radius\"].flatten()))\n",
    "  for i in range(env_cfg.ppo_config.episode_length):\n",
    "    eval_key, key = jax.random.split(eval_key)\n",
    "    ctrl, _ = jit_inference_fn(state.obs, key)  #VARIANT 1\n",
    "    # ctrl = deterministic_policy(state.obs)  #VARIANT 2\n",
    "    # ctrl = jax.random.uniform(act_rng, shape=eval_env._na)  #BASELINE: random control\n",
    "    state = jit_step(state, ctrl)\n",
    "    # print(f\"Step {i}, ee_pos: {state.obs[:, 15:18]}\")\n",
    "    # print(f\"Target {i}, target_pos: {state.obs[:, -4:-1]}\")\n",
    "    # print(f\"Step {i}, steps_since_last_hit: {state.info['steps_since_last_hit']}\")\n",
    "    rollout.append(state)\n",
    "    # modify_scene_fns.append(functools.partial(update_target_visuals, target_pos=state.info[\"target_pos\"].flatten(), target_size=state.info[\"target_radius\"].flatten()))\n",
    "    if state.done.all():\n",
    "      break\n",
    "\n",
    "render_every = 1\n",
    "traj = rollout[::render_every]\n",
    "# mod_fns = modify_scene_fns[::render_every]\n",
    "frames = eval_env.render(traj, camera=0) #, modify_scene_fns=mod_fns)\n",
    "rewards = [s.reward for s in rollout]\n",
    "media.show_video(frames, fps=1.0 / eval_env.dt / render_every)"
   ]
  },
  {
   "cell_type": "code",
   "execution_count": 22,
   "id": "b52426c8",
   "metadata": {},
   "outputs": [
    {
     "data": {
      "text/plain": [
       "([Array([ 0.26876748, -0.24839334,  0.79923654], dtype=float32),\n",
       "  Array([ 0.26876748, -0.24839334,  0.79923654], dtype=float32),\n",
       "  Array([ 0.26876748, -0.24839334,  0.79923654], dtype=float32),\n",
       "  Array([ 0.26876748, -0.24839334,  0.79923654], dtype=float32),\n",
       "  Array([ 0.26876748, -0.24839334,  0.79923654], dtype=float32),\n",
       "  Array([ 0.26876748, -0.24839334,  0.79923654], dtype=float32),\n",
       "  Array([ 0.26876748, -0.24839334,  0.79923654], dtype=float32),\n",
       "  Array([ 0.26876748, -0.24839334,  0.79923654], dtype=float32),\n",
       "  Array([ 0.26876748, -0.24839334,  0.79923654], dtype=float32),\n",
       "  Array([ 0.26876748, -0.24839334,  0.79923654], dtype=float32),\n",
       "  Array([ 0.26876748, -0.24839334,  0.79923654], dtype=float32),\n",
       "  Array([ 0.26876748, -0.24839334,  0.79923654], dtype=float32),\n",
       "  Array([ 0.26876748, -0.24839334,  0.79923654], dtype=float32)],\n",
       " [Array([ 0.03493699, -0.198526  ,  0.28504306], dtype=float32),\n",
       "  Array([ 0.05467008, -0.20556903,  0.2879694 ], dtype=float32),\n",
       "  Array([ 0.12839839, -0.21615738,  0.30747497], dtype=float32),\n",
       "  Array([ 0.25338876, -0.2480327 ,  0.38547328], dtype=float32),\n",
       "  Array([ 0.35608405, -0.26248986,  0.5322279 ], dtype=float32),\n",
       "  Array([ 0.3817351 , -0.24343966,  0.67996335], dtype=float32),\n",
       "  Array([ 0.3471588 , -0.19892067,  0.7906286 ], dtype=float32),\n",
       "  Array([ 0.31936902, -0.21280576,  0.81041855], dtype=float32),\n",
       "  Array([ 0.30544874, -0.2563585 ,  0.8026124 ], dtype=float32),\n",
       "  Array([ 0.2788391 , -0.25173664,  0.81372756], dtype=float32),\n",
       "  Array([ 0.26248008, -0.25572088,  0.8137799 ], dtype=float32),\n",
       "  Array([ 0.25404978, -0.25700277,  0.81358284], dtype=float32),\n",
       "  Array([ 0.25229353, -0.25338423,  0.8163977 ], dtype=float32)])"
      ]
     },
     "execution_count": 22,
     "metadata": {},
     "output_type": "execute_result"
    }
   ],
   "source": [
    "[i.info[\"target_pos\"] for i in rollout], [_i.obs[\"proprioception\"][15:18] for _i in rollout]"
   ]
  },
  {
   "cell_type": "code",
   "execution_count": 11,
   "id": "755b836e",
   "metadata": {},
   "outputs": [
    {
     "data": {
      "text/plain": [
       "np.float32(7.423525)"
      ]
     },
     "execution_count": 11,
     "metadata": {},
     "output_type": "execute_result"
    }
   ],
   "source": [
    "np.sum(rewards)"
   ]
  },
  {
   "cell_type": "code",
   "execution_count": null,
   "id": "64928ed0",
   "metadata": {},
   "outputs": [],
   "source": []
  }
 ],
 "metadata": {
  "kernelspec": {
   "display_name": "myouser",
   "language": "python",
   "name": "python3"
  },
  "language_info": {
   "codemirror_mode": {
    "name": "ipython",
    "version": 3
   },
   "file_extension": ".py",
   "mimetype": "text/x-python",
   "name": "python",
   "nbconvert_exporter": "python",
   "pygments_lexer": "ipython3",
   "version": "3.12.11"
  }
 },
 "nbformat": 4,
 "nbformat_minor": 5
}
