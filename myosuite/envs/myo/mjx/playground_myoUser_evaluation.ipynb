{
 "cells": [
  {
   "cell_type": "code",
   "execution_count": 2,
   "id": "0bbf96b8",
   "metadata": {},
   "outputs": [
    {
     "name": "stdout",
     "output_type": "stream",
     "text": [
      "env: MUJOCO_GL=egl\n"
     ]
    }
   ],
   "source": [
    "%env MUJOCO_GL=egl\n",
    "\n",
    "import os\n",
    "os.environ[\"XLA_PYTHON_CLIENT_MEM_FRACTION\"] = \".20\"  #restrict JAX to 20% of available GPU RAM; useful for loading MyoSuite and UitB policies simultaneously"
   ]
  },
  {
   "cell_type": "code",
   "execution_count": null,
   "id": "eaedc17e",
   "metadata": {},
   "outputs": [
    {
     "name": "stdout",
     "output_type": "stream",
     "text": [
      "MyoSuite:> Registering Myo Envs\n",
      "MyoSuite:> Registering MyoUser Envs\n"
     ]
    }
   ],
   "source": [
    "import mujoco\n",
    "from mujoco import mjx\n",
    "\n",
    "import numpy as np\n",
    "from brax import envs\n",
    "# from brax.training.acme.running_statistics import normalize\n",
    "# from brax.training.acme import running_statistics\n",
    "# from brax.io import model\n",
    "# from etils import epath\n",
    "import functools\n",
    "\n",
    "import myosuite\n",
    "# from myosuite.envs.myo.myouser.utils import update_target_visuals\n",
    "from myosuite.train.utils.train import train_or_load_checkpoint\n",
    "# from myosuite.envs.myo.mjx.train_jax_ppo_steering import get_observation_size\n",
    "from myosuite.envs.myo.myouser.myouser_envs import get_observation_size\n",
    "import mediapy as media\n",
    "\n",
    "import jax\n",
    "import jax.numpy as jp\n",
    "\n",
    "from mujoco_playground import wrapper, registry\n",
    "from ml_collections import ConfigDict\n",
    "import json\n",
    "\n",
    "myo_path = os.path.dirname(os.path.dirname(myosuite.__file__))\n",
    "os.chdir(myo_path)"
   ]
  },
  {
   "cell_type": "code",
   "execution_count": 4,
   "id": "24566bbf",
   "metadata": {},
   "outputs": [
    {
     "name": "stdout",
     "output_type": "stream",
     "text": [
      "Fri Aug 15 00:03:45 2025       \n",
      "+-----------------------------------------------------------------------------------------+\n",
      "| NVIDIA-SMI 570.158.01             Driver Version: 570.158.01     CUDA Version: 12.8     |\n",
      "|-----------------------------------------+------------------------+----------------------+\n",
      "| GPU  Name                 Persistence-M | Bus-Id          Disp.A | Volatile Uncorr. ECC |\n",
      "| Fan  Temp   Perf          Pwr:Usage/Cap |           Memory-Usage | GPU-Util  Compute M. |\n",
      "|                                         |                        |               MIG M. |\n",
      "|=========================================+========================+======================|\n",
      "|   0  NVIDIA GeForce RTX 5090        On  |   00000000:01:00.0 Off |                  N/A |\n",
      "| 34%   56C    P1            168W /  600W |    1937MiB /  32607MiB |     82%      Default |\n",
      "|                                         |                        |                  N/A |\n",
      "+-----------------------------------------+------------------------+----------------------+\n",
      "                                                                                         \n",
      "+-----------------------------------------------------------------------------------------+\n",
      "| Processes:                                                                              |\n",
      "|  GPU   GI   CI              PID   Type   Process name                        GPU Memory |\n",
      "|        ID   ID                                                               Usage      |\n",
      "|=========================================================================================|\n",
      "|    0   N/A  N/A           77338      G   /usr/lib/xorg/Xorg                       76MiB |\n",
      "|    0   N/A  N/A           77576      G   /usr/bin/gnome-shell                     13MiB |\n",
      "|    0   N/A  N/A           78428      G   /usr/bin/nautilus                        52MiB |\n",
      "|    0   N/A  N/A          390989      C   python                                  876MiB |\n",
      "|    0   N/A  N/A          409794      C   python                                  876MiB |\n",
      "+-----------------------------------------------------------------------------------------+\n",
      "Setting environment variable to use GPU rendering:\n",
      "env: MUJOCO_GL=egl\n",
      "Checking that the installation succeeded:\n",
      "Installation successful.\n"
     ]
    }
   ],
   "source": [
    "# @title Check if MuJoCo installation was successful\n",
    "\n",
    "import distutils.util\n",
    "import os\n",
    "import subprocess\n",
    "\n",
    "if subprocess.run('nvidia-smi').returncode:\n",
    "  raise RuntimeError(\n",
    "      'Cannot communicate with GPU. '\n",
    "      'Make sure you are using a GPU Colab runtime. '\n",
    "      'Go to the Runtime menu and select Choose runtime type.'\n",
    "  )\n",
    "\n",
    "# Add an ICD config so that glvnd can pick up the Nvidia EGL driver.\n",
    "# This is usually installed as part of an Nvidia driver package, but the Colab\n",
    "# kernel doesn't install its driver via APT, and as a result the ICD is missing.\n",
    "# (https://github.com/NVIDIA/libglvnd/blob/master/src/EGL/icd_enumeration.md)\n",
    "NVIDIA_ICD_CONFIG_PATH = '/usr/share/glvnd/egl_vendor.d/10_nvidia.json'\n",
    "if not os.path.exists(NVIDIA_ICD_CONFIG_PATH):\n",
    "  with open(NVIDIA_ICD_CONFIG_PATH, 'w') as f:\n",
    "    f.write(\"\"\"{\n",
    "    \"file_format_version\" : \"1.0.0\",\n",
    "    \"ICD\" : {\n",
    "        \"library_path\" : \"libEGL_nvidia.so.0\"\n",
    "    }\n",
    "}\n",
    "\"\"\")\n",
    "\n",
    "# Configure MuJoCo to use the EGL rendering backend (requires GPU)\n",
    "print('Setting environment variable to use GPU rendering:')\n",
    "%env MUJOCO_GL=egl\n",
    "\n",
    "try:\n",
    "  print('Checking that the installation succeeded:')\n",
    "  import mujoco\n",
    "\n",
    "  mujoco.MjModel.from_xml_string('<mujoco/>')\n",
    "except Exception as e:\n",
    "  raise e from RuntimeError(\n",
    "      'Something went wrong during installation. Check the shell output above '\n",
    "      'for more information.\\n'\n",
    "      'If using a hosted Colab runtime, make sure you enable GPU acceleration '\n",
    "      'by going to the Runtime menu and selecting \"Choose runtime type\".'\n",
    "  )\n",
    "\n",
    "print('Installation successful.')\n",
    "\n",
    "# Tell XLA to use Triton GEMM, this improves steps/sec by ~30% on some GPUs\n",
    "xla_flags = os.environ.get('XLA_FLAGS', '')\n",
    "xla_flags += ' --xla_gpu_triton_gemm_any=True'\n",
    "os.environ['XLA_FLAGS'] = xla_flags"
   ]
  },
  {
   "cell_type": "code",
   "execution_count": null,
   "id": "6adc215d",
   "metadata": {},
   "outputs": [],
   "source": [
    "%reload_ext tensorboard\n",
    "%tensorboard --logdir ./logs/ --port 6006"
   ]
  },
  {
   "cell_type": "code",
   "execution_count": 7,
   "id": "8f2bbd80",
   "metadata": {},
   "outputs": [],
   "source": [
    "# params[1][\"params\"][\"hidden_3\"][\"kernel\"].shape"
   ]
  },
  {
   "cell_type": "markdown",
   "id": "f42ae8a5",
   "metadata": {},
   "source": [
    "Load Environment"
   ]
  },
  {
   "cell_type": "code",
   "execution_count": 8,
   "id": "77845a32",
   "metadata": {},
   "outputs": [
    {
     "name": "stdout",
     "output_type": "stream",
     "text": [
      "Current backend: gpu\n"
     ]
    }
   ],
   "source": [
    "# env_name = \"MyoUserPointing\"\n",
    "env_name = \"MyoUserSteering\"\n",
    "\n",
    "print(f\"Current backend: {jax.default_backend()}\")"
   ]
  },
  {
   "cell_type": "code",
   "execution_count": 24,
   "id": "7d523740",
   "metadata": {},
   "outputs": [
    {
     "name": "stdout",
     "output_type": "stream",
     "text": [
      "Restoring from: /scratch/fjf33/myouser/logs/MyoUserSteering-20250814-233508-Testv002e/checkpoints/15001600\n",
      "Checkpoint path: /scratch/fjf33/myouser/logs/MyoUserSteering-20250814-233508-Testv002e/checkpoints\n",
      "No vision, so adding ['screen_pos', 'start_line', 'end_line', 'top_line', 'bottom_line', 'completed_phase_0_arr', 'target'] to obs_keys\n",
      "Obs keys: ['qpos', 'qvel', 'qacc', 'fingertip', 'act', 'screen_pos', 'start_line', 'end_line', 'top_line', 'bottom_line', 'completed_phase_0_arr', 'target']\n",
      "No vision, so adding ['screen_pos', 'start_line', 'end_line', 'top_line', 'bottom_line', 'completed_phase_0_arr', 'target'] to obs_keys\n",
      "Obs keys: ['qpos', 'qvel', 'qacc', 'fingertip', 'act', 'screen_pos', 'start_line', 'end_line', 'top_line', 'bottom_line', 'completed_phase_0_arr', 'target']\n"
     ]
    }
   ],
   "source": [
    "## VARIANT 1: load env, and load params from latest run \n",
    "# Note: load_checkpoint always loads latest checkpoint from this run\n",
    "\n",
    "# checkpoint_path = \"logs/MyoUserPointing-20250718-200508/checkpoints\"\n",
    "# checkpoint_path = \"logs/MyoUserPointing-20250721-221417/checkpoints\"\n",
    "# checkpoint_path = \"logs/MyoUserPointing-20250723-150450-MyoUserBase/checkpoints\"\n",
    "# checkpoint_path = \"logs/MyoUserSteering-20250726-224307-FixedRewardv2/checkpoints\"\n",
    "checkpoint_path = \"logs/MyoUserSteering-20250814-233508-Testv002e/checkpoints\"\n",
    "\n",
    "# checkpoint_path = get_latest_run_path(\"logs/\")\n",
    "\n",
    "# env_cfg = registry.get_default_config(env_name)\n",
    "with open(os.path.join(checkpoint_path, \"config.json\"), \"r\") as f:\n",
    "    env_cfg = ConfigDict(json.load(f))\n",
    "env, make_inference_fn, params = train_or_load_checkpoint(env_name, env_cfg, ppo_params=env_cfg.ppo_config, eval_mode=True, checkpoint_path=checkpoint_path)"
   ]
  },
  {
   "cell_type": "code",
   "execution_count": 6,
   "id": "7d554ff3",
   "metadata": {},
   "outputs": [],
   "source": [
    "# ## VARIANT 2: load params from pickle file\n",
    "\n",
    "# env_cfg = registry.get_default_config(env_name)\n",
    "# env = registry.load(env_name, config=env_cfg)\n",
    "\n",
    "# #param_path = os.path.join(os.path.dirname(checkpoint_path), 'playground_params.pickle')\n",
    "# param_path = \"/scratch/fjf33/myosuite_ankit/myosuite-mjx-policies/myouserbase_params\"\n",
    "\n",
    "# normalize_observations = True\n",
    "# ppo_network = custom_network_factory(\n",
    "#     obs_shape=get_observation_size(),  # Example observation shape\n",
    "#     action_size=26,  # Example action size,\n",
    "#     policy_hidden_layer_sizes=(256, 256),  #(50, 50, 50),\n",
    "#     value_hidden_layer_sizes=(256, 256),  #(50, 50, 50),\n",
    "#     preprocess_observations_fn=running_statistics.normalize if normalize_observations else lambda x, y: x  # Identity function for preprocessing\n",
    "# )\n",
    "\n",
    "# params = model.load_params(param_path)\n",
    "# def deterministic_policy(input_data):\n",
    "#     logits = ppo_network.policy_network.apply(*params[:2], input_data)\n",
    "#     brax_result = ppo_network.parametric_action_distribution.mode(logits)\n",
    "#     return brax_result\n",
    "# params"
   ]
  },
  {
   "cell_type": "markdown",
   "id": "40e6f53f",
   "metadata": {},
   "source": [
    "### Internal Testing"
   ]
  },
  {
   "cell_type": "code",
   "execution_count": null,
   "id": "10f9af3c",
   "metadata": {},
   "outputs": [],
   "source": [
    "from brax.training import acting\n",
    "\n",
    "eval_env = wrapper.wrap_for_brax_training(env, episode_length=200)\n",
    "\n",
    "rng = jax.random.PRNGKey(123)\n",
    "rng, eval_key = jax.random.split(rng)\n",
    "\n",
    "# key = jax.random.PRNGKey(123)\n",
    "# global_key, local_key = jax.random.split(key)\n",
    "# del key\n",
    "# local_key = jax.random.fold_in(local_key, jax.process_index())\n",
    "# local_key, key_env, eval_key = jax.random.split(local_key, 3)\n",
    "\n",
    "evaluator = acting.Evaluator(\n",
    "    eval_env,\n",
    "    functools.partial(make_inference_fn, deterministic=True),\n",
    "    num_eval_envs=1,\n",
    "    episode_length=200,\n",
    "    action_repeat=1,\n",
    "    key=eval_key,\n",
    ")\n",
    "\n",
    "metrics = evaluator.run_evaluation(params, {})"
   ]
  },
  {
   "cell_type": "code",
   "execution_count": 8,
   "id": "a628808c",
   "metadata": {},
   "outputs": [
    {
     "data": {
      "text/plain": [
       "{'eval/walltime': 41.33294916152954,\n",
       " 'eval/episode_reach_dist': Array(0.022375, dtype=float32),\n",
       " 'eval/episode_reward': Array(6.5148783, dtype=float32),\n",
       " 'eval/episode_success_rate': Array(1., dtype=float32),\n",
       " 'eval/episode_target_area_dynamic_width_scale': Array(0., dtype=float32),\n",
       " 'eval/episode_reach_dist_std': Array(0., dtype=float32),\n",
       " 'eval/episode_reward_std': Array(0., dtype=float32),\n",
       " 'eval/episode_success_rate_std': Array(0., dtype=float32),\n",
       " 'eval/episode_target_area_dynamic_width_scale_std': Array(0., dtype=float32),\n",
       " 'eval/avg_episode_length': Array(26., dtype=float32),\n",
       " 'eval/std_episode_length': Array(0., dtype=float32),\n",
       " 'eval/epoch_eval_time': 41.33294916152954,\n",
       " 'eval/sps': 4.838754651123446}"
      ]
     },
     "execution_count": 8,
     "metadata": {},
     "output_type": "execute_result"
    }
   ],
   "source": [
    "metrics"
   ]
  },
  {
   "cell_type": "code",
   "execution_count": 9,
   "id": "33d01bbb",
   "metadata": {},
   "outputs": [
    {
     "data": {
      "text/plain": [
       "{'reach_dist': Array([0.02351627], dtype=float32),\n",
       " 'reward': Array([6.330341], dtype=float32),\n",
       " 'success_rate': Array([1.], dtype=float32),\n",
       " 'target_area_dynamic_width_scale': Array([0.], dtype=float32)}"
      ]
     },
     "execution_count": 9,
     "metadata": {},
     "output_type": "execute_result"
    }
   ],
   "source": [
    "evaluator._key, unroll_key = jax.random.split(evaluator._key)\n",
    "eval_state = evaluator._generate_eval_unroll(params, unroll_key)\n",
    "eval_state.info[\"eval_metrics\"].episode_metrics"
   ]
  },
  {
   "cell_type": "code",
   "execution_count": 55,
   "id": "749db759",
   "metadata": {},
   "outputs": [],
   "source": [
    "from brax.training.acting import generate_unroll\n",
    "_eval_env = envs.training.EvalWrapper(eval_env)\n",
    "def _generate_unroll(params, key, num_eval_envs=1):\n",
    "    reset_keys = jax.random.split(key, num_eval_envs)\n",
    "    eval_first_state = _eval_env.reset(reset_keys)\n",
    "    return generate_unroll(\n",
    "    _eval_env, eval_first_state,\n",
    "    make_inference_fn(params, deterministic=True),\n",
    "    key=key,\n",
    "    unroll_length=200)\n",
    "generate_unroll_jit = jax.jit(_generate_unroll)"
   ]
  },
  {
   "cell_type": "code",
   "execution_count": 56,
   "id": "a0a55bff",
   "metadata": {},
   "outputs": [],
   "source": [
    "# _eval_env = envs.training.EvalWrapper(eval_env)\n",
    "evaluator._key, unroll_key = jax.random.split(evaluator._key)\n",
    "# reset_keys = jax.random.split(unroll_key, 1)\n",
    "# eval_first_state = _eval_env.reset(reset_keys)\n",
    "# eval_final_state, eval_data = generate_unroll(\n",
    "#     _eval_env, eval_first_state,\n",
    "#     make_inference_fn(params, deterministic=True),\n",
    "#     key=unroll_key,\n",
    "#     unroll_length=200)\n",
    "eval_final_state, eval_data = generate_unroll_jit(\n",
    "    params, key=unroll_key)"
   ]
  },
  {
   "cell_type": "code",
   "execution_count": 57,
   "id": "a2c303f7",
   "metadata": {},
   "outputs": [
    {
     "data": {
      "text/plain": [
       "(Array(-10.9054, dtype=float32),\n",
       " {'reach_dist': Array([0.02216392], dtype=float32),\n",
       "  'reward': Array([6.478419], dtype=float32),\n",
       "  'success_rate': Array([1.], dtype=float32),\n",
       "  'target_area_dynamic_width_scale': Array([0.], dtype=float32)})"
      ]
     },
     "execution_count": 57,
     "metadata": {},
     "output_type": "execute_result"
    }
   ],
   "source": [
    "eval_data.reward.sum(), eval_final_state.info[\"eval_metrics\"].episode_metrics"
   ]
  },
  {
   "cell_type": "markdown",
   "id": "2f254fcf",
   "metadata": {},
   "source": [
    "### Visualize Rollouts"
   ]
  },
  {
   "cell_type": "code",
   "execution_count": 25,
   "id": "b40d443a",
   "metadata": {},
   "outputs": [],
   "source": [
    "eval_env = env\n",
    "# eval_env = wrapper.wrap_for_brax_training(env, episode_length=200)\n",
    "# eval_env = envs.training.EvalWrapper(_eval_env)\n",
    "\n",
    "# # Hide model target sphere for visualization of policies trained without vision\n",
    "# eval_env.unwrapped.mj_model.geom(\"target_sphere\").rgba = np.array([0., 1., 0., 1])  #np.zeros(4, dtype=np.float32)"
   ]
  },
  {
   "cell_type": "code",
   "execution_count": 26,
   "id": "82de8a3d",
   "metadata": {},
   "outputs": [],
   "source": [
    "jit_reset = jax.jit(eval_env.reset)\n",
    "jit_step = jax.jit(eval_env.step)\n",
    "\n",
    "# For VARIANT 1:\n",
    "jit_inference_fn = jax.jit(make_inference_fn(params, deterministic=True))"
   ]
  },
  {
   "cell_type": "code",
   "execution_count": 46,
   "id": "5ab48442",
   "metadata": {},
   "outputs": [
    {
     "name": "stderr",
     "output_type": "stream",
     "text": [
      "100%|██████████| 24/24 [00:00<00:00, 856.38it/s]\n"
     ]
    },
    {
     "data": {
      "text/html": [
       "<table class=\"show_videos\" style=\"border-spacing:0px;\"><tr><td style=\"padding:1px;\"><video controls width=\"320\" height=\"240\" style=\"object-fit:cover;\" loop autoplay muted>\n",
       "      <source src=\"data:video/mp4;base64,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\" type=\"video/mp4\"/>\n",
       "      This browser does not support the video tag.\n",
       "      </video></td></tr></table>"
      ],
      "text/plain": [
       "<IPython.core.display.HTML object>"
      ]
     },
     "metadata": {},
     "output_type": "display_data"
    }
   ],
   "source": [
    "eval_key = jax.random.PRNGKey(123)\n",
    "# reset_keys = jax.random.split(eval_key, 1)  #only required if wrapper.wrap_for_brax_training is used\n",
    "eval_key, reset_keys = jax.random.split(eval_key)\n",
    "rollout = []\n",
    "# modify_scene_fns = []\n",
    "n_episodes = 1\n",
    "\n",
    "for _ in range(n_episodes):\n",
    "  state = jit_reset(reset_keys)\n",
    "  rollout.append(state)\n",
    "  # modify_scene_fns.append(functools.partial(update_target_visuals, target_pos=state.info[\"target_pos\"].flatten(), target_size=state.info[\"target_radius\"].flatten()))\n",
    "  for i in range(env_cfg.ppo_config.episode_length):\n",
    "    eval_key, key = jax.random.split(eval_key)\n",
    "    ctrl, _ = jit_inference_fn(state.obs, key)  #VARIANT 1\n",
    "    # ctrl = deterministic_policy(state.obs)  #VARIANT 2\n",
    "    # ctrl = jax.random.uniform(act_rng, shape=eval_env._na)  #BASELINE: random control\n",
    "    state = jit_step(state, ctrl)\n",
    "    # touch_detected = any([({eval_env.mj_model.geom(con_geom[0]).name, eval_env.mj_model.geom(con_geom[1]).name} == {\"fingertip_contact\", \"screen\"}) and (con_dist < 0) for con_geom, con_dist in zip(state.data._impl.contact.geom, state.data._impl.contact.dist)])\n",
    "    # if touch_detected:\n",
    "    #   print(f\"Step {i}, touch detected. {state.data._impl.contact.dist}\")    \n",
    "    # print(f\"Step {i}, ee_pos: {state.obs[:, 15:18]}\")\n",
    "    # print(f\"Target {i}, target_pos: {state.obs[:, -4:-1]}\")\n",
    "    # print(f\"Step {i}, steps_since_last_hit: {state.info['steps_since_last_hit']}\")\n",
    "    rollout.append(state)\n",
    "    # modify_scene_fns.append(functools.partial(update_target_visuals, target_pos=state.info[\"target_pos\"].flatten(), target_size=state.info[\"target_radius\"].flatten()))\n",
    "    if state.done.all():\n",
    "      break\n",
    "\n",
    "render_every = 1\n",
    "traj = rollout[::render_every]\n",
    "# mod_fns = modify_scene_fns[::render_every]\n",
    "frames = eval_env.render(traj, camera=\"fixed-eye\") #, modify_scene_fns=mod_fns)\n",
    "rewards = [s.reward for s in rollout]\n",
    "media.show_video(frames, fps=1.0 / eval_env.dt / render_every / 5)"
   ]
  },
  {
   "cell_type": "code",
   "execution_count": 47,
   "id": "4c55de2e",
   "metadata": {},
   "outputs": [
    {
     "data": {
      "text/plain": [
       "[(Array([ 0.03493699, -0.198526  ,  0.28504306], dtype=float32),\n",
       "  Array([-0.053655  ,  0.14310211,  1.0893918 ], dtype=float32)),\n",
       " (Array([ 0.04069119, -0.20599592,  0.28613693], dtype=float32),\n",
       "  Array([-0.053655  ,  0.14310211,  1.0893918 ], dtype=float32)),\n",
       " (Array([ 0.08228442, -0.2298862 ,  0.29534462], dtype=float32),\n",
       "  Array([-0.053655  ,  0.14310211,  1.0893918 ], dtype=float32)),\n",
       " (Array([ 0.17071193, -0.25748423,  0.33155507], dtype=float32),\n",
       "  Array([-0.053655  ,  0.14310211,  1.0893918 ], dtype=float32)),\n",
       " (Array([ 0.30330464, -0.27855498,  0.44532046], dtype=float32),\n",
       "  Array([-0.053655  ,  0.14310211,  1.0893918 ], dtype=float32)),\n",
       " (Array([ 0.40173364, -0.2501375 ,  0.6785252 ], dtype=float32),\n",
       "  Array([-0.053655  ,  0.14310211,  1.0893918 ], dtype=float32)),\n",
       " (Array([ 0.36892766, -0.19578382,  0.9501913 ], dtype=float32),\n",
       "  Array([-0.053655  ,  0.14310211,  1.0893918 ], dtype=float32)),\n",
       " (Array([ 0.26211452, -0.15788034,  1.1548858 ], dtype=float32),\n",
       "  Array([-0.053655  ,  0.14310211,  1.0893918 ], dtype=float32)),\n",
       " (Array([ 0.1382297 , -0.09968115,  1.2724311 ], dtype=float32),\n",
       "  Array([-0.053655  ,  0.14310211,  1.0893918 ], dtype=float32)),\n",
       " (Array([ 0.04673665, -0.0121384 ,  1.289469  ], dtype=float32),\n",
       "  Array([-0.053655  ,  0.14310211,  1.0893918 ], dtype=float32)),\n",
       " (Array([-0.00790688,  0.06755178,  1.2471933 ], dtype=float32),\n",
       "  Array([-0.053655  ,  0.14310211,  1.0893918 ], dtype=float32)),\n",
       " (Array([-0.03978616,  0.11831905,  1.1897864 ], dtype=float32),\n",
       "  Array([-0.053655  ,  0.14310211,  1.0893918 ], dtype=float32)),\n",
       " (Array([-0.06033163,  0.144251  ,  1.1416088 ], dtype=float32),\n",
       "  Array([-0.053655  ,  0.14310211,  1.0893918 ], dtype=float32)),\n",
       " (Array([-0.06024566,  0.15686229,  1.1065345 ], dtype=float32),\n",
       "  Array([-0.053655  ,  0.14310211,  1.0893918 ], dtype=float32)),\n",
       " (Array([-0.0372186 ,  0.16022496,  1.0876344 ], dtype=float32),\n",
       "  Array([-0.053655  ,  0.14310211,  1.0893918 ], dtype=float32)),\n",
       " (Array([-0.00217625,  0.15444455,  1.0830106 ], dtype=float32),\n",
       "  Array([-0.053655  ,  0.14310211,  1.0893918 ], dtype=float32)),\n",
       " (Array([-0.01650098,  0.15042123,  1.104063  ], dtype=float32),\n",
       "  Array([-0.053655  ,  0.14310211,  1.0893918 ], dtype=float32)),\n",
       " (Array([-0.04647857,  0.1371809 ,  1.1517261 ], dtype=float32),\n",
       "  Array([-0.053655  ,  0.14310211,  1.0893918 ], dtype=float32)),\n",
       " (Array([-0.08048318,  0.09274635,  1.231864  ], dtype=float32),\n",
       "  Array([-0.053655  ,  0.14310211,  1.0893918 ], dtype=float32)),\n",
       " (Array([-0.10023411, -0.01797669,  1.3274988 ], dtype=float32),\n",
       "  Array([-0.053655  ,  0.14310211,  1.0893918 ], dtype=float32)),\n",
       " (Array([-0.08209797, -0.20124476,  1.3755354 ], dtype=float32),\n",
       "  Array([-0.053655  ,  0.14310211,  1.0893918 ], dtype=float32)),\n",
       " (Array([-0.04339929, -0.37826937,  1.3181118 ], dtype=float32),\n",
       "  Array([-0.053655  ,  0.14310211,  1.0893918 ], dtype=float32)),\n",
       " (Array([-0.03436226, -0.4699339 ,  1.201973  ], dtype=float32),\n",
       "  Array([-0.053655  ,  0.14310211,  1.0893918 ], dtype=float32)),\n",
       " (Array([-0.05991256, -0.48567975,  1.1069062 ], dtype=float32),\n",
       "  Array([-0.053655  ,  0.14310211,  1.0893918 ], dtype=float32))]"
      ]
     },
     "execution_count": 47,
     "metadata": {},
     "output_type": "execute_result"
    }
   ],
   "source": [
    "[(r.data.site_xpos[eval_env.fingertip_id], r.info[\"start_line\"]) for r in rollout]"
   ]
  },
  {
   "cell_type": "code",
   "execution_count": 34,
   "id": "a7a3076d",
   "metadata": {},
   "outputs": [
    {
     "data": {
      "text/plain": [
       "[(Array(0., dtype=float32, weak_type=True),\n",
       "  Array(0., dtype=float32, weak_type=True),\n",
       "  Array(0., dtype=float32, weak_type=True)),\n",
       " (Array(1.3049129, dtype=float32),\n",
       "  Array(0., dtype=float32),\n",
       "  Array(1.3049129, dtype=float32)),\n",
       " (Array(1.3117665, dtype=float32),\n",
       "  Array(0., dtype=float32),\n",
       "  Array(1.3117665, dtype=float32)),\n",
       " (Array(1.3100841, dtype=float32),\n",
       "  Array(0., dtype=float32),\n",
       "  Array(1.3100841, dtype=float32)),\n",
       " (Array(1.2725639, dtype=float32),\n",
       "  Array(0., dtype=float32),\n",
       "  Array(1.2725639, dtype=float32)),\n",
       " (Array(1.1525897, dtype=float32),\n",
       "  Array(0., dtype=float32),\n",
       "  Array(1.1525897, dtype=float32)),\n",
       " (Array(0.9832926, dtype=float32),\n",
       "  Array(0., dtype=float32),\n",
       "  Array(0.9832926, dtype=float32)),\n",
       " (Array(0.8651339, dtype=float32),\n",
       "  Array(0., dtype=float32),\n",
       "  Array(0.8651339, dtype=float32)),\n",
       " (Array(0.78354716, dtype=float32),\n",
       "  Array(0., dtype=float32),\n",
       "  Array(0.78354716, dtype=float32)),\n",
       " (Array(0.69642377, dtype=float32),\n",
       "  Array(0., dtype=float32),\n",
       "  Array(0.69642377, dtype=float32)),\n",
       " (Array(0.60484743, dtype=float32),\n",
       "  Array(0., dtype=float32),\n",
       "  Array(0.60484743, dtype=float32)),\n",
       " (Array(0.52834445, dtype=float32),\n",
       "  Array(0., dtype=float32),\n",
       "  Array(0.52834445, dtype=float32)),\n",
       " (Array(0.47666502, dtype=float32),\n",
       "  Array(0., dtype=float32),\n",
       "  Array(0.47666502, dtype=float32)),\n",
       " (Array(0., dtype=float32),\n",
       "  Array(0.43815583, dtype=float32),\n",
       "  Array(0.43815583, dtype=float32)),\n",
       " (Array(0., dtype=float32),\n",
       "  Array(0.44144285, dtype=float32),\n",
       "  Array(0.44144285, dtype=float32)),\n",
       " (Array(0., dtype=float32),\n",
       "  Array(0.43843234, dtype=float32),\n",
       "  Array(0.43843234, dtype=float32)),\n",
       " (Array(0., dtype=float32),\n",
       "  Array(0.43317547, dtype=float32),\n",
       "  Array(0.43317547, dtype=float32)),\n",
       " (Array(0., dtype=float32),\n",
       "  Array(0.42277157, dtype=float32),\n",
       "  Array(0.42277157, dtype=float32)),\n",
       " (Array(0., dtype=float32),\n",
       "  Array(0.4007943, dtype=float32),\n",
       "  Array(0.4007943, dtype=float32)),\n",
       " (Array(0., dtype=float32),\n",
       "  Array(0.35776806, dtype=float32),\n",
       "  Array(0.35776806, dtype=float32)),\n",
       " (Array(0., dtype=float32),\n",
       "  Array(0.29838577, dtype=float32),\n",
       "  Array(0.29838577, dtype=float32)),\n",
       " (Array(0., dtype=float32),\n",
       "  Array(0.24879217, dtype=float32),\n",
       "  Array(0.24879217, dtype=float32)),\n",
       " (Array(0., dtype=float32),\n",
       "  Array(0.2208562, dtype=float32),\n",
       "  Array(0.2208562, dtype=float32)),\n",
       " (Array(1.0530678, dtype=float32),\n",
       "  Array(0., dtype=float32),\n",
       "  Array(1.0530678, dtype=float32))]"
      ]
     },
     "execution_count": 34,
     "metadata": {},
     "output_type": "execute_result"
    }
   ],
   "source": [
    "[(r.metrics['distance_phase_0'], r.metrics['distance_phase_1'], r.metrics['dist']) for r in rollout]"
   ]
  },
  {
   "cell_type": "code",
   "execution_count": 49,
   "id": "38e61624",
   "metadata": {},
   "outputs": [
    {
     "data": {
      "text/plain": [
       "(True, [{'fingertip_contact', 'screen'}])"
      ]
     },
     "execution_count": 49,
     "metadata": {},
     "output_type": "execute_result"
    }
   ],
   "source": [
    "touch_detected = any([{eval_env.mj_model.geom(con[0]).name, eval_env.mj_model.geom(con[1]).name} == {\"fingertip_contact\", \"screen\"} for con in state.data._impl.contact.geom])\n",
    "touches = [{eval_env.mj_model.geom(con[0]).name, eval_env.mj_model.geom(con[1]).name} for con in state.data._impl.contact.geom]\n",
    "\n",
    "touch_detected, touches"
   ]
  },
  {
   "cell_type": "code",
   "execution_count": 51,
   "id": "68aaeedb",
   "metadata": {},
   "outputs": [
    {
     "data": {
      "text/plain": [
       "Array([1.], dtype=float32)"
      ]
     },
     "execution_count": 51,
     "metadata": {},
     "output_type": "execute_result"
    }
   ],
   "source": [
    "state.data._impl.contact.dist"
   ]
  },
  {
   "cell_type": "code",
   "execution_count": 41,
   "id": "fc819166",
   "metadata": {},
   "outputs": [
    {
     "data": {
      "text/plain": [
       "<bound method PyCapsule.geom of <mujoco._structs.MjModel object at 0x7749d83c61b0>>"
      ]
     },
     "execution_count": 41,
     "metadata": {},
     "output_type": "execute_result"
    }
   ],
   "source": [
    "eval_env.mj_model.geom"
   ]
  },
  {
   "cell_type": "code",
   "execution_count": 26,
   "id": "8eaf5d34",
   "metadata": {},
   "outputs": [
    {
     "data": {
      "text/plain": [
       "(np.float32(-0.09992059), np.float64(-0.09999996940976795))"
      ]
     },
     "execution_count": 26,
     "metadata": {},
     "output_type": "execute_result"
    }
   ],
   "source": [
    "# eval_key, reset_keys = jax.random.split(eval_key)\n",
    "# state = jit_reset(reset_keys)\n",
    "# eval_key, key = jax.random.split(eval_key)\n",
    "# ctrl, _ = jit_inference_fn(state.obs, key)  #VARIANT 1\n",
    "state = jit_step(state, ctrl)\n",
    "state.metrics[\"dist_combined\"]\n",
    "(np.exp(-state.metrics[\"dist_combined\"]*10.) - 1.)/10., (np.exp(-1.5*10.) - 1.)/10."
   ]
  },
  {
   "cell_type": "code",
   "execution_count": 33,
   "id": "893fc547",
   "metadata": {},
   "outputs": [
    {
     "data": {
      "text/plain": [
       "(np.float64(0.2465969639416065), np.float64(0.049787068367863944))"
      ]
     },
     "execution_count": 33,
     "metadata": {},
     "output_type": "execute_result"
    }
   ],
   "source": [
    "np.exp(-0.7*2), (np.exp(-1.5*2))"
   ]
  },
  {
   "cell_type": "code",
   "execution_count": 17,
   "id": "d4fbf4a9",
   "metadata": {},
   "outputs": [
    {
     "data": {
      "text/plain": [
       "[(Array(False, dtype=bool), Array(0., dtype=float32)),\n",
       " (Array(False, dtype=bool), Array(-0.09999998, dtype=float32)),\n",
       " (Array(False, dtype=bool), Array(-0.09999997, dtype=float32)),\n",
       " (Array(False, dtype=bool), Array(-0.09999994, dtype=float32)),\n",
       " (Array(False, dtype=bool), Array(-0.09999982, dtype=float32)),\n",
       " (Array(False, dtype=bool), Array(-0.09999924, dtype=float32)),\n",
       " (Array(False, dtype=bool), Array(-0.09999751, dtype=float32)),\n",
       " (Array(False, dtype=bool), Array(-0.09999336, dtype=float32)),\n",
       " (Array(False, dtype=bool), Array(-0.09998853, dtype=float32)),\n",
       " (Array(False, dtype=bool), Array(-0.09998377, dtype=float32)),\n",
       " (Array(False, dtype=bool), Array(-0.0999779, dtype=float32)),\n",
       " (Array(False, dtype=bool), Array(-0.09997098, dtype=float32)),\n",
       " (Array(False, dtype=bool), Array(-0.0999607, dtype=float32)),\n",
       " (Array(False, dtype=bool), Array(-0.09995576, dtype=float32)),\n",
       " (Array(False, dtype=bool), Array(-0.0999537, dtype=float32)),\n",
       " (Array(False, dtype=bool), Array(-0.0999264, dtype=float32)),\n",
       " (Array(True, dtype=bool), Array(4.900092, dtype=float32)),\n",
       " (Array(True, dtype=bool), Array(4.9000916, dtype=float32)),\n",
       " (Array(True, dtype=bool), Array(4.9000926, dtype=float32)),\n",
       " (Array(True, dtype=bool), Array(4.900093, dtype=float32)),\n",
       " (Array(True, dtype=bool), Array(4.9000926, dtype=float32)),\n",
       " (Array(True, dtype=bool), Array(4.9000907, dtype=float32)),\n",
       " (Array(True, dtype=bool), Array(4.9000893, dtype=float32)),\n",
       " (Array(True, dtype=bool), Array(4.9000897, dtype=float32)),\n",
       " (Array(True, dtype=bool), Array(4.9000907, dtype=float32)),\n",
       " (Array(True, dtype=bool), Array(4.900092, dtype=float32)),\n",
       " (Array(True, dtype=bool), Array(4.9000926, dtype=float32)),\n",
       " (Array(True, dtype=bool), Array(4.900092, dtype=float32)),\n",
       " (Array(True, dtype=bool), Array(4.9000897, dtype=float32)),\n",
       " (Array(True, dtype=bool), Array(4.9000883, dtype=float32)),\n",
       " (Array(True, dtype=bool), Array(4.9000893, dtype=float32)),\n",
       " (Array(True, dtype=bool), Array(4.90009, dtype=float32)),\n",
       " (Array(True, dtype=bool), Array(4.900091, dtype=float32)),\n",
       " (Array(True, dtype=bool), Array(4.900092, dtype=float32)),\n",
       " (Array(True, dtype=bool), Array(4.9000916, dtype=float32)),\n",
       " (Array(True, dtype=bool), Array(4.9000897, dtype=float32)),\n",
       " (Array(True, dtype=bool), Array(4.9000883, dtype=float32)),\n",
       " (Array(True, dtype=bool), Array(4.9000893, dtype=float32)),\n",
       " (Array(True, dtype=bool), Array(4.9000897, dtype=float32)),\n",
       " (Array(True, dtype=bool), Array(4.900091, dtype=float32)),\n",
       " (Array(True, dtype=bool), Array(4.900092, dtype=float32)),\n",
       " (Array(True, dtype=bool), Array(4.900091, dtype=float32)),\n",
       " (Array(True, dtype=bool), Array(4.9000893, dtype=float32)),\n",
       " (Array(True, dtype=bool), Array(4.900088, dtype=float32)),\n",
       " (Array(True, dtype=bool), Array(4.9000883, dtype=float32)),\n",
       " (Array(True, dtype=bool), Array(4.9000893, dtype=float32)),\n",
       " (Array(True, dtype=bool), Array(4.9000907, dtype=float32)),\n",
       " (Array(True, dtype=bool), Array(4.9000916, dtype=float32)),\n",
       " (Array(True, dtype=bool), Array(4.9000907, dtype=float32)),\n",
       " (Array(True, dtype=bool), Array(4.900089, dtype=float32)),\n",
       " (Array(True, dtype=bool), Array(4.900088, dtype=float32)),\n",
       " (Array(True, dtype=bool), Array(4.900089, dtype=float32)),\n",
       " (Array(True, dtype=bool), Array(4.9000893, dtype=float32)),\n",
       " (Array(True, dtype=bool), Array(4.9000907, dtype=float32)),\n",
       " (Array(True, dtype=bool), Array(4.9000916, dtype=float32)),\n",
       " (Array(True, dtype=bool), Array(4.9000907, dtype=float32)),\n",
       " (Array(True, dtype=bool), Array(4.900089, dtype=float32)),\n",
       " (Array(True, dtype=bool), Array(4.900088, dtype=float32)),\n",
       " (Array(True, dtype=bool), Array(4.900089, dtype=float32)),\n",
       " (Array(True, dtype=bool), Array(4.9000893, dtype=float32)),\n",
       " (Array(True, dtype=bool), Array(4.9000907, dtype=float32)),\n",
       " (Array(True, dtype=bool), Array(4.9000916, dtype=float32)),\n",
       " (Array(True, dtype=bool), Array(4.900091, dtype=float32)),\n",
       " (Array(True, dtype=bool), Array(4.900089, dtype=float32)),\n",
       " (Array(True, dtype=bool), Array(4.900088, dtype=float32)),\n",
       " (Array(True, dtype=bool), Array(4.9000883, dtype=float32)),\n",
       " (Array(True, dtype=bool), Array(4.9000893, dtype=float32)),\n",
       " (Array(True, dtype=bool), Array(4.9000907, dtype=float32)),\n",
       " (Array(True, dtype=bool), Array(4.9000916, dtype=float32)),\n",
       " (Array(True, dtype=bool), Array(4.9000907, dtype=float32)),\n",
       " (Array(True, dtype=bool), Array(4.900089, dtype=float32)),\n",
       " (Array(True, dtype=bool), Array(4.9000874, dtype=float32)),\n",
       " (Array(True, dtype=bool), Array(4.9000883, dtype=float32)),\n",
       " (Array(True, dtype=bool), Array(4.9000893, dtype=float32)),\n",
       " (Array(True, dtype=bool), Array(4.9000907, dtype=float32)),\n",
       " (Array(True, dtype=bool), Array(4.9000916, dtype=float32)),\n",
       " (Array(True, dtype=bool), Array(4.9000907, dtype=float32)),\n",
       " (Array(True, dtype=bool), Array(4.900089, dtype=float32)),\n",
       " (Array(True, dtype=bool), Array(4.900088, dtype=float32)),\n",
       " (Array(True, dtype=bool), Array(4.9000883, dtype=float32)),\n",
       " (Array(True, dtype=bool), Array(4.9000893, dtype=float32))]"
      ]
     },
     "execution_count": 17,
     "metadata": {},
     "output_type": "execute_result"
    }
   ],
   "source": [
    "np.where([r.info[\"phase_0_done\"] for r in rollout])[0][0]*env.unwrapped._ctrl_dt\n",
    "[(r.info[\"phase_0_done\"], r.reward) for r in rollout]"
   ]
  },
  {
   "cell_type": "code",
   "execution_count": 22,
   "id": "b52426c8",
   "metadata": {},
   "outputs": [
    {
     "data": {
      "text/plain": [
       "([Array([ 0.26876748, -0.24839334,  0.79923654], dtype=float32),\n",
       "  Array([ 0.26876748, -0.24839334,  0.79923654], dtype=float32),\n",
       "  Array([ 0.26876748, -0.24839334,  0.79923654], dtype=float32),\n",
       "  Array([ 0.26876748, -0.24839334,  0.79923654], dtype=float32),\n",
       "  Array([ 0.26876748, -0.24839334,  0.79923654], dtype=float32),\n",
       "  Array([ 0.26876748, -0.24839334,  0.79923654], dtype=float32),\n",
       "  Array([ 0.26876748, -0.24839334,  0.79923654], dtype=float32),\n",
       "  Array([ 0.26876748, -0.24839334,  0.79923654], dtype=float32),\n",
       "  Array([ 0.26876748, -0.24839334,  0.79923654], dtype=float32),\n",
       "  Array([ 0.26876748, -0.24839334,  0.79923654], dtype=float32),\n",
       "  Array([ 0.26876748, -0.24839334,  0.79923654], dtype=float32),\n",
       "  Array([ 0.26876748, -0.24839334,  0.79923654], dtype=float32),\n",
       "  Array([ 0.26876748, -0.24839334,  0.79923654], dtype=float32)],\n",
       " [Array([ 0.03493699, -0.198526  ,  0.28504306], dtype=float32),\n",
       "  Array([ 0.05467008, -0.20556903,  0.2879694 ], dtype=float32),\n",
       "  Array([ 0.12839839, -0.21615738,  0.30747497], dtype=float32),\n",
       "  Array([ 0.25338876, -0.2480327 ,  0.38547328], dtype=float32),\n",
       "  Array([ 0.35608405, -0.26248986,  0.5322279 ], dtype=float32),\n",
       "  Array([ 0.3817351 , -0.24343966,  0.67996335], dtype=float32),\n",
       "  Array([ 0.3471588 , -0.19892067,  0.7906286 ], dtype=float32),\n",
       "  Array([ 0.31936902, -0.21280576,  0.81041855], dtype=float32),\n",
       "  Array([ 0.30544874, -0.2563585 ,  0.8026124 ], dtype=float32),\n",
       "  Array([ 0.2788391 , -0.25173664,  0.81372756], dtype=float32),\n",
       "  Array([ 0.26248008, -0.25572088,  0.8137799 ], dtype=float32),\n",
       "  Array([ 0.25404978, -0.25700277,  0.81358284], dtype=float32),\n",
       "  Array([ 0.25229353, -0.25338423,  0.8163977 ], dtype=float32)])"
      ]
     },
     "execution_count": 22,
     "metadata": {},
     "output_type": "execute_result"
    }
   ],
   "source": [
    "[i.info[\"target_pos\"] for i in rollout], [_i.obs[\"proprioception\"][15:18] for _i in rollout]"
   ]
  },
  {
   "cell_type": "code",
   "execution_count": 11,
   "id": "755b836e",
   "metadata": {},
   "outputs": [
    {
     "data": {
      "text/plain": [
       "np.float32(7.423525)"
      ]
     },
     "execution_count": 11,
     "metadata": {},
     "output_type": "execute_result"
    }
   ],
   "source": [
    "np.sum(rewards)"
   ]
  },
  {
   "cell_type": "code",
   "execution_count": null,
   "id": "64928ed0",
   "metadata": {},
   "outputs": [],
   "source": []
  }
 ],
 "metadata": {
  "kernelspec": {
   "display_name": "Python 3",
   "language": "python",
   "name": "python3"
  },
  "language_info": {
   "codemirror_mode": {
    "name": "ipython",
    "version": 3
   },
   "file_extension": ".py",
   "mimetype": "text/x-python",
   "name": "python",
   "nbconvert_exporter": "python",
   "pygments_lexer": "ipython3",
   "version": "3.11.13"
  }
 },
 "nbformat": 4,
 "nbformat_minor": 5
}
