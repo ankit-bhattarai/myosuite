{
 "cells": [
  {
   "cell_type": "code",
   "execution_count": 1,
   "id": "0bbf96b8",
   "metadata": {},
   "outputs": [
    {
     "name": "stdout",
     "output_type": "stream",
     "text": [
      "env: MUJOCO_GL=egl\n"
     ]
    }
   ],
   "source": [
    "%env MUJOCO_GL=egl\n",
    "\n",
    "import os\n",
    "os.environ[\"XLA_PYTHON_CLIENT_MEM_FRACTION\"] = \".20\"  #restrict JAX to 20% of available GPU RAM; useful for loading MyoSuite and UitB policies simultaneously"
   ]
  },
  {
   "cell_type": "code",
   "execution_count": 2,
   "id": "eaedc17e",
   "metadata": {},
   "outputs": [
    {
     "name": "stdout",
     "output_type": "stream",
     "text": [
      "MyoSuite:> Registering Myo Envs\n",
      "MyoSuite:> Registering MyoUser Envs\n"
     ]
    }
   ],
   "source": [
    "import mujoco\n",
    "from mujoco import mjx\n",
    "\n",
    "import numpy as np\n",
    "from brax import envs\n",
    "from brax.training.acme.running_statistics import normalize\n",
    "# from brax.training.agents.ppo import networks as ppo_networks\n",
    "from brax.training.acme import running_statistics\n",
    "from brax.io import model\n",
    "from etils import epath\n",
    "import functools\n",
    "\n",
    "import myosuite\n",
    "from myosuite.envs.myo.myouser.utils import update_target_visuals\n",
    "from myosuite.envs.myo.mjx.utils import get_latest_run_path, load_checkpoint\n",
    "from myosuite.envs.myo.mjx.train_jax_ppo import get_observation_size\n",
    "import mediapy as media\n",
    "\n",
    "import jax\n",
    "import jax.numpy as jp\n",
    "\n",
    "from mujoco_playground import wrapper, registry\n",
    "\n",
    "myo_path = os.path.dirname(os.path.dirname(myosuite.__file__))\n",
    "os.chdir(myo_path)\n",
    "\n",
    "# from playground_myoUser_pointing import PlaygroundArmPointing, default_config\n",
    "# registry.manipulation.register_environment(\"MyoUserPointing\", PlaygroundArmPointing, default_config)\n",
    "from myosuite.envs.myo.myouser.myoarm_pointing_v0 import MyoArmPointing, default_config\n",
    "registry.manipulation.register_environment(\"MyoUserPointing\", MyoArmPointing, default_config)"
   ]
  },
  {
   "cell_type": "code",
   "execution_count": 3,
   "id": "24566bbf",
   "metadata": {},
   "outputs": [
    {
     "name": "stdout",
     "output_type": "stream",
     "text": [
      "Thu Jul 24 13:34:13 2025       \n",
      "+-----------------------------------------------------------------------------------------+\n",
      "| NVIDIA-SMI 570.158.01             Driver Version: 570.158.01     CUDA Version: 12.8     |\n",
      "|-----------------------------------------+------------------------+----------------------+\n",
      "| GPU  Name                 Persistence-M | Bus-Id          Disp.A | Volatile Uncorr. ECC |\n",
      "| Fan  Temp   Perf          Pwr:Usage/Cap |           Memory-Usage | GPU-Util  Compute M. |\n",
      "|                                         |                        |               MIG M. |\n",
      "|=========================================+========================+======================|\n",
      "|   0  NVIDIA GeForce RTX 5090        On  |   00000000:01:00.0 Off |                  N/A |\n",
      "|  0%   38C    P8              2W /  600W |     172MiB /  32607MiB |      0%      Default |\n",
      "|                                         |                        |                  N/A |\n",
      "+-----------------------------------------+------------------------+----------------------+\n",
      "                                                                                         \n",
      "+-----------------------------------------------------------------------------------------+\n",
      "| Processes:                                                                              |\n",
      "|  GPU   GI   CI              PID   Type   Process name                        GPU Memory |\n",
      "|        ID   ID                                                               Usage      |\n",
      "|=========================================================================================|\n",
      "|    0   N/A  N/A           77338      G   /usr/lib/xorg/Xorg                       76MiB |\n",
      "|    0   N/A  N/A           77576      G   /usr/bin/gnome-shell                     12MiB |\n",
      "|    0   N/A  N/A           78428      G   /usr/bin/nautilus                        53MiB |\n",
      "+-----------------------------------------------------------------------------------------+\n",
      "Setting environment variable to use GPU rendering:\n",
      "env: MUJOCO_GL=egl\n",
      "Checking that the installation succeeded:\n",
      "Installation successful.\n"
     ]
    }
   ],
   "source": [
    "# @title Check if MuJoCo installation was successful\n",
    "\n",
    "import distutils.util\n",
    "import os\n",
    "import subprocess\n",
    "\n",
    "if subprocess.run('nvidia-smi').returncode:\n",
    "  raise RuntimeError(\n",
    "      'Cannot communicate with GPU. '\n",
    "      'Make sure you are using a GPU Colab runtime. '\n",
    "      'Go to the Runtime menu and select Choose runtime type.'\n",
    "  )\n",
    "\n",
    "# Add an ICD config so that glvnd can pick up the Nvidia EGL driver.\n",
    "# This is usually installed as part of an Nvidia driver package, but the Colab\n",
    "# kernel doesn't install its driver via APT, and as a result the ICD is missing.\n",
    "# (https://github.com/NVIDIA/libglvnd/blob/master/src/EGL/icd_enumeration.md)\n",
    "NVIDIA_ICD_CONFIG_PATH = '/usr/share/glvnd/egl_vendor.d/10_nvidia.json'\n",
    "if not os.path.exists(NVIDIA_ICD_CONFIG_PATH):\n",
    "  with open(NVIDIA_ICD_CONFIG_PATH, 'w') as f:\n",
    "    f.write(\"\"\"{\n",
    "    \"file_format_version\" : \"1.0.0\",\n",
    "    \"ICD\" : {\n",
    "        \"library_path\" : \"libEGL_nvidia.so.0\"\n",
    "    }\n",
    "}\n",
    "\"\"\")\n",
    "\n",
    "# Configure MuJoCo to use the EGL rendering backend (requires GPU)\n",
    "print('Setting environment variable to use GPU rendering:')\n",
    "%env MUJOCO_GL=egl\n",
    "\n",
    "try:\n",
    "  print('Checking that the installation succeeded:')\n",
    "  import mujoco\n",
    "\n",
    "  mujoco.MjModel.from_xml_string('<mujoco/>')\n",
    "except Exception as e:\n",
    "  raise e from RuntimeError(\n",
    "      'Something went wrong during installation. Check the shell output above '\n",
    "      'for more information.\\n'\n",
    "      'If using a hosted Colab runtime, make sure you enable GPU acceleration '\n",
    "      'by going to the Runtime menu and selecting \"Choose runtime type\".'\n",
    "  )\n",
    "\n",
    "print('Installation successful.')\n",
    "\n",
    "# Tell XLA to use Triton GEMM, this improves steps/sec by ~30% on some GPUs\n",
    "xla_flags = os.environ.get('XLA_FLAGS', '')\n",
    "xla_flags += ' --xla_gpu_triton_gemm_any=True'\n",
    "os.environ['XLA_FLAGS'] = xla_flags"
   ]
  },
  {
   "cell_type": "code",
   "execution_count": 3,
   "id": "6adc215d",
   "metadata": {},
   "outputs": [
    {
     "name": "stderr",
     "output_type": "stream",
     "text": [
      "UsageError: Line magic function `%tensorboard` not found.\n"
     ]
    }
   ],
   "source": [
    "%tensorboard --logdir ./logs/ --port 6006"
   ]
  },
  {
   "cell_type": "code",
   "execution_count": 7,
   "id": "8f2bbd80",
   "metadata": {},
   "outputs": [],
   "source": [
    "# params[1][\"params\"][\"hidden_3\"][\"kernel\"].shape"
   ]
  },
  {
   "cell_type": "markdown",
   "id": "f42ae8a5",
   "metadata": {},
   "source": [
    "Load Environment"
   ]
  },
  {
   "cell_type": "code",
   "execution_count": 4,
   "id": "77845a32",
   "metadata": {},
   "outputs": [
    {
     "name": "stdout",
     "output_type": "stream",
     "text": [
      "Current backend: gpu\n"
     ]
    }
   ],
   "source": [
    "env_name = \"MyoUserPointing\"\n",
    "\n",
    "print(f\"Current backend: {jax.default_backend()}\")"
   ]
  },
  {
   "cell_type": "code",
   "execution_count": 5,
   "id": "7d523740",
   "metadata": {},
   "outputs": [
    {
     "name": "stdout",
     "output_type": "stream",
     "text": [
      "Restoring from: /scratch/fjf33/myouser/logs/MyoUserPointing-20250723-150450-MyoUserBase/checkpoints/15001600\n",
      "Checkpoint path: /scratch/fjf33/myouser/logs/MyoUserPointing-20250723-150450-MyoUserBase/checkpoints\n"
     ]
    }
   ],
   "source": [
    "## VARIANT 1: load env, and load params from latest run \n",
    "# Note: load_checkpoint always loads latest checkpoint from this run\n",
    "\n",
    "# checkpoint_path = \"logs/MyoUserPointing-20250718-200508/checkpoints\"\n",
    "# checkpoint_path = \"logs/MyoUserPointing-20250721-221417/checkpoints\"\n",
    "checkpoint_path = \"logs/MyoUserPointing-20250723-150450-MyoUserBase/checkpoints\"\n",
    "\n",
    "# checkpoint_path = get_latest_run_path(\"logs/\")\n",
    "\n",
    "env_cfg = registry.get_default_config(env_name)\n",
    "env, make_inference_fn, params = load_checkpoint(env_name, env_cfg, get_observation_size, ppo_params=env_cfg.ppo_config, eval_mode=True, checkpoint_path=checkpoint_path)"
   ]
  },
  {
   "cell_type": "code",
   "execution_count": 6,
   "id": "7d554ff3",
   "metadata": {},
   "outputs": [],
   "source": [
    "# ## VARIANT 2: load params from pickle file\n",
    "\n",
    "# env_cfg = registry.get_default_config(env_name)\n",
    "# env = registry.load(env_name, config=env_cfg)\n",
    "\n",
    "# #param_path = os.path.join(os.path.dirname(checkpoint_path), 'playground_params.pickle')\n",
    "# param_path = \"/scratch/fjf33/myosuite_ankit/myosuite-mjx-policies/myouserbase_params\"\n",
    "\n",
    "# normalize_observations = True\n",
    "# ppo_network = custom_network_factory(\n",
    "#     obs_shape=get_observation_size(),  # Example observation shape\n",
    "#     action_size=26,  # Example action size,\n",
    "#     policy_hidden_layer_sizes=(256, 256),  #(50, 50, 50),\n",
    "#     value_hidden_layer_sizes=(256, 256),  #(50, 50, 50),\n",
    "#     preprocess_observations_fn=running_statistics.normalize if normalize_observations else lambda x, y: x  # Identity function for preprocessing\n",
    "# )\n",
    "\n",
    "# params = model.load_params(param_path)\n",
    "# def deterministic_policy(input_data):\n",
    "#     logits = ppo_network.policy_network.apply(*params[:2], input_data)\n",
    "#     brax_result = ppo_network.parametric_action_distribution.mode(logits)\n",
    "#     return brax_result\n",
    "# params"
   ]
  },
  {
   "cell_type": "markdown",
   "id": "40e6f53f",
   "metadata": {},
   "source": [
    "### Internal Testing"
   ]
  },
  {
   "cell_type": "code",
   "execution_count": null,
   "id": "10f9af3c",
   "metadata": {},
   "outputs": [],
   "source": [
    "from brax.training import acting\n",
    "\n",
    "eval_env = wrapper.wrap_for_brax_training(env, episode_length=200)\n",
    "\n",
    "rng = jax.random.PRNGKey(123)\n",
    "rng, eval_key = jax.random.split(rng)\n",
    "\n",
    "# key = jax.random.PRNGKey(123)\n",
    "# global_key, local_key = jax.random.split(key)\n",
    "# del key\n",
    "# local_key = jax.random.fold_in(local_key, jax.process_index())\n",
    "# local_key, key_env, eval_key = jax.random.split(local_key, 3)\n",
    "\n",
    "evaluator = acting.Evaluator(\n",
    "    eval_env,\n",
    "    functools.partial(make_inference_fn, deterministic=True),\n",
    "    num_eval_envs=1,\n",
    "    episode_length=200,\n",
    "    action_repeat=1,\n",
    "    key=eval_key,\n",
    ")\n",
    "\n",
    "metrics = evaluator.run_evaluation(params, {})"
   ]
  },
  {
   "cell_type": "code",
   "execution_count": 8,
   "id": "a628808c",
   "metadata": {},
   "outputs": [
    {
     "data": {
      "text/plain": [
       "{'eval/walltime': 41.33294916152954,\n",
       " 'eval/episode_reach_dist': Array(0.022375, dtype=float32),\n",
       " 'eval/episode_reward': Array(6.5148783, dtype=float32),\n",
       " 'eval/episode_success_rate': Array(1., dtype=float32),\n",
       " 'eval/episode_target_area_dynamic_width_scale': Array(0., dtype=float32),\n",
       " 'eval/episode_reach_dist_std': Array(0., dtype=float32),\n",
       " 'eval/episode_reward_std': Array(0., dtype=float32),\n",
       " 'eval/episode_success_rate_std': Array(0., dtype=float32),\n",
       " 'eval/episode_target_area_dynamic_width_scale_std': Array(0., dtype=float32),\n",
       " 'eval/avg_episode_length': Array(26., dtype=float32),\n",
       " 'eval/std_episode_length': Array(0., dtype=float32),\n",
       " 'eval/epoch_eval_time': 41.33294916152954,\n",
       " 'eval/sps': 4.838754651123446}"
      ]
     },
     "execution_count": 8,
     "metadata": {},
     "output_type": "execute_result"
    }
   ],
   "source": [
    "metrics"
   ]
  },
  {
   "cell_type": "code",
   "execution_count": 9,
   "id": "33d01bbb",
   "metadata": {},
   "outputs": [
    {
     "data": {
      "text/plain": [
       "{'reach_dist': Array([0.02351627], dtype=float32),\n",
       " 'reward': Array([6.330341], dtype=float32),\n",
       " 'success_rate': Array([1.], dtype=float32),\n",
       " 'target_area_dynamic_width_scale': Array([0.], dtype=float32)}"
      ]
     },
     "execution_count": 9,
     "metadata": {},
     "output_type": "execute_result"
    }
   ],
   "source": [
    "evaluator._key, unroll_key = jax.random.split(evaluator._key)\n",
    "eval_state = evaluator._generate_eval_unroll(params, unroll_key)\n",
    "eval_state.info[\"eval_metrics\"].episode_metrics"
   ]
  },
  {
   "cell_type": "code",
   "execution_count": 55,
   "id": "749db759",
   "metadata": {},
   "outputs": [],
   "source": [
    "from brax.training.acting import generate_unroll\n",
    "_eval_env = envs.training.EvalWrapper(eval_env)\n",
    "def _generate_unroll(params, key, num_eval_envs=1):\n",
    "    reset_keys = jax.random.split(key, num_eval_envs)\n",
    "    eval_first_state = _eval_env.reset(reset_keys)\n",
    "    return generate_unroll(\n",
    "    _eval_env, eval_first_state,\n",
    "    make_inference_fn(params, deterministic=True),\n",
    "    key=key,\n",
    "    unroll_length=200)\n",
    "generate_unroll_jit = jax.jit(_generate_unroll)"
   ]
  },
  {
   "cell_type": "code",
   "execution_count": 56,
   "id": "a0a55bff",
   "metadata": {},
   "outputs": [],
   "source": [
    "# _eval_env = envs.training.EvalWrapper(eval_env)\n",
    "evaluator._key, unroll_key = jax.random.split(evaluator._key)\n",
    "# reset_keys = jax.random.split(unroll_key, 1)\n",
    "# eval_first_state = _eval_env.reset(reset_keys)\n",
    "# eval_final_state, eval_data = generate_unroll(\n",
    "#     _eval_env, eval_first_state,\n",
    "#     make_inference_fn(params, deterministic=True),\n",
    "#     key=unroll_key,\n",
    "#     unroll_length=200)\n",
    "eval_final_state, eval_data = generate_unroll_jit(\n",
    "    params, key=unroll_key)"
   ]
  },
  {
   "cell_type": "code",
   "execution_count": 57,
   "id": "a2c303f7",
   "metadata": {},
   "outputs": [
    {
     "data": {
      "text/plain": [
       "(Array(-10.9054, dtype=float32),\n",
       " {'reach_dist': Array([0.02216392], dtype=float32),\n",
       "  'reward': Array([6.478419], dtype=float32),\n",
       "  'success_rate': Array([1.], dtype=float32),\n",
       "  'target_area_dynamic_width_scale': Array([0.], dtype=float32)})"
      ]
     },
     "execution_count": 57,
     "metadata": {},
     "output_type": "execute_result"
    }
   ],
   "source": [
    "eval_data.reward.sum(), eval_final_state.info[\"eval_metrics\"].episode_metrics"
   ]
  },
  {
   "cell_type": "markdown",
   "id": "2f254fcf",
   "metadata": {},
   "source": [
    "### Visualize Rollouts"
   ]
  },
  {
   "cell_type": "code",
   "execution_count": 6,
   "id": "b40d443a",
   "metadata": {},
   "outputs": [],
   "source": [
    "eval_env = env\n",
    "# eval_env = wrapper.wrap_for_brax_training(env, episode_length=200)\n",
    "# eval_env = envs.training.EvalWrapper(_eval_env)\n",
    "\n",
    "# # Hide model target sphere for visualization of policies trained without vision\n",
    "# eval_env.unwrapped.mj_model.geom(\"target_sphere\").rgba = np.array([0., 1., 0., 1])  #np.zeros(4, dtype=np.float32)"
   ]
  },
  {
   "cell_type": "code",
   "execution_count": 7,
   "id": "82de8a3d",
   "metadata": {},
   "outputs": [],
   "source": [
    "jit_reset = jax.jit(eval_env.reset)\n",
    "jit_step = jax.jit(eval_env.step)\n",
    "\n",
    "# For VARIANT 1:\n",
    "jit_inference_fn = jax.jit(make_inference_fn(params, deterministic=True))"
   ]
  },
  {
   "cell_type": "code",
   "execution_count": 10,
   "id": "5ab48442",
   "metadata": {},
   "outputs": [
    {
     "name": "stderr",
     "output_type": "stream",
     "text": [
      "100%|██████████| 11/11 [00:00<00:00, 891.47it/s]\n"
     ]
    },
    {
     "data": {
      "text/html": [
       "<table class=\"show_videos\" style=\"border-spacing:0px;\"><tr><td style=\"padding:1px;\"><video controls width=\"320\" height=\"240\" style=\"object-fit:cover;\" loop autoplay muted>\n",
       "      <source src=\"data:video/mp4;base64,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\" type=\"video/mp4\"/>\n",
       "      This browser does not support the video tag.\n",
       "      </video></td></tr></table>"
      ],
      "text/plain": [
       "<IPython.core.display.HTML object>"
      ]
     },
     "metadata": {},
     "output_type": "display_data"
    }
   ],
   "source": [
    "eval_key = jax.random.PRNGKey(123)\n",
    "# reset_keys = jax.random.split(eval_key, 1)  #only required if wrapper.wrap_for_brax_training is used\n",
    "eval_key, reset_keys = jax.random.split(eval_key)\n",
    "rollout = []\n",
    "# modify_scene_fns = []\n",
    "n_episodes = 1\n",
    "\n",
    "for _ in range(n_episodes):\n",
    "  state = jit_reset(reset_keys)\n",
    "  rollout.append(state)\n",
    "  # modify_scene_fns.append(functools.partial(update_target_visuals, target_pos=state.info[\"target_pos\"].flatten(), target_size=state.info[\"target_radius\"].flatten()))\n",
    "  for i in range(env_cfg.ppo_config.episode_length):\n",
    "    eval_key, key = jax.random.split(eval_key)\n",
    "    ctrl, _ = jit_inference_fn(state.obs, key)  #VARIANT 1\n",
    "    # ctrl = deterministic_policy(state.obs)  #VARIANT 2\n",
    "    # ctrl = jax.random.uniform(act_rng, shape=eval_env._na)  #BASELINE: random control\n",
    "    state = jit_step(state, ctrl)\n",
    "    # print(f\"Step {i}, ee_pos: {state.obs[:, 15:18]}\")\n",
    "    # print(f\"Target {i}, target_pos: {state.obs[:, -4:-1]}\")\n",
    "    # print(f\"Step {i}, steps_since_last_hit: {state.info['steps_since_last_hit']}\")\n",
    "    rollout.append(state)\n",
    "    # modify_scene_fns.append(functools.partial(update_target_visuals, target_pos=state.info[\"target_pos\"].flatten(), target_size=state.info[\"target_radius\"].flatten()))\n",
    "    if state.done.all():\n",
    "      break\n",
    "\n",
    "render_every = 1\n",
    "traj = rollout[::render_every]\n",
    "# mod_fns = modify_scene_fns[::render_every]\n",
    "frames = eval_env.render(traj) #, modify_scene_fns=mod_fns)\n",
    "rewards = [s.reward for s in rollout]\n",
    "media.show_video(frames, fps=1.0 / eval_env.dt / render_every)"
   ]
  },
  {
   "cell_type": "code",
   "execution_count": 22,
   "id": "b52426c8",
   "metadata": {},
   "outputs": [
    {
     "data": {
      "text/plain": [
       "([Array([ 0.26876748, -0.24839334,  0.79923654], dtype=float32),\n",
       "  Array([ 0.26876748, -0.24839334,  0.79923654], dtype=float32),\n",
       "  Array([ 0.26876748, -0.24839334,  0.79923654], dtype=float32),\n",
       "  Array([ 0.26876748, -0.24839334,  0.79923654], dtype=float32),\n",
       "  Array([ 0.26876748, -0.24839334,  0.79923654], dtype=float32),\n",
       "  Array([ 0.26876748, -0.24839334,  0.79923654], dtype=float32),\n",
       "  Array([ 0.26876748, -0.24839334,  0.79923654], dtype=float32),\n",
       "  Array([ 0.26876748, -0.24839334,  0.79923654], dtype=float32),\n",
       "  Array([ 0.26876748, -0.24839334,  0.79923654], dtype=float32),\n",
       "  Array([ 0.26876748, -0.24839334,  0.79923654], dtype=float32),\n",
       "  Array([ 0.26876748, -0.24839334,  0.79923654], dtype=float32),\n",
       "  Array([ 0.26876748, -0.24839334,  0.79923654], dtype=float32),\n",
       "  Array([ 0.26876748, -0.24839334,  0.79923654], dtype=float32)],\n",
       " [Array([ 0.03493699, -0.198526  ,  0.28504306], dtype=float32),\n",
       "  Array([ 0.05467008, -0.20556903,  0.2879694 ], dtype=float32),\n",
       "  Array([ 0.12839839, -0.21615738,  0.30747497], dtype=float32),\n",
       "  Array([ 0.25338876, -0.2480327 ,  0.38547328], dtype=float32),\n",
       "  Array([ 0.35608405, -0.26248986,  0.5322279 ], dtype=float32),\n",
       "  Array([ 0.3817351 , -0.24343966,  0.67996335], dtype=float32),\n",
       "  Array([ 0.3471588 , -0.19892067,  0.7906286 ], dtype=float32),\n",
       "  Array([ 0.31936902, -0.21280576,  0.81041855], dtype=float32),\n",
       "  Array([ 0.30544874, -0.2563585 ,  0.8026124 ], dtype=float32),\n",
       "  Array([ 0.2788391 , -0.25173664,  0.81372756], dtype=float32),\n",
       "  Array([ 0.26248008, -0.25572088,  0.8137799 ], dtype=float32),\n",
       "  Array([ 0.25404978, -0.25700277,  0.81358284], dtype=float32),\n",
       "  Array([ 0.25229353, -0.25338423,  0.8163977 ], dtype=float32)])"
      ]
     },
     "execution_count": 22,
     "metadata": {},
     "output_type": "execute_result"
    }
   ],
   "source": [
    "[i.info[\"target_pos\"] for i in rollout], [_i.obs[\"proprioception\"][15:18] for _i in rollout]"
   ]
  },
  {
   "cell_type": "code",
   "execution_count": 11,
   "id": "755b836e",
   "metadata": {},
   "outputs": [
    {
     "data": {
      "text/plain": [
       "np.float32(7.423525)"
      ]
     },
     "execution_count": 11,
     "metadata": {},
     "output_type": "execute_result"
    }
   ],
   "source": [
    "np.sum(rewards)"
   ]
  },
  {
   "cell_type": "code",
   "execution_count": null,
   "id": "64928ed0",
   "metadata": {},
   "outputs": [],
   "source": []
  }
 ],
 "metadata": {
  "kernelspec": {
   "display_name": "myouser",
   "language": "python",
   "name": "python3"
  },
  "language_info": {
   "codemirror_mode": {
    "name": "ipython",
    "version": 3
   },
   "file_extension": ".py",
   "mimetype": "text/x-python",
   "name": "python",
   "nbconvert_exporter": "python",
   "pygments_lexer": "ipython3",
   "version": "3.12.11"
  }
 },
 "nbformat": 4,
 "nbformat_minor": 5
}
