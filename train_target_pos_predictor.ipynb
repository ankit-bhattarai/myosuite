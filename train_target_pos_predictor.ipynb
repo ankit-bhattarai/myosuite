{
 "cells": [
  {
   "cell_type": "code",
   "execution_count": 1,
   "metadata": {},
   "outputs": [],
   "source": [
    "import os\n",
    "\n",
    "os.environ[\"XLA_PYTHON_CLIENT_PREALLOCATE\"] = \"false\"\n",
    "os.environ[\"MADRONA_MWGPU_KERNEL_CACHE\"]=\"/scratch/ankit/madrona_mjx/build/kernel_cache\"\n",
    "os.environ[\"MADRONA_BVH_KERNEL_CACHE\"]=\"/scratch/ankit/madrona_mjx/build/bvh_cache\"\n",
    "os.environ[\"MUJOCO_GL\"]=\"egl\"\n",
    "xla_flags = os.environ.get('XLA_FLAGS', '')\n",
    "xla_flags += ' --xla_gpu_triton_gemm_any=True'\n",
    "os.environ['XLA_FLAGS'] = xla_flags"
   ]
  },
  {
   "cell_type": "code",
   "execution_count": 2,
   "metadata": {},
   "outputs": [
    {
     "name": "stdout",
     "output_type": "stream",
     "text": [
      "MyoSuite:> Registering Myo Envs\n",
      "MyoSuite:> Registering MyoUser Envs\n"
     ]
    }
   ],
   "source": [
    "from myosuite.train.myouser.custom_ppo.networks_vision_multimodal import make_cnn_encoder, make_cnn_decoder\n",
    "from myosuite.train.utils.wrapper import wrap_curriculum_training\n",
    "import flax\n",
    "from brax.training.networks import FeedForwardNetwork\n",
    "from ArmReach_LLC_UitB import main\n",
    "from typing import Mapping, Tuple\n",
    "import jax\n",
    "import jax.numpy as jnp\n",
    "from brax.training.types import Params\n",
    "import matplotlib.pyplot as plt\n",
    "from flax import linen as nn"
   ]
  },
  {
   "cell_type": "code",
   "execution_count": 3,
   "metadata": {},
   "outputs": [],
   "source": [
    "class TargetPosPredictor(nn.Module):\n",
    "    c_hid: int\n",
    "    c_mid: int\n",
    "    c_out: int\n",
    "\n",
    "    @nn.compact\n",
    "    def __call__(self, x):\n",
    "        x = nn.Conv(features=self.c_hid, kernel_size=(3, 3), strides=2)(x)\n",
    "        x = nn.gelu(x)\n",
    "        x = nn.Conv(features=self.c_hid, kernel_size=(3, 3))(x)\n",
    "        x = nn.gelu(x)\n",
    "        x = nn.Conv(features=2*self.c_hid, kernel_size=(3, 3), strides=2)(x)\n",
    "        x = nn.gelu(x)\n",
    "        x = nn.Conv(features=2*self.c_hid, kernel_size=(3, 3))(x)\n",
    "        x = nn.gelu(x)\n",
    "        x = nn.Conv(features=2*self.c_hid, kernel_size=(3, 3), strides=2)(x)\n",
    "        x = nn.gelu(x)\n",
    "        x = x.reshape(x.shape[0], -1)\n",
    "        x = nn.Dense(features=self.c_mid)(x)\n",
    "        x = nn.gelu(x)\n",
    "        x = nn.Dense(features=self.c_out)(x)\n",
    "        return x\n"
   ]
  },
  {
   "cell_type": "code",
   "execution_count": 4,
   "metadata": {},
   "outputs": [
    {
     "name": "stderr",
     "output_type": "stream",
     "text": [
      "/scratch/ankit/miniforge3/envs/madmjx/lib/python3.11/site-packages/brax/io/mjcf.py:480: UserWarning: Brax System, piplines and environments are not actively being maintained. Please see MJX for a well maintained JAX-based physics engine: https://github.com/google-deepmind/mujoco/tree/main/mjx. For a host of environments that use MJX, see: https://github.com/google-deepmind/mujoco_playground.\n",
      "  warnings.warn(\n"
     ]
    },
    {
     "name": "stdout",
     "output_type": "stream",
     "text": [
      "Overriding reach weight to 1.0\n",
      "Overriding bonus weight to 8.0\n",
      "Overriding reach metric coefficient to 10.0\n",
      "Reach metric coefficient: 10.0\n",
      "Reward keys and weights: {'reach': 1.0, 'bonus': 8.0, 'neural_effort': 0}\n",
      "Using vision, so 2.5x timesing dwell threshold to 12.5\n",
      "Using raytracer\n",
      "loading BVH kernels from cache\n",
      "Initialization finished\n"
     ]
    }
   ],
   "source": [
    "NUM_ENVS = 128\n",
    "\n",
    "env = main(experiment_id='autoencoder_default', project_id='test_autoencoder', adaptive_increase_success_rate=1.1,\n",
    "           adaptive_decrease_success_rate=-0.1, init_target_area_width_scale=1.0, get_env_only=True, num_envs=NUM_ENVS, vision_mode='depth')"
   ]
  },
  {
   "cell_type": "code",
   "execution_count": 5,
   "metadata": {},
   "outputs": [],
   "source": [
    "jit_reset = jax.jit(env.reset)\n",
    "\n",
    "def get_data(rng_key_id):\n",
    "    key = jax.random.PRNGKey(rng_key_id)\n",
    "    state = jit_reset(jax.random.split(key, NUM_ENVS))\n",
    "    return state.obs['pixels/depth'], state.info['target_pos']"
   ]
  },
  {
   "cell_type": "code",
   "execution_count": 6,
   "metadata": {},
   "outputs": [
    {
     "name": "stdout",
     "output_type": "stream",
     "text": [
      "(128, 3)\n"
     ]
    }
   ],
   "source": [
    "vision_obs, target_pos = get_data(0)\n",
    "\n",
    "target_pos_predictor = TargetPosPredictor(c_hid=32, c_mid=128, c_out=3)\n",
    "\n",
    "params = target_pos_predictor.init(jax.random.PRNGKey(0), vision_obs)\n",
    "\n",
    "out = target_pos_predictor.apply(params, vision_obs)\n",
    "\n",
    "print(out.shape)"
   ]
  },
  {
   "cell_type": "code",
   "execution_count": 7,
   "metadata": {},
   "outputs": [],
   "source": [
    "def mse_loss(pred, target):\n",
    "    diff = pred - target\n",
    "    return jnp.mean(diff * diff)"
   ]
  },
  {
   "cell_type": "code",
   "execution_count": 14,
   "metadata": {},
   "outputs": [
    {
     "name": "stderr",
     "output_type": "stream",
     "text": [
      "  0%|          | 4/1000 [00:07<23:16,  1.40s/it]  "
     ]
    },
    {
     "name": "stdout",
     "output_type": "stream",
     "text": [
      "Step 0, Loss: 0.3705825209617615\n"
     ]
    },
    {
     "name": "stderr",
     "output_type": "stream",
     "text": [
      " 13%|█▎        | 131/1000 [00:07<00:12, 68.78it/s]"
     ]
    },
    {
     "name": "stdout",
     "output_type": "stream",
     "text": [
      "Step 100, Loss: 0.002133425325155258\n"
     ]
    },
    {
     "name": "stderr",
     "output_type": "stream",
     "text": [
      " 24%|██▎       | 236/1000 [00:08<00:04, 158.95it/s]"
     ]
    },
    {
     "name": "stdout",
     "output_type": "stream",
     "text": [
      "Step 200, Loss: 0.0018013855442404747\n"
     ]
    },
    {
     "name": "stderr",
     "output_type": "stream",
     "text": [
      " 34%|███▍      | 342/1000 [00:08<00:03, 198.04it/s]"
     ]
    },
    {
     "name": "stdout",
     "output_type": "stream",
     "text": [
      "Step 300, Loss: 0.0010936326580122113\n"
     ]
    },
    {
     "name": "stderr",
     "output_type": "stream",
     "text": [
      " 43%|████▎     | 427/1000 [00:09<00:02, 206.18it/s]"
     ]
    },
    {
     "name": "stdout",
     "output_type": "stream",
     "text": [
      "Step 400, Loss: 0.0010844984790310264\n"
     ]
    },
    {
     "name": "stderr",
     "output_type": "stream",
     "text": [
      " 53%|█████▎    | 532/1000 [00:09<00:02, 208.09it/s]"
     ]
    },
    {
     "name": "stdout",
     "output_type": "stream",
     "text": [
      "Step 500, Loss: 0.0006308902520686388\n"
     ]
    },
    {
     "name": "stderr",
     "output_type": "stream",
     "text": [
      " 64%|██████▎   | 637/1000 [00:10<00:01, 208.40it/s]"
     ]
    },
    {
     "name": "stdout",
     "output_type": "stream",
     "text": [
      "Step 600, Loss: 0.0007102933595888317\n"
     ]
    },
    {
     "name": "stderr",
     "output_type": "stream",
     "text": [
      " 72%|███████▏  | 723/1000 [00:10<00:01, 209.09it/s]"
     ]
    },
    {
     "name": "stdout",
     "output_type": "stream",
     "text": [
      "Step 700, Loss: 0.0004530705919023603\n"
     ]
    },
    {
     "name": "stderr",
     "output_type": "stream",
     "text": [
      " 83%|████████▎ | 828/1000 [00:11<00:00, 208.67it/s]"
     ]
    },
    {
     "name": "stdout",
     "output_type": "stream",
     "text": [
      "Step 800, Loss: 0.00034465044154785573\n"
     ]
    },
    {
     "name": "stderr",
     "output_type": "stream",
     "text": [
      " 93%|█████████▎| 933/1000 [00:11<00:00, 208.55it/s]"
     ]
    },
    {
     "name": "stdout",
     "output_type": "stream",
     "text": [
      "Step 900, Loss: 0.00029494313639588654\n"
     ]
    },
    {
     "name": "stderr",
     "output_type": "stream",
     "text": [
      "100%|██████████| 1000/1000 [00:12<00:00, 82.37it/s]\n"
     ]
    },
    {
     "data": {
      "image/png": "[encoded data removed]",
      "text/plain": [
       "<Figure size 640x480 with 1 Axes>"
      ]
     },
     "metadata": {},
     "output_type": "display_data"
    }
   ],
   "source": [
    "import optax\n",
    "from flax.training import train_state\n",
    "import tqdm\n",
    "\n",
    "# 1. Create optimizer\n",
    "learning_rate = 3e-4\n",
    "optimizer = optax.adam(learning_rate)\n",
    "\n",
    "# 2. Create TrainState\n",
    "# Using TrainState is a best practice in Flax to keep track of model params, optimizer state etc.\n",
    "class AutoEncoderTrainState(train_state.TrainState):\n",
    "    # we can add any other things we want to track during training here\n",
    "    pass\n",
    "\n",
    "train_state = AutoEncoderTrainState.create(\n",
    "    apply_fn=target_pos_predictor.apply,\n",
    "    params=params,\n",
    "    tx=optimizer,\n",
    ")\n",
    "\n",
    "# 3. Define the training step\n",
    "@jax.jit\n",
    "def train_step(state, rng):\n",
    "    \"\"\"A single training step.\"\"\"\n",
    "    rng, reset_rng = jax.random.split(rng)\n",
    "    \n",
    "    # Generate new data for each step\n",
    "    env_state = jit_reset(jax.random.split(reset_rng, NUM_ENVS))\n",
    "    images = env_state.obs['pixels/depth']\n",
    "    targets = env_state.info['target_pos']\n",
    "\n",
    "    def loss_fn(params):\n",
    "        preds = state.apply_fn(params, images)\n",
    "        loss = mse_loss(preds, targets)\n",
    "        return loss\n",
    "\n",
    "    grad_fn = jax.value_and_grad(loss_fn)\n",
    "    loss, grads = grad_fn(state.params)\n",
    "    \n",
    "    state = state.apply_gradients(grads=grads)\n",
    "    \n",
    "    return state, loss, rng\n",
    "\n",
    "# 4. Training loop\n",
    "num_training_steps = 1000\n",
    "training_rng = jax.random.PRNGKey(1)\n",
    "\n",
    "losses = []\n",
    "\n",
    "for i in tqdm.tqdm(range(num_training_steps)):\n",
    "    train_state, loss, training_rng = train_step(train_state, jax.random.PRNGKey(i))\n",
    "    losses.append(loss)\n",
    "    if i % 100 == 0:\n",
    "        print(f\"Step {i}, Loss: {loss}\")\n",
    "\n",
    "# Plot the losses\n",
    "plt.figure()\n",
    "plt.plot(losses)\n",
    "plt.xlabel(\"Training Step\")\n",
    "plt.ylabel(\"MSE Loss\")\n",
    "plt.title(\"Predictor Training Loss\")\n",
    "plt.show()\n"
   ]
  },
  {
   "cell_type": "code",
   "execution_count": 15,
   "metadata": {},
   "outputs": [],
   "source": [
    "# 5. Visualize results\n",
    "# Get a new batch of images\n",
    "final_rng, reset_rng = jax.random.split(training_rng)\n",
    "env_state = jit_reset(jax.random.split(reset_rng, NUM_ENVS))\n",
    "original_images = env_state.obs['pixels/depth']\n",
    "targets = env_state.info['target_pos']\n",
    "\n",
    "# Get predictions\n",
    "preds = train_state.apply_fn(train_state.params, original_images)"
   ]
  },
  {
   "cell_type": "code",
   "execution_count": 21,
   "metadata": {},
   "outputs": [],
   "source": [
    "diff = preds - targets\n",
    "\n",
    "diff_norm = jnp.linalg.norm(diff, axis=1)"
   ]
  },
  {
   "cell_type": "code",
   "execution_count": 23,
   "metadata": {},
   "outputs": [
    {
     "data": {
      "image/png": "[encoded data removed]",
      "text/plain": [
       "<Figure size 640x480 with 1 Axes>"
      ]
     },
     "metadata": {},
     "output_type": "display_data"
    }
   ],
   "source": [
    "plt.hist(diff_norm)\n",
    "plt.show()"
   ]
  }
 ],
 "metadata": {
  "kernelspec": {
   "display_name": "Python 3",
   "language": "python",
   "name": "python3"
  },
  "language_info": {
   "codemirror_mode": {
    "name": "ipython",
    "version": 3
   },
   "file_extension": ".py",
   "mimetype": "text/x-python",
   "name": "python",
   "nbconvert_exporter": "python",
   "pygments_lexer": "ipython3",
   "version": "3.11.13"
  }
 },
 "nbformat": 4,
 "nbformat_minor": 2
}
