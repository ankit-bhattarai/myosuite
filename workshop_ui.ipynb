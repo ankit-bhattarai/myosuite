{
 "cells": [
  {
   "cell_type": "code",
   "execution_count": null,
   "id": "5f8435d3",
   "metadata": {},
   "outputs": [],
   "source": [
    "import wandb\n",
    "from myosuite.envs.myo.myouser.hydra_cli import load_config_interactive\n",
    "from myosuite.envs.myo.myouser.train_jax_ppo import train\n",
    "from myosuite.envs.myo.myouser.gradio_ui import get_ui\n",
    "\n",
    "wandb.login(key=\"5696705009626b157bf8563ed6079b94956e8cb9\")\n",
    "project_name = input(\"Enter the project name. Please use a unique name to identify all your projects: \")"
   ]
  },
  {
   "cell_type": "code",
   "execution_count": null,
   "id": "70d3d63b",
   "metadata": {},
   "outputs": [],
   "source": [
    "save_cfgs = []\n",
    "demo = get_ui(project_name, save_cfgs)\n",
    "demo.launch(share=True)"
   ]
  },
  {
   "cell_type": "code",
   "execution_count": null,
   "id": "d9013282",
   "metadata": {},
   "outputs": [],
   "source": [
    "cfg_overrides = save_cfgs\n",
    "cfg = load_config_interactive(cfg_overrides, cfg_only=True)\n",
    "train(cfg)\n"
   ]
  }
 ],
 "metadata": {
  "kernelspec": {
   "display_name": "Python 3",
   "language": "python",
   "name": "python3"
  },
  "language_info": {
   "codemirror_mode": {
    "name": "ipython",
    "version": 3
   },
   "file_extension": ".py",
   "mimetype": "text/x-python",
   "name": "python",
   "nbconvert_exporter": "python",
   "pygments_lexer": "ipython3",
   "version": "3.11.13"
  }
 },
 "nbformat": 4,
 "nbformat_minor": 5
}
