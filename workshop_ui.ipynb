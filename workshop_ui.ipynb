{
 "cells": [
  {
   "cell_type": "code",
   "execution_count": null,
   "id": "5f8435d3",
   "metadata": {},
   "outputs": [],
   "source": [
    "import wandb\n",
    "import os\n",
    "os.environ[\"MUJOCO_GL\"]=\"egl\"\n",
    "\n",
    "from myosuite.envs.myo.myouser.hydra_cli import load_config_interactive\n",
    "from myosuite.envs.myo.myouser.train_jax_ppo import train\n",
    "from myosuite.envs.myo.myouser.gradio_ui import get_ui, RunState\n",
    "\n",
    "wandb.login(key=\"5696705009626b157bf8563ed6079b94956e8cb9\")\n",
    "project_name = input(\"Enter the project name. Please use a unique name to identify all your projects: \")"
   ]
  },
  {
   "cell_type": "code",
   "execution_count": null,
   "id": "70d3d63b",
   "metadata": {},
   "outputs": [],
   "source": [
    "state = RunState()\n",
    "demo = get_ui(project_name, state)\n",
    "demo.launch(share=True)"
   ]
  },
  {
   "cell_type": "code",
   "execution_count": null,
   "id": "fa774ec6",
   "metadata": {},
   "outputs": [],
   "source": [
    "wandb.init(project=project_name, name=state.wandb_run_name, entity=\"biom-rl-ui\")"
   ]
  },
  {
   "cell_type": "code",
   "execution_count": null,
   "id": "d9013282",
   "metadata": {},
   "outputs": [],
   "source": [
    "cfg = load_config_interactive(state.cfg_overrides, cfg_only=True)\n",
    "train(cfg)"
   ]
  },
  {
   "cell_type": "markdown",
   "id": "3d1d2d54",
   "metadata": {},
   "source": [
    "Please fill this following form to provide us feedback on the use of this UI:\n",
    "\n",
    "https://forms.gle/KZ6msJ8XfnpjU2wf9"
   ]
  }
 ],
 "metadata": {
  "kernelspec": {
   "display_name": "Python 3",
   "language": "python",
   "name": "python3"
  },
  "language_info": {
   "codemirror_mode": {
    "name": "ipython",
    "version": 3
   },
   "file_extension": ".py",
   "mimetype": "text/x-python",
   "name": "python",
   "nbconvert_exporter": "python",
   "pygments_lexer": "ipython3",
   "version": "3.11.13"
  }
 },
 "nbformat": 4,
 "nbformat_minor": 5
}
